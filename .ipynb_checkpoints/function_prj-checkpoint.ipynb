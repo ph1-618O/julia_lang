{
 "cells": [
  {
   "cell_type": "markdown",
   "metadata": {},
   "source": [
    "# Creating a function with Julia"
   ]
  },
  {
   "cell_type": "code",
   "execution_count": 4,
   "metadata": {},
   "outputs": [
    {
     "data": {
      "text/plain": [
       "f (generic function with 1 method)"
      ]
     },
     "execution_count": 4,
     "metadata": {},
     "output_type": "execute_result"
    }
   ],
   "source": [
    "f(x) = x/(x^2-1)"
   ]
  },
  {
   "cell_type": "markdown",
   "metadata": {},
   "source": [
    "$$f(x) = x/(x^2-1)$$\n",
    "- is a graph of a cotangent "
   ]
  },
  {
   "cell_type": "code",
   "execution_count": 7,
   "metadata": {},
   "outputs": [
    {
     "name": "stdout",
     "output_type": "stream",
     "text": [
      "-0.10101010101010101\n",
      "-0.1125\n",
      "-0.12698412698412698\n",
      "-0.14583333333333334\n",
      "-0.17142857142857143\n",
      "-0.20833333333333334\n",
      "-0.26666666666666666\n",
      "-0.375\n",
      "-0.6666666666666666\n",
      "-Inf\n",
      "-0.0\n",
      "Inf\n",
      "0.6666666666666666\n",
      "0.375\n",
      "0.26666666666666666\n",
      "0.20833333333333334\n",
      "0.17142857142857143\n",
      "0.14583333333333334\n",
      "0.12698412698412698\n",
      "0.1125\n",
      "0.10101010101010101\n"
     ]
    }
   ],
   "source": [
    "for num = -10:10\n",
    "    println(f(num))\n",
    "end"
   ]
  },
  {
   "cell_type": "code",
   "execution_count": null,
   "metadata": {},
   "outputs": [],
   "source": []
  }
 ],
 "metadata": {
  "kernelspec": {
   "display_name": "Julia 1.0.5",
   "language": "julia",
   "name": "julia-1.0"
  },
  "language_info": {
   "file_extension": ".jl",
   "mimetype": "application/julia",
   "name": "julia",
   "version": "1.0.5"
  }
 },
 "nbformat": 4,
 "nbformat_minor": 4
}
