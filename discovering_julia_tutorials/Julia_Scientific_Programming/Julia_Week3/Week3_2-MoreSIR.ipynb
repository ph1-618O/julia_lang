{
 "cells": [
  {
   "cell_type": "code",
   "execution_count": 1,
   "metadata": {},
   "outputs": [
    {
     "data": {
      "text/html": [
       "<link href='http://fonts.googleapis.com/css?family=Alegreya+Sans:100,300,400,500,700,800,900,100italic,300italic,400italic,500italic,700italic,800italic,900italic' rel='stylesheet' type='text/css'>\r\n",
       "<link href='http://fonts.googleapis.com/css?family=Arvo:400,700,400italic' rel='stylesheet' type='text/css'>\r\n",
       "<link href='http://fonts.googleapis.com/css?family=PT+Mono' rel='stylesheet' type='text/css'>\r\n",
       "<link href='http://fonts.googleapis.com/css?family=Shadows+Into+Light' rel='stylesheet' type='text/css'>\r\n",
       "<link href='http://fonts.googleapis.com/css?family=Philosopher:400,700,400italic,700italic' rel='stylesheet' type='text/css'>\r\n",
       "\r\n",
       "<style>\r\n",
       "\r\n",
       "@font-face {\r\n",
       "    font-family: \"Computer Modern\";\r\n",
       "    src: url('http://mirrors.ctan.org/fonts/cm-unicode/fonts/otf/cmunss.otf');\r\n",
       "}\r\n",
       "\r\n",
       "\r\n",
       "\r\n",
       "/* Formatting for header cells */\r\n",
       ".text_cell_render h1 {\r\n",
       "    font-family: 'Philosopher', sans-serif;\r\n",
       "    font-weight: 400;\r\n",
       "    font-size: 2.2em;\r\n",
       "    line-height: 100%;\r\n",
       "    color: rgb(0, 80, 120);\r\n",
       "    margin-bottom: 0.1em;\r\n",
       "    margin-top: 0.1em;\r\n",
       "    display: block;\r\n",
       "}\t\r\n",
       ".text_cell_render h2 {\r\n",
       "    font-family: 'Philosopher', serif;\r\n",
       "    font-weight: 400;\r\n",
       "    font-size: 1.9em;\r\n",
       "    line-height: 100%;\r\n",
       "    color: rgb(200,100,0);\r\n",
       "    margin-bottom: 0.1em;\r\n",
       "    margin-top: 0.1em;\r\n",
       "    display: block;\r\n",
       "}\t\r\n",
       "\r\n",
       ".text_cell_render h3 {\r\n",
       "    font-family: 'Philosopher', serif;\r\n",
       "    margin-top:12px;\r\n",
       "    margin-bottom: 3px;\r\n",
       "    font-style: italic;\r\n",
       "    color: rgb(94,127,192);\r\n",
       "}\r\n",
       "\r\n",
       ".text_cell_render h4 {\r\n",
       "    font-family: 'Philosopher', serif;\r\n",
       "}\r\n",
       "\r\n",
       ".text_cell_render h5 {\r\n",
       "    font-family: 'Alegreya Sans', sans-serif;\r\n",
       "    font-weight: 300;\r\n",
       "    font-size: 16pt;\r\n",
       "    color: grey;\r\n",
       "    font-style: italic;\r\n",
       "    margin-bottom: .1em;\r\n",
       "    margin-top: 0.1em;\r\n",
       "    display: block;\r\n",
       "}\r\n",
       "\r\n",
       ".text_cell_render h6 {\r\n",
       "    font-family: 'PT Mono', sans-serif;\r\n",
       "    font-weight: 300;\r\n",
       "    font-size: 10pt;\r\n",
       "    color: grey;\r\n",
       "    margin-bottom: 1px;\r\n",
       "    margin-top: 1px;\r\n",
       "}\r\n",
       "\r\n",
       ".CodeMirror{\r\n",
       "        font-family: \"PT Mono\";\r\n",
       "        font-size: 100%;\r\n",
       "}\r\n",
       "\r\n",
       "</style>\r\n",
       "\r\n"
      ],
      "text/plain": [
       "HTML{String}(\"<link href='http://fonts.googleapis.com/css?family=Alegreya+Sans:100,300,400,500,700,800,900,100italic,300italic,400italic,500italic,700italic,800italic,900italic' rel='stylesheet' type='text/css'>\\r\\n<link href='http://fonts.googleapis.com/css?family=Arvo:400,700,400italic' rel='stylesheet' type='text/css'>\\r\\n<link href='http://fonts.googleapis.com/css?family=PT+Mono' rel='stylesheet' type='text/css'>\\r\\n<link href='http://fonts.googleapis.com/css?family=Shadows+Into+Light' rel='stylesheet' type='text/css'>\\r\\n<link href='http://fonts.googleapis.com/css?family=Philosopher:400,700,400italic,700italic' rel='stylesheet' type='text/css'>\\r\\n\\r\\n<style>\\r\\n\\r\\n@font-face {\\r\\n    font-family: \\\"Computer Modern\\\";\\r\\n    src: url('http://mirrors.ctan.org/fonts/cm-unicode/fonts/otf/cmunss.otf');\\r\\n}\\r\\n\\r\\n\\r\\n\\r\\n/* Formatting for header cells */\\r\\n.text_cell_render h1 {\\r\\n    font-family: 'Philosopher', sans-serif;\\r\\n    font-weight: 400;\\r\\n    font-size: 2.2em;\\r\\n    line-height: 100%;\\r\\n    color: rgb(0, 80, 120);\\r\\n    margin-bottom: 0.1em;\\r\\n    margin-top: 0.1em;\\r\\n    display: block;\\r\\n}\\t\\r\\n.text_cell_render h2 {\\r\\n    font-family: 'Philosopher', serif;\\r\\n    font-weight: 400;\\r\\n    font-size: 1.9em;\\r\\n    line-height: 100%;\\r\\n    color: rgb(200,100,0);\\r\\n    margin-bottom: 0.1em;\\r\\n    margin-top: 0.1em;\\r\\n    display: block;\\r\\n}\\t\\r\\n\\r\\n.text_cell_render h3 {\\r\\n    font-family: 'Philosopher', serif;\\r\\n    margin-top:12px;\\r\\n    margin-bottom: 3px;\\r\\n    font-style: italic;\\r\\n    color: rgb(94,127,192);\\r\\n}\\r\\n\\r\\n.text_cell_render h4 {\\r\\n    font-family: 'Philosopher', serif;\\r\\n}\\r\\n\\r\\n.text_cell_render h5 {\\r\\n    font-family: 'Alegreya Sans', sans-serif;\\r\\n    font-weight: 300;\\r\\n    font-size: 16pt;\\r\\n    color: grey;\\r\\n    font-style: italic;\\r\\n    margin-bottom: .1em;\\r\\n    margin-top: 0.1em;\\r\\n    display: block;\\r\\n}\\r\\n\\r\\n.text_cell_render h6 {\\r\\n    font-family: 'PT Mono', sans-serif;\\r\\n    font-weight: 300;\\r\\n    font-size: 10pt;\\r\\n    color: grey;\\r\\n    margin-bottom: 1px;\\r\\n    margin-top: 1px;\\r\\n}\\r\\n\\r\\n.CodeMirror{\\r\\n        font-family: \\\"PT Mono\\\";\\r\\n        font-size: 100%;\\r\\n}\\r\\n\\r\\n</style>\\r\\n\\r\\n\")"
      ]
     },
     "execution_count": 1,
     "metadata": {},
     "output_type": "execute_result"
    }
   ],
   "source": [
    "# Setting up a custom stylesheet in IJulia\n",
    "file = open(\"style.css\") # A .css file in the same folder as this notebook file\n",
    "styl = read(file,String) # Read the file\n",
    "HTML(\"$styl\") # Output as HTML"
   ]
  },
  {
   "cell_type": "markdown",
   "metadata": {},
   "source": [
    "<h1> More on SIR models </h1>"
   ]
  },
  {
   "cell_type": "markdown",
   "metadata": {},
   "source": [
    "<h2>In this lecture</h2>\n",
    "\n",
    "- [Outcome](#Outcome)\n",
    "- [The threshold prediction of our SIR model](#The-threshold-prediction-of-our-SIR-model)\n",
    "- [The duration of infectiousness implied by our model](#The-duration-of-infectiousness-implied-by-our-model)\n",
    "- [A phase plane: plots of $I$ vs $S$](#A-phase-plane:-plots-of-$I$-vs-$S$)\n",
    "- [Putting it all together: estimates of $\\gamma$ and $\\lambda$](#Putting-it-all-together:-estimates-of-$\\gamma$-and-$\\lambda$)\n"
   ]
  },
  {
   "cell_type": "markdown",
   "metadata": {},
   "source": [
    "[Back to the top](#In-this-lecture)"
   ]
  },
  {
   "cell_type": "markdown",
   "metadata": {},
   "source": [
    "<h2>Outcome</h2>\n",
    "\n",
    "After this lecture, you will be able to\n",
    "- Explain the threshold phenomenon in SIR models\n",
    "- Use three-week duration of infectiousness to estimate $\\gamma$ in our EVD model\n",
    "- Plot the course of an epidemic in the $SI$ phase plane\n",
    "- Use country populations plus the threshold phenomenon to estimate $\\lambda$ in our EVD model"
   ]
  },
  {
   "cell_type": "markdown",
   "metadata": {},
   "source": [
    "[Back to the top](#In-this-lecture)"
   ]
  },
  {
   "cell_type": "markdown",
   "metadata": {},
   "source": [
    "<h2>The threshold prediction of our SIR model</h2>\n",
    "\n",
    "Recall the three equations of our SIR model:\n",
    "\n",
    "1 ...     $ S(t_{i+1}) = S(t_i) - \\lambda S(t_i)I(t_i)\\,dt$\n",
    "\n",
    "2 ...     $I(t_{i+1}) = I(t_i) + \\lambda S(t_i)I(t_i)\\,dt - \\gamma I(t_i)\\,dt$\n",
    "\n",
    "3 ...     $R(t_{i+1}) = R(t_i) + \\gamma I(t_i)\\,dt$\n",
    "\n",
    "And recall that $S(t)$ is a symbol for the size of the susceptible population (not yet infected) at time $t$, likewise $I(t)$ represents the infecteds, and $R(t)$ the removeds.\n",
    "\n",
    "The parameter $\\lambda$ models the likelihood that when an infected person meets a susceptible person, the susceptible person becomes infected.\n",
    "\n",
    "The parameter $\\gamma$ models the rate at which infected people become removed.\n",
    "\n",
    "Our task in this lecture is to propose estimates for the parameter values. To do so, we will use the *threshold phenomenon* of our model: for given values of $\\lambda$ and $\\gamma$, there is no epidemic unless $S(0)$ is big enough. \n",
    "\n",
    "The reasoning is simple: for an epidemic to happen, the infection must spread. But that means more people must be getting infected than are recovering. That is, the gain minus the loss of infecteds must be positive. In symbols, we must have\n",
    "\n",
    "$\\lambda SI - \\gamma I > 0$\n",
    "\n",
    "This can only happen if $\\lambda S - \\gamma > 0$. In other words, the number of infecteds can increase only when $S > \\gamma/\\lambda$.\n",
    "\n",
    "This implies that if the initial population is below the threshold, indicated by $S(0) < \\gamma/\\lambda$, then the number of infecteds, even if initially large, will decrease. That is, in a small enough population, any initial infection simply dies out. On the other hand, if $S(0)>\\gamma/\\lambda$, the number of infecteds will increase, at least for a while.\n",
    "\n",
    "It is of course obvious that for our model to apply to the West African epidemic, our parameter values must be such that the susceptible population at the beginning of 2014 was larger than $\\gamma/\\lambda$. \n",
    "\n"
   ]
  },
  {
   "cell_type": "markdown",
   "metadata": {},
   "source": [
    "[Back to the top](#In-this-lecture)"
   ]
  },
  {
   "cell_type": "markdown",
   "metadata": {},
   "source": [
    "<h2>The duration of infectiousness implied by our model</h2>\n",
    "\n",
    "We note that the loss rate of infecteds is given by $\\gamma I$. This means that every day, the fraction of infected people becoming removed is $\\gamma$.\n",
    "\n",
    "For example, consider $\\gamma = 1/10$. Then every day a tenth of ill people recover. If we assume that every person is ill for 10 days, and as many people are getting ill as recovering, then a tenth of all ill people recover every day.\n",
    "\n",
    "In other words, it makes sense to think of the duration of one person's illness as $1/\\gamma$. Recall that the duration of EVD is approximately three weeks. This means we may estimate that $1/\\gamma\\approx 21$. We will therefore set $\\gamma=0.05$ as a reasonable estimate.\n",
    "\n",
    "It is crude to think that they are equally infectious every day of these three weeks, but that is what we are doing. Our assumption was that the only difference between people is whether they are susceptible, infected or removed.\n",
    "\n",
    "Likewise, it is crude to think that all infected people are ill in the same way and for the same duration, but again this is what we do. In fact, without a lot more data (especially data on duration of illness) and a considerably more complicated model, this is all we can do. "
   ]
  },
  {
   "cell_type": "markdown",
   "metadata": {},
   "source": [
    "[Back to the top](#In-this-lecture)"
   ]
  },
  {
   "cell_type": "markdown",
   "metadata": {},
   "source": [
    "<h2>A phase plane: plots of $I$ vs $S$</h2>\n",
    "\n",
    "A good way to illustrate the threshold phenomenon is via plots of $I$ versus $S$. That is, we run the model as we did in the previous lecture, but now we plot the phase diagram. (Well, part of it---the full phase diagram gives all three dependent variables.)\n",
    "\n",
    "We re-use the code from the previous lecture (just cut and paste):\n"
   ]
  },
  {
   "cell_type": "code",
   "execution_count": 1,
   "metadata": {},
   "outputs": [
    {
     "data": {
      "text/plain": [
       "updateSIR (generic function with 1 method)"
      ]
     },
     "execution_count": 1,
     "metadata": {},
     "output_type": "execute_result"
    }
   ],
   "source": [
    "function updateSIR(popnvector)       # exactly the same function as before\n",
    "    susceptibles = popnvector[1];\n",
    "    infecteds    = popnvector[2]; \n",
    "    removeds     = popnvector[3];\n",
    "    newS = susceptibles - lambda*susceptibles*infecteds*dt\n",
    "    newI = infecteds + lambda*susceptibles*infecteds*dt - gam*infecteds*dt  \n",
    "    newR = removeds + gam*infecteds*dt\n",
    "    return [newS newI newR] \n",
    "end"
   ]
  },
  {
   "cell_type": "code",
   "execution_count": 18,
   "metadata": {},
   "outputs": [],
   "source": [
    "# likewise, a run of the model uses exactly the same code ... but we'll play a bit with the values that determine a run\n",
    "\n",
    "gam = 1/20.         # recovery rate parameter  (ditto)\n",
    "lambda = 2.3*10^-8     # infection rate parameter\n",
    "dt = 0.5            # length of time step in days\n",
    "tfinal = 610.;      # respecting community values: lowercase only in the names \n",
    "s0 = 22.0*10^6       # initial susceptibles, note that we use the  type Float64 from the start\n",
    "i0 = 4.             # initial infecteds; set this to 1. to  mimic an epidemic with an index case\n",
    "r0 = 0.             # not always the case, of course\n",
    "\n",
    "# initialise \n",
    "nsteps = round(Int64, tfinal/dt)    # note the use of round() with type Int64 to ensure that nsteps is an integer\n",
    "resultvals = Array{Float64}(undef, nsteps+1, 3)  #initialise array of type Float64 to hold results\n",
    "timevec = Array{Float64}(undef, nsteps+1)        # ... ditto for time values\n",
    "resultvals[1,:] = [s0, i0, r0]  # ... and assign them to the first row\n",
    "timevec[1] = 0.                 # also Float64, of course.\n",
    "\n",
    "for step  = 1:nsteps\n",
    "    resultvals[step+1, :] = updateSIR(resultvals[step, :])  # NB! pay careful attention to the rows being used\n",
    "    timevec[step+1] = timevec[step] + dt\n",
    "end"
   ]
  },
  {
   "cell_type": "code",
   "execution_count": 19,
   "metadata": {},
   "outputs": [
    {
     "data": {
      "text/plain": [
       "Plots.GRBackend()"
      ]
     },
     "execution_count": 19,
     "metadata": {},
     "output_type": "execute_result"
    }
   ],
   "source": [
    "using Plots  # and of course we need to load Plots and choose to use the GR backend\n",
    "gr()\n"
   ]
  },
  {
   "cell_type": "code",
   "execution_count": 20,
   "metadata": {},
   "outputs": [
    {
     "data": {
      "image/svg+xml": [
       "<?xml version=\"1.0\" encoding=\"utf-8\"?>\n",
       "<svg xmlns=\"http://www.w3.org/2000/svg\" xmlns:xlink=\"http://www.w3.org/1999/xlink\" width=\"600\" height=\"400\" viewBox=\"0 0 2400 1600\">\n",
       "<defs>\n",
       "  <clipPath id=\"clip240\">\n",
       "    <rect x=\"0\" y=\"0\" width=\"2400\" height=\"1600\"/>\n",
       "  </clipPath>\n",
       "</defs>\n",
       "<path clip-path=\"url(#clip240)\" d=\"\n",
       "M0 1600 L2400 1600 L2400 0 L0 0  Z\n",
       "  \" fill=\"#ffffff\" fill-rule=\"evenodd\" fill-opacity=\"1\"/>\n",
       "<defs>\n",
       "  <clipPath id=\"clip241\">\n",
       "    <rect x=\"480\" y=\"0\" width=\"1681\" height=\"1600\"/>\n",
       "  </clipPath>\n",
       "</defs>\n",
       "<path clip-path=\"url(#clip240)\" d=\"\n",
       "M313.107 1423.18 L2352.76 1423.18 L2352.76 123.472 L313.107 123.472  Z\n",
       "  \" fill=\"#ffffff\" fill-rule=\"evenodd\" fill-opacity=\"1\"/>\n",
       "<defs>\n",
       "  <clipPath id=\"clip242\">\n",
       "    <rect x=\"313\" y=\"123\" width=\"2041\" height=\"1301\"/>\n",
       "  </clipPath>\n",
       "</defs>\n",
       "<polyline clip-path=\"url(#clip242)\" style=\"stroke:#000000; stroke-width:2; stroke-opacity:0.1; fill:none\" points=\"\n",
       "  370.789,1423.18 370.789,123.472 \n",
       "  \"/>\n",
       "<polyline clip-path=\"url(#clip242)\" style=\"stroke:#000000; stroke-width:2; stroke-opacity:0.1; fill:none\" points=\"\n",
       "  808.116,1423.18 808.116,123.472 \n",
       "  \"/>\n",
       "<polyline clip-path=\"url(#clip242)\" style=\"stroke:#000000; stroke-width:2; stroke-opacity:0.1; fill:none\" points=\"\n",
       "  1245.44,1423.18 1245.44,123.472 \n",
       "  \"/>\n",
       "<polyline clip-path=\"url(#clip242)\" style=\"stroke:#000000; stroke-width:2; stroke-opacity:0.1; fill:none\" points=\"\n",
       "  1682.77,1423.18 1682.77,123.472 \n",
       "  \"/>\n",
       "<polyline clip-path=\"url(#clip242)\" style=\"stroke:#000000; stroke-width:2; stroke-opacity:0.1; fill:none\" points=\"\n",
       "  2120.1,1423.18 2120.1,123.472 \n",
       "  \"/>\n",
       "<polyline clip-path=\"url(#clip242)\" style=\"stroke:#000000; stroke-width:2; stroke-opacity:0.1; fill:none\" points=\"\n",
       "  313.107,1386.4 2352.76,1386.4 \n",
       "  \"/>\n",
       "<polyline clip-path=\"url(#clip242)\" style=\"stroke:#000000; stroke-width:2; stroke-opacity:0.1; fill:none\" points=\"\n",
       "  313.107,980.972 2352.76,980.972 \n",
       "  \"/>\n",
       "<polyline clip-path=\"url(#clip242)\" style=\"stroke:#000000; stroke-width:2; stroke-opacity:0.1; fill:none\" points=\"\n",
       "  313.107,575.547 2352.76,575.547 \n",
       "  \"/>\n",
       "<polyline clip-path=\"url(#clip242)\" style=\"stroke:#000000; stroke-width:2; stroke-opacity:0.1; fill:none\" points=\"\n",
       "  313.107,170.123 2352.76,170.123 \n",
       "  \"/>\n",
       "<polyline clip-path=\"url(#clip240)\" style=\"stroke:#000000; stroke-width:4; stroke-opacity:1; fill:none\" points=\"\n",
       "  313.107,1423.18 2352.76,1423.18 \n",
       "  \"/>\n",
       "<polyline clip-path=\"url(#clip240)\" style=\"stroke:#000000; stroke-width:4; stroke-opacity:1; fill:none\" points=\"\n",
       "  313.107,1423.18 313.107,123.472 \n",
       "  \"/>\n",
       "<polyline clip-path=\"url(#clip240)\" style=\"stroke:#000000; stroke-width:4; stroke-opacity:1; fill:none\" points=\"\n",
       "  370.789,1423.18 370.789,1407.58 \n",
       "  \"/>\n",
       "<polyline clip-path=\"url(#clip240)\" style=\"stroke:#000000; stroke-width:4; stroke-opacity:1; fill:none\" points=\"\n",
       "  808.116,1423.18 808.116,1407.58 \n",
       "  \"/>\n",
       "<polyline clip-path=\"url(#clip240)\" style=\"stroke:#000000; stroke-width:4; stroke-opacity:1; fill:none\" points=\"\n",
       "  1245.44,1423.18 1245.44,1407.58 \n",
       "  \"/>\n",
       "<polyline clip-path=\"url(#clip240)\" style=\"stroke:#000000; stroke-width:4; stroke-opacity:1; fill:none\" points=\"\n",
       "  1682.77,1423.18 1682.77,1407.58 \n",
       "  \"/>\n",
       "<polyline clip-path=\"url(#clip240)\" style=\"stroke:#000000; stroke-width:4; stroke-opacity:1; fill:none\" points=\"\n",
       "  2120.1,1423.18 2120.1,1407.58 \n",
       "  \"/>\n",
       "<polyline clip-path=\"url(#clip240)\" style=\"stroke:#000000; stroke-width:4; stroke-opacity:1; fill:none\" points=\"\n",
       "  313.107,1386.4 337.582,1386.4 \n",
       "  \"/>\n",
       "<polyline clip-path=\"url(#clip240)\" style=\"stroke:#000000; stroke-width:4; stroke-opacity:1; fill:none\" points=\"\n",
       "  313.107,980.972 337.582,980.972 \n",
       "  \"/>\n",
       "<polyline clip-path=\"url(#clip240)\" style=\"stroke:#000000; stroke-width:4; stroke-opacity:1; fill:none\" points=\"\n",
       "  313.107,575.547 337.582,575.547 \n",
       "  \"/>\n",
       "<polyline clip-path=\"url(#clip240)\" style=\"stroke:#000000; stroke-width:4; stroke-opacity:1; fill:none\" points=\"\n",
       "  313.107,170.123 337.582,170.123 \n",
       "  \"/>\n",
       "<path clip-path=\"url(#clip240)\" d=\"M 0 0 M370.789 1445.17 Q367.178 1445.17 365.349 1448.74 Q363.543 1452.28 363.543 1459.41 Q363.543 1466.51 365.349 1470.08 Q367.178 1473.62 370.789 1473.62 Q374.423 1473.62 376.228 1470.08 Q378.057 1466.51 378.057 1459.41 Q378.057 1452.28 376.228 1448.74 Q374.423 1445.17 370.789 1445.17 M370.789 1441.47 Q376.599 1441.47 379.654 1446.07 Q382.733 1450.66 382.733 1459.41 Q382.733 1468.13 379.654 1472.74 Q376.599 1477.32 370.789 1477.32 Q364.979 1477.32 361.9 1472.74 Q358.844 1468.13 358.844 1459.41 Q358.844 1450.66 361.9 1446.07 Q364.979 1441.47 370.789 1441.47 Z\" fill=\"#000000\" fill-rule=\"evenodd\" fill-opacity=\"1\" /><path clip-path=\"url(#clip240)\" d=\"M 0 0 M727.194 1463.63 L745.551 1463.63 L745.551 1467.56 L731.477 1467.56 L731.477 1476.03 Q732.495 1475.69 733.514 1475.53 Q734.532 1475.34 735.551 1475.34 Q741.338 1475.34 744.717 1478.51 Q748.097 1481.68 748.097 1487.1 Q748.097 1492.68 744.625 1495.78 Q741.153 1498.86 734.833 1498.86 Q732.657 1498.86 730.389 1498.49 Q728.143 1498.12 725.736 1497.38 L725.736 1492.68 Q727.819 1493.81 730.042 1494.37 Q732.264 1494.92 734.741 1494.92 Q738.745 1494.92 741.083 1492.82 Q743.421 1490.71 743.421 1487.1 Q743.421 1483.49 741.083 1481.38 Q738.745 1479.28 734.741 1479.28 Q732.866 1479.28 730.991 1479.69 Q729.139 1480.11 727.194 1480.99 L727.194 1463.63 Z\" fill=\"#000000\" fill-rule=\"evenodd\" fill-opacity=\"1\" /><path clip-path=\"url(#clip240)\" d=\"M 0 0 M753.166 1492.31 L758.051 1492.31 L758.051 1498.19 L753.166 1498.19 L753.166 1492.31 Z\" fill=\"#000000\" fill-rule=\"evenodd\" fill-opacity=\"1\" /><path clip-path=\"url(#clip240)\" d=\"M 0 0 M773.12 1466.71 Q769.509 1466.71 767.68 1470.27 Q765.875 1473.81 765.875 1480.94 Q765.875 1488.05 767.68 1491.61 Q769.509 1495.15 773.12 1495.15 Q776.754 1495.15 778.56 1491.61 Q780.389 1488.05 780.389 1480.94 Q780.389 1473.81 778.56 1470.27 Q776.754 1466.71 773.12 1466.71 M773.12 1463 Q778.93 1463 781.986 1467.61 Q785.064 1472.19 785.064 1480.94 Q785.064 1489.67 781.986 1494.28 Q778.93 1498.86 773.12 1498.86 Q767.31 1498.86 764.231 1494.28 Q761.176 1489.67 761.176 1480.94 Q761.176 1472.19 764.231 1467.61 Q767.31 1463 773.12 1463 Z\" fill=\"#000000\" fill-rule=\"evenodd\" fill-opacity=\"1\" /><path clip-path=\"url(#clip240)\" d=\"M 0 0 M818.305 1472.72 L807.726 1483.35 L818.305 1493.93 L815.55 1496.73 L804.925 1486.1 L794.3 1496.73 L791.569 1493.93 L802.125 1483.35 L791.569 1472.72 L794.3 1469.92 L804.925 1480.55 L815.55 1469.92 L818.305 1472.72 Z\" fill=\"#000000\" fill-rule=\"evenodd\" fill-opacity=\"1\" /><path clip-path=\"url(#clip240)\" d=\"M 0 0 M824.185 1494.25 L831.823 1494.25 L831.823 1467.89 L823.513 1469.55 L823.513 1465.29 L831.777 1463.63 L836.453 1463.63 L836.453 1494.25 L844.092 1494.25 L844.092 1498.19 L824.185 1498.19 L824.185 1494.25 Z\" fill=\"#000000\" fill-rule=\"evenodd\" fill-opacity=\"1\" /><path clip-path=\"url(#clip240)\" d=\"M 0 0 M859.161 1466.71 Q855.55 1466.71 853.721 1470.27 Q851.916 1473.81 851.916 1480.94 Q851.916 1488.05 853.721 1491.61 Q855.55 1495.15 859.161 1495.15 Q862.795 1495.15 864.601 1491.61 Q866.43 1488.05 866.43 1480.94 Q866.43 1473.81 864.601 1470.27 Q862.795 1466.71 859.161 1466.71 M859.161 1463 Q864.971 1463 868.027 1467.61 Q871.106 1472.19 871.106 1480.94 Q871.106 1489.67 868.027 1494.28 Q864.971 1498.86 859.161 1498.86 Q853.351 1498.86 850.272 1494.28 Q847.217 1489.67 847.217 1480.94 Q847.217 1472.19 850.272 1467.61 Q853.351 1463 859.161 1463 Z\" fill=\"#000000\" fill-rule=\"evenodd\" fill-opacity=\"1\" /><path clip-path=\"url(#clip240)\" d=\"M 0 0 M881.13 1455.22 Q878.572 1455.22 877.068 1456.97 Q875.582 1458.72 875.582 1461.77 Q875.582 1464.8 877.068 1466.56 Q878.572 1468.31 881.13 1468.31 Q883.688 1468.31 885.174 1466.56 Q886.678 1464.8 886.678 1461.77 Q886.678 1458.72 885.174 1456.97 Q883.688 1455.22 881.13 1455.22 M888.672 1443.32 L888.672 1446.78 Q887.243 1446.1 885.776 1445.74 Q884.327 1445.39 882.898 1445.39 Q879.137 1445.39 877.143 1447.93 Q875.168 1450.46 874.886 1455.6 Q875.996 1453.96 877.67 1453.1 Q879.343 1452.21 881.356 1452.21 Q885.588 1452.21 888.033 1454.79 Q890.496 1457.35 890.496 1461.77 Q890.496 1466.09 887.939 1468.71 Q885.381 1471.32 881.13 1471.32 Q876.259 1471.32 873.682 1467.6 Q871.106 1463.86 871.106 1456.76 Q871.106 1450.11 874.265 1446.16 Q877.425 1442.19 882.748 1442.19 Q884.177 1442.19 885.625 1442.47 Q887.092 1442.75 888.672 1443.32 Z\" fill=\"#000000\" fill-rule=\"evenodd\" fill-opacity=\"1\" /><path clip-path=\"url(#clip240)\" d=\"M 0 0 M1165.29 1494.25 L1172.93 1494.25 L1172.93 1467.89 L1164.62 1469.55 L1164.62 1465.29 L1172.89 1463.63 L1177.56 1463.63 L1177.56 1494.25 L1185.2 1494.25 L1185.2 1498.19 L1165.29 1498.19 L1165.29 1494.25 Z\" fill=\"#000000\" fill-rule=\"evenodd\" fill-opacity=\"1\" /><path clip-path=\"url(#clip240)\" d=\"M 0 0 M1190.27 1492.31 L1195.15 1492.31 L1195.15 1498.19 L1190.27 1498.19 L1190.27 1492.31 Z\" fill=\"#000000\" fill-rule=\"evenodd\" fill-opacity=\"1\" /><path clip-path=\"url(#clip240)\" d=\"M 0 0 M1210.22 1466.71 Q1206.61 1466.71 1204.78 1470.27 Q1202.98 1473.81 1202.98 1480.94 Q1202.98 1488.05 1204.78 1491.61 Q1206.61 1495.15 1210.22 1495.15 Q1213.86 1495.15 1215.66 1491.61 Q1217.49 1488.05 1217.49 1480.94 Q1217.49 1473.81 1215.66 1470.27 Q1213.86 1466.71 1210.22 1466.71 M1210.22 1463 Q1216.03 1463 1219.09 1467.61 Q1222.17 1472.19 1222.17 1480.94 Q1222.17 1489.67 1219.09 1494.28 Q1216.03 1498.86 1210.22 1498.86 Q1204.41 1498.86 1201.34 1494.28 Q1198.28 1489.67 1198.28 1480.94 Q1198.28 1472.19 1201.34 1467.61 Q1204.41 1463 1210.22 1463 Z\" fill=\"#000000\" fill-rule=\"evenodd\" fill-opacity=\"1\" /><path clip-path=\"url(#clip240)\" d=\"M 0 0 M1255.41 1472.72 L1244.83 1483.35 L1255.41 1493.93 L1252.65 1496.73 L1242.03 1486.1 L1231.4 1496.73 L1228.67 1493.93 L1239.23 1483.35 L1228.67 1472.72 L1231.4 1469.92 L1242.03 1480.55 L1252.65 1469.92 L1255.41 1472.72 Z\" fill=\"#000000\" fill-rule=\"evenodd\" fill-opacity=\"1\" /><path clip-path=\"url(#clip240)\" d=\"M 0 0 M1261.29 1494.25 L1268.93 1494.25 L1268.93 1467.89 L1260.62 1469.55 L1260.62 1465.29 L1268.88 1463.63 L1273.56 1463.63 L1273.56 1494.25 L1281.2 1494.25 L1281.2 1498.19 L1261.29 1498.19 L1261.29 1494.25 Z\" fill=\"#000000\" fill-rule=\"evenodd\" fill-opacity=\"1\" /><path clip-path=\"url(#clip240)\" d=\"M 0 0 M1296.27 1466.71 Q1292.65 1466.71 1290.83 1470.27 Q1289.02 1473.81 1289.02 1480.94 Q1289.02 1488.05 1290.83 1491.61 Q1292.65 1495.15 1296.27 1495.15 Q1299.9 1495.15 1301.71 1491.61 Q1303.53 1488.05 1303.53 1480.94 Q1303.53 1473.81 1301.71 1470.27 Q1299.9 1466.71 1296.27 1466.71 M1296.27 1463 Q1302.08 1463 1305.13 1467.61 Q1308.21 1472.19 1308.21 1480.94 Q1308.21 1489.67 1305.13 1494.28 Q1302.08 1498.86 1296.27 1498.86 Q1290.46 1498.86 1287.38 1494.28 Q1284.32 1489.67 1284.32 1480.94 Q1284.32 1472.19 1287.38 1467.61 Q1290.46 1463 1296.27 1463 Z\" fill=\"#000000\" fill-rule=\"evenodd\" fill-opacity=\"1\" /><path clip-path=\"url(#clip240)\" d=\"M 0 0 M1308.21 1442.7 L1326.27 1442.7 L1326.27 1444.31 L1316.07 1470.78 L1312.1 1470.78 L1321.69 1445.89 L1308.21 1445.89 L1308.21 1442.7 Z\" fill=\"#000000\" fill-rule=\"evenodd\" fill-opacity=\"1\" /><path clip-path=\"url(#clip240)\" d=\"M 0 0 M1603.12 1494.25 L1610.76 1494.25 L1610.76 1467.89 L1602.45 1469.55 L1602.45 1465.29 L1610.71 1463.63 L1615.39 1463.63 L1615.39 1494.25 L1623.03 1494.25 L1623.03 1498.19 L1603.12 1498.19 L1603.12 1494.25 Z\" fill=\"#000000\" fill-rule=\"evenodd\" fill-opacity=\"1\" /><path clip-path=\"url(#clip240)\" d=\"M 0 0 M1628.1 1492.31 L1632.98 1492.31 L1632.98 1498.19 L1628.1 1498.19 L1628.1 1492.31 Z\" fill=\"#000000\" fill-rule=\"evenodd\" fill-opacity=\"1\" /><path clip-path=\"url(#clip240)\" d=\"M 0 0 M1638.1 1463.63 L1656.45 1463.63 L1656.45 1467.56 L1642.38 1467.56 L1642.38 1476.03 Q1643.4 1475.69 1644.42 1475.53 Q1645.43 1475.34 1646.45 1475.34 Q1652.24 1475.34 1655.62 1478.51 Q1659 1481.68 1659 1487.1 Q1659 1492.68 1655.53 1495.78 Q1652.05 1498.86 1645.73 1498.86 Q1643.56 1498.86 1641.29 1498.49 Q1639.04 1498.12 1636.64 1497.38 L1636.64 1492.68 Q1638.72 1493.81 1640.94 1494.37 Q1643.17 1494.92 1645.64 1494.92 Q1649.65 1494.92 1651.98 1492.82 Q1654.32 1490.71 1654.32 1487.1 Q1654.32 1483.49 1651.98 1481.38 Q1649.65 1479.28 1645.64 1479.28 Q1643.77 1479.28 1641.89 1479.69 Q1640.04 1480.11 1638.1 1480.99 L1638.1 1463.63 Z\" fill=\"#000000\" fill-rule=\"evenodd\" fill-opacity=\"1\" /><path clip-path=\"url(#clip240)\" d=\"M 0 0 M1692.24 1472.72 L1681.66 1483.35 L1692.24 1493.93 L1689.48 1496.73 L1678.86 1486.1 L1668.23 1496.73 L1665.5 1493.93 L1676.06 1483.35 L1665.5 1472.72 L1668.23 1469.92 L1678.86 1480.55 L1689.48 1469.92 L1692.24 1472.72 Z\" fill=\"#000000\" fill-rule=\"evenodd\" fill-opacity=\"1\" /><path clip-path=\"url(#clip240)\" d=\"M 0 0 M1698.12 1494.25 L1705.76 1494.25 L1705.76 1467.89 L1697.45 1469.55 L1697.45 1465.29 L1705.71 1463.63 L1710.39 1463.63 L1710.39 1494.25 L1718.03 1494.25 L1718.03 1498.19 L1698.12 1498.19 L1698.12 1494.25 Z\" fill=\"#000000\" fill-rule=\"evenodd\" fill-opacity=\"1\" /><path clip-path=\"url(#clip240)\" d=\"M 0 0 M1733.1 1466.71 Q1729.48 1466.71 1727.66 1470.27 Q1725.85 1473.81 1725.85 1480.94 Q1725.85 1488.05 1727.66 1491.61 Q1729.48 1495.15 1733.1 1495.15 Q1736.73 1495.15 1738.53 1491.61 Q1740.36 1488.05 1740.36 1480.94 Q1740.36 1473.81 1738.53 1470.27 Q1736.73 1466.71 1733.1 1466.71 M1733.1 1463 Q1738.91 1463 1741.96 1467.61 Q1745.04 1472.19 1745.04 1480.94 Q1745.04 1489.67 1741.96 1494.28 Q1738.91 1498.86 1733.1 1498.86 Q1727.29 1498.86 1724.21 1494.28 Q1721.15 1489.67 1721.15 1480.94 Q1721.15 1472.19 1724.21 1467.61 Q1727.29 1463 1733.1 1463 Z\" fill=\"#000000\" fill-rule=\"evenodd\" fill-opacity=\"1\" /><path clip-path=\"url(#clip240)\" d=\"M 0 0 M1745.04 1442.7 L1763.1 1442.7 L1763.1 1444.31 L1752.9 1470.78 L1748.93 1470.78 L1758.52 1445.89 L1745.04 1445.89 L1745.04 1442.7 Z\" fill=\"#000000\" fill-rule=\"evenodd\" fill-opacity=\"1\" /><path clip-path=\"url(#clip240)\" d=\"M 0 0 M2044.22 1494.25 L2060.54 1494.25 L2060.54 1498.19 L2038.59 1498.19 L2038.59 1494.25 Q2041.26 1491.5 2045.84 1486.87 Q2050.45 1482.21 2051.63 1480.87 Q2053.87 1478.35 2054.75 1476.61 Q2055.65 1474.85 2055.65 1473.16 Q2055.65 1470.41 2053.71 1468.67 Q2051.79 1466.94 2048.69 1466.94 Q2046.49 1466.94 2044.03 1467.7 Q2041.6 1468.46 2038.83 1470.02 L2038.83 1465.29 Q2041.65 1464.16 2044.1 1463.58 Q2046.56 1463 2048.59 1463 Q2053.97 1463 2057.16 1465.69 Q2060.35 1468.37 2060.35 1472.86 Q2060.35 1474.99 2059.54 1476.91 Q2058.76 1478.81 2056.65 1481.4 Q2056.07 1482.08 2052.97 1485.29 Q2049.87 1488.49 2044.22 1494.25 Z\" fill=\"#000000\" fill-rule=\"evenodd\" fill-opacity=\"1\" /><path clip-path=\"url(#clip240)\" d=\"M 0 0 M2065.61 1492.31 L2070.49 1492.31 L2070.49 1498.19 L2065.61 1498.19 L2065.61 1492.31 Z\" fill=\"#000000\" fill-rule=\"evenodd\" fill-opacity=\"1\" /><path clip-path=\"url(#clip240)\" d=\"M 0 0 M2085.56 1466.71 Q2081.95 1466.71 2080.12 1470.27 Q2078.32 1473.81 2078.32 1480.94 Q2078.32 1488.05 2080.12 1491.61 Q2081.95 1495.15 2085.56 1495.15 Q2089.2 1495.15 2091 1491.61 Q2092.83 1488.05 2092.83 1480.94 Q2092.83 1473.81 2091 1470.27 Q2089.2 1466.71 2085.56 1466.71 M2085.56 1463 Q2091.37 1463 2094.43 1467.61 Q2097.51 1472.19 2097.51 1480.94 Q2097.51 1489.67 2094.43 1494.28 Q2091.37 1498.86 2085.56 1498.86 Q2079.75 1498.86 2076.67 1494.28 Q2073.62 1489.67 2073.62 1480.94 Q2073.62 1472.19 2076.67 1467.61 Q2079.75 1463 2085.56 1463 Z\" fill=\"#000000\" fill-rule=\"evenodd\" fill-opacity=\"1\" /><path clip-path=\"url(#clip240)\" d=\"M 0 0 M2130.75 1472.72 L2120.17 1483.35 L2130.75 1493.93 L2127.99 1496.73 L2117.37 1486.1 L2106.74 1496.73 L2104.01 1493.93 L2114.57 1483.35 L2104.01 1472.72 L2106.74 1469.92 L2117.37 1480.55 L2127.99 1469.92 L2130.75 1472.72 Z\" fill=\"#000000\" fill-rule=\"evenodd\" fill-opacity=\"1\" /><path clip-path=\"url(#clip240)\" d=\"M 0 0 M2136.63 1494.25 L2144.27 1494.25 L2144.27 1467.89 L2135.96 1469.55 L2135.96 1465.29 L2144.22 1463.63 L2148.9 1463.63 L2148.9 1494.25 L2156.53 1494.25 L2156.53 1498.19 L2136.63 1498.19 L2136.63 1494.25 Z\" fill=\"#000000\" fill-rule=\"evenodd\" fill-opacity=\"1\" /><path clip-path=\"url(#clip240)\" d=\"M 0 0 M2171.6 1466.71 Q2167.99 1466.71 2166.16 1470.27 Q2164.36 1473.81 2164.36 1480.94 Q2164.36 1488.05 2166.16 1491.61 Q2167.99 1495.15 2171.6 1495.15 Q2175.24 1495.15 2177.04 1491.61 Q2178.87 1488.05 2178.87 1480.94 Q2178.87 1473.81 2177.04 1470.27 Q2175.24 1466.71 2171.6 1466.71 M2171.6 1463 Q2177.41 1463 2180.47 1467.61 Q2183.55 1472.19 2183.55 1480.94 Q2183.55 1489.67 2180.47 1494.28 Q2177.41 1498.86 2171.6 1498.86 Q2165.79 1498.86 2162.71 1494.28 Q2159.66 1489.67 2159.66 1480.94 Q2159.66 1472.19 2162.71 1467.61 Q2165.79 1463 2171.6 1463 Z\" fill=\"#000000\" fill-rule=\"evenodd\" fill-opacity=\"1\" /><path clip-path=\"url(#clip240)\" d=\"M 0 0 M2183.55 1442.7 L2201.6 1442.7 L2201.6 1444.31 L2191.41 1470.78 L2187.44 1470.78 L2197.03 1445.89 L2183.55 1445.89 L2183.55 1442.7 Z\" fill=\"#000000\" fill-rule=\"evenodd\" fill-opacity=\"1\" /><path clip-path=\"url(#clip240)\" d=\"M 0 0 M277.162 1372.19 Q273.551 1372.19 271.722 1375.76 Q269.917 1379.3 269.917 1386.43 Q269.917 1393.54 271.722 1397.1 Q273.551 1400.64 277.162 1400.64 Q280.796 1400.64 282.602 1397.1 Q284.431 1393.54 284.431 1386.43 Q284.431 1379.3 282.602 1375.76 Q280.796 1372.19 277.162 1372.19 M277.162 1368.49 Q282.972 1368.49 286.028 1373.1 Q289.107 1377.68 289.107 1386.43 Q289.107 1395.16 286.028 1399.76 Q282.972 1404.35 277.162 1404.35 Q271.352 1404.35 268.273 1399.76 Q265.218 1395.16 265.218 1386.43 Q265.218 1377.68 268.273 1373.1 Q271.352 1368.49 277.162 1368.49 Z\" fill=\"#000000\" fill-rule=\"evenodd\" fill-opacity=\"1\" /><path clip-path=\"url(#clip240)\" d=\"M 0 0 M125.804 970.139 L144.161 970.139 L144.161 974.074 L130.087 974.074 L130.087 982.546 Q131.105 982.199 132.124 982.037 Q133.142 981.852 134.161 981.852 Q139.948 981.852 143.327 985.023 Q146.707 988.195 146.707 993.611 Q146.707 999.19 143.235 1002.29 Q139.763 1005.37 133.443 1005.37 Q131.267 1005.37 128.999 1005 Q126.753 1004.63 124.346 1003.89 L124.346 999.19 Q126.429 1000.32 128.652 1000.88 Q130.874 1001.44 133.351 1001.44 Q137.355 1001.44 139.693 999.329 Q142.031 997.222 142.031 993.611 Q142.031 990 139.693 987.894 Q137.355 985.787 133.351 985.787 Q131.476 985.787 129.601 986.204 Q127.749 986.621 125.804 987.5 L125.804 970.139 Z\" fill=\"#000000\" fill-rule=\"evenodd\" fill-opacity=\"1\" /><path clip-path=\"url(#clip240)\" d=\"M 0 0 M151.777 998.82 L156.661 998.82 L156.661 1004.7 L151.777 1004.7 L151.777 998.82 Z\" fill=\"#000000\" fill-rule=\"evenodd\" fill-opacity=\"1\" /><path clip-path=\"url(#clip240)\" d=\"M 0 0 M171.73 973.218 Q168.119 973.218 166.29 976.783 Q164.485 980.324 164.485 987.454 Q164.485 994.56 166.29 998.125 Q168.119 1001.67 171.73 1001.67 Q175.364 1001.67 177.17 998.125 Q178.999 994.56 178.999 987.454 Q178.999 980.324 177.17 976.783 Q175.364 973.218 171.73 973.218 M171.73 969.514 Q177.54 969.514 180.596 974.121 Q183.674 978.704 183.674 987.454 Q183.674 996.181 180.596 1000.79 Q177.54 1005.37 171.73 1005.37 Q165.92 1005.37 162.841 1000.79 Q159.786 996.181 159.786 987.454 Q159.786 978.704 162.841 974.121 Q165.92 969.514 171.73 969.514 Z\" fill=\"#000000\" fill-rule=\"evenodd\" fill-opacity=\"1\" /><path clip-path=\"url(#clip240)\" d=\"M 0 0 M216.915 979.236 L206.336 989.861 L216.915 1000.44 L214.16 1003.24 L203.535 992.616 L192.911 1003.24 L190.179 1000.44 L200.735 989.861 L190.179 979.236 L192.911 976.435 L203.535 987.06 L214.16 976.435 L216.915 979.236 Z\" fill=\"#000000\" fill-rule=\"evenodd\" fill-opacity=\"1\" /><path clip-path=\"url(#clip240)\" d=\"M 0 0 M222.795 1000.76 L230.433 1000.76 L230.433 974.398 L222.123 976.065 L222.123 971.806 L230.387 970.139 L235.063 970.139 L235.063 1000.76 L242.702 1000.76 L242.702 1004.7 L222.795 1004.7 L222.795 1000.76 Z\" fill=\"#000000\" fill-rule=\"evenodd\" fill-opacity=\"1\" /><path clip-path=\"url(#clip240)\" d=\"M 0 0 M257.771 973.218 Q254.16 973.218 252.332 976.783 Q250.526 980.324 250.526 987.454 Q250.526 994.56 252.332 998.125 Q254.16 1001.67 257.771 1001.67 Q261.406 1001.67 263.211 998.125 Q265.04 994.56 265.04 987.454 Q265.04 980.324 263.211 976.783 Q261.406 973.218 257.771 973.218 M257.771 969.514 Q263.581 969.514 266.637 974.121 Q269.716 978.704 269.716 987.454 Q269.716 996.181 266.637 1000.79 Q263.581 1005.37 257.771 1005.37 Q251.961 1005.37 248.882 1000.79 Q245.827 996.181 245.827 987.454 Q245.827 978.704 248.882 974.121 Q251.961 969.514 257.771 969.514 Z\" fill=\"#000000\" fill-rule=\"evenodd\" fill-opacity=\"1\" /><path clip-path=\"url(#clip240)\" d=\"M 0 0 M279.74 961.735 Q277.182 961.735 275.678 963.484 Q274.192 965.233 274.192 968.28 Q274.192 971.308 275.678 973.076 Q277.182 974.825 279.74 974.825 Q282.298 974.825 283.784 973.076 Q285.289 971.308 285.289 968.28 Q285.289 965.233 283.784 963.484 Q282.298 961.735 279.74 961.735 M287.282 949.829 L287.282 953.29 Q285.853 952.613 284.386 952.256 Q282.938 951.898 281.508 951.898 Q277.747 951.898 275.753 954.437 Q273.778 956.976 273.496 962.111 Q274.606 960.475 276.28 959.609 Q277.953 958.725 279.966 958.725 Q284.198 958.725 286.643 961.302 Q289.107 963.86 289.107 968.28 Q289.107 972.606 286.549 975.22 Q283.991 977.834 279.74 977.834 Q274.869 977.834 272.292 974.11 Q269.716 970.367 269.716 963.277 Q269.716 956.619 272.875 952.669 Q276.035 948.701 281.358 948.701 Q282.787 948.701 284.235 948.983 Q285.702 949.265 287.282 949.829 Z\" fill=\"#000000\" fill-rule=\"evenodd\" fill-opacity=\"1\" /><path clip-path=\"url(#clip240)\" d=\"M 0 0 M128.135 595.34 L135.774 595.34 L135.774 568.974 L127.464 570.641 L127.464 566.382 L135.728 564.715 L140.404 564.715 L140.404 595.34 L148.042 595.34 L148.042 599.275 L128.135 599.275 L128.135 595.34 Z\" fill=\"#000000\" fill-rule=\"evenodd\" fill-opacity=\"1\" /><path clip-path=\"url(#clip240)\" d=\"M 0 0 M153.112 593.395 L157.996 593.395 L157.996 599.275 L153.112 599.275 L153.112 593.395 Z\" fill=\"#000000\" fill-rule=\"evenodd\" fill-opacity=\"1\" /><path clip-path=\"url(#clip240)\" d=\"M 0 0 M173.065 567.794 Q169.454 567.794 167.626 571.358 Q165.82 574.9 165.82 582.03 Q165.82 589.136 167.626 592.701 Q169.454 596.243 173.065 596.243 Q176.7 596.243 178.505 592.701 Q180.334 589.136 180.334 582.03 Q180.334 574.9 178.505 571.358 Q176.7 567.794 173.065 567.794 M173.065 564.09 Q178.876 564.09 181.931 568.696 Q185.01 573.28 185.01 582.03 Q185.01 590.757 181.931 595.363 Q178.876 599.946 173.065 599.946 Q167.255 599.946 164.177 595.363 Q161.121 590.757 161.121 582.03 Q161.121 573.28 164.177 568.696 Q167.255 564.09 173.065 564.09 Z\" fill=\"#000000\" fill-rule=\"evenodd\" fill-opacity=\"1\" /><path clip-path=\"url(#clip240)\" d=\"M 0 0 M218.25 573.812 L207.672 584.437 L218.25 595.016 L215.496 597.817 L204.871 587.192 L194.246 597.817 L191.514 595.016 L202.07 584.437 L191.514 573.812 L194.246 571.011 L204.871 581.636 L215.496 571.011 L218.25 573.812 Z\" fill=\"#000000\" fill-rule=\"evenodd\" fill-opacity=\"1\" /><path clip-path=\"url(#clip240)\" d=\"M 0 0 M224.13 595.34 L231.769 595.34 L231.769 568.974 L223.459 570.641 L223.459 566.382 L231.723 564.715 L236.398 564.715 L236.398 595.34 L244.037 595.34 L244.037 599.275 L224.13 599.275 L224.13 595.34 Z\" fill=\"#000000\" fill-rule=\"evenodd\" fill-opacity=\"1\" /><path clip-path=\"url(#clip240)\" d=\"M 0 0 M259.107 567.794 Q255.496 567.794 253.667 571.358 Q251.861 574.9 251.861 582.03 Q251.861 589.136 253.667 592.701 Q255.496 596.243 259.107 596.243 Q262.741 596.243 264.546 592.701 Q266.375 589.136 266.375 582.03 Q266.375 574.9 264.546 571.358 Q262.741 567.794 259.107 567.794 M259.107 564.09 Q264.917 564.09 267.972 568.696 Q271.051 573.28 271.051 582.03 Q271.051 590.757 267.972 595.363 Q264.917 599.946 259.107 599.946 Q253.297 599.946 250.218 595.363 Q247.162 590.757 247.162 582.03 Q247.162 573.28 250.218 568.696 Q253.297 564.09 259.107 564.09 Z\" fill=\"#000000\" fill-rule=\"evenodd\" fill-opacity=\"1\" /><path clip-path=\"url(#clip240)\" d=\"M 0 0 M271.051 543.785 L289.107 543.785 L289.107 545.402 L278.913 571.865 L274.944 571.865 L284.536 546.982 L271.051 546.982 L271.051 543.785 Z\" fill=\"#000000\" fill-rule=\"evenodd\" fill-opacity=\"1\" /><path clip-path=\"url(#clip240)\" d=\"M 0 0 M129.131 189.916 L136.769 189.916 L136.769 163.55 L128.459 165.217 L128.459 160.957 L136.723 159.291 L141.399 159.291 L141.399 189.916 L149.038 189.916 L149.038 193.851 L129.131 193.851 L129.131 189.916 Z\" fill=\"#000000\" fill-rule=\"evenodd\" fill-opacity=\"1\" /><path clip-path=\"url(#clip240)\" d=\"M 0 0 M154.107 187.971 L158.991 187.971 L158.991 193.851 L154.107 193.851 L154.107 187.971 Z\" fill=\"#000000\" fill-rule=\"evenodd\" fill-opacity=\"1\" /><path clip-path=\"url(#clip240)\" d=\"M 0 0 M164.107 159.291 L182.464 159.291 L182.464 163.226 L168.39 163.226 L168.39 171.698 Q169.408 171.351 170.427 171.189 Q171.445 171.004 172.464 171.004 Q178.251 171.004 181.63 174.175 Q185.01 177.346 185.01 182.763 Q185.01 188.342 181.538 191.443 Q178.065 194.522 171.746 194.522 Q169.57 194.522 167.302 194.152 Q165.056 193.781 162.649 193.041 L162.649 188.342 Q164.732 189.476 166.954 190.031 Q169.177 190.587 171.653 190.587 Q175.658 190.587 177.996 188.48 Q180.334 186.374 180.334 182.763 Q180.334 179.152 177.996 177.045 Q175.658 174.939 171.653 174.939 Q169.778 174.939 167.903 175.356 Q166.052 175.772 164.107 176.652 L164.107 159.291 Z\" fill=\"#000000\" fill-rule=\"evenodd\" fill-opacity=\"1\" /><path clip-path=\"url(#clip240)\" d=\"M 0 0 M218.25 168.388 L207.672 179.013 L218.25 189.592 L215.496 192.393 L204.871 181.768 L194.246 192.393 L191.514 189.592 L202.07 179.013 L191.514 168.388 L194.246 165.587 L204.871 176.212 L215.496 165.587 L218.25 168.388 Z\" fill=\"#000000\" fill-rule=\"evenodd\" fill-opacity=\"1\" /><path clip-path=\"url(#clip240)\" d=\"M 0 0 M224.13 189.916 L231.769 189.916 L231.769 163.55 L223.459 165.217 L223.459 160.957 L231.723 159.291 L236.398 159.291 L236.398 189.916 L244.037 189.916 L244.037 193.851 L224.13 193.851 L224.13 189.916 Z\" fill=\"#000000\" fill-rule=\"evenodd\" fill-opacity=\"1\" /><path clip-path=\"url(#clip240)\" d=\"M 0 0 M259.107 162.37 Q255.496 162.37 253.667 165.934 Q251.861 169.476 251.861 176.606 Q251.861 183.712 253.667 187.277 Q255.496 190.818 259.107 190.818 Q262.741 190.818 264.546 187.277 Q266.375 183.712 266.375 176.606 Q266.375 169.476 264.546 165.934 Q262.741 162.37 259.107 162.37 M259.107 158.666 Q264.917 158.666 267.972 163.272 Q271.051 167.856 271.051 176.606 Q271.051 185.332 267.972 189.939 Q264.917 194.522 259.107 194.522 Q253.297 194.522 250.218 189.939 Q247.162 185.332 247.162 176.606 Q247.162 167.856 250.218 163.272 Q253.297 158.666 259.107 158.666 Z\" fill=\"#000000\" fill-rule=\"evenodd\" fill-opacity=\"1\" /><path clip-path=\"url(#clip240)\" d=\"M 0 0 M271.051 138.36 L289.107 138.36 L289.107 139.978 L278.913 166.44 L274.944 166.44 L284.536 141.558 L271.051 141.558 L271.051 138.36 Z\" fill=\"#000000\" fill-rule=\"evenodd\" fill-opacity=\"1\" /><path clip-path=\"url(#clip240)\" d=\"M 0 0 M920.063 12.096 L954.82 12.096 L954.82 18.9825 L928.246 18.9825 L928.246 36.8065 L952.227 36.8065 L952.227 43.6931 L928.246 43.6931 L928.246 72.576 L920.063 72.576 L920.063 12.096 Z\" fill=\"#000000\" fill-rule=\"evenodd\" fill-opacity=\"1\" /><path clip-path=\"url(#clip240)\" d=\"M 0 0 M956.602 27.2059 L964.056 27.2059 L964.056 72.576 L956.602 72.576 L956.602 27.2059 M956.602 9.54393 L964.056 9.54393 L964.056 18.9825 L956.602 18.9825 L956.602 9.54393 Z\" fill=\"#000000\" fill-rule=\"evenodd\" fill-opacity=\"1\" /><path clip-path=\"url(#clip240)\" d=\"M 0 0 M998.164 34.1734 Q996.909 33.4443 995.41 33.1202 Q993.952 32.7556 992.169 32.7556 Q985.85 32.7556 982.447 36.8875 Q979.085 40.9789 979.085 48.6757 L979.085 72.576 L971.591 72.576 L971.591 27.2059 L979.085 27.2059 L979.085 34.2544 Q981.434 30.1225 985.202 28.1376 Q988.969 26.1121 994.357 26.1121 Q995.126 26.1121 996.058 26.2337 Q996.99 26.3147 998.124 26.5172 L998.164 34.1734 Z\" fill=\"#000000\" fill-rule=\"evenodd\" fill-opacity=\"1\" /><path clip-path=\"url(#clip240)\" d=\"M 0 0 M1034.91 28.5427 L1034.91 35.5912 Q1031.75 33.9709 1028.34 33.1607 Q1024.94 32.3505 1021.3 32.3505 Q1015.75 32.3505 1012.95 34.0519 Q1010.2 35.7533 1010.2 39.156 Q1010.2 41.7486 1012.18 43.2475 Q1014.17 44.7058 1020.16 46.0426 L1022.71 46.6097 Q1030.65 48.3111 1033.97 51.4303 Q1037.34 54.509 1037.34 60.0587 Q1037.34 66.3781 1032.31 70.0644 Q1027.33 73.7508 1018.58 73.7508 Q1014.94 73.7508 1010.97 73.0216 Q1007.04 72.3329 1002.66 70.9151 L1002.66 63.2184 Q1006.79 65.3654 1010.8 66.4591 Q1014.81 67.5124 1018.74 67.5124 Q1024.01 67.5124 1026.84 65.73 Q1029.68 63.9071 1029.68 60.6258 Q1029.68 57.5877 1027.61 55.9673 Q1025.59 54.3469 1018.66 52.8481 L1016.07 52.2405 Q1009.14 50.7821 1006.06 47.7845 Q1002.99 44.7463 1002.99 39.4801 Q1002.99 33.0797 1007.52 29.5959 Q1012.06 26.1121 1020.4 26.1121 Q1024.54 26.1121 1028.18 26.7198 Q1031.83 27.3274 1034.91 28.5427 Z\" fill=\"#000000\" fill-rule=\"evenodd\" fill-opacity=\"1\" /><path clip-path=\"url(#clip240)\" d=\"M 0 0 M1052.53 14.324 L1052.53 27.2059 L1067.88 27.2059 L1067.88 32.9987 L1052.53 32.9987 L1052.53 57.6282 Q1052.53 63.1779 1054.03 64.7578 Q1055.57 66.3376 1060.22 66.3376 L1067.88 66.3376 L1067.88 72.576 L1060.22 72.576 Q1051.6 72.576 1048.31 69.3758 Q1045.03 66.1351 1045.03 57.6282 L1045.03 32.9987 L1039.56 32.9987 L1039.56 27.2059 L1045.03 27.2059 L1045.03 14.324 L1052.53 14.324 Z\" fill=\"#000000\" fill-rule=\"evenodd\" fill-opacity=\"1\" /><path clip-path=\"url(#clip240)\" d=\"M 0 0 M1102.07 9.54393 L1109.52 9.54393 L1109.52 72.576 L1102.07 72.576 L1102.07 9.54393 Z\" fill=\"#000000\" fill-rule=\"evenodd\" fill-opacity=\"1\" /><path clip-path=\"url(#clip240)\" d=\"M 0 0 M1134.92 32.4315 Q1128.93 32.4315 1125.44 37.1306 Q1121.96 41.7891 1121.96 49.9314 Q1121.96 58.0738 1125.4 62.7728 Q1128.89 67.4314 1134.92 67.4314 Q1140.88 67.4314 1144.36 62.7323 Q1147.85 58.0333 1147.85 49.9314 Q1147.85 41.8701 1144.36 37.1711 Q1140.88 32.4315 1134.92 32.4315 M1134.92 26.1121 Q1144.65 26.1121 1150.19 32.4315 Q1155.74 38.7509 1155.74 49.9314 Q1155.74 61.0714 1150.19 67.4314 Q1144.65 73.7508 1134.92 73.7508 Q1125.16 73.7508 1119.61 67.4314 Q1114.1 61.0714 1114.1 49.9314 Q1114.1 38.7509 1119.61 32.4315 Q1125.16 26.1121 1134.92 26.1121 Z\" fill=\"#000000\" fill-rule=\"evenodd\" fill-opacity=\"1\" /><path clip-path=\"url(#clip240)\" d=\"M 0 0 M1181.14 32.4315 Q1175.15 32.4315 1171.66 37.1306 Q1168.18 41.7891 1168.18 49.9314 Q1168.18 58.0738 1171.62 62.7728 Q1175.11 67.4314 1181.14 67.4314 Q1187.1 67.4314 1190.58 62.7323 Q1194.07 58.0333 1194.07 49.9314 Q1194.07 41.8701 1190.58 37.1711 Q1187.1 32.4315 1181.14 32.4315 M1181.14 26.1121 Q1190.87 26.1121 1196.42 32.4315 Q1201.97 38.7509 1201.97 49.9314 Q1201.97 61.0714 1196.42 67.4314 Q1190.87 73.7508 1181.14 73.7508 Q1171.38 73.7508 1165.83 67.4314 Q1160.32 61.0714 1160.32 49.9314 Q1160.32 38.7509 1165.83 32.4315 Q1171.38 26.1121 1181.14 26.1121 Z\" fill=\"#000000\" fill-rule=\"evenodd\" fill-opacity=\"1\" /><path clip-path=\"url(#clip240)\" d=\"M 0 0 M1209.5 9.54393 L1216.99 9.54393 L1216.99 46.7717 L1239.23 27.2059 L1248.75 27.2059 L1224.69 48.4326 L1249.77 72.576 L1240.04 72.576 L1216.99 50.4176 L1216.99 72.576 L1209.5 72.576 L1209.5 9.54393 Z\" fill=\"#000000\" fill-rule=\"evenodd\" fill-opacity=\"1\" /><path clip-path=\"url(#clip240)\" d=\"M 0 0 M1304.57 49.7694 Q1295.54 49.7694 1292.06 51.8354 Q1288.57 53.9013 1288.57 58.8839 Q1288.57 62.8538 1291.17 65.2034 Q1293.8 67.5124 1298.3 67.5124 Q1304.49 67.5124 1308.22 63.1374 Q1311.99 58.7219 1311.99 51.4303 L1311.99 49.7694 L1304.57 49.7694 M1319.44 46.6907 L1319.44 72.576 L1311.99 72.576 L1311.99 65.6895 Q1309.44 69.8214 1305.63 71.8063 Q1301.82 73.7508 1296.31 73.7508 Q1289.34 73.7508 1285.21 69.8619 Q1281.12 65.9325 1281.12 59.3701 Q1281.12 51.7138 1286.22 47.825 Q1291.37 43.9361 1301.54 43.9361 L1311.99 43.9361 L1311.99 43.2069 Q1311.99 38.0623 1308.59 35.2672 Q1305.22 32.4315 1299.11 32.4315 Q1295.22 32.4315 1291.53 33.3632 Q1287.84 34.295 1284.44 36.1584 L1284.44 29.2718 Q1288.53 27.692 1292.38 26.9223 Q1296.23 26.1121 1299.88 26.1121 Q1309.72 26.1121 1314.58 31.2163 Q1319.44 36.3204 1319.44 46.6907 Z\" fill=\"#000000\" fill-rule=\"evenodd\" fill-opacity=\"1\" /><path clip-path=\"url(#clip240)\" d=\"M 0 0 M1334.63 14.324 L1334.63 27.2059 L1349.99 27.2059 L1349.99 32.9987 L1334.63 32.9987 L1334.63 57.6282 Q1334.63 63.1779 1336.13 64.7578 Q1337.67 66.3376 1342.33 66.3376 L1349.99 66.3376 L1349.99 72.576 L1342.33 72.576 Q1333.7 72.576 1330.42 69.3758 Q1327.14 66.1351 1327.14 57.6282 L1327.14 32.9987 L1321.67 32.9987 L1321.67 27.2059 L1327.14 27.2059 L1327.14 14.324 L1334.63 14.324 Z\" fill=\"#000000\" fill-rule=\"evenodd\" fill-opacity=\"1\" /><path clip-path=\"url(#clip240)\" d=\"M 0 0 M1384.5 12.096 L1392.68 12.096 L1392.68 72.576 L1384.5 72.576 L1384.5 12.096 Z\" fill=\"#000000\" fill-rule=\"evenodd\" fill-opacity=\"1\" /><path clip-path=\"url(#clip240)\" d=\"M 0 0 M1421.52 27.2059 L1429.42 27.2059 L1443.6 65.2844 L1457.78 27.2059 L1465.68 27.2059 L1448.67 72.576 L1438.54 72.576 L1421.52 27.2059 Z\" fill=\"#000000\" fill-rule=\"evenodd\" fill-opacity=\"1\" /><path clip-path=\"url(#clip240)\" d=\"M 0 0 M1502.42 28.5427 L1502.42 35.5912 Q1499.26 33.9709 1495.86 33.1607 Q1492.46 32.3505 1488.81 32.3505 Q1483.26 32.3505 1480.47 34.0519 Q1477.71 35.7533 1477.71 39.156 Q1477.71 41.7486 1479.7 43.2475 Q1481.68 44.7058 1487.68 46.0426 L1490.23 46.6097 Q1498.17 48.3111 1501.49 51.4303 Q1504.85 54.509 1504.85 60.0587 Q1504.85 66.3781 1499.83 70.0644 Q1494.85 73.7508 1486.1 73.7508 Q1482.45 73.7508 1478.48 73.0216 Q1474.55 72.3329 1470.18 70.9151 L1470.18 63.2184 Q1474.31 65.3654 1478.32 66.4591 Q1482.33 67.5124 1486.26 67.5124 Q1491.52 67.5124 1494.36 65.73 Q1497.2 63.9071 1497.2 60.6258 Q1497.2 57.5877 1495.13 55.9673 Q1493.1 54.3469 1486.18 52.8481 L1483.58 52.2405 Q1476.66 50.7821 1473.58 47.7845 Q1470.5 44.7463 1470.5 39.4801 Q1470.5 33.0797 1475.04 29.5959 Q1479.57 26.1121 1487.92 26.1121 Q1492.05 26.1121 1495.7 26.7198 Q1499.34 27.3274 1502.42 28.5427 Z\" fill=\"#000000\" fill-rule=\"evenodd\" fill-opacity=\"1\" /><path clip-path=\"url(#clip240)\" d=\"M 0 0 M1575.62 14.0809 L1575.62 22.0612 Q1570.96 19.8332 1566.83 18.7395 Q1562.7 17.6457 1558.85 17.6457 Q1552.17 17.6457 1548.52 20.2383 Q1544.92 22.8309 1544.92 27.611 Q1544.92 31.6214 1547.31 33.6873 Q1549.74 35.7128 1556.46 36.9686 L1561.4 37.9813 Q1570.56 39.7232 1574.89 44.1387 Q1579.27 48.5136 1579.27 55.8863 Q1579.27 64.6767 1573.35 69.2137 Q1567.48 73.7508 1556.1 73.7508 Q1551.8 73.7508 1546.94 72.7785 Q1542.12 71.8063 1536.93 69.9024 L1536.93 61.4765 Q1541.92 64.2716 1546.7 65.6895 Q1551.48 67.1073 1556.1 67.1073 Q1563.1 67.1073 1566.91 64.3527 Q1570.72 61.598 1570.72 56.4939 Q1570.72 52.0379 1567.96 49.5264 Q1565.25 47.0148 1559.01 45.759 L1554.03 44.7868 Q1544.87 42.9639 1540.78 39.075 Q1536.69 35.1862 1536.69 28.2591 Q1536.69 20.2383 1542.32 15.6203 Q1547.99 11.0023 1557.92 11.0023 Q1562.17 11.0023 1566.59 11.7719 Q1571 12.5416 1575.62 14.0809 Z\" fill=\"#000000\" fill-rule=\"evenodd\" fill-opacity=\"1\" /><path clip-path=\"url(#clip240)\" d=\"M 0 0 M1620.67 65.7705 L1620.67 89.8329 L1613.17 89.8329 L1613.17 27.2059 L1620.67 27.2059 L1620.67 34.0924 Q1623.02 30.0415 1626.58 28.0971 Q1630.19 26.1121 1635.17 26.1121 Q1643.43 26.1121 1648.58 32.6746 Q1653.76 39.2371 1653.76 49.9314 Q1653.76 60.6258 1648.58 67.1883 Q1643.43 73.7508 1635.17 73.7508 Q1630.19 73.7508 1626.58 71.8063 Q1623.02 69.8214 1620.67 65.7705 M1646.03 49.9314 Q1646.03 41.7081 1642.62 37.0496 Q1639.26 32.3505 1633.35 32.3505 Q1627.43 32.3505 1624.03 37.0496 Q1620.67 41.7081 1620.67 49.9314 Q1620.67 58.1548 1624.03 62.8538 Q1627.43 67.5124 1633.35 67.5124 Q1639.26 67.5124 1642.62 62.8538 Q1646.03 58.1548 1646.03 49.9314 Z\" fill=\"#000000\" fill-rule=\"evenodd\" fill-opacity=\"1\" /><path clip-path=\"url(#clip240)\" d=\"M 0 0 M1661.58 9.54393 L1669.03 9.54393 L1669.03 72.576 L1661.58 72.576 L1661.58 9.54393 Z\" fill=\"#000000\" fill-rule=\"evenodd\" fill-opacity=\"1\" /><path clip-path=\"url(#clip240)\" d=\"M 0 0 M1694.43 32.4315 Q1688.44 32.4315 1684.95 37.1306 Q1681.47 41.7891 1681.47 49.9314 Q1681.47 58.0738 1684.91 62.7728 Q1688.4 67.4314 1694.43 67.4314 Q1700.39 67.4314 1703.87 62.7323 Q1707.36 58.0333 1707.36 49.9314 Q1707.36 41.8701 1703.87 37.1711 Q1700.39 32.4315 1694.43 32.4315 M1694.43 26.1121 Q1704.16 26.1121 1709.71 32.4315 Q1715.26 38.7509 1715.26 49.9314 Q1715.26 61.0714 1709.71 67.4314 Q1704.16 73.7508 1694.43 73.7508 Q1684.67 73.7508 1679.12 67.4314 Q1673.61 61.0714 1673.61 49.9314 Q1673.61 38.7509 1679.12 32.4315 Q1684.67 26.1121 1694.43 26.1121 Z\" fill=\"#000000\" fill-rule=\"evenodd\" fill-opacity=\"1\" /><path clip-path=\"url(#clip240)\" d=\"M 0 0 M1730.45 14.324 L1730.45 27.2059 L1745.8 27.2059 L1745.8 32.9987 L1730.45 32.9987 L1730.45 57.6282 Q1730.45 63.1779 1731.95 64.7578 Q1733.48 66.3376 1738.14 66.3376 L1745.8 66.3376 L1745.8 72.576 L1738.14 72.576 Q1729.51 72.576 1726.23 69.3758 Q1722.95 66.1351 1722.95 57.6282 L1722.95 32.9987 L1717.48 32.9987 L1717.48 27.2059 L1722.95 27.2059 L1722.95 14.324 L1730.45 14.324 Z\" fill=\"#000000\" fill-rule=\"evenodd\" fill-opacity=\"1\" /><path clip-path=\"url(#clip240)\" d=\"M 0 0 M1183.97 1510.08 L1183.97 1516.35 Q1180.31 1514.6 1177.07 1513.74 Q1173.82 1512.88 1170.8 1512.88 Q1165.54 1512.88 1162.68 1514.92 Q1159.85 1516.96 1159.85 1520.71 Q1159.85 1523.87 1161.73 1525.49 Q1163.64 1527.08 1168.92 1528.07 L1172.8 1528.86 Q1180 1530.23 1183.4 1533.7 Q1186.84 1537.14 1186.84 1542.93 Q1186.84 1549.84 1182.19 1553.4 Q1177.58 1556.97 1168.63 1556.97 Q1165.26 1556.97 1161.44 1556.2 Q1157.65 1555.44 1153.58 1553.94 L1153.58 1547.32 Q1157.49 1549.52 1161.25 1550.63 Q1165 1551.75 1168.63 1551.75 Q1174.14 1551.75 1177.13 1549.58 Q1180.12 1547.42 1180.12 1543.41 Q1180.12 1539.91 1177.96 1537.93 Q1175.83 1535.96 1170.92 1534.97 L1167.01 1534.21 Q1159.82 1532.78 1156.6 1529.72 Q1153.39 1526.67 1153.39 1521.22 Q1153.39 1514.92 1157.81 1511.29 Q1162.27 1507.66 1170.06 1507.66 Q1173.41 1507.66 1176.88 1508.27 Q1180.35 1508.87 1183.97 1510.08 Z\" fill=\"#000000\" fill-rule=\"evenodd\" fill-opacity=\"1\" /><path clip-path=\"url(#clip240)\" d=\"M 0 0 M1192.38 1541.98 L1192.38 1520.4 L1198.23 1520.4 L1198.23 1541.75 Q1198.23 1546.81 1200.21 1549.36 Q1202.18 1551.87 1206.13 1551.87 Q1210.87 1551.87 1213.61 1548.85 Q1216.38 1545.83 1216.38 1540.61 L1216.38 1520.4 L1222.23 1520.4 L1222.23 1556.04 L1216.38 1556.04 L1216.38 1550.57 Q1214.24 1553.82 1211.41 1555.41 Q1208.61 1556.97 1204.89 1556.97 Q1198.74 1556.97 1195.56 1553.15 Q1192.38 1549.33 1192.38 1541.98 M1207.11 1519.54 L1207.11 1519.54 Z\" fill=\"#000000\" fill-rule=\"evenodd\" fill-opacity=\"1\" /><path clip-path=\"url(#clip240)\" d=\"M 0 0 M1251.1 1521.45 L1251.1 1526.98 Q1248.62 1525.71 1245.94 1525.07 Q1243.27 1524.44 1240.41 1524.44 Q1236.05 1524.44 1233.85 1525.77 Q1231.68 1527.11 1231.68 1529.79 Q1231.68 1531.82 1233.24 1533 Q1234.8 1534.15 1239.51 1535.2 L1241.52 1535.64 Q1247.76 1536.98 1250.37 1539.43 Q1253.01 1541.85 1253.01 1546.21 Q1253.01 1551.17 1249.06 1554.07 Q1245.15 1556.97 1238.27 1556.97 Q1235.41 1556.97 1232.29 1556.39 Q1229.2 1555.85 1225.76 1554.74 L1225.76 1548.69 Q1229.01 1550.38 1232.16 1551.24 Q1235.31 1552.07 1238.4 1552.07 Q1242.54 1552.07 1244.77 1550.66 Q1246.99 1549.23 1246.99 1546.65 Q1246.99 1544.27 1245.37 1542.99 Q1243.78 1541.72 1238.34 1540.54 L1236.3 1540.07 Q1230.86 1538.92 1228.44 1536.56 Q1226.02 1534.18 1226.02 1530.04 Q1226.02 1525.01 1229.58 1522.27 Q1233.15 1519.54 1239.71 1519.54 Q1242.95 1519.54 1245.82 1520.01 Q1248.68 1520.49 1251.1 1521.45 Z\" fill=\"#000000\" fill-rule=\"evenodd\" fill-opacity=\"1\" /><path clip-path=\"url(#clip240)\" d=\"M 0 0 M1284.81 1521.76 L1284.81 1527.24 Q1282.32 1525.87 1279.81 1525.2 Q1277.33 1524.5 1274.78 1524.5 Q1269.08 1524.5 1265.93 1528.13 Q1262.78 1531.73 1262.78 1538.25 Q1262.78 1544.78 1265.93 1548.4 Q1269.08 1552 1274.78 1552 Q1277.33 1552 1279.81 1551.33 Q1282.32 1550.63 1284.81 1549.26 L1284.81 1554.68 Q1282.36 1555.82 1279.71 1556.39 Q1277.1 1556.97 1274.14 1556.97 Q1266.09 1556.97 1261.35 1551.91 Q1256.61 1546.85 1256.61 1538.25 Q1256.61 1529.53 1261.38 1524.53 Q1266.19 1519.54 1274.53 1519.54 Q1277.23 1519.54 1279.81 1520.11 Q1282.39 1520.65 1284.81 1521.76 Z\" fill=\"#000000\" fill-rule=\"evenodd\" fill-opacity=\"1\" /><path clip-path=\"url(#clip240)\" d=\"M 0 0 M1321.44 1536.76 L1321.44 1539.62 L1294.51 1539.62 Q1294.9 1545.67 1298.14 1548.85 Q1301.42 1552 1307.25 1552 Q1310.62 1552 1313.77 1551.17 Q1316.95 1550.35 1320.07 1548.69 L1320.07 1554.23 Q1316.92 1555.57 1313.61 1556.27 Q1310.3 1556.97 1306.9 1556.97 Q1298.37 1556.97 1293.37 1552 Q1288.4 1547.04 1288.4 1538.57 Q1288.4 1529.82 1293.11 1524.69 Q1297.86 1519.54 1305.88 1519.54 Q1313.07 1519.54 1317.24 1524.18 Q1321.44 1528.8 1321.44 1536.76 M1315.58 1535.04 Q1315.52 1530.23 1312.88 1527.37 Q1310.27 1524.5 1305.94 1524.5 Q1301.04 1524.5 1298.08 1527.27 Q1295.15 1530.04 1294.71 1535.07 L1315.58 1535.04 Z\" fill=\"#000000\" fill-rule=\"evenodd\" fill-opacity=\"1\" /><path clip-path=\"url(#clip240)\" d=\"M 0 0 M1333.25 1550.7 L1333.25 1569.6 L1327.36 1569.6 L1327.36 1520.4 L1333.25 1520.4 L1333.25 1525.81 Q1335.1 1522.62 1337.9 1521.1 Q1340.73 1519.54 1344.64 1519.54 Q1351.14 1519.54 1355.18 1524.69 Q1359.25 1529.85 1359.25 1538.25 Q1359.25 1546.65 1355.18 1551.81 Q1351.14 1556.97 1344.64 1556.97 Q1340.73 1556.97 1337.9 1555.44 Q1335.1 1553.88 1333.25 1550.7 M1353.17 1538.25 Q1353.17 1531.79 1350.5 1528.13 Q1347.86 1524.44 1343.21 1524.44 Q1338.56 1524.44 1335.89 1528.13 Q1333.25 1531.79 1333.25 1538.25 Q1333.25 1544.71 1335.89 1548.4 Q1338.56 1552.07 1343.21 1552.07 Q1347.86 1552.07 1350.5 1548.4 Q1353.17 1544.71 1353.17 1538.25 Z\" fill=\"#000000\" fill-rule=\"evenodd\" fill-opacity=\"1\" /><path clip-path=\"url(#clip240)\" d=\"M 0 0 M1371.19 1510.27 L1371.19 1520.4 L1383.25 1520.4 L1383.25 1524.95 L1371.19 1524.95 L1371.19 1544.3 Q1371.19 1548.66 1372.37 1549.9 Q1373.58 1551.14 1377.24 1551.14 L1383.25 1551.14 L1383.25 1556.04 L1377.24 1556.04 Q1370.46 1556.04 1367.88 1553.53 Q1365.3 1550.98 1365.3 1544.3 L1365.3 1524.95 L1361 1524.95 L1361 1520.4 L1365.3 1520.4 L1365.3 1510.27 L1371.19 1510.27 Z\" fill=\"#000000\" fill-rule=\"evenodd\" fill-opacity=\"1\" /><path clip-path=\"url(#clip240)\" d=\"M 0 0 M1389.4 1520.4 L1395.25 1520.4 L1395.25 1556.04 L1389.4 1556.04 L1389.4 1520.4 M1389.4 1506.52 L1395.25 1506.52 L1395.25 1513.93 L1389.4 1513.93 L1389.4 1506.52 Z\" fill=\"#000000\" fill-rule=\"evenodd\" fill-opacity=\"1\" /><path clip-path=\"url(#clip240)\" d=\"M 0 0 M1426.98 1538.25 Q1426.98 1531.79 1424.31 1528.13 Q1421.67 1524.44 1417.02 1524.44 Q1412.38 1524.44 1409.7 1528.13 Q1407.06 1531.79 1407.06 1538.25 Q1407.06 1544.71 1409.7 1548.4 Q1412.38 1552.07 1417.02 1552.07 Q1421.67 1552.07 1424.31 1548.4 Q1426.98 1544.71 1426.98 1538.25 M1407.06 1525.81 Q1408.91 1522.62 1411.71 1521.1 Q1414.54 1519.54 1418.45 1519.54 Q1424.95 1519.54 1428.99 1524.69 Q1433.06 1529.85 1433.06 1538.25 Q1433.06 1546.65 1428.99 1551.81 Q1424.95 1556.97 1418.45 1556.97 Q1414.54 1556.97 1411.71 1555.44 Q1408.91 1553.88 1407.06 1550.7 L1407.06 1556.04 L1401.17 1556.04 L1401.17 1506.52 L1407.06 1506.52 L1407.06 1525.81 Z\" fill=\"#000000\" fill-rule=\"evenodd\" fill-opacity=\"1\" /><path clip-path=\"url(#clip240)\" d=\"M 0 0 M1439.21 1506.52 L1445.06 1506.52 L1445.06 1556.04 L1439.21 1556.04 L1439.21 1506.52 Z\" fill=\"#000000\" fill-rule=\"evenodd\" fill-opacity=\"1\" /><path clip-path=\"url(#clip240)\" d=\"M 0 0 M1481.7 1536.76 L1481.7 1539.62 L1454.77 1539.62 Q1455.15 1545.67 1458.4 1548.85 Q1461.68 1552 1467.5 1552 Q1470.88 1552 1474.03 1551.17 Q1477.21 1550.35 1480.33 1548.69 L1480.33 1554.23 Q1477.18 1555.57 1473.87 1556.27 Q1470.56 1556.97 1467.15 1556.97 Q1458.62 1556.97 1453.63 1552 Q1448.66 1547.04 1448.66 1538.57 Q1448.66 1529.82 1453.37 1524.69 Q1458.11 1519.54 1466.13 1519.54 Q1473.33 1519.54 1477.5 1524.18 Q1481.7 1528.8 1481.7 1536.76 M1475.84 1535.04 Q1475.78 1530.23 1473.14 1527.37 Q1470.53 1524.5 1466.2 1524.5 Q1461.3 1524.5 1458.34 1527.27 Q1455.41 1530.04 1454.96 1535.07 L1475.84 1535.04 Z\" fill=\"#000000\" fill-rule=\"evenodd\" fill-opacity=\"1\" /><path clip-path=\"url(#clip240)\" d=\"M 0 0 M1510.57 1521.45 L1510.57 1526.98 Q1508.08 1525.71 1505.41 1525.07 Q1502.74 1524.44 1499.87 1524.44 Q1495.51 1524.44 1493.32 1525.77 Q1491.15 1527.11 1491.15 1529.79 Q1491.15 1531.82 1492.71 1533 Q1494.27 1534.15 1498.98 1535.2 L1500.99 1535.64 Q1507.22 1536.98 1509.83 1539.43 Q1512.48 1541.85 1512.48 1546.21 Q1512.48 1551.17 1508.53 1554.07 Q1504.61 1556.97 1497.74 1556.97 Q1494.87 1556.97 1491.76 1556.39 Q1488.67 1555.85 1485.23 1554.74 L1485.23 1548.69 Q1488.48 1550.38 1491.63 1551.24 Q1494.78 1552.07 1497.87 1552.07 Q1502 1552.07 1504.23 1550.66 Q1506.46 1549.23 1506.46 1546.65 Q1506.46 1544.27 1504.84 1542.99 Q1503.25 1541.72 1497.8 1540.54 L1495.77 1540.07 Q1490.32 1538.92 1487.9 1536.56 Q1485.49 1534.18 1485.49 1530.04 Q1485.49 1525.01 1489.05 1522.27 Q1492.61 1519.54 1499.17 1519.54 Q1502.42 1519.54 1505.28 1520.01 Q1508.15 1520.49 1510.57 1521.45 Z\" fill=\"#000000\" fill-rule=\"evenodd\" fill-opacity=\"1\" /><path clip-path=\"url(#clip240)\" d=\"M 0 0 M40.4842 904.173 L40.4842 897.744 L88.0042 897.744 L88.0042 904.173 L40.4842 904.173 Z\" fill=\"#000000\" fill-rule=\"evenodd\" fill-opacity=\"1\" /><path clip-path=\"url(#clip240)\" d=\"M 0 0 M66.4881 861.968 L88.0042 861.968 L88.0042 867.825 L66.679 867.825 Q61.6183 867.825 59.1038 869.798 Q56.5894 871.772 56.5894 875.718 Q56.5894 880.461 59.6131 883.198 Q62.6368 885.935 67.8567 885.935 L88.0042 885.935 L88.0042 891.824 L52.3562 891.824 L52.3562 885.935 L57.8944 885.935 Q54.6797 883.835 53.0883 881.002 Q51.4968 878.137 51.4968 874.413 Q51.4968 868.27 55.3163 865.119 Q59.1038 861.968 66.4881 861.968 Z\" fill=\"#000000\" fill-rule=\"evenodd\" fill-opacity=\"1\" /><path clip-path=\"url(#clip240)\" d=\"M 0 0 M38.479 837.779 L43.3487 837.779 L43.3487 843.381 Q43.3487 846.532 44.6219 847.773 Q45.895 848.982 49.2052 848.982 L52.3562 848.982 L52.3562 839.338 L56.9077 839.338 L56.9077 848.982 L88.0042 848.982 L88.0042 854.871 L56.9077 854.871 L56.9077 860.473 L52.3562 860.473 L52.3562 854.871 L49.8736 854.871 Q43.9216 854.871 41.2162 852.102 Q38.479 849.333 38.479 843.317 L38.479 837.779 Z\" fill=\"#000000\" fill-rule=\"evenodd\" fill-opacity=\"1\" /><path clip-path=\"url(#clip240)\" d=\"M 0 0 M68.7161 801.144 L71.5806 801.144 L71.5806 828.071 Q77.6281 827.689 80.8109 824.443 Q83.9619 821.164 83.9619 815.34 Q83.9619 811.966 83.1344 808.815 Q82.3069 805.632 80.6518 802.513 L86.1899 802.513 Q87.5267 805.664 88.227 808.974 Q88.9272 812.284 88.9272 815.69 Q88.9272 824.22 83.9619 829.217 Q78.9967 834.182 70.5303 834.182 Q61.7774 834.182 56.6531 829.472 Q51.4968 824.729 51.4968 816.708 Q51.4968 809.515 56.1438 805.345 Q60.7589 801.144 68.7161 801.144 M66.9973 807.001 Q62.1912 807.064 59.3266 809.706 Q56.4621 812.316 56.4621 816.645 Q56.4621 821.546 59.2312 824.506 Q62.0002 827.434 67.0292 827.88 L66.9973 807.001 Z\" fill=\"#000000\" fill-rule=\"evenodd\" fill-opacity=\"1\" /><path clip-path=\"url(#clip240)\" d=\"M 0 0 M53.7248 769.347 L59.1993 769.347 Q57.8307 771.83 57.1623 774.344 Q56.4621 776.827 56.4621 779.373 Q56.4621 785.071 60.0905 788.222 Q63.6872 791.373 70.212 791.373 Q76.7369 791.373 80.3653 788.222 Q83.9619 785.071 83.9619 779.373 Q83.9619 776.827 83.2935 774.344 Q82.5933 771.83 81.2247 769.347 L86.6355 769.347 Q87.7814 771.798 88.3543 774.44 Q88.9272 777.05 88.9272 780.01 Q88.9272 788.063 83.8664 792.805 Q78.8057 797.547 70.212 797.547 Q61.491 797.547 56.4939 792.773 Q51.4968 787.967 51.4968 779.628 Q51.4968 776.923 52.0697 774.344 Q52.6108 771.766 53.7248 769.347 Z\" fill=\"#000000\" fill-rule=\"evenodd\" fill-opacity=\"1\" /><path clip-path=\"url(#clip240)\" d=\"M 0 0 M42.2347 757.412 L52.3562 757.412 L52.3562 745.349 L56.9077 745.349 L56.9077 757.412 L76.2594 757.412 Q80.6199 757.412 81.8613 756.234 Q83.1026 755.025 83.1026 751.364 L83.1026 745.349 L88.0042 745.349 L88.0042 751.364 Q88.0042 758.144 85.4897 760.722 Q82.9434 763.3 76.2594 763.3 L56.9077 763.3 L56.9077 767.597 L52.3562 767.597 L52.3562 763.3 L42.2347 763.3 L42.2347 757.412 Z\" fill=\"#000000\" fill-rule=\"evenodd\" fill-opacity=\"1\" /><path clip-path=\"url(#clip240)\" d=\"M 0 0 M68.7161 708.714 L71.5806 708.714 L71.5806 735.641 Q77.6281 735.259 80.8109 732.013 Q83.9619 728.734 83.9619 722.91 Q83.9619 719.536 83.1344 716.385 Q82.3069 713.202 80.6518 710.083 L86.1899 710.083 Q87.5267 713.234 88.227 716.544 Q88.9272 719.854 88.9272 723.26 Q88.9272 731.79 83.9619 736.787 Q78.9967 741.752 70.5303 741.752 Q61.7774 741.752 56.6531 737.041 Q51.4968 732.299 51.4968 724.278 Q51.4968 717.085 56.1438 712.915 Q60.7589 708.714 68.7161 708.714 M66.9973 714.571 Q62.1912 714.634 59.3266 717.276 Q56.4621 719.886 56.4621 724.215 Q56.4621 729.116 59.2312 732.076 Q62.0002 735.004 67.0292 735.45 L66.9973 714.571 Z\" fill=\"#000000\" fill-rule=\"evenodd\" fill-opacity=\"1\" /><path clip-path=\"url(#clip240)\" d=\"M 0 0 M57.7671 679.114 L38.479 679.114 L38.479 673.257 L88.0042 673.257 L88.0042 679.114 L82.657 679.114 Q85.8398 680.96 87.3994 683.792 Q88.9272 686.593 88.9272 690.54 Q88.9272 697.001 83.771 701.075 Q78.6147 705.117 70.212 705.117 Q61.8093 705.117 56.6531 701.075 Q51.4968 697.001 51.4968 690.54 Q51.4968 686.593 53.0564 683.792 Q54.5842 680.96 57.7671 679.114 M70.212 699.07 Q76.6732 699.07 80.3653 696.428 Q84.0256 693.755 84.0256 689.108 Q84.0256 684.461 80.3653 681.787 Q76.6732 679.114 70.212 679.114 Q63.7508 679.114 60.0905 681.787 Q56.3984 684.461 56.3984 689.108 Q56.3984 693.755 60.0905 696.428 Q63.7508 699.07 70.212 699.07 Z\" fill=\"#000000\" fill-rule=\"evenodd\" fill-opacity=\"1\" /><path clip-path=\"url(#clip240)\" d=\"M 0 0 M53.4065 644.389 L58.9447 644.389 Q57.6716 646.871 57.035 649.545 Q56.3984 652.218 56.3984 655.083 Q56.3984 659.443 57.7352 661.64 Q59.072 663.804 61.7456 663.804 Q63.7826 663.804 64.9603 662.244 Q66.1061 660.685 67.1565 655.974 L67.6021 653.969 Q68.9389 647.731 71.3897 645.121 Q73.8086 642.479 78.1691 642.479 Q83.1344 642.479 86.0308 646.426 Q88.9272 650.341 88.9272 657.215 Q88.9272 660.08 88.3543 663.199 Q87.8132 666.287 86.6992 669.724 L80.6518 669.724 Q82.3387 666.478 83.198 663.327 Q84.0256 660.176 84.0256 657.088 Q84.0256 652.95 82.6251 650.722 Q81.1929 648.494 78.6147 648.494 Q76.2276 648.494 74.9545 650.118 Q73.6813 651.709 72.5037 657.152 L72.0262 659.189 Q70.8804 664.632 68.5251 667.051 Q66.138 669.469 62.0002 669.469 Q56.9713 669.469 54.2341 665.905 Q51.4968 662.34 51.4968 655.783 Q51.4968 652.537 51.9743 649.672 Q52.4517 646.808 53.4065 644.389 Z\" fill=\"#000000\" fill-rule=\"evenodd\" fill-opacity=\"1\" /><polyline clip-path=\"url(#clip242)\" style=\"stroke:#009af9; stroke-width:4; stroke-opacity:1; fill:none\" points=\"\n",
       "  2295.03,1386.4 2295.03,1386.4 2295.03,1386.4 2295.03,1386.4 2295.03,1386.39 2295.03,1386.39 2295.03,1386.39 2295.03,1386.39 2295.03,1386.39 2295.03,1386.39 \n",
       "  2295.03,1386.39 2295.03,1386.39 2295.03,1386.39 2295.02,1386.39 2295.02,1386.39 2295.02,1386.39 2295.02,1386.39 2295.02,1386.39 2295.01,1386.38 2295.01,1386.38 \n",
       "  2295.01,1386.38 2295,1386.37 2294.99,1386.37 2294.99,1386.36 2294.98,1386.35 2294.96,1386.34 2294.95,1386.33 2294.93,1386.31 2294.91,1386.29 2294.88,1386.27 \n",
       "  2294.85,1386.24 2294.8,1386.21 2294.75,1386.16 2294.69,1386.11 2294.61,1386.05 2294.52,1385.97 2294.4,1385.87 2294.26,1385.75 2294.08,1385.6 2293.86,1385.42 \n",
       "  2293.6,1385.2 2293.27,1384.92 2292.87,1384.59 2292.38,1384.18 2291.77,1383.67 2291.03,1383.05 2290.12,1382.29 2289,1381.36 2287.63,1380.22 2285.95,1378.81 \n",
       "  2283.89,1377.09 2281.37,1374.98 2278.28,1372.4 2274.49,1369.24 2269.86,1365.38 2264.2,1360.66 2257.29,1354.89 2248.86,1347.87 2238.6,1339.32 2226.13,1328.93 \n",
       "  2211,1316.35 2192.72,1301.16 2170.7,1282.87 2144.27,1260.96 2112.72,1234.84 2075.28,1203.92 2031.17,1167.59 1979.64,1125.29 1920.06,1076.59 1851.99,1021.23 \n",
       "  1775.28,959.239 1690.19,891.038 1597.49,817.49 1498.52,739.955 1395.12,660.266 1289.63,580.624 1184.63,503.423 1082.71,431.016 986.246,365.473 897.132,308.382 \n",
       "  816.658,260.73 745.476,222.882 683.646,194.65 630.766,175.422 586.115,164.303 548.794,160.256 517.839,162.213 492.308,169.149 471.329,180.132 454.128,194.343 \n",
       "  440.039,211.082 428.495,229.764 419.029,249.904 411.253,271.108 404.853,293.056 399.571,315.493 395.199,338.213 391.57,361.053 388.548,383.885 386.023,406.607 \n",
       "  383.906,429.139 382.125,451.42 380.622,473.4 379.349,495.045 378.267,516.326 377.344,537.222 376.554,557.719 375.877,577.808 375.293,597.482 374.789,616.737 \n",
       "  374.352,635.574 373.973,653.993 373.642,671.996 373.353,689.588 373.1,706.773 372.877,723.557 372.681,739.946 372.507,755.947 372.353,771.566 372.217,786.81 \n",
       "  372.096,801.687 371.987,816.204 371.89,830.369 371.803,844.189 371.725,857.672 371.655,870.825 371.592,883.656 371.534,896.171 371.483,908.379 371.436,920.285 \n",
       "  371.393,931.898 371.354,943.225 371.318,954.271 371.286,965.044 371.256,975.55 371.229,985.796 371.204,995.788 371.181,1005.53 371.16,1015.03 371.14,1024.3 \n",
       "  371.122,1033.34 371.105,1042.15 371.09,1050.74 371.076,1059.12 371.062,1067.29 371.05,1075.25 371.038,1083.02 371.028,1090.59 371.018,1097.98 371.008,1105.18 \n",
       "  370.999,1112.2 370.991,1119.05 370.984,1125.73 370.976,1132.24 370.97,1138.59 370.963,1144.78 370.957,1150.81 370.952,1156.69 370.946,1162.43 370.941,1168.03 \n",
       "  370.937,1173.48 370.932,1178.8 370.928,1183.99 370.924,1189.04 370.92,1193.97 370.917,1198.78 370.913,1203.47 370.91,1208.04 370.907,1212.49 370.904,1216.84 \n",
       "  370.901,1221.07 370.899,1225.21 370.896,1229.23 370.894,1233.16 370.891,1236.99 370.889,1240.72 370.887,1244.36 370.885,1247.91 370.883,1251.37 370.881,1254.74 \n",
       "  370.88,1258.03 370.878,1261.24 370.876,1264.37 370.875,1267.42 370.873,1270.39 370.872,1273.29 370.871,1276.12 370.869,1278.87 370.868,1281.56 370.867,1284.18 \n",
       "  370.866,1286.73 370.865,1289.22 370.864,1291.65 370.863,1294.02 370.862,1296.33 370.861,1298.58 370.86,1300.77 370.859,1302.91 370.858,1305 370.857,1307.03 \n",
       "  370.857,1309.02 370.856,1310.95 370.855,1312.84 370.854,1314.68 370.854,1316.47 370.853,1318.22 370.853,1319.92 370.852,1321.58 370.851,1323.2 370.851,1324.78 \n",
       "  370.85,1326.32 370.85,1327.82 370.849,1329.28 370.849,1330.71 370.848,1332.1 370.848,1333.46 370.847,1334.78 370.847,1336.07 370.847,1337.33 370.846,1338.56 \n",
       "  370.846,1339.75 370.845,1340.92 370.845,1342.06 370.845,1343.16 370.844,1344.24 370.844,1345.3 370.844,1346.32 370.843,1347.33 370.843,1348.3 370.843,1349.25 \n",
       "  370.842,1350.18 370.842,1351.09 370.842,1351.97 370.842,1352.83 370.841,1353.67 370.841,1354.49 370.841,1355.29 370.841,1356.06 370.84,1356.82 370.84,1357.56 \n",
       "  370.84,1358.28 370.84,1358.98 370.84,1359.67 370.839,1360.34 370.839,1360.99 370.839,1361.62 370.839,1362.24 370.839,1362.85 370.839,1363.43 370.838,1364.01 \n",
       "  370.838,1364.57 370.838,1365.11 370.838,1365.65 370.838,1366.16 370.838,1366.67 370.837,1367.16 370.837,1367.64 370.837,1368.11 370.837,1368.57 370.837,1369.01 \n",
       "  370.837,1369.45 370.837,1369.87 370.837,1370.29 370.837,1370.69 370.836,1371.08 370.836,1371.46 370.836,1371.84 370.836,1372.2 370.836,1372.56 370.836,1372.9 \n",
       "  370.836,1373.24 370.836,1373.57 370.836,1373.89 370.836,1374.2 370.835,1374.51 370.835,1374.8 370.835,1375.09 370.835,1375.37 370.835,1375.65 370.835,1375.92 \n",
       "  370.835,1376.18 370.835,1376.44 370.835,1376.68 370.835,1376.93 370.835,1377.16 370.835,1377.4 370.835,1377.62 370.835,1377.84 370.835,1378.05 370.835,1378.26 \n",
       "  370.834,1378.46 370.834,1378.66 370.834,1378.86 370.834,1379.04 370.834,1379.23 370.834,1379.41 370.834,1379.58 370.834,1379.75 370.834,1379.92 370.834,1380.08 \n",
       "  370.834,1380.24 370.834,1380.39 370.834,1380.54 370.834,1380.69 370.834,1380.83 370.834,1380.97 370.834,1381.11 370.834,1381.24 370.834,1381.37 370.834,1381.49 \n",
       "  370.834,1381.62 370.834,1381.73 370.834,1381.85 370.834,1381.96 370.834,1382.08 370.833,1382.18 370.833,1382.29 370.833,1382.39 370.833,1382.49 370.833,1382.59 \n",
       "  370.833,1382.68 370.833,1382.78 370.833,1382.87 370.833,1382.96 370.833,1383.04 370.833,1383.13 370.833,1383.21 370.833,1383.29 370.833,1383.36 370.833,1383.44 \n",
       "  370.833,1383.51 370.833,1383.59 370.833,1383.66 370.833,1383.72 370.833,1383.79 370.833,1383.86 370.833,1383.92 370.833,1383.98 370.833,1384.04 370.833,1384.1 \n",
       "  370.833,1384.16 370.833,1384.21 370.833,1384.27 370.833,1384.32 370.833,1384.37 370.833,1384.42 370.833,1384.47 370.833,1384.52 370.833,1384.57 370.833,1384.61 \n",
       "  370.833,1384.66 370.833,1384.7 370.833,1384.74 370.833,1384.79 370.833,1384.83 370.833,1384.87 370.833,1384.9 370.833,1384.94 370.833,1384.98 370.833,1385.01 \n",
       "  370.833,1385.05 370.833,1385.08 370.833,1385.11 370.833,1385.15 370.833,1385.18 370.833,1385.21 370.833,1385.24 370.833,1385.27 370.833,1385.29 370.833,1385.32 \n",
       "  370.833,1385.35 370.833,1385.37 370.833,1385.4 370.833,1385.43 370.833,1385.45 370.833,1385.47 370.833,1385.5 370.833,1385.52 370.833,1385.54 370.833,1385.56 \n",
       "  370.833,1385.58 370.833,1385.6 370.833,1385.62 370.833,1385.64 370.833,1385.66 370.833,1385.68 370.833,1385.7 370.833,1385.71 370.833,1385.73 370.833,1385.75 \n",
       "  370.833,1385.76 370.833,1385.78 370.833,1385.8 370.833,1385.81 370.833,1385.83 370.833,1385.84 370.833,1385.85 370.833,1385.87 370.833,1385.88 370.833,1385.89 \n",
       "  370.833,1385.91 370.833,1385.92 370.833,1385.93 370.833,1385.94 370.833,1385.95 370.833,1385.96 370.833,1385.97 370.833,1385.99 370.833,1386 370.833,1386.01 \n",
       "  370.833,1386.02 370.833,1386.02 370.833,1386.03 370.833,1386.04 370.833,1386.05 370.833,1386.06 370.833,1386.07 370.833,1386.08 370.833,1386.09 370.833,1386.09 \n",
       "  370.833,1386.1 370.833,1386.11 370.833,1386.11 370.833,1386.12 370.832,1386.13 370.832,1386.14 370.832,1386.14 370.832,1386.15 370.832,1386.15 370.832,1386.16 \n",
       "  370.832,1386.17 370.832,1386.17 370.832,1386.18 370.832,1386.18 370.832,1386.19 370.832,1386.19 370.832,1386.2 370.832,1386.2 370.832,1386.21 370.832,1386.21 \n",
       "  370.832,1386.22 370.832,1386.22 370.832,1386.23 370.832,1386.23 370.832,1386.23 370.832,1386.24 370.832,1386.24 370.832,1386.25 370.832,1386.25 370.832,1386.25 \n",
       "  370.832,1386.26 370.832,1386.26 370.832,1386.26 370.832,1386.27 370.832,1386.27 370.832,1386.27 370.832,1386.28 370.832,1386.28 370.832,1386.28 370.832,1386.29 \n",
       "  370.832,1386.29 370.832,1386.29 370.832,1386.29 370.832,1386.3 370.832,1386.3 370.832,1386.3 370.832,1386.3 370.832,1386.31 370.832,1386.31 370.832,1386.31 \n",
       "  370.832,1386.31 370.832,1386.31 370.832,1386.32 370.832,1386.32 370.832,1386.32 370.832,1386.32 370.832,1386.32 370.832,1386.33 370.832,1386.33 370.832,1386.33 \n",
       "  370.832,1386.33 370.832,1386.33 370.832,1386.33 370.832,1386.34 370.832,1386.34 370.832,1386.34 370.832,1386.34 370.832,1386.34 370.832,1386.34 370.832,1386.34 \n",
       "  370.832,1386.35 370.832,1386.35 370.832,1386.35 370.832,1386.35 370.832,1386.35 370.832,1386.35 370.832,1386.35 370.832,1386.35 370.832,1386.35 370.832,1386.36 \n",
       "  370.832,1386.36 370.832,1386.36 370.832,1386.36 370.832,1386.36 370.832,1386.36 370.832,1386.36 370.832,1386.36 370.832,1386.36 370.832,1386.36 370.832,1386.36 \n",
       "  370.832,1386.37 370.832,1386.37 370.832,1386.37 370.832,1386.37 370.832,1386.37 370.832,1386.37 370.832,1386.37 370.832,1386.37 370.832,1386.37 370.832,1386.37 \n",
       "  370.832,1386.37 370.832,1386.37 370.832,1386.37 370.832,1386.37 370.832,1386.37 370.832,1386.37 370.832,1386.38 370.832,1386.38 370.832,1386.38 370.832,1386.38 \n",
       "  370.832,1386.38 370.832,1386.38 370.832,1386.38 370.832,1386.38 370.832,1386.38 370.832,1386.38 370.832,1386.38 370.832,1386.38 370.832,1386.38 370.832,1386.38 \n",
       "  370.832,1386.38 370.832,1386.38 370.832,1386.38 370.832,1386.38 370.832,1386.38 370.832,1386.38 370.832,1386.38 370.832,1386.38 370.832,1386.38 370.832,1386.38 \n",
       "  370.832,1386.38 370.832,1386.38 370.832,1386.39 370.832,1386.39 370.832,1386.39 370.832,1386.39 370.832,1386.39 370.832,1386.39 370.832,1386.39 370.832,1386.39 \n",
       "  370.832,1386.39 370.832,1386.39 370.832,1386.39 370.832,1386.39 370.832,1386.39 370.832,1386.39 370.832,1386.39 370.832,1386.39 370.832,1386.39 370.832,1386.39 \n",
       "  370.832,1386.39 370.832,1386.39 370.832,1386.39 370.832,1386.39 370.832,1386.39 370.832,1386.39 370.832,1386.39 370.832,1386.39 370.832,1386.39 370.832,1386.39 \n",
       "  370.832,1386.39 370.832,1386.39 370.832,1386.39 370.832,1386.39 370.832,1386.39 370.832,1386.39 370.832,1386.39 370.832,1386.39 370.832,1386.39 370.832,1386.39 \n",
       "  370.832,1386.39 370.832,1386.39 370.832,1386.39 370.832,1386.39 370.832,1386.39 370.832,1386.39 370.832,1386.39 370.832,1386.39 370.832,1386.39 370.832,1386.39 \n",
       "  370.832,1386.39 370.832,1386.39 370.832,1386.39 370.832,1386.39 370.832,1386.39 370.832,1386.39 370.832,1386.39 370.832,1386.39 370.832,1386.39 370.832,1386.39 \n",
       "  370.832,1386.39 370.832,1386.39 370.832,1386.39 370.832,1386.39 370.832,1386.39 370.832,1386.39 370.832,1386.39 370.832,1386.39 370.832,1386.39 370.832,1386.39 \n",
       "  370.832,1386.39 370.832,1386.39 370.832,1386.39 370.832,1386.39 370.832,1386.39 370.832,1386.39 370.832,1386.39 370.832,1386.39 370.832,1386.39 370.832,1386.39 \n",
       "  370.832,1386.39 370.832,1386.39 370.832,1386.39 370.832,1386.39 370.832,1386.39 370.832,1386.39 370.832,1386.39 370.832,1386.39 370.832,1386.39 370.832,1386.39 \n",
       "  370.832,1386.39 370.832,1386.39 370.832,1386.39 370.832,1386.39 370.832,1386.39 370.832,1386.39 370.832,1386.39 370.832,1386.39 370.832,1386.39 370.832,1386.39 \n",
       "  370.832,1386.39 370.832,1386.39 370.832,1386.39 370.832,1386.39 370.832,1386.39 370.832,1386.39 370.832,1386.39 370.832,1386.39 370.832,1386.39 370.832,1386.39 \n",
       "  370.832,1386.39 370.832,1386.39 370.832,1386.4 370.832,1386.4 370.832,1386.4 370.832,1386.4 370.832,1386.4 370.832,1386.4 370.832,1386.4 370.832,1386.4 \n",
       "  370.832,1386.4 370.832,1386.4 370.832,1386.4 370.832,1386.4 370.832,1386.4 370.832,1386.4 370.832,1386.4 370.832,1386.4 370.832,1386.4 370.832,1386.4 \n",
       "  370.832,1386.4 370.832,1386.4 370.832,1386.4 370.832,1386.4 370.832,1386.4 370.832,1386.4 370.832,1386.4 370.832,1386.4 370.832,1386.4 370.832,1386.4 \n",
       "  370.832,1386.4 370.832,1386.4 370.832,1386.4 370.832,1386.4 370.832,1386.4 370.832,1386.4 370.832,1386.4 370.832,1386.4 370.832,1386.4 370.832,1386.4 \n",
       "  370.832,1386.4 370.832,1386.4 370.832,1386.4 370.832,1386.4 370.832,1386.4 370.832,1386.4 370.832,1386.4 370.832,1386.4 370.832,1386.4 370.832,1386.4 \n",
       "  370.832,1386.4 370.832,1386.4 370.832,1386.4 370.832,1386.4 370.832,1386.4 370.832,1386.4 370.832,1386.4 370.832,1386.4 370.832,1386.4 370.832,1386.4 \n",
       "  370.832,1386.4 370.832,1386.4 370.832,1386.4 370.832,1386.4 370.832,1386.4 370.832,1386.4 370.832,1386.4 370.832,1386.4 370.832,1386.4 370.832,1386.4 \n",
       "  370.832,1386.4 370.832,1386.4 370.832,1386.4 370.832,1386.4 370.832,1386.4 370.832,1386.4 370.832,1386.4 370.832,1386.4 370.832,1386.4 370.832,1386.4 \n",
       "  370.832,1386.4 370.832,1386.4 370.832,1386.4 370.832,1386.4 370.832,1386.4 370.832,1386.4 370.832,1386.4 370.832,1386.4 370.832,1386.4 370.832,1386.4 \n",
       "  370.832,1386.4 370.832,1386.4 370.832,1386.4 370.832,1386.4 370.832,1386.4 370.832,1386.4 370.832,1386.4 370.832,1386.4 370.832,1386.4 370.832,1386.4 \n",
       "  370.832,1386.4 370.832,1386.4 370.832,1386.4 370.832,1386.4 370.832,1386.4 370.832,1386.4 370.832,1386.4 370.832,1386.4 370.832,1386.4 370.832,1386.4 \n",
       "  370.832,1386.4 370.832,1386.4 370.832,1386.4 370.832,1386.4 370.832,1386.4 370.832,1386.4 370.832,1386.4 370.832,1386.4 370.832,1386.4 370.832,1386.4 \n",
       "  370.832,1386.4 370.832,1386.4 370.832,1386.4 370.832,1386.4 370.832,1386.4 370.832,1386.4 370.832,1386.4 370.832,1386.4 370.832,1386.4 370.832,1386.4 \n",
       "  370.832,1386.4 370.832,1386.4 370.832,1386.4 370.832,1386.4 370.832,1386.4 370.832,1386.4 370.832,1386.4 370.832,1386.4 370.832,1386.4 370.832,1386.4 \n",
       "  370.832,1386.4 370.832,1386.4 370.832,1386.4 370.832,1386.4 370.832,1386.4 370.832,1386.4 370.832,1386.4 370.832,1386.4 370.832,1386.4 370.832,1386.4 \n",
       "  370.832,1386.4 370.832,1386.4 370.832,1386.4 370.832,1386.4 370.832,1386.4 370.832,1386.4 370.832,1386.4 370.832,1386.4 370.832,1386.4 370.832,1386.4 \n",
       "  370.832,1386.4 370.832,1386.4 370.832,1386.4 370.832,1386.4 370.832,1386.4 370.832,1386.4 370.832,1386.4 370.832,1386.4 370.832,1386.4 370.832,1386.4 \n",
       "  370.832,1386.4 370.832,1386.4 370.832,1386.4 370.832,1386.4 370.832,1386.4 370.832,1386.4 370.832,1386.4 370.832,1386.4 370.832,1386.4 370.832,1386.4 \n",
       "  370.832,1386.4 370.832,1386.4 370.832,1386.4 370.832,1386.4 370.832,1386.4 370.832,1386.4 370.832,1386.4 370.832,1386.4 370.832,1386.4 370.832,1386.4 \n",
       "  370.832,1386.4 370.832,1386.4 370.832,1386.4 370.832,1386.4 370.832,1386.4 370.832,1386.4 370.832,1386.4 370.832,1386.4 370.832,1386.4 370.832,1386.4 \n",
       "  370.832,1386.4 370.832,1386.4 370.832,1386.4 370.832,1386.4 370.832,1386.4 370.832,1386.4 370.832,1386.4 370.832,1386.4 370.832,1386.4 370.832,1386.4 \n",
       "  370.832,1386.4 370.832,1386.4 370.832,1386.4 370.832,1386.4 370.832,1386.4 370.832,1386.4 370.832,1386.4 370.832,1386.4 370.832,1386.4 370.832,1386.4 \n",
       "  370.832,1386.4 370.832,1386.4 370.832,1386.4 370.832,1386.4 370.832,1386.4 370.832,1386.4 370.832,1386.4 370.832,1386.4 370.832,1386.4 370.832,1386.4 \n",
       "  370.832,1386.4 370.832,1386.4 370.832,1386.4 370.832,1386.4 370.832,1386.4 370.832,1386.4 370.832,1386.4 370.832,1386.4 370.832,1386.4 370.832,1386.4 \n",
       "  370.832,1386.4 370.832,1386.4 370.832,1386.4 370.832,1386.4 370.832,1386.4 370.832,1386.4 370.832,1386.4 370.832,1386.4 370.832,1386.4 370.832,1386.4 \n",
       "  370.832,1386.4 370.832,1386.4 370.832,1386.4 370.832,1386.4 370.832,1386.4 370.832,1386.4 370.832,1386.4 370.832,1386.4 370.832,1386.4 370.832,1386.4 \n",
       "  370.832,1386.4 370.832,1386.4 370.832,1386.4 370.832,1386.4 370.832,1386.4 370.832,1386.4 370.832,1386.4 370.832,1386.4 370.832,1386.4 370.832,1386.4 \n",
       "  370.832,1386.4 370.832,1386.4 370.832,1386.4 370.832,1386.4 370.832,1386.4 370.832,1386.4 370.832,1386.4 370.832,1386.4 370.832,1386.4 370.832,1386.4 \n",
       "  370.832,1386.4 370.832,1386.4 370.832,1386.4 370.832,1386.4 370.832,1386.4 370.832,1386.4 370.832,1386.4 370.832,1386.4 370.832,1386.4 370.832,1386.4 \n",
       "  370.832,1386.4 370.832,1386.4 370.832,1386.4 370.832,1386.4 370.832,1386.4 370.832,1386.4 370.832,1386.4 370.832,1386.4 370.832,1386.4 370.832,1386.4 \n",
       "  370.832,1386.4 370.832,1386.4 370.832,1386.4 370.832,1386.4 370.832,1386.4 370.832,1386.4 370.832,1386.4 370.832,1386.4 370.832,1386.4 370.832,1386.4 \n",
       "  370.832,1386.4 370.832,1386.4 370.832,1386.4 370.832,1386.4 370.832,1386.4 370.832,1386.4 370.832,1386.4 370.832,1386.4 370.832,1386.4 370.832,1386.4 \n",
       "  370.832,1386.4 370.832,1386.4 370.832,1386.4 370.832,1386.4 370.832,1386.4 370.832,1386.4 370.832,1386.4 370.832,1386.4 370.832,1386.4 370.832,1386.4 \n",
       "  370.832,1386.4 370.832,1386.4 370.832,1386.4 370.832,1386.4 370.832,1386.4 370.832,1386.4 370.832,1386.4 370.832,1386.4 370.832,1386.4 370.832,1386.4 \n",
       "  370.832,1386.4 370.832,1386.4 370.832,1386.4 370.832,1386.4 370.832,1386.4 370.832,1386.4 370.832,1386.4 370.832,1386.4 370.832,1386.4 370.832,1386.4 \n",
       "  370.832,1386.4 370.832,1386.4 370.832,1386.4 370.832,1386.4 370.832,1386.4 370.832,1386.4 370.832,1386.4 370.832,1386.4 370.832,1386.4 370.832,1386.4 \n",
       "  370.832,1386.4 370.832,1386.4 370.832,1386.4 370.832,1386.4 370.832,1386.4 370.832,1386.4 370.832,1386.4 370.832,1386.4 370.832,1386.4 370.832,1386.4 \n",
       "  370.832,1386.4 370.832,1386.4 370.832,1386.4 370.832,1386.4 370.832,1386.4 370.832,1386.4 370.832,1386.4 370.832,1386.4 370.832,1386.4 370.832,1386.4 \n",
       "  370.832,1386.4 370.832,1386.4 370.832,1386.4 370.832,1386.4 370.832,1386.4 370.832,1386.4 370.832,1386.4 370.832,1386.4 370.832,1386.4 370.832,1386.4 \n",
       "  370.832,1386.4 370.832,1386.4 370.832,1386.4 370.832,1386.4 370.832,1386.4 370.832,1386.4 370.832,1386.4 370.832,1386.4 370.832,1386.4 370.832,1386.4 \n",
       "  370.832,1386.4 370.832,1386.4 370.832,1386.4 370.832,1386.4 370.832,1386.4 370.832,1386.4 370.832,1386.4 370.832,1386.4 370.832,1386.4 370.832,1386.4 \n",
       "  370.832,1386.4 370.832,1386.4 370.832,1386.4 370.832,1386.4 370.832,1386.4 370.832,1386.4 370.832,1386.4 370.832,1386.4 370.832,1386.4 370.832,1386.4 \n",
       "  370.832,1386.4 370.832,1386.4 370.832,1386.4 370.832,1386.4 370.832,1386.4 370.832,1386.4 370.832,1386.4 370.832,1386.4 370.832,1386.4 370.832,1386.4 \n",
       "  370.832,1386.4 370.832,1386.4 370.832,1386.4 370.832,1386.4 370.832,1386.4 370.832,1386.4 370.832,1386.4 370.832,1386.4 370.832,1386.4 370.832,1386.4 \n",
       "  370.832,1386.4 370.832,1386.4 370.832,1386.4 370.832,1386.4 370.832,1386.4 370.832,1386.4 370.832,1386.4 370.832,1386.4 370.832,1386.4 370.832,1386.4 \n",
       "  370.832,1386.4 370.832,1386.4 370.832,1386.4 370.832,1386.4 370.832,1386.4 370.832,1386.4 370.832,1386.4 370.832,1386.4 370.832,1386.4 370.832,1386.4 \n",
       "  370.832,1386.4 370.832,1386.4 370.832,1386.4 370.832,1386.4 370.832,1386.4 370.832,1386.4 370.832,1386.4 370.832,1386.4 370.832,1386.4 370.832,1386.4 \n",
       "  370.832,1386.4 370.832,1386.4 370.832,1386.4 370.832,1386.4 370.832,1386.4 370.832,1386.4 370.832,1386.4 370.832,1386.4 370.832,1386.4 370.832,1386.4 \n",
       "  370.832,1386.4 370.832,1386.4 370.832,1386.4 370.832,1386.4 370.832,1386.4 370.832,1386.4 370.832,1386.4 370.832,1386.4 370.832,1386.4 370.832,1386.4 \n",
       "  370.832,1386.4 370.832,1386.4 370.832,1386.4 370.832,1386.4 370.832,1386.4 370.832,1386.4 370.832,1386.4 370.832,1386.4 370.832,1386.4 370.832,1386.4 \n",
       "  370.832,1386.4 370.832,1386.4 370.832,1386.4 370.832,1386.4 370.832,1386.4 370.832,1386.4 370.832,1386.4 370.832,1386.4 370.832,1386.4 370.832,1386.4 \n",
       "  370.832,1386.4 370.832,1386.4 370.832,1386.4 370.832,1386.4 370.832,1386.4 370.832,1386.4 370.832,1386.4 370.832,1386.4 370.832,1386.4 370.832,1386.4 \n",
       "  370.832,1386.4 370.832,1386.4 370.832,1386.4 370.832,1386.4 370.832,1386.4 370.832,1386.4 370.832,1386.4 370.832,1386.4 370.832,1386.4 370.832,1386.4 \n",
       "  370.832,1386.4 370.832,1386.4 370.832,1386.4 370.832,1386.4 370.832,1386.4 370.832,1386.4 370.832,1386.4 370.832,1386.4 370.832,1386.4 370.832,1386.4 \n",
       "  370.832,1386.4 370.832,1386.4 370.832,1386.4 370.832,1386.4 370.832,1386.4 370.832,1386.4 370.832,1386.4 370.832,1386.4 370.832,1386.4 370.832,1386.4 \n",
       "  370.832,1386.4 370.832,1386.4 370.832,1386.4 370.832,1386.4 370.832,1386.4 370.832,1386.4 370.832,1386.4 370.832,1386.4 370.832,1386.4 370.832,1386.4 \n",
       "  370.832,1386.4 \n",
       "  \"/>\n",
       "<path clip-path=\"url(#clip240)\" d=\"\n",
       "M1989.74 327.952 L2280.76 327.952 L2280.76 206.992 L1989.74 206.992  Z\n",
       "  \" fill=\"#ffffff\" fill-rule=\"evenodd\" fill-opacity=\"1\"/>\n",
       "<polyline clip-path=\"url(#clip240)\" style=\"stroke:#000000; stroke-width:4; stroke-opacity:1; fill:none\" points=\"\n",
       "  1989.74,327.952 2280.76,327.952 2280.76,206.992 1989.74,206.992 1989.74,327.952 \n",
       "  \"/>\n",
       "<polyline clip-path=\"url(#clip240)\" style=\"stroke:#009af9; stroke-width:4; stroke-opacity:1; fill:none\" points=\"\n",
       "  2013.74,267.472 2157.74,267.472 \n",
       "  \"/>\n",
       "<path clip-path=\"url(#clip240)\" d=\"M 0 0 M2195.58 287.16 Q2193.77 291.789 2192.06 293.201 Q2190.35 294.613 2187.48 294.613 L2184.08 294.613 L2184.08 291.048 L2186.58 291.048 Q2188.33 291.048 2189.31 290.215 Q2190.28 289.382 2191.46 286.28 L2192.22 284.335 L2181.74 258.826 L2186.25 258.826 L2194.35 279.104 L2202.46 258.826 L2206.97 258.826 L2195.58 287.16 Z\" fill=\"#000000\" fill-rule=\"evenodd\" fill-opacity=\"1\" /><path clip-path=\"url(#clip240)\" d=\"M 0 0 M2212.85 280.817 L2220.49 280.817 L2220.49 254.451 L2212.18 256.118 L2212.18 251.859 L2220.44 250.192 L2225.12 250.192 L2225.12 280.817 L2232.76 280.817 L2232.76 284.752 L2212.85 284.752 L2212.85 280.817 Z\" fill=\"#000000\" fill-rule=\"evenodd\" fill-opacity=\"1\" /></svg>\n"
      ]
     },
     "execution_count": 20,
     "metadata": {},
     "output_type": "execute_result"
    }
   ],
   "source": [
    "# now we can plot the outcome  \n",
    "\n",
    "svals = resultvals[:,1];  # get the results\n",
    "ivals = resultvals[:,2];\n",
    "\n",
    "plot(svals, ivals, \n",
    "    title = \"First look at I vs S plot\",\n",
    "    xlabel = \"Susceptibles\",\n",
    "    ylabel = \"Infecteds\")        # and plot them\n",
    "\n",
    "# we first vary S(0); the initial threshold is (0.1)/(1/20000) = 2000\n",
    "# one can also vary gam and lambda and dt"
   ]
  },
  {
   "cell_type": "markdown",
   "metadata": {},
   "source": [
    "[Back to the top](#In-this-lecture)"
   ]
  },
  {
   "cell_type": "markdown",
   "metadata": {},
   "source": [
    "<h2>Putting it all together: estimates of $\\gamma$ and $\\lambda$</h2>\n",
    "\n",
    "We already have the estimate $\\gamma = 0.05$, based on a 20-day infectious period per patient.\n",
    "\n",
    "We now need estimates of $\\lambda$ and of $S(0)$ (we will discuss $I(0)$ and $R(0)$ later).\n",
    "\n",
    "Since at the beginning of the epidemic, one could not safely say that any person in the three countries concerned would never be exposed to the Ebola virus, we should assume that the susceptible population was the sum of the populations of Guinea, Liberia and Sierra Leone. Using Wikipedia, this gives us $S(0)=22\\times10^6$, because in total there are approximately 22 million people in these countries.\n",
    "\n",
    "Now we use the threshold, which we write as $S^\\ast = \\gamma/\\lambda$, so that $\\lambda = \\gamma/S^\\ast$. Assuming that our $S(0)$ is far larger than $S^\\ast$, because the epidemic was so severe, let us set $S^\\ast = 0.1S(0)=2.2\\times10^6$. This gives the estimate $\\lambda = 0.05/2.2\\times10^6 \\approx 2.3\\times10^{-8}$. \n",
    "\n",
    "Let's go back to our phase plot and put in these estimates."
   ]
  },
  {
   "cell_type": "markdown",
   "metadata": {},
   "source": [
    "[Back to the top](#In-this-lecture)"
   ]
  }
 ],
 "metadata": {
  "hide_input": false,
  "kernelspec": {
   "display_name": "Julia 1.0.5",
   "language": "julia",
   "name": "julia-1.0"
  },
  "language_info": {
   "file_extension": ".jl",
   "mimetype": "application/julia",
   "name": "julia",
   "version": "1.0.5"
  },
  "varInspector": {
   "cols": {
    "lenName": 16,
    "lenType": 16,
    "lenVar": 40
   },
   "kernels_config": {
    "python": {
     "delete_cmd_postfix": "",
     "delete_cmd_prefix": "del ",
     "library": "var_list.py",
     "varRefreshCmd": "print(var_dic_list())"
    },
    "r": {
     "delete_cmd_postfix": ") ",
     "delete_cmd_prefix": "rm(",
     "library": "var_list.r",
     "varRefreshCmd": "cat(var_dic_list()) "
    }
   },
   "types_to_exclude": [
    "module",
    "function",
    "builtin_function_or_method",
    "instance",
    "_Feature"
   ],
   "window_display": false
  }
 },
 "nbformat": 4,
 "nbformat_minor": 1
}
