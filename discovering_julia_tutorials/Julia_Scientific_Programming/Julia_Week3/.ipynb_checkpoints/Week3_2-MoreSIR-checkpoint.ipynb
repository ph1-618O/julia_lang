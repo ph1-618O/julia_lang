{
 "cells": [
  {
   "cell_type": "code",
   "execution_count": 1,
   "metadata": {},
   "outputs": [
    {
     "data": {
      "text/html": [
       "<link href='http://fonts.googleapis.com/css?family=Alegreya+Sans:100,300,400,500,700,800,900,100italic,300italic,400italic,500italic,700italic,800italic,900italic' rel='stylesheet' type='text/css'>\r\n",
       "<link href='http://fonts.googleapis.com/css?family=Arvo:400,700,400italic' rel='stylesheet' type='text/css'>\r\n",
       "<link href='http://fonts.googleapis.com/css?family=PT+Mono' rel='stylesheet' type='text/css'>\r\n",
       "<link href='http://fonts.googleapis.com/css?family=Shadows+Into+Light' rel='stylesheet' type='text/css'>\r\n",
       "<link href='http://fonts.googleapis.com/css?family=Philosopher:400,700,400italic,700italic' rel='stylesheet' type='text/css'>\r\n",
       "\r\n",
       "<style>\r\n",
       "\r\n",
       "@font-face {\r\n",
       "    font-family: \"Computer Modern\";\r\n",
       "    src: url('http://mirrors.ctan.org/fonts/cm-unicode/fonts/otf/cmunss.otf');\r\n",
       "}\r\n",
       "\r\n",
       "\r\n",
       "\r\n",
       "/* Formatting for header cells */\r\n",
       ".text_cell_render h1 {\r\n",
       "    font-family: 'Philosopher', sans-serif;\r\n",
       "    font-weight: 400;\r\n",
       "    font-size: 2.2em;\r\n",
       "    line-height: 100%;\r\n",
       "    color: rgb(0, 80, 120);\r\n",
       "    margin-bottom: 0.1em;\r\n",
       "    margin-top: 0.1em;\r\n",
       "    display: block;\r\n",
       "}\t\r\n",
       ".text_cell_render h2 {\r\n",
       "    font-family: 'Philosopher', serif;\r\n",
       "    font-weight: 400;\r\n",
       "    font-size: 1.9em;\r\n",
       "    line-height: 100%;\r\n",
       "    color: rgb(200,100,0);\r\n",
       "    margin-bottom: 0.1em;\r\n",
       "    margin-top: 0.1em;\r\n",
       "    display: block;\r\n",
       "}\t\r\n",
       "\r\n",
       ".text_cell_render h3 {\r\n",
       "    font-family: 'Philosopher', serif;\r\n",
       "    margin-top:12px;\r\n",
       "    margin-bottom: 3px;\r\n",
       "    font-style: italic;\r\n",
       "    color: rgb(94,127,192);\r\n",
       "}\r\n",
       "\r\n",
       ".text_cell_render h4 {\r\n",
       "    font-family: 'Philosopher', serif;\r\n",
       "}\r\n",
       "\r\n",
       ".text_cell_render h5 {\r\n",
       "    font-family: 'Alegreya Sans', sans-serif;\r\n",
       "    font-weight: 300;\r\n",
       "    font-size: 16pt;\r\n",
       "    color: grey;\r\n",
       "    font-style: italic;\r\n",
       "    margin-bottom: .1em;\r\n",
       "    margin-top: 0.1em;\r\n",
       "    display: block;\r\n",
       "}\r\n",
       "\r\n",
       ".text_cell_render h6 {\r\n",
       "    font-family: 'PT Mono', sans-serif;\r\n",
       "    font-weight: 300;\r\n",
       "    font-size: 10pt;\r\n",
       "    color: grey;\r\n",
       "    margin-bottom: 1px;\r\n",
       "    margin-top: 1px;\r\n",
       "}\r\n",
       "\r\n",
       ".CodeMirror{\r\n",
       "        font-family: \"PT Mono\";\r\n",
       "        font-size: 100%;\r\n",
       "}\r\n",
       "\r\n",
       "</style>\r\n",
       "\r\n"
      ],
      "text/plain": [
       "HTML{String}(\"<link href='http://fonts.googleapis.com/css?family=Alegreya+Sans:100,300,400,500,700,800,900,100italic,300italic,400italic,500italic,700italic,800italic,900italic' rel='stylesheet' type='text/css'>\\r\\n<link href='http://fonts.googleapis.com/css?family=Arvo:400,700,400italic' rel='stylesheet' type='text/css'>\\r\\n<link href='http://fonts.googleapis.com/css?family=PT+Mono' rel='stylesheet' type='text/css'>\\r\\n<link href='http://fonts.googleapis.com/css?family=Shadows+Into+Light' rel='stylesheet' type='text/css'>\\r\\n<link href='http://fonts.googleapis.com/css?family=Philosopher:400,700,400italic,700italic' rel='stylesheet' type='text/css'>\\r\\n\\r\\n<style>\\r\\n\\r\\n@font-face {\\r\\n    font-family: \\\"Computer Modern\\\";\\r\\n    src: url('http://mirrors.ctan.org/fonts/cm-unicode/fonts/otf/cmunss.otf');\\r\\n}\\r\\n\\r\\n\\r\\n\\r\\n/* Formatting for header cells */\\r\\n.text_cell_render h1 {\\r\\n    font-family: 'Philosopher', sans-serif;\\r\\n    font-weight: 400;\\r\\n    font-size: 2.2em;\\r\\n    line-height: 100%;\\r\\n    color: rgb(0, 80, 120);\\r\\n    margin-bottom: 0.1em;\\r\\n    margin-top: 0.1em;\\r\\n    display: block;\\r\\n}\\t\\r\\n.text_cell_render h2 {\\r\\n    font-family: 'Philosopher', serif;\\r\\n    font-weight: 400;\\r\\n    font-size: 1.9em;\\r\\n    line-height: 100%;\\r\\n    color: rgb(200,100,0);\\r\\n    margin-bottom: 0.1em;\\r\\n    margin-top: 0.1em;\\r\\n    display: block;\\r\\n}\\t\\r\\n\\r\\n.text_cell_render h3 {\\r\\n    font-family: 'Philosopher', serif;\\r\\n    margin-top:12px;\\r\\n    margin-bottom: 3px;\\r\\n    font-style: italic;\\r\\n    color: rgb(94,127,192);\\r\\n}\\r\\n\\r\\n.text_cell_render h4 {\\r\\n    font-family: 'Philosopher', serif;\\r\\n}\\r\\n\\r\\n.text_cell_render h5 {\\r\\n    font-family: 'Alegreya Sans', sans-serif;\\r\\n    font-weight: 300;\\r\\n    font-size: 16pt;\\r\\n    color: grey;\\r\\n    font-style: italic;\\r\\n    margin-bottom: .1em;\\r\\n    margin-top: 0.1em;\\r\\n    display: block;\\r\\n}\\r\\n\\r\\n.text_cell_render h6 {\\r\\n    font-family: 'PT Mono', sans-serif;\\r\\n    font-weight: 300;\\r\\n    font-size: 10pt;\\r\\n    color: grey;\\r\\n    margin-bottom: 1px;\\r\\n    margin-top: 1px;\\r\\n}\\r\\n\\r\\n.CodeMirror{\\r\\n        font-family: \\\"PT Mono\\\";\\r\\n        font-size: 100%;\\r\\n}\\r\\n\\r\\n</style>\\r\\n\\r\\n\")"
      ]
     },
     "execution_count": 1,
     "metadata": {},
     "output_type": "execute_result"
    }
   ],
   "source": [
    "# Setting up a custom stylesheet in IJulia\n",
    "file = open(\"style.css\") # A .css file in the same folder as this notebook file\n",
    "styl = read(file,String) # Read the file\n",
    "HTML(\"$styl\") # Output as HTML"
   ]
  },
  {
   "cell_type": "markdown",
   "metadata": {},
   "source": [
    "<h1> More on SIR models </h1>"
   ]
  },
  {
   "cell_type": "markdown",
   "metadata": {},
   "source": [
    "<h2>In this lecture</h2>\n",
    "\n",
    "- [Outcome](#Outcome)\n",
    "- [The threshold prediction of our SIR model](#The-threshold-prediction-of-our-SIR-model)\n",
    "- [The duration of infectiousness implied by our model](#The-duration-of-infectiousness-implied-by-our-model)\n",
    "- [A phase plane: plots of $I$ vs $S$](#A-phase-plane:-plots-of-$I$-vs-$S$)\n",
    "- [Putting it all together: estimates of $\\gamma$ and $\\lambda$](#Putting-it-all-together:-estimates-of-$\\gamma$-and-$\\lambda$)\n"
   ]
  },
  {
   "cell_type": "markdown",
   "metadata": {},
   "source": [
    "[Back to the top](#In-this-lecture)"
   ]
  },
  {
   "cell_type": "markdown",
   "metadata": {},
   "source": [
    "<h2>Outcome</h2>\n",
    "\n",
    "After this lecture, you will be able to\n",
    "- Explain the threshold phenomenon in SIR models\n",
    "- Use three-week duration of infectiousness to estimate $\\gamma$ in our EVD model\n",
    "- Plot the course of an epidemic in the $SI$ phase plane\n",
    "- Use country populations plus the threshold phenomenon to estimate $\\lambda$ in our EVD model"
   ]
  },
  {
   "cell_type": "markdown",
   "metadata": {},
   "source": [
    "[Back to the top](#In-this-lecture)"
   ]
  },
  {
   "cell_type": "markdown",
   "metadata": {},
   "source": [
    "<h2>The threshold prediction of our SIR model</h2>\n",
    "\n",
    "Recall the three equations of our SIR model:\n",
    "\n",
    "1 ...     $ S(t_{i+1}) = S(t_i) - \\lambda S(t_i)I(t_i)\\,dt$\n",
    "\n",
    "2 ...     $I(t_{i+1}) = I(t_i) + \\lambda S(t_i)I(t_i)\\,dt - \\gamma I(t_i)\\,dt$\n",
    "\n",
    "3 ...     $R(t_{i+1}) = R(t_i) + \\gamma I(t_i)\\,dt$\n",
    "\n",
    "And recall that $S(t)$ is a symbol for the size of the susceptible population (not yet infected) at time $t$, likewise $I(t)$ represents the infecteds, and $R(t)$ the removeds.\n",
    "\n",
    "The parameter $\\lambda$ models the likelihood that when an infected person meets a susceptible person, the susceptible person becomes infected.\n",
    "\n",
    "The parameter $\\gamma$ models the rate at which infected people become removed.\n",
    "\n",
    "Our task in this lecture is to propose estimates for the parameter values. To do so, we will use the *threshold phenomenon* of our model: for given values of $\\lambda$ and $\\gamma$, there is no epidemic unless $S(0)$ is big enough. \n",
    "\n",
    "The reasoning is simple: for an epidemic to happen, the infection must spread. But that means more people must be getting infected than are recovering. That is, the gain minus the loss of infecteds must be positive. In symbols, we must have\n",
    "\n",
    "$\\lambda SI - \\gamma I > 0$\n",
    "\n",
    "This can only happen if $\\lambda S - \\gamma > 0$. In other words, the number of infecteds can increase only when $S > \\gamma/\\lambda$.\n",
    "\n",
    "This implies that if the initial population is below the threshold, indicated by $S(0) < \\gamma/\\lambda$, then the number of infecteds, even if initially large, will decrease. That is, in a small enough population, any initial infection simply dies out. On the other hand, if $S(0)>\\gamma/\\lambda$, the number of infecteds will increase, at least for a while.\n",
    "\n",
    "It is of course obvious that for our model to apply to the West African epidemic, our parameter values must be such that the susceptible population at the beginning of 2014 was larger than $\\gamma/\\lambda$. \n",
    "\n"
   ]
  },
  {
   "cell_type": "markdown",
   "metadata": {},
   "source": [
    "[Back to the top](#In-this-lecture)"
   ]
  },
  {
   "cell_type": "markdown",
   "metadata": {},
   "source": [
    "<h2>The duration of infectiousness implied by our model</h2>\n",
    "\n",
    "We note that the loss rate of infecteds is given by $\\gamma I$. This means that every day, the fraction of infected people becoming removed is $\\gamma$.\n",
    "\n",
    "For example, consider $\\gamma = 1/10$. Then every day a tenth of ill people recover. If we assume that every person is ill for 10 days, and as many people are getting ill as recovering, then a tenth of all ill people recover every day.\n",
    "\n",
    "In other words, it makes sense to think of the duration of one person's illness as $1/\\gamma$. Recall that the duration of EVD is approximately three weeks. This means we may estimate that $1/\\gamma\\approx 21$. We will therefore set $\\gamma=0.05$ as a reasonable estimate.\n",
    "\n",
    "It is crude to think that they are equally infectious every day of these three weeks, but that is what we are doing. Our assumption was that the only difference between people is whether they are susceptible, infected or removed.\n",
    "\n",
    "Likewise, it is crude to think that all infected people are ill in the same way and for the same duration, but again this is what we do. In fact, without a lot more data (especially data on duration of illness) and a considerably more complicated model, this is all we can do. "
   ]
  },
  {
   "cell_type": "markdown",
   "metadata": {},
   "source": [
    "[Back to the top](#In-this-lecture)"
   ]
  },
  {
   "cell_type": "markdown",
   "metadata": {},
   "source": [
    "<h2>A phase plane: plots of $I$ vs $S$</h2>\n",
    "\n",
    "A good way to illustrate the threshold phenomenon is via plots of $I$ versus $S$. That is, we run the model as we did in the previous lecture, but now we plot the phase diagram. (Well, part of it---the full phase diagram gives all three dependent variables.)\n",
    "\n",
    "We re-use the code from the previous lecture (just cut and paste):\n"
   ]
  },
  {
   "cell_type": "code",
   "execution_count": 2,
   "metadata": {},
   "outputs": [
    {
     "data": {
      "text/plain": [
       "updateSIR (generic function with 1 method)"
      ]
     },
     "execution_count": 2,
     "metadata": {},
     "output_type": "execute_result"
    }
   ],
   "source": [
    "function updateSIR(popnvector)       # exactly the same function as before\n",
    "    susceptibles = popnvector[1];\n",
    "    infecteds    = popnvector[2]; \n",
    "    removeds     = popnvector[3];\n",
    "    newS = susceptibles - lambda*susceptibles*infecteds*dt\n",
    "    newI = infecteds + lambda*susceptibles*infecteds*dt - gam*infecteds*dt  \n",
    "    newR = removeds + gam*infecteds*dt\n",
    "    return [newS newI newR] \n",
    "end"
   ]
  },
  {
   "cell_type": "code",
   "execution_count": 3,
   "metadata": {},
   "outputs": [],
   "source": [
    "# likewise, a run of the model uses exactly the same code ... but we'll play a bit with the values that determine a run\n",
    "\n",
    "gam = 1/20.         # recovery rate parameter  (ditto)\n",
    "lambda = 0.0005     # infection rate parameter\n",
    "dt = 0.5            # length of time step in days\n",
    "tfinal = 610.;      # respecting community values: lowercase only in the names \n",
    "s0 = 2000.          # initial susceptibles, note that we use the  type Float64 from the start\n",
    "i0 = 4.             # initial infecteds; set this to 1. to  mimic an epidemic with an index case\n",
    "r0 = 0.             # not always the case, of course\n",
    "\n",
    "# initialise \n",
    "nsteps = round(Int64, tfinal/dt)    # note the use of round() with type Int64 to ensure that nsteps is an integer\n",
    "resultvals = Array{Float64}(undef, nsteps+1, 3)  #initialise array of type Float64 to hold results\n",
    "timevec = Array{Float64}(undef, nsteps+1)        # ... ditto for time values\n",
    "resultvals[1,:] = [s0, i0, r0]  # ... and assign them to the first row\n",
    "timevec[1] = 0.                 # also Float64, of course.\n",
    "\n",
    "for step  = 1:nsteps\n",
    "    resultvals[step+1, :] = updateSIR(resultvals[step, :])  # NB! pay careful attention to the rows being used\n",
    "    timevec[step+1] = timevec[step] + dt\n",
    "end"
   ]
  },
  {
   "cell_type": "code",
   "execution_count": 4,
   "metadata": {},
   "outputs": [
    {
     "data": {
      "text/plain": [
       "Plots.GRBackend()"
      ]
     },
     "execution_count": 4,
     "metadata": {},
     "output_type": "execute_result"
    }
   ],
   "source": [
    "using Plots  # and of course we need to load Plots and choose to use the GR backend\n",
    "gr()\n"
   ]
  },
  {
   "cell_type": "code",
   "execution_count": 5,
   "metadata": {},
   "outputs": [
    {
     "data": {
      "image/svg+xml": [
       "<?xml version=\"1.0\" encoding=\"utf-8\"?>\n",
       "<svg xmlns=\"http://www.w3.org/2000/svg\" xmlns:xlink=\"http://www.w3.org/1999/xlink\" width=\"600\" height=\"400\" viewBox=\"0 0 2400 1600\">\n",
       "<defs>\n",
       "  <clipPath id=\"clip680\">\n",
       "    <rect x=\"0\" y=\"0\" width=\"2400\" height=\"1600\"/>\n",
       "  </clipPath>\n",
       "</defs>\n",
       "<path clip-path=\"url(#clip680)\" d=\"\n",
       "M0 1600 L2400 1600 L2400 0 L0 0  Z\n",
       "  \" fill=\"#ffffff\" fill-rule=\"evenodd\" fill-opacity=\"1\"/>\n",
       "<defs>\n",
       "  <clipPath id=\"clip681\">\n",
       "    <rect x=\"480\" y=\"0\" width=\"1681\" height=\"1600\"/>\n",
       "  </clipPath>\n",
       "</defs>\n",
       "<path clip-path=\"url(#clip680)\" d=\"\n",
       "M251.88 1423.18 L2352.76 1423.18 L2352.76 123.472 L251.88 123.472  Z\n",
       "  \" fill=\"#ffffff\" fill-rule=\"evenodd\" fill-opacity=\"1\"/>\n",
       "<defs>\n",
       "  <clipPath id=\"clip682\">\n",
       "    <rect x=\"251\" y=\"123\" width=\"2102\" height=\"1301\"/>\n",
       "  </clipPath>\n",
       "</defs>\n",
       "<polyline clip-path=\"url(#clip682)\" style=\"stroke:#000000; stroke-width:2; stroke-opacity:0.1; fill:none\" points=\"\n",
       "  311.339,1423.18 311.339,123.472 \n",
       "  \"/>\n",
       "<polyline clip-path=\"url(#clip682)\" style=\"stroke:#000000; stroke-width:2; stroke-opacity:0.1; fill:none\" points=\"\n",
       "  806.828,1423.18 806.828,123.472 \n",
       "  \"/>\n",
       "<polyline clip-path=\"url(#clip682)\" style=\"stroke:#000000; stroke-width:2; stroke-opacity:0.1; fill:none\" points=\"\n",
       "  1302.32,1423.18 1302.32,123.472 \n",
       "  \"/>\n",
       "<polyline clip-path=\"url(#clip682)\" style=\"stroke:#000000; stroke-width:2; stroke-opacity:0.1; fill:none\" points=\"\n",
       "  1797.81,1423.18 1797.81,123.472 \n",
       "  \"/>\n",
       "<polyline clip-path=\"url(#clip682)\" style=\"stroke:#000000; stroke-width:2; stroke-opacity:0.1; fill:none\" points=\"\n",
       "  2293.3,1423.18 2293.3,123.472 \n",
       "  \"/>\n",
       "<polyline clip-path=\"url(#clip682)\" style=\"stroke:#000000; stroke-width:2; stroke-opacity:0.1; fill:none\" points=\"\n",
       "  251.88,1386.4 2352.76,1386.4 \n",
       "  \"/>\n",
       "<polyline clip-path=\"url(#clip682)\" style=\"stroke:#000000; stroke-width:2; stroke-opacity:0.1; fill:none\" points=\"\n",
       "  251.88,1015.45 2352.76,1015.45 \n",
       "  \"/>\n",
       "<polyline clip-path=\"url(#clip682)\" style=\"stroke:#000000; stroke-width:2; stroke-opacity:0.1; fill:none\" points=\"\n",
       "  251.88,644.499 2352.76,644.499 \n",
       "  \"/>\n",
       "<polyline clip-path=\"url(#clip682)\" style=\"stroke:#000000; stroke-width:2; stroke-opacity:0.1; fill:none\" points=\"\n",
       "  251.88,273.55 2352.76,273.55 \n",
       "  \"/>\n",
       "<polyline clip-path=\"url(#clip680)\" style=\"stroke:#000000; stroke-width:4; stroke-opacity:1; fill:none\" points=\"\n",
       "  251.88,1423.18 2352.76,1423.18 \n",
       "  \"/>\n",
       "<polyline clip-path=\"url(#clip680)\" style=\"stroke:#000000; stroke-width:4; stroke-opacity:1; fill:none\" points=\"\n",
       "  251.88,1423.18 251.88,123.472 \n",
       "  \"/>\n",
       "<polyline clip-path=\"url(#clip680)\" style=\"stroke:#000000; stroke-width:4; stroke-opacity:1; fill:none\" points=\"\n",
       "  311.339,1423.18 311.339,1407.58 \n",
       "  \"/>\n",
       "<polyline clip-path=\"url(#clip680)\" style=\"stroke:#000000; stroke-width:4; stroke-opacity:1; fill:none\" points=\"\n",
       "  806.828,1423.18 806.828,1407.58 \n",
       "  \"/>\n",
       "<polyline clip-path=\"url(#clip680)\" style=\"stroke:#000000; stroke-width:4; stroke-opacity:1; fill:none\" points=\"\n",
       "  1302.32,1423.18 1302.32,1407.58 \n",
       "  \"/>\n",
       "<polyline clip-path=\"url(#clip680)\" style=\"stroke:#000000; stroke-width:4; stroke-opacity:1; fill:none\" points=\"\n",
       "  1797.81,1423.18 1797.81,1407.58 \n",
       "  \"/>\n",
       "<polyline clip-path=\"url(#clip680)\" style=\"stroke:#000000; stroke-width:4; stroke-opacity:1; fill:none\" points=\"\n",
       "  2293.3,1423.18 2293.3,1407.58 \n",
       "  \"/>\n",
       "<polyline clip-path=\"url(#clip680)\" style=\"stroke:#000000; stroke-width:4; stroke-opacity:1; fill:none\" points=\"\n",
       "  251.88,1386.4 277.09,1386.4 \n",
       "  \"/>\n",
       "<polyline clip-path=\"url(#clip680)\" style=\"stroke:#000000; stroke-width:4; stroke-opacity:1; fill:none\" points=\"\n",
       "  251.88,1015.45 277.09,1015.45 \n",
       "  \"/>\n",
       "<polyline clip-path=\"url(#clip680)\" style=\"stroke:#000000; stroke-width:4; stroke-opacity:1; fill:none\" points=\"\n",
       "  251.88,644.499 277.09,644.499 \n",
       "  \"/>\n",
       "<polyline clip-path=\"url(#clip680)\" style=\"stroke:#000000; stroke-width:4; stroke-opacity:1; fill:none\" points=\"\n",
       "  251.88,273.55 277.09,273.55 \n",
       "  \"/>\n",
       "<path clip-path=\"url(#clip680)\" d=\"M 0 0 M311.339 1445.17 Q307.728 1445.17 305.899 1448.74 Q304.093 1452.28 304.093 1459.41 Q304.093 1466.51 305.899 1470.08 Q307.728 1473.62 311.339 1473.62 Q314.973 1473.62 316.779 1470.08 Q318.607 1466.51 318.607 1459.41 Q318.607 1452.28 316.779 1448.74 Q314.973 1445.17 311.339 1445.17 M311.339 1441.47 Q317.149 1441.47 320.204 1446.07 Q323.283 1450.66 323.283 1459.41 Q323.283 1468.13 320.204 1472.74 Q317.149 1477.32 311.339 1477.32 Q305.529 1477.32 302.45 1472.74 Q299.394 1468.13 299.394 1459.41 Q299.394 1450.66 302.45 1446.07 Q305.529 1441.47 311.339 1441.47 Z\" fill=\"#000000\" fill-rule=\"evenodd\" fill-opacity=\"1\" /><path clip-path=\"url(#clip680)\" d=\"M 0 0 M770.092 1442.09 L788.449 1442.09 L788.449 1446.03 L774.375 1446.03 L774.375 1454.5 Q775.393 1454.15 776.412 1453.99 Q777.43 1453.8 778.449 1453.8 Q784.236 1453.8 787.615 1456.98 Q790.995 1460.15 790.995 1465.56 Q790.995 1471.14 787.523 1474.24 Q784.051 1477.32 777.731 1477.32 Q775.555 1477.32 773.287 1476.95 Q771.041 1476.58 768.634 1475.84 L768.634 1471.14 Q770.717 1472.28 772.94 1472.83 Q775.162 1473.39 777.639 1473.39 Q781.643 1473.39 783.981 1471.28 Q786.319 1469.18 786.319 1465.56 Q786.319 1461.95 783.981 1459.85 Q781.643 1457.74 777.639 1457.74 Q775.764 1457.74 773.889 1458.16 Q772.037 1458.57 770.092 1459.45 L770.092 1442.09 Z\" fill=\"#000000\" fill-rule=\"evenodd\" fill-opacity=\"1\" /><path clip-path=\"url(#clip680)\" d=\"M 0 0 M806.064 1445.17 Q802.453 1445.17 800.625 1448.74 Q798.819 1452.28 798.819 1459.41 Q798.819 1466.51 800.625 1470.08 Q802.453 1473.62 806.064 1473.62 Q809.699 1473.62 811.504 1470.08 Q813.333 1466.51 813.333 1459.41 Q813.333 1452.28 811.504 1448.74 Q809.699 1445.17 806.064 1445.17 M806.064 1441.47 Q811.875 1441.47 814.93 1446.07 Q818.009 1450.66 818.009 1459.41 Q818.009 1468.13 814.93 1472.74 Q811.875 1477.32 806.064 1477.32 Q800.254 1477.32 797.176 1472.74 Q794.12 1468.13 794.12 1459.41 Q794.12 1450.66 797.176 1446.07 Q800.254 1441.47 806.064 1441.47 Z\" fill=\"#000000\" fill-rule=\"evenodd\" fill-opacity=\"1\" /><path clip-path=\"url(#clip680)\" d=\"M 0 0 M833.078 1445.17 Q829.467 1445.17 827.638 1448.74 Q825.833 1452.28 825.833 1459.41 Q825.833 1466.51 827.638 1470.08 Q829.467 1473.62 833.078 1473.62 Q836.712 1473.62 838.518 1470.08 Q840.347 1466.51 840.347 1459.41 Q840.347 1452.28 838.518 1448.74 Q836.712 1445.17 833.078 1445.17 M833.078 1441.47 Q838.888 1441.47 841.944 1446.07 Q845.023 1450.66 845.023 1459.41 Q845.023 1468.13 841.944 1472.74 Q838.888 1477.32 833.078 1477.32 Q827.268 1477.32 824.189 1472.74 Q821.134 1468.13 821.134 1459.41 Q821.134 1450.66 824.189 1446.07 Q827.268 1441.47 833.078 1441.47 Z\" fill=\"#000000\" fill-rule=\"evenodd\" fill-opacity=\"1\" /><path clip-path=\"url(#clip680)\" d=\"M 0 0 M1252.18 1472.72 L1259.82 1472.72 L1259.82 1446.35 L1251.51 1448.02 L1251.51 1443.76 L1259.77 1442.09 L1264.45 1442.09 L1264.45 1472.72 L1272.09 1472.72 L1272.09 1476.65 L1252.18 1476.65 L1252.18 1472.72 Z\" fill=\"#000000\" fill-rule=\"evenodd\" fill-opacity=\"1\" /><path clip-path=\"url(#clip680)\" d=\"M 0 0 M1287.16 1445.17 Q1283.54 1445.17 1281.72 1448.74 Q1279.91 1452.28 1279.91 1459.41 Q1279.91 1466.51 1281.72 1470.08 Q1283.54 1473.62 1287.16 1473.62 Q1290.79 1473.62 1292.6 1470.08 Q1294.42 1466.51 1294.42 1459.41 Q1294.42 1452.28 1292.6 1448.74 Q1290.79 1445.17 1287.16 1445.17 M1287.16 1441.47 Q1292.97 1441.47 1296.02 1446.07 Q1299.1 1450.66 1299.1 1459.41 Q1299.1 1468.13 1296.02 1472.74 Q1292.97 1477.32 1287.16 1477.32 Q1281.35 1477.32 1278.27 1472.74 Q1275.21 1468.13 1275.21 1459.41 Q1275.21 1450.66 1278.27 1446.07 Q1281.35 1441.47 1287.16 1441.47 Z\" fill=\"#000000\" fill-rule=\"evenodd\" fill-opacity=\"1\" /><path clip-path=\"url(#clip680)\" d=\"M 0 0 M1314.17 1445.17 Q1310.56 1445.17 1308.73 1448.74 Q1306.92 1452.28 1306.92 1459.41 Q1306.92 1466.51 1308.73 1470.08 Q1310.56 1473.62 1314.17 1473.62 Q1317.8 1473.62 1319.61 1470.08 Q1321.44 1466.51 1321.44 1459.41 Q1321.44 1452.28 1319.61 1448.74 Q1317.8 1445.17 1314.17 1445.17 M1314.17 1441.47 Q1319.98 1441.47 1323.04 1446.07 Q1326.11 1450.66 1326.11 1459.41 Q1326.11 1468.13 1323.04 1472.74 Q1319.98 1477.32 1314.17 1477.32 Q1308.36 1477.32 1305.28 1472.74 Q1302.23 1468.13 1302.23 1459.41 Q1302.23 1450.66 1305.28 1446.07 Q1308.36 1441.47 1314.17 1441.47 Z\" fill=\"#000000\" fill-rule=\"evenodd\" fill-opacity=\"1\" /><path clip-path=\"url(#clip680)\" d=\"M 0 0 M1341.18 1445.17 Q1337.57 1445.17 1335.74 1448.74 Q1333.94 1452.28 1333.94 1459.41 Q1333.94 1466.51 1335.74 1470.08 Q1337.57 1473.62 1341.18 1473.62 Q1344.82 1473.62 1346.62 1470.08 Q1348.45 1466.51 1348.45 1459.41 Q1348.45 1452.28 1346.62 1448.74 Q1344.82 1445.17 1341.18 1445.17 M1341.18 1441.47 Q1346.99 1441.47 1350.05 1446.07 Q1353.13 1450.66 1353.13 1459.41 Q1353.13 1468.13 1350.05 1472.74 Q1346.99 1477.32 1341.18 1477.32 Q1335.37 1477.32 1332.29 1472.74 Q1329.24 1468.13 1329.24 1459.41 Q1329.24 1450.66 1332.29 1446.07 Q1335.37 1441.47 1341.18 1441.47 Z\" fill=\"#000000\" fill-rule=\"evenodd\" fill-opacity=\"1\" /><path clip-path=\"url(#clip680)\" d=\"M 0 0 M1748.17 1472.72 L1755.81 1472.72 L1755.81 1446.35 L1747.5 1448.02 L1747.5 1443.76 L1755.76 1442.09 L1760.44 1442.09 L1760.44 1472.72 L1768.07 1472.72 L1768.07 1476.65 L1748.17 1476.65 L1748.17 1472.72 Z\" fill=\"#000000\" fill-rule=\"evenodd\" fill-opacity=\"1\" /><path clip-path=\"url(#clip680)\" d=\"M 0 0 M1773.19 1442.09 L1791.55 1442.09 L1791.55 1446.03 L1777.47 1446.03 L1777.47 1454.5 Q1778.49 1454.15 1779.51 1453.99 Q1780.53 1453.8 1781.55 1453.8 Q1787.33 1453.8 1790.71 1456.98 Q1794.09 1460.15 1794.09 1465.56 Q1794.09 1471.14 1790.62 1474.24 Q1787.15 1477.32 1780.83 1477.32 Q1778.65 1477.32 1776.38 1476.95 Q1774.14 1476.58 1771.73 1475.84 L1771.73 1471.14 Q1773.81 1472.28 1776.04 1472.83 Q1778.26 1473.39 1780.74 1473.39 Q1784.74 1473.39 1787.08 1471.28 Q1789.42 1469.18 1789.42 1465.56 Q1789.42 1461.95 1787.08 1459.85 Q1784.74 1457.74 1780.74 1457.74 Q1778.86 1457.74 1776.99 1458.16 Q1775.13 1458.57 1773.19 1459.45 L1773.19 1442.09 Z\" fill=\"#000000\" fill-rule=\"evenodd\" fill-opacity=\"1\" /><path clip-path=\"url(#clip680)\" d=\"M 0 0 M1809.16 1445.17 Q1805.55 1445.17 1803.72 1448.74 Q1801.92 1452.28 1801.92 1459.41 Q1801.92 1466.51 1803.72 1470.08 Q1805.55 1473.62 1809.16 1473.62 Q1812.8 1473.62 1814.6 1470.08 Q1816.43 1466.51 1816.43 1459.41 Q1816.43 1452.28 1814.6 1448.74 Q1812.8 1445.17 1809.16 1445.17 M1809.16 1441.47 Q1814.97 1441.47 1818.03 1446.07 Q1821.11 1450.66 1821.11 1459.41 Q1821.11 1468.13 1818.03 1472.74 Q1814.97 1477.32 1809.16 1477.32 Q1803.35 1477.32 1800.27 1472.74 Q1797.22 1468.13 1797.22 1459.41 Q1797.22 1450.66 1800.27 1446.07 Q1803.35 1441.47 1809.16 1441.47 Z\" fill=\"#000000\" fill-rule=\"evenodd\" fill-opacity=\"1\" /><path clip-path=\"url(#clip680)\" d=\"M 0 0 M1836.18 1445.17 Q1832.56 1445.17 1830.74 1448.74 Q1828.93 1452.28 1828.93 1459.41 Q1828.93 1466.51 1830.74 1470.08 Q1832.56 1473.62 1836.18 1473.62 Q1839.81 1473.62 1841.62 1470.08 Q1843.44 1466.51 1843.44 1459.41 Q1843.44 1452.28 1841.62 1448.74 Q1839.81 1445.17 1836.18 1445.17 M1836.18 1441.47 Q1841.99 1441.47 1845.04 1446.07 Q1848.12 1450.66 1848.12 1459.41 Q1848.12 1468.13 1845.04 1472.74 Q1841.99 1477.32 1836.18 1477.32 Q1830.37 1477.32 1827.29 1472.74 Q1824.23 1468.13 1824.23 1459.41 Q1824.23 1450.66 1827.29 1446.07 Q1830.37 1441.47 1836.18 1441.47 Z\" fill=\"#000000\" fill-rule=\"evenodd\" fill-opacity=\"1\" /><path clip-path=\"url(#clip680)\" d=\"M 0 0 M2247.43 1472.72 L2263.75 1472.72 L2263.75 1476.65 L2241.8 1476.65 L2241.8 1472.72 Q2244.47 1469.96 2249.05 1465.33 Q2253.66 1460.68 2254.84 1459.34 Q2257.08 1456.81 2257.96 1455.08 Q2258.86 1453.32 2258.86 1451.63 Q2258.86 1448.87 2256.92 1447.14 Q2255 1445.4 2251.9 1445.4 Q2249.7 1445.4 2247.24 1446.17 Q2244.81 1446.93 2242.04 1448.48 L2242.04 1443.76 Q2244.86 1442.62 2247.31 1442.05 Q2249.77 1441.47 2251.8 1441.47 Q2257.17 1441.47 2260.37 1444.15 Q2263.56 1446.84 2263.56 1451.33 Q2263.56 1453.46 2262.75 1455.38 Q2261.97 1457.28 2259.86 1459.87 Q2259.28 1460.54 2256.18 1463.76 Q2253.08 1466.95 2247.43 1472.72 Z\" fill=\"#000000\" fill-rule=\"evenodd\" fill-opacity=\"1\" /><path clip-path=\"url(#clip680)\" d=\"M 0 0 M2278.82 1445.17 Q2275.21 1445.17 2273.38 1448.74 Q2271.57 1452.28 2271.57 1459.41 Q2271.57 1466.51 2273.38 1470.08 Q2275.21 1473.62 2278.82 1473.62 Q2282.45 1473.62 2284.26 1470.08 Q2286.09 1466.51 2286.09 1459.41 Q2286.09 1452.28 2284.26 1448.74 Q2282.45 1445.17 2278.82 1445.17 M2278.82 1441.47 Q2284.63 1441.47 2287.68 1446.07 Q2290.76 1450.66 2290.76 1459.41 Q2290.76 1468.13 2287.68 1472.74 Q2284.63 1477.32 2278.82 1477.32 Q2273.01 1477.32 2269.93 1472.74 Q2266.87 1468.13 2266.87 1459.41 Q2266.87 1450.66 2269.93 1446.07 Q2273.01 1441.47 2278.82 1441.47 Z\" fill=\"#000000\" fill-rule=\"evenodd\" fill-opacity=\"1\" /><path clip-path=\"url(#clip680)\" d=\"M 0 0 M2305.83 1445.17 Q2302.22 1445.17 2300.39 1448.74 Q2298.59 1452.28 2298.59 1459.41 Q2298.59 1466.51 2300.39 1470.08 Q2302.22 1473.62 2305.83 1473.62 Q2309.47 1473.62 2311.27 1470.08 Q2313.1 1466.51 2313.1 1459.41 Q2313.1 1452.28 2311.27 1448.74 Q2309.47 1445.17 2305.83 1445.17 M2305.83 1441.47 Q2311.64 1441.47 2314.7 1446.07 Q2317.78 1450.66 2317.78 1459.41 Q2317.78 1468.13 2314.7 1472.74 Q2311.64 1477.32 2305.83 1477.32 Q2300.02 1477.32 2296.94 1472.74 Q2293.89 1468.13 2293.89 1459.41 Q2293.89 1450.66 2296.94 1446.07 Q2300.02 1441.47 2305.83 1441.47 Z\" fill=\"#000000\" fill-rule=\"evenodd\" fill-opacity=\"1\" /><path clip-path=\"url(#clip680)\" d=\"M 0 0 M2332.85 1445.17 Q2329.23 1445.17 2327.41 1448.74 Q2325.6 1452.28 2325.6 1459.41 Q2325.6 1466.51 2327.41 1470.08 Q2329.23 1473.62 2332.85 1473.62 Q2336.48 1473.62 2338.29 1470.08 Q2340.11 1466.51 2340.11 1459.41 Q2340.11 1452.28 2338.29 1448.74 Q2336.48 1445.17 2332.85 1445.17 M2332.85 1441.47 Q2338.66 1441.47 2341.71 1446.07 Q2344.79 1450.66 2344.79 1459.41 Q2344.79 1468.13 2341.71 1472.74 Q2338.66 1477.32 2332.85 1477.32 Q2327.04 1477.32 2323.96 1472.74 Q2320.9 1468.13 2320.9 1459.41 Q2320.9 1450.66 2323.96 1446.07 Q2327.04 1441.47 2332.85 1441.47 Z\" fill=\"#000000\" fill-rule=\"evenodd\" fill-opacity=\"1\" /><path clip-path=\"url(#clip680)\" d=\"M 0 0 M215.936 1372.19 Q212.325 1372.19 210.496 1375.76 Q208.69 1379.3 208.69 1386.43 Q208.69 1393.54 210.496 1397.1 Q212.325 1400.64 215.936 1400.64 Q219.57 1400.64 221.375 1397.1 Q223.204 1393.54 223.204 1386.43 Q223.204 1379.3 221.375 1375.76 Q219.57 1372.19 215.936 1372.19 M215.936 1368.49 Q221.746 1368.49 224.801 1373.1 Q227.88 1377.68 227.88 1386.43 Q227.88 1395.16 224.801 1399.76 Q221.746 1404.35 215.936 1404.35 Q210.125 1404.35 207.047 1399.76 Q203.991 1395.16 203.991 1386.43 Q203.991 1377.68 207.047 1373.1 Q210.125 1368.49 215.936 1368.49 Z\" fill=\"#000000\" fill-rule=\"evenodd\" fill-opacity=\"1\" /><path clip-path=\"url(#clip680)\" d=\"M 0 0 M152.95 998.167 L171.306 998.167 L171.306 1002.1 L157.232 1002.1 L157.232 1010.57 Q158.251 1010.23 159.269 1010.07 Q160.288 1009.88 161.306 1009.88 Q167.093 1009.88 170.473 1013.05 Q173.852 1016.22 173.852 1021.64 Q173.852 1027.22 170.38 1030.32 Q166.908 1033.4 160.589 1033.4 Q158.413 1033.4 156.144 1033.03 Q153.899 1032.66 151.492 1031.92 L151.492 1027.22 Q153.575 1028.35 155.797 1028.91 Q158.019 1029.46 160.496 1029.46 Q164.501 1029.46 166.839 1027.36 Q169.177 1025.25 169.177 1021.64 Q169.177 1018.03 166.839 1015.92 Q164.501 1013.82 160.496 1013.82 Q158.621 1013.82 156.746 1014.23 Q154.894 1014.65 152.95 1015.53 L152.95 998.167 Z\" fill=\"#000000\" fill-rule=\"evenodd\" fill-opacity=\"1\" /><path clip-path=\"url(#clip680)\" d=\"M 0 0 M188.922 1001.25 Q185.311 1001.25 183.482 1004.81 Q181.677 1008.35 181.677 1015.48 Q181.677 1022.59 183.482 1026.15 Q185.311 1029.69 188.922 1029.69 Q192.556 1029.69 194.362 1026.15 Q196.19 1022.59 196.19 1015.48 Q196.19 1008.35 194.362 1004.81 Q192.556 1001.25 188.922 1001.25 M188.922 997.542 Q194.732 997.542 197.788 1002.15 Q200.866 1006.73 200.866 1015.48 Q200.866 1024.21 197.788 1028.82 Q194.732 1033.4 188.922 1033.4 Q183.112 1033.4 180.033 1028.82 Q176.977 1024.21 176.977 1015.48 Q176.977 1006.73 180.033 1002.15 Q183.112 997.542 188.922 997.542 Z\" fill=\"#000000\" fill-rule=\"evenodd\" fill-opacity=\"1\" /><path clip-path=\"url(#clip680)\" d=\"M 0 0 M215.936 1001.25 Q212.325 1001.25 210.496 1004.81 Q208.69 1008.35 208.69 1015.48 Q208.69 1022.59 210.496 1026.15 Q212.325 1029.69 215.936 1029.69 Q219.57 1029.69 221.375 1026.15 Q223.204 1022.59 223.204 1015.48 Q223.204 1008.35 221.375 1004.81 Q219.57 1001.25 215.936 1001.25 M215.936 997.542 Q221.746 997.542 224.801 1002.15 Q227.88 1006.73 227.88 1015.48 Q227.88 1024.21 224.801 1028.82 Q221.746 1033.4 215.936 1033.4 Q210.125 1033.4 207.047 1028.82 Q203.991 1024.21 203.991 1015.48 Q203.991 1006.73 207.047 1002.15 Q210.125 997.542 215.936 997.542 Z\" fill=\"#000000\" fill-rule=\"evenodd\" fill-opacity=\"1\" /><path clip-path=\"url(#clip680)\" d=\"M 0 0 M126.931 657.844 L134.57 657.844 L134.57 631.478 L126.26 633.145 L126.26 628.886 L134.524 627.219 L139.2 627.219 L139.2 657.844 L146.839 657.844 L146.839 661.779 L126.931 661.779 L126.931 657.844 Z\" fill=\"#000000\" fill-rule=\"evenodd\" fill-opacity=\"1\" /><path clip-path=\"url(#clip680)\" d=\"M 0 0 M161.908 630.298 Q158.297 630.298 156.468 633.862 Q154.663 637.404 154.663 644.534 Q154.663 651.64 156.468 655.205 Q158.297 658.746 161.908 658.746 Q165.542 658.746 167.348 655.205 Q169.177 651.64 169.177 644.534 Q169.177 637.404 167.348 633.862 Q165.542 630.298 161.908 630.298 M161.908 626.594 Q167.718 626.594 170.774 631.2 Q173.852 635.784 173.852 644.534 Q173.852 653.26 170.774 657.867 Q167.718 662.45 161.908 662.45 Q156.098 662.45 153.019 657.867 Q149.964 653.26 149.964 644.534 Q149.964 635.784 153.019 631.2 Q156.098 626.594 161.908 626.594 Z\" fill=\"#000000\" fill-rule=\"evenodd\" fill-opacity=\"1\" /><path clip-path=\"url(#clip680)\" d=\"M 0 0 M188.922 630.298 Q185.311 630.298 183.482 633.862 Q181.677 637.404 181.677 644.534 Q181.677 651.64 183.482 655.205 Q185.311 658.746 188.922 658.746 Q192.556 658.746 194.362 655.205 Q196.19 651.64 196.19 644.534 Q196.19 637.404 194.362 633.862 Q192.556 630.298 188.922 630.298 M188.922 626.594 Q194.732 626.594 197.788 631.2 Q200.866 635.784 200.866 644.534 Q200.866 653.26 197.788 657.867 Q194.732 662.45 188.922 662.45 Q183.112 662.45 180.033 657.867 Q176.977 653.26 176.977 644.534 Q176.977 635.784 180.033 631.2 Q183.112 626.594 188.922 626.594 Z\" fill=\"#000000\" fill-rule=\"evenodd\" fill-opacity=\"1\" /><path clip-path=\"url(#clip680)\" d=\"M 0 0 M215.936 630.298 Q212.325 630.298 210.496 633.862 Q208.69 637.404 208.69 644.534 Q208.69 651.64 210.496 655.205 Q212.325 658.746 215.936 658.746 Q219.57 658.746 221.375 655.205 Q223.204 651.64 223.204 644.534 Q223.204 637.404 221.375 633.862 Q219.57 630.298 215.936 630.298 M215.936 626.594 Q221.746 626.594 224.801 631.2 Q227.88 635.784 227.88 644.534 Q227.88 653.26 224.801 657.867 Q221.746 662.45 215.936 662.45 Q210.125 662.45 207.047 657.867 Q203.991 653.26 203.991 644.534 Q203.991 635.784 207.047 631.2 Q210.125 626.594 215.936 626.594 Z\" fill=\"#000000\" fill-rule=\"evenodd\" fill-opacity=\"1\" /><path clip-path=\"url(#clip680)\" d=\"M 0 0 M127.927 286.895 L135.566 286.895 L135.566 260.53 L127.256 262.196 L127.256 257.937 L135.519 256.27 L140.195 256.27 L140.195 286.895 L147.834 286.895 L147.834 290.83 L127.927 290.83 L127.927 286.895 Z\" fill=\"#000000\" fill-rule=\"evenodd\" fill-opacity=\"1\" /><path clip-path=\"url(#clip680)\" d=\"M 0 0 M152.95 256.27 L171.306 256.27 L171.306 260.206 L157.232 260.206 L157.232 268.678 Q158.251 268.331 159.269 268.169 Q160.288 267.983 161.306 267.983 Q167.093 267.983 170.473 271.155 Q173.852 274.326 173.852 279.743 Q173.852 285.321 170.38 288.423 Q166.908 291.502 160.589 291.502 Q158.413 291.502 156.144 291.131 Q153.899 290.761 151.492 290.02 L151.492 285.321 Q153.575 286.455 155.797 287.011 Q158.019 287.567 160.496 287.567 Q164.501 287.567 166.839 285.46 Q169.177 283.354 169.177 279.743 Q169.177 276.131 166.839 274.025 Q164.501 271.919 160.496 271.919 Q158.621 271.919 156.746 272.335 Q154.894 272.752 152.95 273.631 L152.95 256.27 Z\" fill=\"#000000\" fill-rule=\"evenodd\" fill-opacity=\"1\" /><path clip-path=\"url(#clip680)\" d=\"M 0 0 M188.922 259.349 Q185.311 259.349 183.482 262.914 Q181.677 266.456 181.677 273.585 Q181.677 280.692 183.482 284.256 Q185.311 287.798 188.922 287.798 Q192.556 287.798 194.362 284.256 Q196.19 280.692 196.19 273.585 Q196.19 266.456 194.362 262.914 Q192.556 259.349 188.922 259.349 M188.922 255.645 Q194.732 255.645 197.788 260.252 Q200.866 264.835 200.866 273.585 Q200.866 282.312 197.788 286.918 Q194.732 291.502 188.922 291.502 Q183.112 291.502 180.033 286.918 Q176.977 282.312 176.977 273.585 Q176.977 264.835 180.033 260.252 Q183.112 255.645 188.922 255.645 Z\" fill=\"#000000\" fill-rule=\"evenodd\" fill-opacity=\"1\" /><path clip-path=\"url(#clip680)\" d=\"M 0 0 M215.936 259.349 Q212.325 259.349 210.496 262.914 Q208.69 266.456 208.69 273.585 Q208.69 280.692 210.496 284.256 Q212.325 287.798 215.936 287.798 Q219.57 287.798 221.375 284.256 Q223.204 280.692 223.204 273.585 Q223.204 266.456 221.375 262.914 Q219.57 259.349 215.936 259.349 M215.936 255.645 Q221.746 255.645 224.801 260.252 Q227.88 264.835 227.88 273.585 Q227.88 282.312 224.801 286.918 Q221.746 291.502 215.936 291.502 Q210.125 291.502 207.047 286.918 Q203.991 282.312 203.991 273.585 Q203.991 264.835 207.047 260.252 Q210.125 255.645 215.936 255.645 Z\" fill=\"#000000\" fill-rule=\"evenodd\" fill-opacity=\"1\" /><path clip-path=\"url(#clip680)\" d=\"M 0 0 M889.45 12.096 L924.207 12.096 L924.207 18.9825 L897.633 18.9825 L897.633 36.8065 L921.614 36.8065 L921.614 43.6931 L897.633 43.6931 L897.633 72.576 L889.45 72.576 L889.45 12.096 Z\" fill=\"#000000\" fill-rule=\"evenodd\" fill-opacity=\"1\" /><path clip-path=\"url(#clip680)\" d=\"M 0 0 M925.989 27.2059 L933.443 27.2059 L933.443 72.576 L925.989 72.576 L925.989 27.2059 M925.989 9.54393 L933.443 9.54393 L933.443 18.9825 L925.989 18.9825 L925.989 9.54393 Z\" fill=\"#000000\" fill-rule=\"evenodd\" fill-opacity=\"1\" /><path clip-path=\"url(#clip680)\" d=\"M 0 0 M967.551 34.1734 Q966.295 33.4443 964.797 33.1202 Q963.338 32.7556 961.556 32.7556 Q955.236 32.7556 951.834 36.8875 Q948.471 40.9789 948.471 48.6757 L948.471 72.576 L940.977 72.576 L940.977 27.2059 L948.471 27.2059 L948.471 34.2544 Q950.821 30.1225 954.588 28.1376 Q958.356 26.1121 963.743 26.1121 Q964.513 26.1121 965.445 26.2337 Q966.376 26.3147 967.511 26.5172 L967.551 34.1734 Z\" fill=\"#000000\" fill-rule=\"evenodd\" fill-opacity=\"1\" /><path clip-path=\"url(#clip680)\" d=\"M 0 0 M1004.29 28.5427 L1004.29 35.5912 Q1001.13 33.9709 997.73 33.1607 Q994.328 32.3505 990.682 32.3505 Q985.132 32.3505 982.337 34.0519 Q979.582 35.7533 979.582 39.156 Q979.582 41.7486 981.567 43.2475 Q983.552 44.7058 989.548 46.0426 L992.1 46.6097 Q1000.04 48.3111 1003.36 51.4303 Q1006.72 54.509 1006.72 60.0587 Q1006.72 66.3781 1001.7 70.0644 Q996.718 73.7508 987.968 73.7508 Q984.322 73.7508 980.352 73.0216 Q976.423 72.3329 972.048 70.9151 L972.048 63.2184 Q976.18 65.3654 980.19 66.4591 Q984.2 67.5124 988.13 67.5124 Q993.396 67.5124 996.232 65.73 Q999.067 63.9071 999.067 60.6258 Q999.067 57.5877 997.001 55.9673 Q994.976 54.3469 988.049 52.8481 L985.456 52.2405 Q978.529 50.7821 975.45 47.7845 Q972.372 44.7463 972.372 39.4801 Q972.372 33.0797 976.909 29.5959 Q981.446 26.1121 989.791 26.1121 Q993.923 26.1121 997.568 26.7198 Q1001.21 27.3274 1004.29 28.5427 Z\" fill=\"#000000\" fill-rule=\"evenodd\" fill-opacity=\"1\" /><path clip-path=\"url(#clip680)\" d=\"M 0 0 M1021.91 14.324 L1021.91 27.2059 L1037.27 27.2059 L1037.27 32.9987 L1021.91 32.9987 L1021.91 57.6282 Q1021.91 63.1779 1023.41 64.7578 Q1024.95 66.3376 1029.61 66.3376 L1037.27 66.3376 L1037.27 72.576 L1029.61 72.576 Q1020.98 72.576 1017.7 69.3758 Q1014.42 66.1351 1014.42 57.6282 L1014.42 32.9987 L1008.95 32.9987 L1008.95 27.2059 L1014.42 27.2059 L1014.42 14.324 L1021.91 14.324 Z\" fill=\"#000000\" fill-rule=\"evenodd\" fill-opacity=\"1\" /><path clip-path=\"url(#clip680)\" d=\"M 0 0 M1071.46 9.54393 L1078.91 9.54393 L1078.91 72.576 L1071.46 72.576 L1071.46 9.54393 Z\" fill=\"#000000\" fill-rule=\"evenodd\" fill-opacity=\"1\" /><path clip-path=\"url(#clip680)\" d=\"M 0 0 M1104.31 32.4315 Q1098.31 32.4315 1094.83 37.1306 Q1091.35 41.7891 1091.35 49.9314 Q1091.35 58.0738 1094.79 62.7728 Q1098.27 67.4314 1104.31 67.4314 Q1110.26 67.4314 1113.75 62.7323 Q1117.23 58.0333 1117.23 49.9314 Q1117.23 41.8701 1113.75 37.1711 Q1110.26 32.4315 1104.31 32.4315 M1104.31 26.1121 Q1114.03 26.1121 1119.58 32.4315 Q1125.13 38.7509 1125.13 49.9314 Q1125.13 61.0714 1119.58 67.4314 Q1114.03 73.7508 1104.31 73.7508 Q1094.55 73.7508 1089 67.4314 Q1083.49 61.0714 1083.49 49.9314 Q1083.49 38.7509 1089 32.4315 Q1094.55 26.1121 1104.31 26.1121 Z\" fill=\"#000000\" fill-rule=\"evenodd\" fill-opacity=\"1\" /><path clip-path=\"url(#clip680)\" d=\"M 0 0 M1150.53 32.4315 Q1144.54 32.4315 1141.05 37.1306 Q1137.57 41.7891 1137.57 49.9314 Q1137.57 58.0738 1141.01 62.7728 Q1144.49 67.4314 1150.53 67.4314 Q1156.49 67.4314 1159.97 62.7323 Q1163.45 58.0333 1163.45 49.9314 Q1163.45 41.8701 1159.97 37.1711 Q1156.49 32.4315 1150.53 32.4315 M1150.53 26.1121 Q1160.25 26.1121 1165.8 32.4315 Q1171.35 38.7509 1171.35 49.9314 Q1171.35 61.0714 1165.8 67.4314 Q1160.25 73.7508 1150.53 73.7508 Q1140.77 73.7508 1135.22 67.4314 Q1129.71 61.0714 1129.71 49.9314 Q1129.71 38.7509 1135.22 32.4315 Q1140.77 26.1121 1150.53 26.1121 Z\" fill=\"#000000\" fill-rule=\"evenodd\" fill-opacity=\"1\" /><path clip-path=\"url(#clip680)\" d=\"M 0 0 M1178.89 9.54393 L1186.38 9.54393 L1186.38 46.7717 L1208.62 27.2059 L1218.14 27.2059 L1194.08 48.4326 L1219.15 72.576 L1209.43 72.576 L1186.38 50.4176 L1186.38 72.576 L1178.89 72.576 L1178.89 9.54393 Z\" fill=\"#000000\" fill-rule=\"evenodd\" fill-opacity=\"1\" /><path clip-path=\"url(#clip680)\" d=\"M 0 0 M1273.96 49.7694 Q1264.93 49.7694 1261.44 51.8354 Q1257.96 53.9013 1257.96 58.8839 Q1257.96 62.8538 1260.55 65.2034 Q1263.19 67.5124 1267.68 67.5124 Q1273.88 67.5124 1277.61 63.1374 Q1281.37 58.7219 1281.37 51.4303 L1281.37 49.7694 L1273.96 49.7694 M1288.83 46.6907 L1288.83 72.576 L1281.37 72.576 L1281.37 65.6895 Q1278.82 69.8214 1275.01 71.8063 Q1271.21 73.7508 1265.7 73.7508 Q1258.73 73.7508 1254.6 69.8619 Q1250.51 65.9325 1250.51 59.3701 Q1250.51 51.7138 1255.61 47.825 Q1260.76 43.9361 1270.92 43.9361 L1281.37 43.9361 L1281.37 43.2069 Q1281.37 38.0623 1277.97 35.2672 Q1274.61 32.4315 1268.49 32.4315 Q1264.6 32.4315 1260.92 33.3632 Q1257.23 34.295 1253.83 36.1584 L1253.83 29.2718 Q1257.92 27.692 1261.77 26.9223 Q1265.62 26.1121 1269.26 26.1121 Q1279.11 26.1121 1283.97 31.2163 Q1288.83 36.3204 1288.83 46.6907 Z\" fill=\"#000000\" fill-rule=\"evenodd\" fill-opacity=\"1\" /><path clip-path=\"url(#clip680)\" d=\"M 0 0 M1304.02 14.324 L1304.02 27.2059 L1319.37 27.2059 L1319.37 32.9987 L1304.02 32.9987 L1304.02 57.6282 Q1304.02 63.1779 1305.52 64.7578 Q1307.06 66.3376 1311.72 66.3376 L1319.37 66.3376 L1319.37 72.576 L1311.72 72.576 Q1303.09 72.576 1299.81 69.3758 Q1296.53 66.1351 1296.53 57.6282 L1296.53 32.9987 L1291.06 32.9987 L1291.06 27.2059 L1296.53 27.2059 L1296.53 14.324 L1304.02 14.324 Z\" fill=\"#000000\" fill-rule=\"evenodd\" fill-opacity=\"1\" /><path clip-path=\"url(#clip680)\" d=\"M 0 0 M1353.89 12.096 L1362.07 12.096 L1362.07 72.576 L1353.89 72.576 L1353.89 12.096 Z\" fill=\"#000000\" fill-rule=\"evenodd\" fill-opacity=\"1\" /><path clip-path=\"url(#clip680)\" d=\"M 0 0 M1390.91 27.2059 L1398.81 27.2059 L1412.99 65.2844 L1427.17 27.2059 L1435.07 27.2059 L1418.05 72.576 L1407.93 72.576 L1390.91 27.2059 Z\" fill=\"#000000\" fill-rule=\"evenodd\" fill-opacity=\"1\" /><path clip-path=\"url(#clip680)\" d=\"M 0 0 M1471.81 28.5427 L1471.81 35.5912 Q1468.65 33.9709 1465.25 33.1607 Q1461.84 32.3505 1458.2 32.3505 Q1452.65 32.3505 1449.85 34.0519 Q1447.1 35.7533 1447.1 39.156 Q1447.1 41.7486 1449.08 43.2475 Q1451.07 44.7058 1457.06 46.0426 L1459.61 46.6097 Q1467.55 48.3111 1470.88 51.4303 Q1474.24 54.509 1474.24 60.0587 Q1474.24 66.3781 1469.22 70.0644 Q1464.23 73.7508 1455.48 73.7508 Q1451.84 73.7508 1447.87 73.0216 Q1443.94 72.3329 1439.56 70.9151 L1439.56 63.2184 Q1443.69 65.3654 1447.7 66.4591 Q1451.72 67.5124 1455.64 67.5124 Q1460.91 67.5124 1463.75 65.73 Q1466.58 63.9071 1466.58 60.6258 Q1466.58 57.5877 1464.52 55.9673 Q1462.49 54.3469 1455.56 52.8481 L1452.97 52.2405 Q1446.04 50.7821 1442.97 47.7845 Q1439.89 44.7463 1439.89 39.4801 Q1439.89 33.0797 1444.42 29.5959 Q1448.96 26.1121 1457.31 26.1121 Q1461.44 26.1121 1465.08 26.7198 Q1468.73 27.3274 1471.81 28.5427 Z\" fill=\"#000000\" fill-rule=\"evenodd\" fill-opacity=\"1\" /><path clip-path=\"url(#clip680)\" d=\"M 0 0 M1545.01 14.0809 L1545.01 22.0612 Q1540.35 19.8332 1536.22 18.7395 Q1532.09 17.6457 1528.24 17.6457 Q1521.55 17.6457 1517.91 20.2383 Q1514.3 22.8309 1514.3 27.611 Q1514.3 31.6214 1516.69 33.6873 Q1519.12 35.7128 1525.85 36.9686 L1530.79 37.9813 Q1539.94 39.7232 1544.28 44.1387 Q1548.65 48.5136 1548.65 55.8863 Q1548.65 64.6767 1542.74 69.2137 Q1536.87 73.7508 1525.48 73.7508 Q1521.19 73.7508 1516.33 72.7785 Q1511.51 71.8063 1506.32 69.9024 L1506.32 61.4765 Q1511.3 64.2716 1516.08 65.6895 Q1520.86 67.1073 1525.48 67.1073 Q1532.49 67.1073 1536.3 64.3527 Q1540.11 61.598 1540.11 56.4939 Q1540.11 52.0379 1537.35 49.5264 Q1534.64 47.0148 1528.4 45.759 L1523.42 44.7868 Q1514.26 42.9639 1510.17 39.075 Q1506.08 35.1862 1506.08 28.2591 Q1506.08 20.2383 1511.71 15.6203 Q1517.38 11.0023 1527.31 11.0023 Q1531.56 11.0023 1535.97 11.7719 Q1540.39 12.5416 1545.01 14.0809 Z\" fill=\"#000000\" fill-rule=\"evenodd\" fill-opacity=\"1\" /><path clip-path=\"url(#clip680)\" d=\"M 0 0 M1590.05 65.7705 L1590.05 89.8329 L1582.56 89.8329 L1582.56 27.2059 L1590.05 27.2059 L1590.05 34.0924 Q1592.4 30.0415 1595.97 28.0971 Q1599.57 26.1121 1604.56 26.1121 Q1612.82 26.1121 1617.96 32.6746 Q1623.15 39.2371 1623.15 49.9314 Q1623.15 60.6258 1617.96 67.1883 Q1612.82 73.7508 1604.56 73.7508 Q1599.57 73.7508 1595.97 71.8063 Q1592.4 69.8214 1590.05 65.7705 M1615.41 49.9314 Q1615.41 41.7081 1612.01 37.0496 Q1608.65 32.3505 1602.73 32.3505 Q1596.82 32.3505 1593.42 37.0496 Q1590.05 41.7081 1590.05 49.9314 Q1590.05 58.1548 1593.42 62.8538 Q1596.82 67.5124 1602.73 67.5124 Q1608.65 67.5124 1612.01 62.8538 Q1615.41 58.1548 1615.41 49.9314 Z\" fill=\"#000000\" fill-rule=\"evenodd\" fill-opacity=\"1\" /><path clip-path=\"url(#clip680)\" d=\"M 0 0 M1630.97 9.54393 L1638.42 9.54393 L1638.42 72.576 L1630.97 72.576 L1630.97 9.54393 Z\" fill=\"#000000\" fill-rule=\"evenodd\" fill-opacity=\"1\" /><path clip-path=\"url(#clip680)\" d=\"M 0 0 M1663.82 32.4315 Q1657.83 32.4315 1654.34 37.1306 Q1650.86 41.7891 1650.86 49.9314 Q1650.86 58.0738 1654.3 62.7728 Q1657.78 67.4314 1663.82 67.4314 Q1669.78 67.4314 1673.26 62.7323 Q1676.74 58.0333 1676.74 49.9314 Q1676.74 41.8701 1673.26 37.1711 Q1669.78 32.4315 1663.82 32.4315 M1663.82 26.1121 Q1673.54 26.1121 1679.09 32.4315 Q1684.64 38.7509 1684.64 49.9314 Q1684.64 61.0714 1679.09 67.4314 Q1673.54 73.7508 1663.82 73.7508 Q1654.06 73.7508 1648.51 67.4314 Q1643 61.0714 1643 49.9314 Q1643 38.7509 1648.51 32.4315 Q1654.06 26.1121 1663.82 26.1121 Z\" fill=\"#000000\" fill-rule=\"evenodd\" fill-opacity=\"1\" /><path clip-path=\"url(#clip680)\" d=\"M 0 0 M1699.83 14.324 L1699.83 27.2059 L1715.19 27.2059 L1715.19 32.9987 L1699.83 32.9987 L1699.83 57.6282 Q1699.83 63.1779 1701.33 64.7578 Q1702.87 66.3376 1707.53 66.3376 L1715.19 66.3376 L1715.19 72.576 L1707.53 72.576 Q1698.9 72.576 1695.62 69.3758 Q1692.34 66.1351 1692.34 57.6282 L1692.34 32.9987 L1686.87 32.9987 L1686.87 27.2059 L1692.34 27.2059 L1692.34 14.324 L1699.83 14.324 Z\" fill=\"#000000\" fill-rule=\"evenodd\" fill-opacity=\"1\" /><path clip-path=\"url(#clip680)\" d=\"M 0 0 M1153.36 1510.08 L1153.36 1516.35 Q1149.7 1514.6 1146.45 1513.74 Q1143.21 1512.88 1140.18 1512.88 Q1134.93 1512.88 1132.07 1514.92 Q1129.23 1516.96 1129.23 1520.71 Q1129.23 1523.87 1131.11 1525.49 Q1133.02 1527.08 1138.31 1528.07 L1142.19 1528.86 Q1149.38 1530.23 1152.79 1533.7 Q1156.22 1537.14 1156.22 1542.93 Q1156.22 1549.84 1151.58 1553.4 Q1146.96 1556.97 1138.02 1556.97 Q1134.65 1556.97 1130.83 1556.2 Q1127.04 1555.44 1122.96 1553.94 L1122.96 1547.32 Q1126.88 1549.52 1130.63 1550.63 Q1134.39 1551.75 1138.02 1551.75 Q1143.53 1551.75 1146.52 1549.58 Q1149.51 1547.42 1149.51 1543.41 Q1149.51 1539.91 1147.34 1537.93 Q1145.21 1535.96 1140.31 1534.97 L1136.4 1534.21 Q1129.2 1532.78 1125.99 1529.72 Q1122.77 1526.67 1122.77 1521.22 Q1122.77 1514.92 1127.2 1511.29 Q1131.65 1507.66 1139.45 1507.66 Q1142.79 1507.66 1146.26 1508.27 Q1149.73 1508.87 1153.36 1510.08 Z\" fill=\"#000000\" fill-rule=\"evenodd\" fill-opacity=\"1\" /><path clip-path=\"url(#clip680)\" d=\"M 0 0 M1161.76 1541.98 L1161.76 1520.4 L1167.62 1520.4 L1167.62 1541.75 Q1167.62 1546.81 1169.59 1549.36 Q1171.57 1551.87 1175.51 1551.87 Q1180.26 1551.87 1182.99 1548.85 Q1185.76 1545.83 1185.76 1540.61 L1185.76 1520.4 L1191.62 1520.4 L1191.62 1556.04 L1185.76 1556.04 L1185.76 1550.57 Q1183.63 1553.82 1180.8 1555.41 Q1178 1556.97 1174.27 1556.97 Q1168.13 1556.97 1164.95 1553.15 Q1161.76 1549.33 1161.76 1541.98 M1176.5 1519.54 L1176.5 1519.54 Z\" fill=\"#000000\" fill-rule=\"evenodd\" fill-opacity=\"1\" /><path clip-path=\"url(#clip680)\" d=\"M 0 0 M1220.49 1521.45 L1220.49 1526.98 Q1218 1525.71 1215.33 1525.07 Q1212.66 1524.44 1209.79 1524.44 Q1205.43 1524.44 1203.24 1525.77 Q1201.07 1527.11 1201.07 1529.79 Q1201.07 1531.82 1202.63 1533 Q1204.19 1534.15 1208.9 1535.2 L1210.91 1535.64 Q1217.14 1536.98 1219.75 1539.43 Q1222.4 1541.85 1222.4 1546.21 Q1222.4 1551.17 1218.45 1554.07 Q1214.53 1556.97 1207.66 1556.97 Q1204.8 1556.97 1201.68 1556.39 Q1198.59 1555.85 1195.15 1554.74 L1195.15 1548.69 Q1198.4 1550.38 1201.55 1551.24 Q1204.7 1552.07 1207.79 1552.07 Q1211.92 1552.07 1214.15 1550.66 Q1216.38 1549.23 1216.38 1546.65 Q1216.38 1544.27 1214.76 1542.99 Q1213.17 1541.72 1207.72 1540.54 L1205.69 1540.07 Q1200.24 1538.92 1197.82 1536.56 Q1195.41 1534.18 1195.41 1530.04 Q1195.41 1525.01 1198.97 1522.27 Q1202.54 1519.54 1209.09 1519.54 Q1212.34 1519.54 1215.2 1520.01 Q1218.07 1520.49 1220.49 1521.45 Z\" fill=\"#000000\" fill-rule=\"evenodd\" fill-opacity=\"1\" /><path clip-path=\"url(#clip680)\" d=\"M 0 0 M1254.19 1521.76 L1254.19 1527.24 Q1251.71 1525.87 1249.2 1525.2 Q1246.71 1524.5 1244.17 1524.5 Q1238.47 1524.5 1235.32 1528.13 Q1232.17 1531.73 1232.17 1538.25 Q1232.17 1544.78 1235.32 1548.4 Q1238.47 1552 1244.17 1552 Q1246.71 1552 1249.2 1551.33 Q1251.71 1550.63 1254.19 1549.26 L1254.19 1554.68 Q1251.74 1555.82 1249.1 1556.39 Q1246.49 1556.97 1243.53 1556.97 Q1235.48 1556.97 1230.74 1551.91 Q1225.99 1546.85 1225.99 1538.25 Q1225.99 1529.53 1230.77 1524.53 Q1235.57 1519.54 1243.91 1519.54 Q1246.62 1519.54 1249.2 1520.11 Q1251.77 1520.65 1254.19 1521.76 Z\" fill=\"#000000\" fill-rule=\"evenodd\" fill-opacity=\"1\" /><path clip-path=\"url(#clip680)\" d=\"M 0 0 M1290.83 1536.76 L1290.83 1539.62 L1263.9 1539.62 Q1264.28 1545.67 1267.53 1548.85 Q1270.81 1552 1276.63 1552 Q1280.01 1552 1283.16 1551.17 Q1286.34 1550.35 1289.46 1548.69 L1289.46 1554.23 Q1286.31 1555.57 1283 1556.27 Q1279.69 1556.97 1276.28 1556.97 Q1267.75 1556.97 1262.76 1552 Q1257.79 1547.04 1257.79 1538.57 Q1257.79 1529.82 1262.5 1524.69 Q1267.24 1519.54 1275.26 1519.54 Q1282.46 1519.54 1286.63 1524.18 Q1290.83 1528.8 1290.83 1536.76 M1284.97 1535.04 Q1284.91 1530.23 1282.27 1527.37 Q1279.66 1524.5 1275.33 1524.5 Q1270.43 1524.5 1267.47 1527.27 Q1264.54 1530.04 1264.09 1535.07 L1284.97 1535.04 Z\" fill=\"#000000\" fill-rule=\"evenodd\" fill-opacity=\"1\" /><path clip-path=\"url(#clip680)\" d=\"M 0 0 M1302.64 1550.7 L1302.64 1569.6 L1296.75 1569.6 L1296.75 1520.4 L1302.64 1520.4 L1302.64 1525.81 Q1304.48 1522.62 1307.28 1521.1 Q1310.12 1519.54 1314.03 1519.54 Q1320.52 1519.54 1324.57 1524.69 Q1328.64 1529.85 1328.64 1538.25 Q1328.64 1546.65 1324.57 1551.81 Q1320.52 1556.97 1314.03 1556.97 Q1310.12 1556.97 1307.28 1555.44 Q1304.48 1553.88 1302.64 1550.7 M1322.56 1538.25 Q1322.56 1531.79 1319.89 1528.13 Q1317.25 1524.44 1312.6 1524.44 Q1307.95 1524.44 1305.28 1528.13 Q1302.64 1531.79 1302.64 1538.25 Q1302.64 1544.71 1305.28 1548.4 Q1307.95 1552.07 1312.6 1552.07 Q1317.25 1552.07 1319.89 1548.4 Q1322.56 1544.71 1322.56 1538.25 Z\" fill=\"#000000\" fill-rule=\"evenodd\" fill-opacity=\"1\" /><path clip-path=\"url(#clip680)\" d=\"M 0 0 M1340.58 1510.27 L1340.58 1520.4 L1352.64 1520.4 L1352.64 1524.95 L1340.58 1524.95 L1340.58 1544.3 Q1340.58 1548.66 1341.75 1549.9 Q1342.96 1551.14 1346.62 1551.14 L1352.64 1551.14 L1352.64 1556.04 L1346.62 1556.04 Q1339.84 1556.04 1337.27 1553.53 Q1334.69 1550.98 1334.69 1544.3 L1334.69 1524.95 L1330.39 1524.95 L1330.39 1520.4 L1334.69 1520.4 L1334.69 1510.27 L1340.58 1510.27 Z\" fill=\"#000000\" fill-rule=\"evenodd\" fill-opacity=\"1\" /><path clip-path=\"url(#clip680)\" d=\"M 0 0 M1358.78 1520.4 L1364.64 1520.4 L1364.64 1556.04 L1358.78 1556.04 L1358.78 1520.4 M1358.78 1506.52 L1364.64 1506.52 L1364.64 1513.93 L1358.78 1513.93 L1358.78 1506.52 Z\" fill=\"#000000\" fill-rule=\"evenodd\" fill-opacity=\"1\" /><path clip-path=\"url(#clip680)\" d=\"M 0 0 M1396.37 1538.25 Q1396.37 1531.79 1393.7 1528.13 Q1391.06 1524.44 1386.41 1524.44 Q1381.76 1524.44 1379.09 1528.13 Q1376.45 1531.79 1376.45 1538.25 Q1376.45 1544.71 1379.09 1548.4 Q1381.76 1552.07 1386.41 1552.07 Q1391.06 1552.07 1393.7 1548.4 Q1396.37 1544.71 1396.37 1538.25 M1376.45 1525.81 Q1378.29 1522.62 1381.09 1521.1 Q1383.93 1519.54 1387.84 1519.54 Q1394.33 1519.54 1398.38 1524.69 Q1402.45 1529.85 1402.45 1538.25 Q1402.45 1546.65 1398.38 1551.81 Q1394.33 1556.97 1387.84 1556.97 Q1383.93 1556.97 1381.09 1555.44 Q1378.29 1553.88 1376.45 1550.7 L1376.45 1556.04 L1370.56 1556.04 L1370.56 1506.52 L1376.45 1506.52 L1376.45 1525.81 Z\" fill=\"#000000\" fill-rule=\"evenodd\" fill-opacity=\"1\" /><path clip-path=\"url(#clip680)\" d=\"M 0 0 M1408.59 1506.52 L1414.45 1506.52 L1414.45 1556.04 L1408.59 1556.04 L1408.59 1506.52 Z\" fill=\"#000000\" fill-rule=\"evenodd\" fill-opacity=\"1\" /><path clip-path=\"url(#clip680)\" d=\"M 0 0 M1451.08 1536.76 L1451.08 1539.62 L1424.16 1539.62 Q1424.54 1545.67 1427.79 1548.85 Q1431.06 1552 1436.89 1552 Q1440.26 1552 1443.41 1551.17 Q1446.6 1550.35 1449.72 1548.69 L1449.72 1554.23 Q1446.56 1555.57 1443.25 1556.27 Q1439.94 1556.97 1436.54 1556.97 Q1428.01 1556.97 1423.01 1552 Q1418.05 1547.04 1418.05 1538.57 Q1418.05 1529.82 1422.76 1524.69 Q1427.5 1519.54 1435.52 1519.54 Q1442.71 1519.54 1446.88 1524.18 Q1451.08 1528.8 1451.08 1536.76 M1445.23 1535.04 Q1445.16 1530.23 1442.52 1527.37 Q1439.91 1524.5 1435.58 1524.5 Q1430.68 1524.5 1427.72 1527.27 Q1424.79 1530.04 1424.35 1535.07 L1445.23 1535.04 Z\" fill=\"#000000\" fill-rule=\"evenodd\" fill-opacity=\"1\" /><path clip-path=\"url(#clip680)\" d=\"M 0 0 M1479.95 1521.45 L1479.95 1526.98 Q1477.47 1525.71 1474.8 1525.07 Q1472.12 1524.44 1469.26 1524.44 Q1464.9 1524.44 1462.7 1525.77 Q1460.54 1527.11 1460.54 1529.79 Q1460.54 1531.82 1462.1 1533 Q1463.66 1534.15 1468.37 1535.2 L1470.37 1535.64 Q1476.61 1536.98 1479.22 1539.43 Q1481.86 1541.85 1481.86 1546.21 Q1481.86 1551.17 1477.92 1554.07 Q1474 1556.97 1467.13 1556.97 Q1464.26 1556.97 1461.14 1556.39 Q1458.05 1555.85 1454.62 1554.74 L1454.62 1548.69 Q1457.86 1550.38 1461.02 1551.24 Q1464.17 1552.07 1467.25 1552.07 Q1471.39 1552.07 1473.62 1550.66 Q1475.85 1549.23 1475.85 1546.65 Q1475.85 1544.27 1474.22 1542.99 Q1472.63 1541.72 1467.19 1540.54 L1465.15 1540.07 Q1459.71 1538.92 1457.29 1536.56 Q1454.87 1534.18 1454.87 1530.04 Q1454.87 1525.01 1458.44 1522.27 Q1462 1519.54 1468.56 1519.54 Q1471.8 1519.54 1474.67 1520.01 Q1477.53 1520.49 1479.95 1521.45 Z\" fill=\"#000000\" fill-rule=\"evenodd\" fill-opacity=\"1\" /><path clip-path=\"url(#clip680)\" d=\"M 0 0 M40.4842 904.173 L40.4842 897.744 L88.0042 897.744 L88.0042 904.173 L40.4842 904.173 Z\" fill=\"#000000\" fill-rule=\"evenodd\" fill-opacity=\"1\" /><path clip-path=\"url(#clip680)\" d=\"M 0 0 M66.4881 861.968 L88.0042 861.968 L88.0042 867.825 L66.679 867.825 Q61.6183 867.825 59.1038 869.798 Q56.5894 871.772 56.5894 875.718 Q56.5894 880.461 59.6131 883.198 Q62.6368 885.935 67.8567 885.935 L88.0042 885.935 L88.0042 891.824 L52.3562 891.824 L52.3562 885.935 L57.8944 885.935 Q54.6797 883.835 53.0883 881.002 Q51.4968 878.137 51.4968 874.413 Q51.4968 868.27 55.3163 865.119 Q59.1038 861.968 66.4881 861.968 Z\" fill=\"#000000\" fill-rule=\"evenodd\" fill-opacity=\"1\" /><path clip-path=\"url(#clip680)\" d=\"M 0 0 M38.479 837.779 L43.3487 837.779 L43.3487 843.381 Q43.3487 846.532 44.6219 847.773 Q45.895 848.982 49.2052 848.982 L52.3562 848.982 L52.3562 839.338 L56.9077 839.338 L56.9077 848.982 L88.0042 848.982 L88.0042 854.871 L56.9077 854.871 L56.9077 860.473 L52.3562 860.473 L52.3562 854.871 L49.8736 854.871 Q43.9216 854.871 41.2162 852.102 Q38.479 849.333 38.479 843.317 L38.479 837.779 Z\" fill=\"#000000\" fill-rule=\"evenodd\" fill-opacity=\"1\" /><path clip-path=\"url(#clip680)\" d=\"M 0 0 M68.7161 801.144 L71.5806 801.144 L71.5806 828.071 Q77.6281 827.689 80.8109 824.443 Q83.9619 821.164 83.9619 815.34 Q83.9619 811.966 83.1344 808.815 Q82.3069 805.632 80.6518 802.513 L86.1899 802.513 Q87.5267 805.664 88.227 808.974 Q88.9272 812.284 88.9272 815.69 Q88.9272 824.22 83.9619 829.217 Q78.9967 834.182 70.5303 834.182 Q61.7774 834.182 56.6531 829.472 Q51.4968 824.729 51.4968 816.708 Q51.4968 809.515 56.1438 805.345 Q60.7589 801.144 68.7161 801.144 M66.9973 807.001 Q62.1912 807.064 59.3266 809.706 Q56.4621 812.316 56.4621 816.645 Q56.4621 821.546 59.2312 824.506 Q62.0002 827.434 67.0292 827.88 L66.9973 807.001 Z\" fill=\"#000000\" fill-rule=\"evenodd\" fill-opacity=\"1\" /><path clip-path=\"url(#clip680)\" d=\"M 0 0 M53.7248 769.347 L59.1993 769.347 Q57.8307 771.83 57.1623 774.344 Q56.4621 776.827 56.4621 779.373 Q56.4621 785.071 60.0905 788.222 Q63.6872 791.373 70.212 791.373 Q76.7369 791.373 80.3653 788.222 Q83.9619 785.071 83.9619 779.373 Q83.9619 776.827 83.2935 774.344 Q82.5933 771.83 81.2247 769.347 L86.6355 769.347 Q87.7814 771.798 88.3543 774.44 Q88.9272 777.05 88.9272 780.01 Q88.9272 788.063 83.8664 792.805 Q78.8057 797.547 70.212 797.547 Q61.491 797.547 56.4939 792.773 Q51.4968 787.967 51.4968 779.628 Q51.4968 776.923 52.0697 774.344 Q52.6108 771.766 53.7248 769.347 Z\" fill=\"#000000\" fill-rule=\"evenodd\" fill-opacity=\"1\" /><path clip-path=\"url(#clip680)\" d=\"M 0 0 M42.2347 757.412 L52.3562 757.412 L52.3562 745.349 L56.9077 745.349 L56.9077 757.412 L76.2594 757.412 Q80.6199 757.412 81.8613 756.234 Q83.1026 755.025 83.1026 751.364 L83.1026 745.349 L88.0042 745.349 L88.0042 751.364 Q88.0042 758.144 85.4897 760.722 Q82.9434 763.3 76.2594 763.3 L56.9077 763.3 L56.9077 767.597 L52.3562 767.597 L52.3562 763.3 L42.2347 763.3 L42.2347 757.412 Z\" fill=\"#000000\" fill-rule=\"evenodd\" fill-opacity=\"1\" /><path clip-path=\"url(#clip680)\" d=\"M 0 0 M68.7161 708.714 L71.5806 708.714 L71.5806 735.641 Q77.6281 735.259 80.8109 732.013 Q83.9619 728.734 83.9619 722.91 Q83.9619 719.536 83.1344 716.385 Q82.3069 713.202 80.6518 710.083 L86.1899 710.083 Q87.5267 713.234 88.227 716.544 Q88.9272 719.854 88.9272 723.26 Q88.9272 731.79 83.9619 736.787 Q78.9967 741.752 70.5303 741.752 Q61.7774 741.752 56.6531 737.041 Q51.4968 732.299 51.4968 724.278 Q51.4968 717.085 56.1438 712.915 Q60.7589 708.714 68.7161 708.714 M66.9973 714.571 Q62.1912 714.634 59.3266 717.276 Q56.4621 719.886 56.4621 724.215 Q56.4621 729.116 59.2312 732.076 Q62.0002 735.004 67.0292 735.45 L66.9973 714.571 Z\" fill=\"#000000\" fill-rule=\"evenodd\" fill-opacity=\"1\" /><path clip-path=\"url(#clip680)\" d=\"M 0 0 M57.7671 679.114 L38.479 679.114 L38.479 673.257 L88.0042 673.257 L88.0042 679.114 L82.657 679.114 Q85.8398 680.96 87.3994 683.792 Q88.9272 686.593 88.9272 690.54 Q88.9272 697.001 83.771 701.075 Q78.6147 705.117 70.212 705.117 Q61.8093 705.117 56.6531 701.075 Q51.4968 697.001 51.4968 690.54 Q51.4968 686.593 53.0564 683.792 Q54.5842 680.96 57.7671 679.114 M70.212 699.07 Q76.6732 699.07 80.3653 696.428 Q84.0256 693.755 84.0256 689.108 Q84.0256 684.461 80.3653 681.787 Q76.6732 679.114 70.212 679.114 Q63.7508 679.114 60.0905 681.787 Q56.3984 684.461 56.3984 689.108 Q56.3984 693.755 60.0905 696.428 Q63.7508 699.07 70.212 699.07 Z\" fill=\"#000000\" fill-rule=\"evenodd\" fill-opacity=\"1\" /><path clip-path=\"url(#clip680)\" d=\"M 0 0 M53.4065 644.389 L58.9447 644.389 Q57.6716 646.871 57.035 649.545 Q56.3984 652.218 56.3984 655.083 Q56.3984 659.443 57.7352 661.64 Q59.072 663.804 61.7456 663.804 Q63.7826 663.804 64.9603 662.244 Q66.1061 660.685 67.1565 655.974 L67.6021 653.969 Q68.9389 647.731 71.3897 645.121 Q73.8086 642.479 78.1691 642.479 Q83.1344 642.479 86.0308 646.426 Q88.9272 650.341 88.9272 657.215 Q88.9272 660.08 88.3543 663.199 Q87.8132 666.287 86.6992 669.724 L80.6518 669.724 Q82.3387 666.478 83.198 663.327 Q84.0256 660.176 84.0256 657.088 Q84.0256 652.95 82.6251 650.722 Q81.1929 648.494 78.6147 648.494 Q76.2276 648.494 74.9545 650.118 Q73.6813 651.709 72.5037 657.152 L72.0262 659.189 Q70.8804 664.632 68.5251 667.051 Q66.138 669.469 62.0002 669.469 Q56.9713 669.469 54.2341 665.905 Q51.4968 662.34 51.4968 655.783 Q51.4968 652.537 51.9743 649.672 Q52.4517 646.808 53.4065 644.389 Z\" fill=\"#000000\" fill-rule=\"evenodd\" fill-opacity=\"1\" /><polyline clip-path=\"url(#clip682)\" style=\"stroke:#009af9; stroke-width:4; stroke-opacity:1; fill:none\" points=\"\n",
       "  2293.3,1383.43 2291.32,1382.02 2288.39,1379.94 2284.09,1376.88 2277.77,1372.39 2268.49,1365.79 2254.9,1356.13 2235.08,1342.05 2206.33,1321.63 2164.97,1292.29 \n",
       "  2106.19,1250.64 2024.08,1192.56 1912.21,1113.65 1765.07,1010.32 1580.84,881.795 1364.98,732.804 1132.92,575.414 908.4,427.6 715.496,307.152 568.513,224.095 \n",
       "  467.787,177.743 404.068,160.256 365.754,162.226 343.307,176.025 330.268,196.523 322.678,220.588 318.224,246.398 315.579,272.918 313.988,299.564 313.018,326.008 \n",
       "  312.418,352.069 312.042,377.645 311.803,402.685 311.649,427.163 311.549,451.069 311.482,474.402 311.438,497.169 311.408,519.377 311.388,541.037 311.374,562.161 \n",
       "  311.364,582.759 311.357,602.845 311.352,622.43 311.349,641.527 311.346,660.147 311.344,678.301 311.343,696.003 311.342,713.262 311.341,730.09 311.341,746.497 \n",
       "  311.34,762.494 311.34,778.091 311.34,793.299 311.34,808.126 311.339,822.583 311.339,836.678 311.339,850.421 311.339,863.82 311.339,876.884 311.339,889.622 \n",
       "  311.339,902.041 311.339,914.15 311.339,925.956 311.339,937.467 311.339,948.69 311.339,959.633 311.339,970.302 311.339,980.705 311.339,990.847 311.339,1000.74 \n",
       "  311.339,1010.38 311.339,1019.78 311.339,1028.94 311.339,1037.88 311.339,1046.59 311.339,1055.09 311.339,1063.37 311.339,1071.45 311.339,1079.32 311.339,1087 \n",
       "  311.339,1094.48 311.339,1101.78 311.339,1108.89 311.339,1115.83 311.339,1122.6 311.339,1129.19 311.339,1135.62 311.339,1141.89 311.339,1148 311.339,1153.96 \n",
       "  311.339,1159.77 311.339,1165.44 311.339,1170.96 311.339,1176.35 311.339,1181.6 311.339,1186.72 311.339,1191.71 311.339,1196.58 311.339,1201.32 311.339,1205.95 \n",
       "  311.339,1210.46 311.339,1214.86 311.339,1219.15 311.339,1223.33 311.339,1227.41 311.339,1231.38 311.339,1235.26 311.339,1239.04 311.339,1242.72 311.339,1246.31 \n",
       "  311.339,1249.81 311.339,1253.23 311.339,1256.56 311.339,1259.8 311.339,1262.97 311.339,1266.05 311.339,1269.06 311.339,1272 311.339,1274.86 311.339,1277.64 \n",
       "  311.339,1280.36 311.339,1283.01 311.339,1285.6 311.339,1288.12 311.339,1290.58 311.339,1292.97 311.339,1295.31 311.339,1297.58 311.339,1299.8 311.339,1301.97 \n",
       "  311.339,1304.08 311.339,1306.14 311.339,1308.14 311.339,1310.1 311.339,1312.01 311.339,1313.87 311.339,1315.68 311.339,1317.45 311.339,1319.17 311.339,1320.85 \n",
       "  311.339,1322.49 311.339,1324.09 311.339,1325.65 311.339,1327.17 311.339,1328.65 311.339,1330.09 311.339,1331.5 311.339,1332.87 311.339,1334.21 311.339,1335.51 \n",
       "  311.339,1336.78 311.339,1338.02 311.339,1339.23 311.339,1340.41 311.339,1341.56 311.339,1342.68 311.339,1343.78 311.339,1344.84 311.339,1345.88 311.339,1346.89 \n",
       "  311.339,1347.88 311.339,1348.84 311.339,1349.78 311.339,1350.7 311.339,1351.59 311.339,1352.46 311.339,1353.31 311.339,1354.14 311.339,1354.94 311.339,1355.73 \n",
       "  311.339,1356.5 311.339,1357.24 311.339,1357.97 311.339,1358.68 311.339,1359.38 311.339,1360.05 311.339,1360.71 311.339,1361.35 311.339,1361.98 311.339,1362.59 \n",
       "  311.339,1363.18 311.339,1363.76 311.339,1364.33 311.339,1364.88 311.339,1365.42 311.339,1365.94 311.339,1366.45 311.339,1366.95 311.339,1367.44 311.339,1367.91 \n",
       "  311.339,1368.38 311.339,1368.83 311.339,1369.27 311.339,1369.69 311.339,1370.11 311.339,1370.52 311.339,1370.91 311.339,1371.3 311.339,1371.68 311.339,1372.05 \n",
       "  311.339,1372.41 311.339,1372.76 311.339,1373.1 311.339,1373.43 311.339,1373.75 311.339,1374.07 311.339,1374.38 311.339,1374.68 311.339,1374.97 311.339,1375.26 \n",
       "  311.339,1375.54 311.339,1375.81 311.339,1376.07 311.339,1376.33 311.339,1376.58 311.339,1376.83 311.339,1377.07 311.339,1377.3 311.339,1377.53 311.339,1377.75 \n",
       "  311.339,1377.96 311.339,1378.18 311.339,1378.38 311.339,1378.58 311.339,1378.78 311.339,1378.97 311.339,1379.15 311.339,1379.33 311.339,1379.51 311.339,1379.68 \n",
       "  311.339,1379.85 311.339,1380.01 311.339,1380.17 311.339,1380.33 311.339,1380.48 311.339,1380.63 311.339,1380.77 311.339,1380.91 311.339,1381.05 311.339,1381.18 \n",
       "  311.339,1381.31 311.339,1381.44 311.339,1381.57 311.339,1381.69 311.339,1381.8 311.339,1381.92 311.339,1382.03 311.339,1382.14 311.339,1382.25 311.339,1382.35 \n",
       "  311.339,1382.45 311.339,1382.55 311.339,1382.65 311.339,1382.74 311.339,1382.83 311.339,1382.92 311.339,1383.01 311.339,1383.09 311.339,1383.17 311.339,1383.25 \n",
       "  311.339,1383.33 311.339,1383.41 311.339,1383.48 311.339,1383.56 311.339,1383.63 311.339,1383.7 311.339,1383.76 311.339,1383.83 311.339,1383.89 311.339,1383.96 \n",
       "  311.339,1384.02 311.339,1384.08 311.339,1384.14 311.339,1384.19 311.339,1384.25 311.339,1384.3 311.339,1384.35 311.339,1384.4 311.339,1384.45 311.339,1384.5 \n",
       "  311.339,1384.55 311.339,1384.6 311.339,1384.64 311.339,1384.68 311.339,1384.73 311.339,1384.77 311.339,1384.81 311.339,1384.85 311.339,1384.89 311.339,1384.93 \n",
       "  311.339,1384.96 311.339,1385 311.339,1385.03 311.339,1385.07 311.339,1385.1 311.339,1385.13 311.339,1385.16 311.339,1385.2 311.339,1385.23 311.339,1385.25 \n",
       "  311.339,1385.28 311.339,1385.31 311.339,1385.34 311.339,1385.36 311.339,1385.39 311.339,1385.42 311.339,1385.44 311.339,1385.46 311.339,1385.49 311.339,1385.51 \n",
       "  311.339,1385.53 311.339,1385.55 311.339,1385.57 311.339,1385.6 311.339,1385.62 311.339,1385.63 311.339,1385.65 311.339,1385.67 311.339,1385.69 311.339,1385.71 \n",
       "  311.339,1385.73 311.339,1385.74 311.339,1385.76 311.339,1385.77 311.339,1385.79 311.339,1385.8 311.339,1385.82 311.339,1385.83 311.339,1385.85 311.339,1385.86 \n",
       "  311.339,1385.88 311.339,1385.89 311.339,1385.9 311.339,1385.91 311.339,1385.93 311.339,1385.94 311.339,1385.95 311.339,1385.96 311.339,1385.97 311.339,1385.98 \n",
       "  311.339,1385.99 311.339,1386 311.339,1386.01 311.339,1386.02 311.339,1386.03 311.339,1386.04 311.339,1386.05 311.339,1386.06 311.339,1386.07 311.339,1386.07 \n",
       "  311.339,1386.08 311.339,1386.09 311.339,1386.1 311.339,1386.1 311.339,1386.11 311.339,1386.12 311.339,1386.13 311.339,1386.13 311.339,1386.14 311.339,1386.15 \n",
       "  311.339,1386.15 311.339,1386.16 311.339,1386.16 311.339,1386.17 311.339,1386.18 311.339,1386.18 311.339,1386.19 311.339,1386.19 311.339,1386.2 311.339,1386.2 \n",
       "  311.339,1386.21 311.339,1386.21 311.339,1386.22 311.339,1386.22 311.339,1386.22 311.339,1386.23 311.339,1386.23 311.339,1386.24 311.339,1386.24 311.339,1386.25 \n",
       "  311.339,1386.25 311.339,1386.25 311.339,1386.26 311.339,1386.26 311.339,1386.26 311.339,1386.27 311.339,1386.27 311.339,1386.27 311.339,1386.28 311.339,1386.28 \n",
       "  311.339,1386.28 311.339,1386.28 311.339,1386.29 311.339,1386.29 311.339,1386.29 311.339,1386.3 311.339,1386.3 311.339,1386.3 311.339,1386.3 311.339,1386.3 \n",
       "  311.339,1386.31 311.339,1386.31 311.339,1386.31 311.339,1386.31 311.339,1386.32 311.339,1386.32 311.339,1386.32 311.339,1386.32 311.339,1386.32 311.339,1386.33 \n",
       "  311.339,1386.33 311.339,1386.33 311.339,1386.33 311.339,1386.33 311.339,1386.33 311.339,1386.34 311.339,1386.34 311.339,1386.34 311.339,1386.34 311.339,1386.34 \n",
       "  311.339,1386.34 311.339,1386.34 311.339,1386.34 311.339,1386.35 311.339,1386.35 311.339,1386.35 311.339,1386.35 311.339,1386.35 311.339,1386.35 311.339,1386.35 \n",
       "  311.339,1386.35 311.339,1386.36 311.339,1386.36 311.339,1386.36 311.339,1386.36 311.339,1386.36 311.339,1386.36 311.339,1386.36 311.339,1386.36 311.339,1386.36 \n",
       "  311.339,1386.36 311.339,1386.36 311.339,1386.37 311.339,1386.37 311.339,1386.37 311.339,1386.37 311.339,1386.37 311.339,1386.37 311.339,1386.37 311.339,1386.37 \n",
       "  311.339,1386.37 311.339,1386.37 311.339,1386.37 311.339,1386.37 311.339,1386.37 311.339,1386.37 311.339,1386.37 311.339,1386.37 311.339,1386.38 311.339,1386.38 \n",
       "  311.339,1386.38 311.339,1386.38 311.339,1386.38 311.339,1386.38 311.339,1386.38 311.339,1386.38 311.339,1386.38 311.339,1386.38 311.339,1386.38 311.339,1386.38 \n",
       "  311.339,1386.38 311.339,1386.38 311.339,1386.38 311.339,1386.38 311.339,1386.38 311.339,1386.38 311.339,1386.38 311.339,1386.38 311.339,1386.38 311.339,1386.38 \n",
       "  311.339,1386.38 311.339,1386.38 311.339,1386.38 311.339,1386.38 311.339,1386.39 311.339,1386.39 311.339,1386.39 311.339,1386.39 311.339,1386.39 311.339,1386.39 \n",
       "  311.339,1386.39 311.339,1386.39 311.339,1386.39 311.339,1386.39 311.339,1386.39 311.339,1386.39 311.339,1386.39 311.339,1386.39 311.339,1386.39 311.339,1386.39 \n",
       "  311.339,1386.39 311.339,1386.39 311.339,1386.39 311.339,1386.39 311.339,1386.39 311.339,1386.39 311.339,1386.39 311.339,1386.39 311.339,1386.39 311.339,1386.39 \n",
       "  311.339,1386.39 311.339,1386.39 311.339,1386.39 311.339,1386.39 311.339,1386.39 311.339,1386.39 311.339,1386.39 311.339,1386.39 311.339,1386.39 311.339,1386.39 \n",
       "  311.339,1386.39 311.339,1386.39 311.339,1386.39 311.339,1386.39 311.339,1386.39 311.339,1386.39 311.339,1386.39 311.339,1386.39 311.339,1386.39 311.339,1386.39 \n",
       "  311.339,1386.39 311.339,1386.39 311.339,1386.39 311.339,1386.39 311.339,1386.39 311.339,1386.39 311.339,1386.39 311.339,1386.39 311.339,1386.39 311.339,1386.39 \n",
       "  311.339,1386.39 311.339,1386.39 311.339,1386.39 311.339,1386.39 311.339,1386.39 311.339,1386.39 311.339,1386.39 311.339,1386.39 311.339,1386.39 311.339,1386.39 \n",
       "  311.339,1386.39 311.339,1386.39 311.339,1386.39 311.339,1386.39 311.339,1386.39 311.339,1386.39 311.339,1386.39 311.339,1386.39 311.339,1386.39 311.339,1386.39 \n",
       "  311.339,1386.39 311.339,1386.39 311.339,1386.39 311.339,1386.39 311.339,1386.39 311.339,1386.39 311.339,1386.39 311.339,1386.39 311.339,1386.39 311.339,1386.39 \n",
       "  311.339,1386.39 311.339,1386.39 311.339,1386.39 311.339,1386.39 311.339,1386.39 311.339,1386.39 311.339,1386.39 311.339,1386.39 311.339,1386.39 311.339,1386.39 \n",
       "  311.339,1386.39 311.339,1386.39 311.339,1386.39 311.339,1386.39 311.339,1386.39 311.339,1386.39 311.339,1386.39 311.339,1386.39 311.339,1386.39 311.339,1386.39 \n",
       "  311.339,1386.39 311.339,1386.39 311.339,1386.39 311.339,1386.39 311.339,1386.4 311.339,1386.4 311.339,1386.4 311.339,1386.4 311.339,1386.4 311.339,1386.4 \n",
       "  311.339,1386.4 311.339,1386.4 311.339,1386.4 311.339,1386.4 311.339,1386.4 311.339,1386.4 311.339,1386.4 311.339,1386.4 311.339,1386.4 311.339,1386.4 \n",
       "  311.339,1386.4 311.339,1386.4 311.339,1386.4 311.339,1386.4 311.339,1386.4 311.339,1386.4 311.339,1386.4 311.339,1386.4 311.339,1386.4 311.339,1386.4 \n",
       "  311.339,1386.4 311.339,1386.4 311.339,1386.4 311.339,1386.4 311.339,1386.4 311.339,1386.4 311.339,1386.4 311.339,1386.4 311.339,1386.4 311.339,1386.4 \n",
       "  311.339,1386.4 311.339,1386.4 311.339,1386.4 311.339,1386.4 311.339,1386.4 311.339,1386.4 311.339,1386.4 311.339,1386.4 311.339,1386.4 311.339,1386.4 \n",
       "  311.339,1386.4 311.339,1386.4 311.339,1386.4 311.339,1386.4 311.339,1386.4 311.339,1386.4 311.339,1386.4 311.339,1386.4 311.339,1386.4 311.339,1386.4 \n",
       "  311.339,1386.4 311.339,1386.4 311.339,1386.4 311.339,1386.4 311.339,1386.4 311.339,1386.4 311.339,1386.4 311.339,1386.4 311.339,1386.4 311.339,1386.4 \n",
       "  311.339,1386.4 311.339,1386.4 311.339,1386.4 311.339,1386.4 311.339,1386.4 311.339,1386.4 311.339,1386.4 311.339,1386.4 311.339,1386.4 311.339,1386.4 \n",
       "  311.339,1386.4 311.339,1386.4 311.339,1386.4 311.339,1386.4 311.339,1386.4 311.339,1386.4 311.339,1386.4 311.339,1386.4 311.339,1386.4 311.339,1386.4 \n",
       "  311.339,1386.4 311.339,1386.4 311.339,1386.4 311.339,1386.4 311.339,1386.4 311.339,1386.4 311.339,1386.4 311.339,1386.4 311.339,1386.4 311.339,1386.4 \n",
       "  311.339,1386.4 311.339,1386.4 311.339,1386.4 311.339,1386.4 311.339,1386.4 311.339,1386.4 311.339,1386.4 311.339,1386.4 311.339,1386.4 311.339,1386.4 \n",
       "  311.339,1386.4 311.339,1386.4 311.339,1386.4 311.339,1386.4 311.339,1386.4 311.339,1386.4 311.339,1386.4 311.339,1386.4 311.339,1386.4 311.339,1386.4 \n",
       "  311.339,1386.4 311.339,1386.4 311.339,1386.4 311.339,1386.4 311.339,1386.4 311.339,1386.4 311.339,1386.4 311.339,1386.4 311.339,1386.4 311.339,1386.4 \n",
       "  311.339,1386.4 311.339,1386.4 311.339,1386.4 311.339,1386.4 311.339,1386.4 311.339,1386.4 311.339,1386.4 311.339,1386.4 311.339,1386.4 311.339,1386.4 \n",
       "  311.339,1386.4 311.339,1386.4 311.339,1386.4 311.339,1386.4 311.339,1386.4 311.339,1386.4 311.339,1386.4 311.339,1386.4 311.339,1386.4 311.339,1386.4 \n",
       "  311.339,1386.4 311.339,1386.4 311.339,1386.4 311.339,1386.4 311.339,1386.4 311.339,1386.4 311.339,1386.4 311.339,1386.4 311.339,1386.4 311.339,1386.4 \n",
       "  311.339,1386.4 311.339,1386.4 311.339,1386.4 311.339,1386.4 311.339,1386.4 311.339,1386.4 311.339,1386.4 311.339,1386.4 311.339,1386.4 311.339,1386.4 \n",
       "  311.339,1386.4 311.339,1386.4 311.339,1386.4 311.339,1386.4 311.339,1386.4 311.339,1386.4 311.339,1386.4 311.339,1386.4 311.339,1386.4 311.339,1386.4 \n",
       "  311.339,1386.4 311.339,1386.4 311.339,1386.4 311.339,1386.4 311.339,1386.4 311.339,1386.4 311.339,1386.4 311.339,1386.4 311.339,1386.4 311.339,1386.4 \n",
       "  311.339,1386.4 311.339,1386.4 311.339,1386.4 311.339,1386.4 311.339,1386.4 311.339,1386.4 311.339,1386.4 311.339,1386.4 311.339,1386.4 311.339,1386.4 \n",
       "  311.339,1386.4 311.339,1386.4 311.339,1386.4 311.339,1386.4 311.339,1386.4 311.339,1386.4 311.339,1386.4 311.339,1386.4 311.339,1386.4 311.339,1386.4 \n",
       "  311.339,1386.4 311.339,1386.4 311.339,1386.4 311.339,1386.4 311.339,1386.4 311.339,1386.4 311.339,1386.4 311.339,1386.4 311.339,1386.4 311.339,1386.4 \n",
       "  311.339,1386.4 311.339,1386.4 311.339,1386.4 311.339,1386.4 311.339,1386.4 311.339,1386.4 311.339,1386.4 311.339,1386.4 311.339,1386.4 311.339,1386.4 \n",
       "  311.339,1386.4 311.339,1386.4 311.339,1386.4 311.339,1386.4 311.339,1386.4 311.339,1386.4 311.339,1386.4 311.339,1386.4 311.339,1386.4 311.339,1386.4 \n",
       "  311.339,1386.4 311.339,1386.4 311.339,1386.4 311.339,1386.4 311.339,1386.4 311.339,1386.4 311.339,1386.4 311.339,1386.4 311.339,1386.4 311.339,1386.4 \n",
       "  311.339,1386.4 311.339,1386.4 311.339,1386.4 311.339,1386.4 311.339,1386.4 311.339,1386.4 311.339,1386.4 311.339,1386.4 311.339,1386.4 311.339,1386.4 \n",
       "  311.339,1386.4 311.339,1386.4 311.339,1386.4 311.339,1386.4 311.339,1386.4 311.339,1386.4 311.339,1386.4 311.339,1386.4 311.339,1386.4 311.339,1386.4 \n",
       "  311.339,1386.4 311.339,1386.4 311.339,1386.4 311.339,1386.4 311.339,1386.4 311.339,1386.4 311.339,1386.4 311.339,1386.4 311.339,1386.4 311.339,1386.4 \n",
       "  311.339,1386.4 311.339,1386.4 311.339,1386.4 311.339,1386.4 311.339,1386.4 311.339,1386.4 311.339,1386.4 311.339,1386.4 311.339,1386.4 311.339,1386.4 \n",
       "  311.339,1386.4 311.339,1386.4 311.339,1386.4 311.339,1386.4 311.339,1386.4 311.339,1386.4 311.339,1386.4 311.339,1386.4 311.339,1386.4 311.339,1386.4 \n",
       "  311.339,1386.4 311.339,1386.4 311.339,1386.4 311.339,1386.4 311.339,1386.4 311.339,1386.4 311.339,1386.4 311.339,1386.4 311.339,1386.4 311.339,1386.4 \n",
       "  311.339,1386.4 311.339,1386.4 311.339,1386.4 311.339,1386.4 311.339,1386.4 311.339,1386.4 311.339,1386.4 311.339,1386.4 311.339,1386.4 311.339,1386.4 \n",
       "  311.339,1386.4 311.339,1386.4 311.339,1386.4 311.339,1386.4 311.339,1386.4 311.339,1386.4 311.339,1386.4 311.339,1386.4 311.339,1386.4 311.339,1386.4 \n",
       "  311.339,1386.4 311.339,1386.4 311.339,1386.4 311.339,1386.4 311.339,1386.4 311.339,1386.4 311.339,1386.4 311.339,1386.4 311.339,1386.4 311.339,1386.4 \n",
       "  311.339,1386.4 311.339,1386.4 311.339,1386.4 311.339,1386.4 311.339,1386.4 311.339,1386.4 311.339,1386.4 311.339,1386.4 311.339,1386.4 311.339,1386.4 \n",
       "  311.339,1386.4 311.339,1386.4 311.339,1386.4 311.339,1386.4 311.339,1386.4 311.339,1386.4 311.339,1386.4 311.339,1386.4 311.339,1386.4 311.339,1386.4 \n",
       "  311.339,1386.4 311.339,1386.4 311.339,1386.4 311.339,1386.4 311.339,1386.4 311.339,1386.4 311.339,1386.4 311.339,1386.4 311.339,1386.4 311.339,1386.4 \n",
       "  311.339,1386.4 311.339,1386.4 311.339,1386.4 311.339,1386.4 311.339,1386.4 311.339,1386.4 311.339,1386.4 311.339,1386.4 311.339,1386.4 311.339,1386.4 \n",
       "  311.339,1386.4 311.339,1386.4 311.339,1386.4 311.339,1386.4 311.339,1386.4 311.339,1386.4 311.339,1386.4 311.339,1386.4 311.339,1386.4 311.339,1386.4 \n",
       "  311.339,1386.4 311.339,1386.4 311.339,1386.4 311.339,1386.4 311.339,1386.4 311.339,1386.4 311.339,1386.4 311.339,1386.4 311.339,1386.4 311.339,1386.4 \n",
       "  311.339,1386.4 311.339,1386.4 311.339,1386.4 311.339,1386.4 311.339,1386.4 311.339,1386.4 311.339,1386.4 311.339,1386.4 311.339,1386.4 311.339,1386.4 \n",
       "  311.339,1386.4 311.339,1386.4 311.339,1386.4 311.339,1386.4 311.339,1386.4 311.339,1386.4 311.339,1386.4 311.339,1386.4 311.339,1386.4 311.339,1386.4 \n",
       "  311.339,1386.4 311.339,1386.4 311.339,1386.4 311.339,1386.4 311.339,1386.4 311.339,1386.4 311.339,1386.4 311.339,1386.4 311.339,1386.4 311.339,1386.4 \n",
       "  311.339,1386.4 311.339,1386.4 311.339,1386.4 311.339,1386.4 311.339,1386.4 311.339,1386.4 311.339,1386.4 311.339,1386.4 311.339,1386.4 311.339,1386.4 \n",
       "  311.339,1386.4 311.339,1386.4 311.339,1386.4 311.339,1386.4 311.339,1386.4 311.339,1386.4 311.339,1386.4 311.339,1386.4 311.339,1386.4 311.339,1386.4 \n",
       "  311.339,1386.4 311.339,1386.4 311.339,1386.4 311.339,1386.4 311.339,1386.4 311.339,1386.4 311.339,1386.4 311.339,1386.4 311.339,1386.4 311.339,1386.4 \n",
       "  311.339,1386.4 311.339,1386.4 311.339,1386.4 311.339,1386.4 311.339,1386.4 311.339,1386.4 311.339,1386.4 311.339,1386.4 311.339,1386.4 311.339,1386.4 \n",
       "  311.339,1386.4 311.339,1386.4 311.339,1386.4 311.339,1386.4 311.339,1386.4 311.339,1386.4 311.339,1386.4 311.339,1386.4 311.339,1386.4 311.339,1386.4 \n",
       "  311.339,1386.4 311.339,1386.4 311.339,1386.4 311.339,1386.4 311.339,1386.4 311.339,1386.4 311.339,1386.4 311.339,1386.4 311.339,1386.4 311.339,1386.4 \n",
       "  311.339,1386.4 311.339,1386.4 311.339,1386.4 311.339,1386.4 311.339,1386.4 311.339,1386.4 311.339,1386.4 311.339,1386.4 311.339,1386.4 311.339,1386.4 \n",
       "  311.339,1386.4 311.339,1386.4 311.339,1386.4 311.339,1386.4 311.339,1386.4 311.339,1386.4 311.339,1386.4 311.339,1386.4 311.339,1386.4 311.339,1386.4 \n",
       "  311.339,1386.4 311.339,1386.4 311.339,1386.4 311.339,1386.4 311.339,1386.4 311.339,1386.4 311.339,1386.4 311.339,1386.4 311.339,1386.4 311.339,1386.4 \n",
       "  311.339,1386.4 311.339,1386.4 311.339,1386.4 311.339,1386.4 311.339,1386.4 311.339,1386.4 311.339,1386.4 311.339,1386.4 311.339,1386.4 311.339,1386.4 \n",
       "  311.339,1386.4 311.339,1386.4 311.339,1386.4 311.339,1386.4 311.339,1386.4 311.339,1386.4 311.339,1386.4 311.339,1386.4 311.339,1386.4 311.339,1386.4 \n",
       "  311.339,1386.4 311.339,1386.4 311.339,1386.4 311.339,1386.4 311.339,1386.4 311.339,1386.4 311.339,1386.4 311.339,1386.4 311.339,1386.4 311.339,1386.4 \n",
       "  311.339,1386.4 311.339,1386.4 311.339,1386.4 311.339,1386.4 311.339,1386.4 311.339,1386.4 311.339,1386.4 311.339,1386.4 311.339,1386.4 311.339,1386.4 \n",
       "  311.339,1386.4 311.339,1386.4 311.339,1386.4 311.339,1386.4 311.339,1386.4 311.339,1386.4 311.339,1386.4 311.339,1386.4 311.339,1386.4 311.339,1386.4 \n",
       "  311.339,1386.4 311.339,1386.4 311.339,1386.4 311.339,1386.4 311.339,1386.4 311.339,1386.4 311.339,1386.4 311.339,1386.4 311.339,1386.4 311.339,1386.4 \n",
       "  311.339,1386.4 311.339,1386.4 311.339,1386.4 311.339,1386.4 311.339,1386.4 311.339,1386.4 311.339,1386.4 311.339,1386.4 311.339,1386.4 311.339,1386.4 \n",
       "  311.339,1386.4 311.339,1386.4 311.339,1386.4 311.339,1386.4 311.339,1386.4 311.339,1386.4 311.339,1386.4 311.339,1386.4 311.339,1386.4 311.339,1386.4 \n",
       "  311.339,1386.4 311.339,1386.4 311.339,1386.4 311.339,1386.4 311.339,1386.4 311.339,1386.4 311.339,1386.4 311.339,1386.4 311.339,1386.4 311.339,1386.4 \n",
       "  311.339,1386.4 311.339,1386.4 311.339,1386.4 311.339,1386.4 311.339,1386.4 311.339,1386.4 311.339,1386.4 311.339,1386.4 311.339,1386.4 311.339,1386.4 \n",
       "  311.339,1386.4 311.339,1386.4 311.339,1386.4 311.339,1386.4 311.339,1386.4 311.339,1386.4 311.339,1386.4 311.339,1386.4 311.339,1386.4 311.339,1386.4 \n",
       "  311.339,1386.4 \n",
       "  \"/>\n",
       "<path clip-path=\"url(#clip680)\" d=\"\n",
       "M1989.74 327.952 L2280.76 327.952 L2280.76 206.992 L1989.74 206.992  Z\n",
       "  \" fill=\"#ffffff\" fill-rule=\"evenodd\" fill-opacity=\"1\"/>\n",
       "<polyline clip-path=\"url(#clip680)\" style=\"stroke:#000000; stroke-width:4; stroke-opacity:1; fill:none\" points=\"\n",
       "  1989.74,327.952 2280.76,327.952 2280.76,206.992 1989.74,206.992 1989.74,327.952 \n",
       "  \"/>\n",
       "<polyline clip-path=\"url(#clip680)\" style=\"stroke:#009af9; stroke-width:4; stroke-opacity:1; fill:none\" points=\"\n",
       "  2013.74,267.472 2157.74,267.472 \n",
       "  \"/>\n",
       "<path clip-path=\"url(#clip680)\" d=\"M 0 0 M2195.58 287.16 Q2193.77 291.789 2192.06 293.201 Q2190.35 294.613 2187.48 294.613 L2184.08 294.613 L2184.08 291.048 L2186.58 291.048 Q2188.33 291.048 2189.31 290.215 Q2190.28 289.382 2191.46 286.28 L2192.22 284.335 L2181.74 258.826 L2186.25 258.826 L2194.35 279.104 L2202.46 258.826 L2206.97 258.826 L2195.58 287.16 Z\" fill=\"#000000\" fill-rule=\"evenodd\" fill-opacity=\"1\" /><path clip-path=\"url(#clip680)\" d=\"M 0 0 M2212.85 280.817 L2220.49 280.817 L2220.49 254.451 L2212.18 256.118 L2212.18 251.859 L2220.44 250.192 L2225.12 250.192 L2225.12 280.817 L2232.76 280.817 L2232.76 284.752 L2212.85 284.752 L2212.85 280.817 Z\" fill=\"#000000\" fill-rule=\"evenodd\" fill-opacity=\"1\" /></svg>\n"
      ]
     },
     "execution_count": 5,
     "metadata": {},
     "output_type": "execute_result"
    }
   ],
   "source": [
    "# now we can plot the outcome  \n",
    "\n",
    "svals = resultvals[:,1];  # get the results\n",
    "ivals = resultvals[:,2];\n",
    "\n",
    "plot(svals, ivals, \n",
    "    title = \"First look at I vs S plot\",\n",
    "    xlabel = \"Susceptibles\",\n",
    "    ylabel = \"Infecteds\")        # and plot them\n",
    "\n",
    "# we first vary S(0); the initial threshold is (0.1)/(1/20000) = 2000\n",
    "# one can also vary gam and lambda and dt"
   ]
  },
  {
   "cell_type": "markdown",
   "metadata": {},
   "source": [
    "[Back to the top](#In-this-lecture)"
   ]
  },
  {
   "cell_type": "markdown",
   "metadata": {},
   "source": [
    "<h2>Putting it all together: estimates of $\\gamma$ and $\\lambda$</h2>\n",
    "\n",
    "We already have the estimate $\\gamma = 0.05$, based on a 20-day infectious period per patient.\n",
    "\n",
    "We now need estimates of $\\lambda$ and of $S(0)$ (we will discuss $I(0)$ and $R(0)$ later).\n",
    "\n",
    "Since at the beginning of the epidemic, one could not safely say that any person in the three countries concerned would never be exposed to the Ebola virus, we should assume that the susceptible population was the sum of the populations of Guinea, Liberia and Sierra Leone. Using Wikipedia, this gives us $S(0)=22\\times10^6$, because in total there are approximately 22 million people in these countries.\n",
    "\n",
    "Now we use the threshold, which we write as $S^\\ast = \\gamma/\\lambda$, so that $\\lambda = \\gamma/S^\\ast$. Assuming that our $S(0)$ is far larger than $S^\\ast$, because the epidemic was so severe, let us set $S^\\ast = 0.1S(0)=2.2\\times10^6$. This gives the estimate $\\lambda = 0.05/2.2\\times10^6 \\approx 2.3\\times10^{-8}$. \n",
    "\n",
    "Let's go back to our phase plot and put in these estimates."
   ]
  },
  {
   "cell_type": "markdown",
   "metadata": {},
   "source": [
    "[Back to the top](#In-this-lecture)"
   ]
  }
 ],
 "metadata": {
  "hide_input": false,
  "kernelspec": {
   "display_name": "Julia 1.0.5",
   "language": "julia",
   "name": "julia-1.0"
  },
  "language_info": {
   "file_extension": ".jl",
   "mimetype": "application/julia",
   "name": "julia",
   "version": "1.0.5"
  },
  "varInspector": {
   "cols": {
    "lenName": 16,
    "lenType": 16,
    "lenVar": 40
   },
   "kernels_config": {
    "python": {
     "delete_cmd_postfix": "",
     "delete_cmd_prefix": "del ",
     "library": "var_list.py",
     "varRefreshCmd": "print(var_dic_list())"
    },
    "r": {
     "delete_cmd_postfix": ") ",
     "delete_cmd_prefix": "rm(",
     "library": "var_list.r",
     "varRefreshCmd": "cat(var_dic_list()) "
    }
   },
   "types_to_exclude": [
    "module",
    "function",
    "builtin_function_or_method",
    "instance",
    "_Feature"
   ],
   "window_display": false
  }
 },
 "nbformat": 4,
 "nbformat_minor": 1
}
