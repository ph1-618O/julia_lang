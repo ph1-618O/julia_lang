{
 "cells": [
  {
   "cell_type": "markdown",
   "metadata": {},
   "source": [
    "# Week 4 Peer Review"
   ]
  },
  {
   "cell_type": "markdown",
   "metadata": {},
   "source": [
    "Week 4 Peer Review - Working with Distributions and DataFrames. To help you with this task, comments are added to each cell."
   ]
  },
  {
   "cell_type": "code",
   "execution_count": 1,
   "metadata": {},
   "outputs": [],
   "source": [
    "# Import the required packages\n",
    "using Distributions, DataFrames, Random"
   ]
  },
  {
   "cell_type": "code",
   "execution_count": 29,
   "metadata": {},
   "outputs": [],
   "source": [
    "# Seed the random number generator\n",
    "Random.seed!(1234);"
   ]
  },
  {
   "cell_type": "code",
   "execution_count": 35,
   "metadata": {},
   "outputs": [
    {
     "data": {
      "text/html": [
       "<table class=\"data-frame\"><thead><tr><th></th><th>x1</th><th>x2</th><th>x3</th><th>x4</th></tr><tr><th></th><th>Float64</th><th>Float64</th><th>Float64</th><th>Float64</th></tr></thead><tbody><p>30 rows × 4 columns</p><tr><th>1</th><td>0.354199</td><td>0.915681</td><td>0.068166</td><td>0.0273653</td></tr><tr><th>2</th><td>0.1329</td><td>0.372323</td><td>0.211122</td><td>0.0569291</td></tr><tr><th>3</th><td>0.30075</td><td>0.113032</td><td>0.17566</td><td>0.840961</td></tr><tr><th>4</th><td>0.194507</td><td>0.670174</td><td>0.170987</td><td>0.969741</td></tr><tr><th>5</th><td>0.883704</td><td>0.140473</td><td>0.481834</td><td>0.274452</td></tr><tr><th>6</th><td>0.0677996</td><td>0.0813266</td><td>0.864876</td><td>0.0843292</td></tr><tr><th>7</th><td>0.0288386</td><td>0.469878</td><td>0.264359</td><td>0.162723</td></tr><tr><th>8</th><td>0.564608</td><td>0.993997</td><td>0.861325</td><td>0.979329</td></tr><tr><th>9</th><td>0.598869</td><td>0.355822</td><td>0.843625</td><td>0.0443796</td></tr><tr><th>10</th><td>0.303656</td><td>0.165132</td><td>0.493895</td><td>0.419696</td></tr><tr><th>11</th><td>0.500725</td><td>0.682579</td><td>0.324266</td><td>0.925068</td></tr><tr><th>12</th><td>0.409968</td><td>0.806625</td><td>0.746908</td><td>0.862063</td></tr><tr><th>13</th><td>0.146333</td><td>0.708011</td><td>0.509678</td><td>0.959321</td></tr><tr><th>14</th><td>0.647078</td><td>0.515411</td><td>0.919232</td><td>0.0566781</td></tr><tr><th>15</th><td>0.998546</td><td>0.608607</td><td>0.168084</td><td>0.204646</td></tr><tr><th>16</th><td>0.495394</td><td>0.887999</td><td>0.605675</td><td>0.0257907</td></tr><tr><th>17</th><td>0.654293</td><td>0.494824</td><td>0.778229</td><td>0.647767</td></tr><tr><th>18</th><td>0.834909</td><td>0.0895199</td><td>0.150454</td><td>0.893931</td></tr><tr><th>19</th><td>0.415662</td><td>0.34124</td><td>0.344408</td><td>0.334824</td></tr><tr><th>20</th><td>0.182757</td><td>0.52376</td><td>0.377464</td><td>0.307514</td></tr><tr><th>21</th><td>0.836482</td><td>0.661835</td><td>0.149005</td><td>0.129393</td></tr><tr><th>22</th><td>0.438327</td><td>0.833012</td><td>0.538435</td><td>0.727883</td></tr><tr><th>23</th><td>0.689977</td><td>0.498856</td><td>0.369212</td><td>0.322866</td></tr><tr><th>24</th><td>0.372259</td><td>0.937867</td><td>0.500337</td><td>0.574287</td></tr><tr><th>25</th><td>0.294863</td><td>0.956888</td><td>0.344757</td><td>0.694646</td></tr><tr><th>26</th><td>0.696311</td><td>0.610266</td><td>0.929902</td><td>0.523705</td></tr><tr><th>27</th><td>0.332355</td><td>0.0296453</td><td>0.520697</td><td>0.223059</td></tr><tr><th>28</th><td>0.415085</td><td>0.685393</td><td>0.613</td><td>0.873127</td></tr><tr><th>29</th><td>0.603624</td><td>0.677079</td><td>0.144613</td><td>0.627157</td></tr><tr><th>30</th><td>0.0443766</td><td>0.695753</td><td>0.465207</td><td>0.746626</td></tr></tbody></table>"
      ],
      "text/latex": [
       "\\begin{tabular}{r|cccc}\n",
       "\t& x1 & x2 & x3 & x4\\\\\n",
       "\t\\hline\n",
       "\t& Float64 & Float64 & Float64 & Float64\\\\\n",
       "\t\\hline\n",
       "\t1 & 0.354199 & 0.915681 & 0.068166 & 0.0273653 \\\\\n",
       "\t2 & 0.1329 & 0.372323 & 0.211122 & 0.0569291 \\\\\n",
       "\t3 & 0.30075 & 0.113032 & 0.17566 & 0.840961 \\\\\n",
       "\t4 & 0.194507 & 0.670174 & 0.170987 & 0.969741 \\\\\n",
       "\t5 & 0.883704 & 0.140473 & 0.481834 & 0.274452 \\\\\n",
       "\t6 & 0.0677996 & 0.0813266 & 0.864876 & 0.0843292 \\\\\n",
       "\t7 & 0.0288386 & 0.469878 & 0.264359 & 0.162723 \\\\\n",
       "\t8 & 0.564608 & 0.993997 & 0.861325 & 0.979329 \\\\\n",
       "\t9 & 0.598869 & 0.355822 & 0.843625 & 0.0443796 \\\\\n",
       "\t10 & 0.303656 & 0.165132 & 0.493895 & 0.419696 \\\\\n",
       "\t11 & 0.500725 & 0.682579 & 0.324266 & 0.925068 \\\\\n",
       "\t12 & 0.409968 & 0.806625 & 0.746908 & 0.862063 \\\\\n",
       "\t13 & 0.146333 & 0.708011 & 0.509678 & 0.959321 \\\\\n",
       "\t14 & 0.647078 & 0.515411 & 0.919232 & 0.0566781 \\\\\n",
       "\t15 & 0.998546 & 0.608607 & 0.168084 & 0.204646 \\\\\n",
       "\t16 & 0.495394 & 0.887999 & 0.605675 & 0.0257907 \\\\\n",
       "\t17 & 0.654293 & 0.494824 & 0.778229 & 0.647767 \\\\\n",
       "\t18 & 0.834909 & 0.0895199 & 0.150454 & 0.893931 \\\\\n",
       "\t19 & 0.415662 & 0.34124 & 0.344408 & 0.334824 \\\\\n",
       "\t20 & 0.182757 & 0.52376 & 0.377464 & 0.307514 \\\\\n",
       "\t21 & 0.836482 & 0.661835 & 0.149005 & 0.129393 \\\\\n",
       "\t22 & 0.438327 & 0.833012 & 0.538435 & 0.727883 \\\\\n",
       "\t23 & 0.689977 & 0.498856 & 0.369212 & 0.322866 \\\\\n",
       "\t24 & 0.372259 & 0.937867 & 0.500337 & 0.574287 \\\\\n",
       "\t25 & 0.294863 & 0.956888 & 0.344757 & 0.694646 \\\\\n",
       "\t26 & 0.696311 & 0.610266 & 0.929902 & 0.523705 \\\\\n",
       "\t27 & 0.332355 & 0.0296453 & 0.520697 & 0.223059 \\\\\n",
       "\t28 & 0.415085 & 0.685393 & 0.613 & 0.873127 \\\\\n",
       "\t29 & 0.603624 & 0.677079 & 0.144613 & 0.627157 \\\\\n",
       "\t30 & 0.0443766 & 0.695753 & 0.465207 & 0.746626 \\\\\n",
       "\\end{tabular}\n"
      ],
      "text/plain": [
       "30×4 DataFrame\n",
       "│ Row │ x1        │ x2        │ x3       │ x4        │\n",
       "│     │ \u001b[90mFloat64\u001b[39m   │ \u001b[90mFloat64\u001b[39m   │ \u001b[90mFloat64\u001b[39m  │ \u001b[90mFloat64\u001b[39m   │\n",
       "├─────┼───────────┼───────────┼──────────┼───────────┤\n",
       "│ 1   │ 0.354199  │ 0.915681  │ 0.068166 │ 0.0273653 │\n",
       "│ 2   │ 0.1329    │ 0.372323  │ 0.211122 │ 0.0569291 │\n",
       "│ 3   │ 0.30075   │ 0.113032  │ 0.17566  │ 0.840961  │\n",
       "│ 4   │ 0.194507  │ 0.670174  │ 0.170987 │ 0.969741  │\n",
       "│ 5   │ 0.883704  │ 0.140473  │ 0.481834 │ 0.274452  │\n",
       "│ 6   │ 0.0677996 │ 0.0813266 │ 0.864876 │ 0.0843292 │\n",
       "│ 7   │ 0.0288386 │ 0.469878  │ 0.264359 │ 0.162723  │\n",
       "│ 8   │ 0.564608  │ 0.993997  │ 0.861325 │ 0.979329  │\n",
       "│ 9   │ 0.598869  │ 0.355822  │ 0.843625 │ 0.0443796 │\n",
       "│ 10  │ 0.303656  │ 0.165132  │ 0.493895 │ 0.419696  │\n",
       "⋮\n",
       "│ 20  │ 0.182757  │ 0.52376   │ 0.377464 │ 0.307514  │\n",
       "│ 21  │ 0.836482  │ 0.661835  │ 0.149005 │ 0.129393  │\n",
       "│ 22  │ 0.438327  │ 0.833012  │ 0.538435 │ 0.727883  │\n",
       "│ 23  │ 0.689977  │ 0.498856  │ 0.369212 │ 0.322866  │\n",
       "│ 24  │ 0.372259  │ 0.937867  │ 0.500337 │ 0.574287  │\n",
       "│ 25  │ 0.294863  │ 0.956888  │ 0.344757 │ 0.694646  │\n",
       "│ 26  │ 0.696311  │ 0.610266  │ 0.929902 │ 0.523705  │\n",
       "│ 27  │ 0.332355  │ 0.0296453 │ 0.520697 │ 0.223059  │\n",
       "│ 28  │ 0.415085  │ 0.685393  │ 0.613    │ 0.873127  │\n",
       "│ 29  │ 0.603624  │ 0.677079  │ 0.144613 │ 0.627157  │\n",
       "│ 30  │ 0.0443766 │ 0.695753  │ 0.465207 │ 0.746626  │"
      ]
     },
     "execution_count": 35,
     "metadata": {},
     "output_type": "execute_result"
    }
   ],
   "source": [
    "# Question 1: Create a dataframe named df1 with 30 rows and 4 columns\n",
    "df1 = DataFrame(rand(30,4))"
   ]
  },
  {
   "cell_type": "code",
   "execution_count": 31,
   "metadata": {},
   "outputs": [
    {
     "name": "stdout",
     "output_type": "stream",
     "text": [
      "1×4 DataFrame\n",
      "│ Row │ x1       │ x2       │ x3       │ x4       │\n",
      "│     │ \u001b[90mFloat64\u001b[39m  │ \u001b[90mFloat64\u001b[39m  │ \u001b[90mFloat64\u001b[39m  │ \u001b[90mFloat64\u001b[39m  │\n",
      "├─────┼──────────┼──────────┼──────────┼──────────┤\n",
      "│ 1   │ 0.501489 │ 0.416045 │ 0.437263 │ 0.530486 │\n",
      "1×4 DataFrame\n",
      "│ Row │ x1       │ x2        │ x3        │ x4        │\n",
      "│     │ \u001b[90mFloat64\u001b[39m  │ \u001b[90mFloat64\u001b[39m   │ \u001b[90mFloat64\u001b[39m   │ \u001b[90mFloat64\u001b[39m   │\n",
      "├─────┼──────────┼───────────┼───────────┼───────────┤\n",
      "│ 1   │ 0.106535 │ 0.0636044 │ 0.0756871 │ 0.0766205 │\n"
     ]
    }
   ],
   "source": [
    "# Question 2: Calculate mean and variance of each column of df1\n",
    "#println(colwise(mean, df1)),  colwise depricated\n",
    "println(mapcols(mean, df1))\n",
    "#println(var(df1))\n",
    "println(mapcols(var, df1))"
   ]
  },
  {
   "cell_type": "code",
   "execution_count": 42,
   "metadata": {},
   "outputs": [
    {
     "data": {
      "text/html": [
       "<table class=\"data-frame\"><thead><tr><th></th><th>x1</th><th>x2</th><th>x3</th><th>x4</th></tr><tr><th></th><th>Float64</th><th>Float64</th><th>Float64</th><th>Float64</th></tr></thead><tbody><p>20 rows × 4 columns</p><tr><th>1</th><td>0.500725</td><td>0.682579</td><td>0.324266</td><td>0.925068</td></tr><tr><th>2</th><td>0.409968</td><td>0.806625</td><td>0.746908</td><td>0.862063</td></tr><tr><th>3</th><td>0.146333</td><td>0.708011</td><td>0.509678</td><td>0.959321</td></tr><tr><th>4</th><td>0.647078</td><td>0.515411</td><td>0.919232</td><td>0.0566781</td></tr><tr><th>5</th><td>0.998546</td><td>0.608607</td><td>0.168084</td><td>0.204646</td></tr><tr><th>6</th><td>0.495394</td><td>0.887999</td><td>0.605675</td><td>0.0257907</td></tr><tr><th>7</th><td>0.654293</td><td>0.494824</td><td>0.778229</td><td>0.647767</td></tr><tr><th>8</th><td>0.834909</td><td>0.0895199</td><td>0.150454</td><td>0.893931</td></tr><tr><th>9</th><td>0.415662</td><td>0.34124</td><td>0.344408</td><td>0.334824</td></tr><tr><th>10</th><td>0.182757</td><td>0.52376</td><td>0.377464</td><td>0.307514</td></tr><tr><th>11</th><td>0.836482</td><td>0.661835</td><td>0.149005</td><td>0.129393</td></tr><tr><th>12</th><td>0.438327</td><td>0.833012</td><td>0.538435</td><td>0.727883</td></tr><tr><th>13</th><td>0.689977</td><td>0.498856</td><td>0.369212</td><td>0.322866</td></tr><tr><th>14</th><td>0.372259</td><td>0.937867</td><td>0.500337</td><td>0.574287</td></tr><tr><th>15</th><td>0.294863</td><td>0.956888</td><td>0.344757</td><td>0.694646</td></tr><tr><th>16</th><td>0.696311</td><td>0.610266</td><td>0.929902</td><td>0.523705</td></tr><tr><th>17</th><td>0.332355</td><td>0.0296453</td><td>0.520697</td><td>0.223059</td></tr><tr><th>18</th><td>0.415085</td><td>0.685393</td><td>0.613</td><td>0.873127</td></tr><tr><th>19</th><td>0.603624</td><td>0.677079</td><td>0.144613</td><td>0.627157</td></tr><tr><th>20</th><td>0.0443766</td><td>0.695753</td><td>0.465207</td><td>0.746626</td></tr></tbody></table>"
      ],
      "text/latex": [
       "\\begin{tabular}{r|cccc}\n",
       "\t& x1 & x2 & x3 & x4\\\\\n",
       "\t\\hline\n",
       "\t& Float64 & Float64 & Float64 & Float64\\\\\n",
       "\t\\hline\n",
       "\t1 & 0.500725 & 0.682579 & 0.324266 & 0.925068 \\\\\n",
       "\t2 & 0.409968 & 0.806625 & 0.746908 & 0.862063 \\\\\n",
       "\t3 & 0.146333 & 0.708011 & 0.509678 & 0.959321 \\\\\n",
       "\t4 & 0.647078 & 0.515411 & 0.919232 & 0.0566781 \\\\\n",
       "\t5 & 0.998546 & 0.608607 & 0.168084 & 0.204646 \\\\\n",
       "\t6 & 0.495394 & 0.887999 & 0.605675 & 0.0257907 \\\\\n",
       "\t7 & 0.654293 & 0.494824 & 0.778229 & 0.647767 \\\\\n",
       "\t8 & 0.834909 & 0.0895199 & 0.150454 & 0.893931 \\\\\n",
       "\t9 & 0.415662 & 0.34124 & 0.344408 & 0.334824 \\\\\n",
       "\t10 & 0.182757 & 0.52376 & 0.377464 & 0.307514 \\\\\n",
       "\t11 & 0.836482 & 0.661835 & 0.149005 & 0.129393 \\\\\n",
       "\t12 & 0.438327 & 0.833012 & 0.538435 & 0.727883 \\\\\n",
       "\t13 & 0.689977 & 0.498856 & 0.369212 & 0.322866 \\\\\n",
       "\t14 & 0.372259 & 0.937867 & 0.500337 & 0.574287 \\\\\n",
       "\t15 & 0.294863 & 0.956888 & 0.344757 & 0.694646 \\\\\n",
       "\t16 & 0.696311 & 0.610266 & 0.929902 & 0.523705 \\\\\n",
       "\t17 & 0.332355 & 0.0296453 & 0.520697 & 0.223059 \\\\\n",
       "\t18 & 0.415085 & 0.685393 & 0.613 & 0.873127 \\\\\n",
       "\t19 & 0.603624 & 0.677079 & 0.144613 & 0.627157 \\\\\n",
       "\t20 & 0.0443766 & 0.695753 & 0.465207 & 0.746626 \\\\\n",
       "\\end{tabular}\n"
      ],
      "text/plain": [
       "20×4 DataFrame\n",
       "│ Row │ x1        │ x2        │ x3       │ x4        │\n",
       "│     │ \u001b[90mFloat64\u001b[39m   │ \u001b[90mFloat64\u001b[39m   │ \u001b[90mFloat64\u001b[39m  │ \u001b[90mFloat64\u001b[39m   │\n",
       "├─────┼───────────┼───────────┼──────────┼───────────┤\n",
       "│ 1   │ 0.500725  │ 0.682579  │ 0.324266 │ 0.925068  │\n",
       "│ 2   │ 0.409968  │ 0.806625  │ 0.746908 │ 0.862063  │\n",
       "│ 3   │ 0.146333  │ 0.708011  │ 0.509678 │ 0.959321  │\n",
       "│ 4   │ 0.647078  │ 0.515411  │ 0.919232 │ 0.0566781 │\n",
       "│ 5   │ 0.998546  │ 0.608607  │ 0.168084 │ 0.204646  │\n",
       "│ 6   │ 0.495394  │ 0.887999  │ 0.605675 │ 0.0257907 │\n",
       "│ 7   │ 0.654293  │ 0.494824  │ 0.778229 │ 0.647767  │\n",
       "│ 8   │ 0.834909  │ 0.0895199 │ 0.150454 │ 0.893931  │\n",
       "│ 9   │ 0.415662  │ 0.34124   │ 0.344408 │ 0.334824  │\n",
       "│ 10  │ 0.182757  │ 0.52376   │ 0.377464 │ 0.307514  │\n",
       "│ 11  │ 0.836482  │ 0.661835  │ 0.149005 │ 0.129393  │\n",
       "│ 12  │ 0.438327  │ 0.833012  │ 0.538435 │ 0.727883  │\n",
       "│ 13  │ 0.689977  │ 0.498856  │ 0.369212 │ 0.322866  │\n",
       "│ 14  │ 0.372259  │ 0.937867  │ 0.500337 │ 0.574287  │\n",
       "│ 15  │ 0.294863  │ 0.956888  │ 0.344757 │ 0.694646  │\n",
       "│ 16  │ 0.696311  │ 0.610266  │ 0.929902 │ 0.523705  │\n",
       "│ 17  │ 0.332355  │ 0.0296453 │ 0.520697 │ 0.223059  │\n",
       "│ 18  │ 0.415085  │ 0.685393  │ 0.613    │ 0.873127  │\n",
       "│ 19  │ 0.603624  │ 0.677079  │ 0.144613 │ 0.627157  │\n",
       "│ 20  │ 0.0443766 │ 0.695753  │ 0.465207 │ 0.746626  │"
      ]
     },
     "execution_count": 42,
     "metadata": {},
     "output_type": "execute_result"
    }
   ],
   "source": [
    "# Question 3: Create a new dataframe named df2 from the last 20 rows of df1\n",
    "df2 = copy(df1[11:end, :])"
   ]
  },
  {
   "cell_type": "code",
   "execution_count": 43,
   "metadata": {},
   "outputs": [
    {
     "data": {
      "text/html": [
       "<table class=\"data-frame\"><thead><tr><th></th><th>variable</th><th>mean</th><th>min</th><th>median</th><th>max</th><th>nunique</th><th>nmissing</th><th>eltype</th></tr><tr><th></th><th>Symbol</th><th>Float64</th><th>Float64</th><th>Float64</th><th>Float64</th><th>Nothing</th><th>Nothing</th><th>DataType</th></tr></thead><tbody><p>4 rows × 8 columns</p><tr><th>1</th><td>x1</td><td>0.500466</td><td>0.0443766</td><td>0.46686</td><td>0.998546</td><td></td><td></td><td>Float64</td></tr><tr><th>2</th><td>x2</td><td>0.612258</td><td>0.0296453</td><td>0.669457</td><td>0.956888</td><td></td><td></td><td>Float64</td></tr><tr><th>3</th><td>x3</td><td>0.474978</td><td>0.144613</td><td>0.482772</td><td>0.929902</td><td></td><td></td><td>Float64</td></tr><tr><th>4</th><td>x4</td><td>0.533018</td><td>0.0257907</td><td>0.600722</td><td>0.959321</td><td></td><td></td><td>Float64</td></tr></tbody></table>"
      ],
      "text/latex": [
       "\\begin{tabular}{r|cccccccc}\n",
       "\t& variable & mean & min & median & max & nunique & nmissing & eltype\\\\\n",
       "\t\\hline\n",
       "\t& Symbol & Float64 & Float64 & Float64 & Float64 & Nothing & Nothing & DataType\\\\\n",
       "\t\\hline\n",
       "\t1 & x1 & 0.500466 & 0.0443766 & 0.46686 & 0.998546 &  &  & Float64 \\\\\n",
       "\t2 & x2 & 0.612258 & 0.0296453 & 0.669457 & 0.956888 &  &  & Float64 \\\\\n",
       "\t3 & x3 & 0.474978 & 0.144613 & 0.482772 & 0.929902 &  &  & Float64 \\\\\n",
       "\t4 & x4 & 0.533018 & 0.0257907 & 0.600722 & 0.959321 &  &  & Float64 \\\\\n",
       "\\end{tabular}\n"
      ],
      "text/plain": [
       "4×8 DataFrame. Omitted printing of 2 columns\n",
       "│ Row │ variable │ mean     │ min       │ median   │ max      │ nunique │\n",
       "│     │ \u001b[90mSymbol\u001b[39m   │ \u001b[90mFloat64\u001b[39m  │ \u001b[90mFloat64\u001b[39m   │ \u001b[90mFloat64\u001b[39m  │ \u001b[90mFloat64\u001b[39m  │ \u001b[90mNothing\u001b[39m │\n",
       "├─────┼──────────┼──────────┼───────────┼──────────┼──────────┼─────────┤\n",
       "│ 1   │ x1       │ 0.500466 │ 0.0443766 │ 0.46686  │ 0.998546 │         │\n",
       "│ 2   │ x2       │ 0.612258 │ 0.0296453 │ 0.669457 │ 0.956888 │         │\n",
       "│ 3   │ x3       │ 0.474978 │ 0.144613  │ 0.482772 │ 0.929902 │         │\n",
       "│ 4   │ x4       │ 0.533018 │ 0.0257907 │ 0.600722 │ 0.959321 │         │"
      ]
     },
     "execution_count": 43,
     "metadata": {},
     "output_type": "execute_result"
    }
   ],
   "source": [
    "# Question 4: Calculate a simple descriptive statistics on df2 using the describe() function\n",
    "describe(df2)"
   ]
  },
  {
   "cell_type": "code",
   "execution_count": 58,
   "metadata": {},
   "outputs": [
    {
     "name": "stderr",
     "output_type": "stream",
     "text": [
      "┌ Warning: `setindex!(df::DataFrame, v::AbstractVector, col_ind::ColumnIndex)` is deprecated, use `begin\n",
      "│     df[!, col_ind] = v\n",
      "│     df\n",
      "│ end` instead.\n",
      "│   caller = top-level scope at In[58]:1\n",
      "└ @ Core In[58]:1\n"
     ]
    },
    {
     "data": {
      "text/html": [
       "<table class=\"data-frame\"><thead><tr><th></th><th>id</th><th>var1</th><th>var2</th><th>var3</th><th>cat1</th></tr><tr><th></th><th>Float64</th><th>Float64</th><th>Float64</th><th>Float64</th><th>String</th></tr></thead><tbody><p>5 rows × 5 columns</p><tr><th>1</th><td>0.500725</td><td>0.682579</td><td>0.324266</td><td>0.925068</td><td>Group B</td></tr><tr><th>2</th><td>0.409968</td><td>0.806625</td><td>0.746908</td><td>0.862063</td><td>Group A</td></tr><tr><th>3</th><td>0.146333</td><td>0.708011</td><td>0.509678</td><td>0.959321</td><td>Group B</td></tr><tr><th>4</th><td>0.647078</td><td>0.515411</td><td>0.919232</td><td>0.0566781</td><td>Group A</td></tr><tr><th>5</th><td>0.998546</td><td>0.608607</td><td>0.168084</td><td>0.204646</td><td>Group B</td></tr></tbody></table>"
      ],
      "text/latex": [
       "\\begin{tabular}{r|ccccc}\n",
       "\t& id & var1 & var2 & var3 & cat1\\\\\n",
       "\t\\hline\n",
       "\t& Float64 & Float64 & Float64 & Float64 & String\\\\\n",
       "\t\\hline\n",
       "\t1 & 0.500725 & 0.682579 & 0.324266 & 0.925068 & Group B \\\\\n",
       "\t2 & 0.409968 & 0.806625 & 0.746908 & 0.862063 & Group A \\\\\n",
       "\t3 & 0.146333 & 0.708011 & 0.509678 & 0.959321 & Group B \\\\\n",
       "\t4 & 0.647078 & 0.515411 & 0.919232 & 0.0566781 & Group A \\\\\n",
       "\t5 & 0.998546 & 0.608607 & 0.168084 & 0.204646 & Group B \\\\\n",
       "\\end{tabular}\n"
      ],
      "text/plain": [
       "5×5 DataFrame\n",
       "│ Row │ id       │ var1     │ var2     │ var3      │ cat1    │\n",
       "│     │ \u001b[90mFloat64\u001b[39m  │ \u001b[90mFloat64\u001b[39m  │ \u001b[90mFloat64\u001b[39m  │ \u001b[90mFloat64\u001b[39m   │ \u001b[90mString\u001b[39m  │\n",
       "├─────┼──────────┼──────────┼──────────┼───────────┼─────────┤\n",
       "│ 1   │ 0.500725 │ 0.682579 │ 0.324266 │ 0.925068  │ Group B │\n",
       "│ 2   │ 0.409968 │ 0.806625 │ 0.746908 │ 0.862063  │ Group A │\n",
       "│ 3   │ 0.146333 │ 0.708011 │ 0.509678 │ 0.959321  │ Group B │\n",
       "│ 4   │ 0.647078 │ 0.515411 │ 0.919232 │ 0.0566781 │ Group A │\n",
       "│ 5   │ 0.998546 │ 0.608607 │ 0.168084 │ 0.204646  │ Group B │"
      ]
     },
     "execution_count": 58,
     "metadata": {},
     "output_type": "execute_result"
    }
   ],
   "source": [
    "# Question 5: Add a column named cat1 to df2 consisting of a random selection\n",
    "#of 20 values from the sample space \"GroupA\" and \"GroupB\"\n",
    "df2[:cat1] = rand([\"Group A\", \"Group B\"], 20)\n",
    "first(df2, 5)"
   ]
  },
  {
   "cell_type": "code",
   "execution_count": 59,
   "metadata": {},
   "outputs": [
    {
     "data": {
      "text/html": [
       "<table class=\"data-frame\"><thead><tr><th></th><th>id</th><th>var4</th><th>var5</th></tr><tr><th></th><th>Float64</th><th>Float64</th><th>Float64</th></tr></thead><tbody><p>5 rows × 3 columns</p><tr><th>1</th><td>0.820704</td><td>0.223431</td><td>0.870504</td></tr><tr><th>2</th><td>0.218171</td><td>0.879718</td><td>0.309381</td></tr><tr><th>3</th><td>0.490954</td><td>0.213974</td><td>0.698279</td></tr><tr><th>4</th><td>0.825234</td><td>0.86578</td><td>0.261362</td></tr><tr><th>5</th><td>0.50986</td><td>0.0747477</td><td>0.901623</td></tr></tbody></table>"
      ],
      "text/latex": [
       "\\begin{tabular}{r|ccc}\n",
       "\t& id & var4 & var5\\\\\n",
       "\t\\hline\n",
       "\t& Float64 & Float64 & Float64\\\\\n",
       "\t\\hline\n",
       "\t1 & 0.820704 & 0.223431 & 0.870504 \\\\\n",
       "\t2 & 0.218171 & 0.879718 & 0.309381 \\\\\n",
       "\t3 & 0.490954 & 0.213974 & 0.698279 \\\\\n",
       "\t4 & 0.825234 & 0.86578 & 0.261362 \\\\\n",
       "\t5 & 0.50986 & 0.0747477 & 0.901623 \\\\\n",
       "\\end{tabular}\n"
      ],
      "text/plain": [
       "5×3 DataFrame\n",
       "│ Row │ id       │ var4      │ var5     │\n",
       "│     │ \u001b[90mFloat64\u001b[39m  │ \u001b[90mFloat64\u001b[39m   │ \u001b[90mFloat64\u001b[39m  │\n",
       "├─────┼──────────┼───────────┼──────────┤\n",
       "│ 1   │ 0.820704 │ 0.223431  │ 0.870504 │\n",
       "│ 2   │ 0.218171 │ 0.879718  │ 0.309381 │\n",
       "│ 3   │ 0.490954 │ 0.213974  │ 0.698279 │\n",
       "│ 4   │ 0.825234 │ 0.86578   │ 0.261362 │\n",
       "│ 5   │ 0.50986  │ 0.0747477 │ 0.901623 │"
      ]
     },
     "execution_count": 59,
     "metadata": {},
     "output_type": "execute_result"
    }
   ],
   "source": [
    "# Question 6: Create a new dataframe df3 with columns named \"id\", \"var4\" and \"var5\"\n",
    "df3 = DataFrame(id = df2[:id], var4 = rand(20), var5 = rand(20));\n",
    "first(df3, 5)"
   ]
  },
  {
   "cell_type": "code",
   "execution_count": 63,
   "metadata": {},
   "outputs": [
    {
     "name": "stderr",
     "output_type": "stream",
     "text": [
      "┌ Warning: `getindex(df::DataFrame, col_ind::ColumnIndex)` is deprecated, use `df[!, col_ind]` instead.\n",
      "│   caller = top-level scope at In[63]:1\n",
      "└ @ Core In[63]:1\n"
     ]
    },
    {
     "data": {
      "text/html": [
       "<table class=\"data-frame\"><thead><tr><th></th><th>id</th><th>var1</th><th>var2</th><th>var3</th><th>cat1</th><th>var4</th><th>var5</th></tr><tr><th></th><th>Float64</th><th>Float64</th><th>Float64</th><th>Float64</th><th>String</th><th>Float64</th><th>Float64</th></tr></thead><tbody><p>20 rows × 7 columns</p><tr><th>1</th><td>0.500725</td><td>0.682579</td><td>0.324266</td><td>0.925068</td><td>Group B</td><td>0.325875</td><td>0.579804</td></tr><tr><th>2</th><td>0.409968</td><td>0.806625</td><td>0.746908</td><td>0.862063</td><td>Group A</td><td>0.540227</td><td>0.17767</td></tr><tr><th>3</th><td>0.146333</td><td>0.708011</td><td>0.509678</td><td>0.959321</td><td>Group B</td><td>0.460347</td><td>0.21599</td></tr><tr><th>4</th><td>0.647078</td><td>0.515411</td><td>0.919232</td><td>0.0566781</td><td>Group A</td><td>0.150717</td><td>0.653736</td></tr><tr><th>5</th><td>0.998546</td><td>0.608607</td><td>0.168084</td><td>0.204646</td><td>Group B</td><td>0.36424</td><td>0.62306</td></tr><tr><th>6</th><td>0.495394</td><td>0.887999</td><td>0.605675</td><td>0.0257907</td><td>Group A</td><td>0.705102</td><td>0.493349</td></tr><tr><th>7</th><td>0.654293</td><td>0.494824</td><td>0.778229</td><td>0.647767</td><td>Group A</td><td>0.513076</td><td>0.288415</td></tr><tr><th>8</th><td>0.834909</td><td>0.0895199</td><td>0.150454</td><td>0.893931</td><td>Group A</td><td>0.785725</td><td>0.161279</td></tr><tr><th>9</th><td>0.415662</td><td>0.34124</td><td>0.344408</td><td>0.334824</td><td>Group B</td><td>0.55088</td><td>0.0111998</td></tr><tr><th>10</th><td>0.182757</td><td>0.52376</td><td>0.377464</td><td>0.307514</td><td>Group A</td><td>0.69824</td><td>0.244427</td></tr><tr><th>11</th><td>0.836482</td><td>0.661835</td><td>0.149005</td><td>0.129393</td><td>Group A</td><td>0.655107</td><td>0.543645</td></tr><tr><th>12</th><td>0.438327</td><td>0.833012</td><td>0.538435</td><td>0.727883</td><td>Group B</td><td>0.393965</td><td>0.557577</td></tr><tr><th>13</th><td>0.689977</td><td>0.498856</td><td>0.369212</td><td>0.322866</td><td>Group B</td><td>0.70366</td><td>0.151413</td></tr><tr><th>14</th><td>0.372259</td><td>0.937867</td><td>0.500337</td><td>0.574287</td><td>Group A</td><td>0.748712</td><td>0.0337273</td></tr><tr><th>15</th><td>0.294863</td><td>0.956888</td><td>0.344757</td><td>0.694646</td><td>Group B</td><td>0.323301</td><td>0.486879</td></tr><tr><th>16</th><td>0.696311</td><td>0.610266</td><td>0.929902</td><td>0.523705</td><td>Group A</td><td>0.265199</td><td>0.64801</td></tr><tr><th>17</th><td>0.332355</td><td>0.0296453</td><td>0.520697</td><td>0.223059</td><td>Group B</td><td>0.110523</td><td>0.69939</td></tr><tr><th>18</th><td>0.415085</td><td>0.685393</td><td>0.613</td><td>0.873127</td><td>Group B</td><td>0.521984</td><td>0.456391</td></tr><tr><th>19</th><td>0.603624</td><td>0.677079</td><td>0.144613</td><td>0.627157</td><td>Group B</td><td>0.507998</td><td>0.788914</td></tr><tr><th>20</th><td>0.0443766</td><td>0.695753</td><td>0.465207</td><td>0.746626</td><td>Group A</td><td>0.53437</td><td>0.824593</td></tr></tbody></table>"
      ],
      "text/latex": [
       "\\begin{tabular}{r|ccccccc}\n",
       "\t& id & var1 & var2 & var3 & cat1 & var4 & var5\\\\\n",
       "\t\\hline\n",
       "\t& Float64 & Float64 & Float64 & Float64 & String & Float64 & Float64\\\\\n",
       "\t\\hline\n",
       "\t1 & 0.500725 & 0.682579 & 0.324266 & 0.925068 & Group B & 0.325875 & 0.579804 \\\\\n",
       "\t2 & 0.409968 & 0.806625 & 0.746908 & 0.862063 & Group A & 0.540227 & 0.17767 \\\\\n",
       "\t3 & 0.146333 & 0.708011 & 0.509678 & 0.959321 & Group B & 0.460347 & 0.21599 \\\\\n",
       "\t4 & 0.647078 & 0.515411 & 0.919232 & 0.0566781 & Group A & 0.150717 & 0.653736 \\\\\n",
       "\t5 & 0.998546 & 0.608607 & 0.168084 & 0.204646 & Group B & 0.36424 & 0.62306 \\\\\n",
       "\t6 & 0.495394 & 0.887999 & 0.605675 & 0.0257907 & Group A & 0.705102 & 0.493349 \\\\\n",
       "\t7 & 0.654293 & 0.494824 & 0.778229 & 0.647767 & Group A & 0.513076 & 0.288415 \\\\\n",
       "\t8 & 0.834909 & 0.0895199 & 0.150454 & 0.893931 & Group A & 0.785725 & 0.161279 \\\\\n",
       "\t9 & 0.415662 & 0.34124 & 0.344408 & 0.334824 & Group B & 0.55088 & 0.0111998 \\\\\n",
       "\t10 & 0.182757 & 0.52376 & 0.377464 & 0.307514 & Group A & 0.69824 & 0.244427 \\\\\n",
       "\t11 & 0.836482 & 0.661835 & 0.149005 & 0.129393 & Group A & 0.655107 & 0.543645 \\\\\n",
       "\t12 & 0.438327 & 0.833012 & 0.538435 & 0.727883 & Group B & 0.393965 & 0.557577 \\\\\n",
       "\t13 & 0.689977 & 0.498856 & 0.369212 & 0.322866 & Group B & 0.70366 & 0.151413 \\\\\n",
       "\t14 & 0.372259 & 0.937867 & 0.500337 & 0.574287 & Group A & 0.748712 & 0.0337273 \\\\\n",
       "\t15 & 0.294863 & 0.956888 & 0.344757 & 0.694646 & Group B & 0.323301 & 0.486879 \\\\\n",
       "\t16 & 0.696311 & 0.610266 & 0.929902 & 0.523705 & Group A & 0.265199 & 0.64801 \\\\\n",
       "\t17 & 0.332355 & 0.0296453 & 0.520697 & 0.223059 & Group B & 0.110523 & 0.69939 \\\\\n",
       "\t18 & 0.415085 & 0.685393 & 0.613 & 0.873127 & Group B & 0.521984 & 0.456391 \\\\\n",
       "\t19 & 0.603624 & 0.677079 & 0.144613 & 0.627157 & Group B & 0.507998 & 0.788914 \\\\\n",
       "\t20 & 0.0443766 & 0.695753 & 0.465207 & 0.746626 & Group A & 0.53437 & 0.824593 \\\\\n",
       "\\end{tabular}\n"
      ],
      "text/plain": [
       "20×7 DataFrame. Omitted printing of 1 columns\n",
       "│ Row │ id        │ var1      │ var2     │ var3      │ cat1    │ var4     │\n",
       "│     │ \u001b[90mFloat64\u001b[39m   │ \u001b[90mFloat64\u001b[39m   │ \u001b[90mFloat64\u001b[39m  │ \u001b[90mFloat64\u001b[39m   │ \u001b[90mString\u001b[39m  │ \u001b[90mFloat64\u001b[39m  │\n",
       "├─────┼───────────┼───────────┼──────────┼───────────┼─────────┼──────────┤\n",
       "│ 1   │ 0.500725  │ 0.682579  │ 0.324266 │ 0.925068  │ Group B │ 0.325875 │\n",
       "│ 2   │ 0.409968  │ 0.806625  │ 0.746908 │ 0.862063  │ Group A │ 0.540227 │\n",
       "│ 3   │ 0.146333  │ 0.708011  │ 0.509678 │ 0.959321  │ Group B │ 0.460347 │\n",
       "│ 4   │ 0.647078  │ 0.515411  │ 0.919232 │ 0.0566781 │ Group A │ 0.150717 │\n",
       "│ 5   │ 0.998546  │ 0.608607  │ 0.168084 │ 0.204646  │ Group B │ 0.36424  │\n",
       "│ 6   │ 0.495394  │ 0.887999  │ 0.605675 │ 0.0257907 │ Group A │ 0.705102 │\n",
       "│ 7   │ 0.654293  │ 0.494824  │ 0.778229 │ 0.647767  │ Group A │ 0.513076 │\n",
       "│ 8   │ 0.834909  │ 0.0895199 │ 0.150454 │ 0.893931  │ Group A │ 0.785725 │\n",
       "│ 9   │ 0.415662  │ 0.34124   │ 0.344408 │ 0.334824  │ Group B │ 0.55088  │\n",
       "│ 10  │ 0.182757  │ 0.52376   │ 0.377464 │ 0.307514  │ Group A │ 0.69824  │\n",
       "│ 11  │ 0.836482  │ 0.661835  │ 0.149005 │ 0.129393  │ Group A │ 0.655107 │\n",
       "│ 12  │ 0.438327  │ 0.833012  │ 0.538435 │ 0.727883  │ Group B │ 0.393965 │\n",
       "│ 13  │ 0.689977  │ 0.498856  │ 0.369212 │ 0.322866  │ Group B │ 0.70366  │\n",
       "│ 14  │ 0.372259  │ 0.937867  │ 0.500337 │ 0.574287  │ Group A │ 0.748712 │\n",
       "│ 15  │ 0.294863  │ 0.956888  │ 0.344757 │ 0.694646  │ Group B │ 0.323301 │\n",
       "│ 16  │ 0.696311  │ 0.610266  │ 0.929902 │ 0.523705  │ Group A │ 0.265199 │\n",
       "│ 17  │ 0.332355  │ 0.0296453 │ 0.520697 │ 0.223059  │ Group B │ 0.110523 │\n",
       "│ 18  │ 0.415085  │ 0.685393  │ 0.613    │ 0.873127  │ Group B │ 0.521984 │\n",
       "│ 19  │ 0.603624  │ 0.677079  │ 0.144613 │ 0.627157  │ Group B │ 0.507998 │\n",
       "│ 20  │ 0.0443766 │ 0.695753  │ 0.465207 │ 0.746626  │ Group A │ 0.53437  │"
      ]
     },
     "execution_count": 63,
     "metadata": {},
     "output_type": "execute_result"
    }
   ],
   "source": [
    "# Question 7: Join df2 and df3 on the ID column\n",
    "# and save the results as a new dataframe named df4 (hint: you can use innerjoin).\n",
    "#Have to rename the columns from df2 as they were not given names\n",
    "#Also because col id in both df2 and df3 are randomly generated, have to copy the vals of df2 to df3 as a generated df\n",
    "df3 = DataFrame(id = df2[:id], var4 = rand(20), var5 = rand(20));\n",
    "rename!(df2, [:id, :var1, :var2, :var3, :cat1])\n",
    "df4 = innerjoin(df2, df3, on=:id)\n",
    "df4"
   ]
  },
  {
   "cell_type": "code",
   "execution_count": null,
   "metadata": {},
   "outputs": [],
   "source": []
  }
 ],
 "metadata": {
  "kernelspec": {
   "display_name": "Julia 1.0.5",
   "language": "julia",
   "name": "julia-1.0"
  },
  "language_info": {
   "file_extension": ".jl",
   "mimetype": "application/julia",
   "name": "julia",
   "version": "1.0.5"
  }
 },
 "nbformat": 4,
 "nbformat_minor": 1
}
