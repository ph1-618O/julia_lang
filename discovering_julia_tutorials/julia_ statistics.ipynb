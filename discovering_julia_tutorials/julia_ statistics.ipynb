{
 "cells": [
  {
   "cell_type": "code",
   "execution_count": 1,
   "metadata": {},
   "outputs": [
    {
     "data": {
      "text/plain": [
       "4"
      ]
     },
     "execution_count": 1,
     "metadata": {},
     "output_type": "execute_result"
    }
   ],
   "source": [
    "# Checking the kernel\n",
    "# These are uncertain times :)\n",
    "+(2, 2)"
   ]
  },
  {
   "cell_type": "markdown",
   "metadata": {},
   "source": [
    "# Using Julia 1.0 for introductory statistics"
   ]
  },
  {
   "cell_type": "markdown",
   "metadata": {},
   "source": [
    "## Introduction"
   ]
  },
  {
   "cell_type": "markdown",
   "metadata": {},
   "source": [
    "Julia is well suited to general purpose data analysis.  It has many built-in statistical functions and there are many packages that greatly extend the capabilities of Julia as a scientific programming language for statistics."
   ]
  },
  {
   "cell_type": "markdown",
   "metadata": {},
   "source": [
    "In this section we will take a look at introductory statistics using Julia 1.0.  There are differences between this version of Julia and version 0.6.  Not all the packages that are available for version 0.6 and prior, are quite ready for version 1.0.  At the time of recording the packages that are used in this section do all compile and can be used."
   ]
  },
  {
   "cell_type": "markdown",
   "metadata": {},
   "source": [
    "In the first part of this section of the course, we will take a look at creating our own data for statistical analysis.  It is great to be able to generate simulated data, especially when you are just starting out and might not have access to proper datasets."
   ]
  },
  {
   "cell_type": "markdown",
   "metadata": {},
   "source": [
    "When viewing a new dataset, it is alway good to start by describing it.  Human beings are not designed to look at large tables of data and understand what it is trying to tell us.  Using summarizing, or descriptive, statistics helps us to gain an insight into the data before we start to analyze it."
   ]
  },
  {
   "cell_type": "markdown",
   "metadata": {},
   "source": [
    "This section will also look at visualizing data.  It many cases, this allows for an even better understanding of the data."
   ]
  },
  {
   "cell_type": "markdown",
   "metadata": {},
   "source": [
    "The `HypothesisTests` and `GLM` packages allow us to do many common statistical tests and we will have a look at Student's _t_ test, linear regression models, and the $\\chi^2$ test for independence."
   ]
  },
  {
   "cell_type": "markdown",
   "metadata": {},
   "source": [
    "We will conclude with a look at exporting our data in the form of a spreadsheet.  Let's start, though, by importing the packages that we will be using."
   ]
  },
  {
   "cell_type": "markdown",
   "metadata": {},
   "source": [
    "## Adding packages"
   ]
  },
  {
   "cell_type": "markdown",
   "metadata": {},
   "source": [
    "If the packages that are listed below are not installed on your system, then do the following for each package, i.e. `PyPlot`.\n",
    "\n",
    "```\n",
    "using Pkg;\n",
    "Pkg.add(\"PyPlot\")\n",
    "```"
   ]
  },
  {
   "cell_type": "code",
   "execution_count": 1,
   "metadata": {},
   "outputs": [],
   "source": [
    "# The loop code below is best run from Julia REPL because IJULIA is slow\n",
    "# Copy cell and run in JULIA repl\n",
    "# using Pkg\n",
    "# import Pkg\n",
    "# #Check if Pkgs are installed\n",
    "# Pkg.installed()\n",
    "# install_pkgs = [\"Pyplot\", \"Distributions\", \"StatsBase\", \"CSV\", \"DataFrames\", \"HypothesisTests\", \"StatsPlots\", \"GLM\"]\n",
    "# for pkg in install_pkgs\n",
    "#     Pkg.add(pkg)\n",
    "# end"
   ]
  },
  {
   "cell_type": "code",
   "execution_count": 2,
   "metadata": {
    "scrolled": true
   },
   "outputs": [
    {
     "name": "stderr",
     "output_type": "stream",
     "text": [
      "┌ Info: Precompiling Distributions [31c24e10-a181-5473-b8eb-7969acd0382f]\n",
      "└ @ Base loading.jl:1192\n",
      "┌ Info: Precompiling CSV [336ed68f-0bac-5ca0-87d4-7b16caf5d00b]\n",
      "└ @ Base loading.jl:1192\n",
      "┌ Info: Precompiling DataFrames [a93c6f00-e57d-5684-b7b6-d8193f3e46c0]\n",
      "└ @ Base loading.jl:1192\n",
      "┌ Info: Precompiling HypothesisTests [09f84164-cd44-5f33-b23f-e6b0d136a0d5]\n",
      "└ @ Base loading.jl:1192\n",
      "┌ Info: Precompiling StatsPlots [f3b207a7-027a-5e70-b257-86293d7955fd]\n",
      "└ @ Base loading.jl:1192\n",
      "┌ Info: Precompiling GLM [38e38edf-8417-5370-95a0-9cbb8c7f171a]\n",
      "└ @ Base loading.jl:1192\n"
     ]
    }
   ],
   "source": [
    "using Distributions    # Create random variables\n",
    "using StatsBase        # Basic statistical support\n",
    "using CSV              # Reading and writing CSV files\n",
    "using DataFrames       # Create a data structure\n",
    "using HypothesisTests  # Perform statistical tests\n",
    "using StatsPlots       # Statistical plotting\n",
    "using GLM              # General linear models"
   ]
  },
  {
   "cell_type": "code",
   "execution_count": 3,
   "metadata": {},
   "outputs": [],
   "source": [
    "using Plots"
   ]
  },
  {
   "cell_type": "code",
   "execution_count": 4,
   "metadata": {},
   "outputs": [
    {
     "name": "stderr",
     "output_type": "stream",
     "text": [
      "┌ Info: Precompiling Plotly [58dd65bb-95f3-509e-9936-c39a10fdeae7]\n",
      "└ @ Base loading.jl:1192\n"
     ]
    },
    {
     "data": {
      "text/html": [
       "<script>\n",
       "// Immediately-invoked-function-expression to avoid global variables.\n",
       "(function() {\n",
       "    var warning_div = document.getElementById(\"webio-warning-13065069480123397540\");\n",
       "    var hide = function () {\n",
       "        var script = document.getElementById(\"webio-setup-9494781052950300766\");\n",
       "        var parent = script && script.parentElement;\n",
       "        var grandparent = parent && parent.parentElement;\n",
       "        if (grandparent) {\n",
       "            grandparent.style.display = \"none\";\n",
       "        }\n",
       "        warning_div.style.display = \"none\";\n",
       "    };\n",
       "    if (typeof Jupyter !== \"undefined\") {\n",
       "        console.log(\"WebIO detected Jupyter notebook environment.\");\n",
       "        // Jupyter notebook.\n",
       "        var extensions = (\n",
       "            Jupyter\n",
       "            && Jupyter.notebook.config.data\n",
       "            && Jupyter.notebook.config.data.load_extensions\n",
       "        );\n",
       "        if (extensions && extensions[\"webio-jupyter-notebook\"]) {\n",
       "            // Extension already loaded.\n",
       "            console.log(\"Jupyter WebIO nbextension detected; not loading ad-hoc.\");\n",
       "            hide();\n",
       "            return;\n",
       "        }\n",
       "    } else if (window.location.pathname.includes(\"/lab\")) {\n",
       "        // Guessing JupyterLa\n",
       "        console.log(\"Jupyter Lab detected; make sure the @webio/jupyter-lab-provider labextension is installed.\");\n",
       "        hide();\n",
       "        return;\n",
       "    }\n",
       "})();\n",
       "\n",
       "</script>\n",
       "<p\n",
       "    id=\"webio-warning-13065069480123397540\"\n",
       "    class=\"output_text output_stderr\"\n",
       "    style=\"padding: 1em; font-weight: bold;\"\n",
       ">\n",
       "    Unable to load WebIO. Please make sure WebIO works for your Jupyter client.\n",
       "    For troubleshooting, please see <a href=\"https://juliagizmos.github.io/WebIO.jl/latest/providers/ijulia/\">\n",
       "    the WebIO/IJulia documentation</a>.\n",
       "    <!-- TODO: link to installation docs. -->\n",
       "</p>\n"
      ],
      "text/plain": [
       "HTML{String}(\"<script>\\n// Immediately-invoked-function-expression to avoid global variables.\\n(function() {\\n    var warning_div = document.getElementById(\\\"webio-warning-13065069480123397540\\\");\\n    var hide = function () {\\n        var script = document.getElementById(\\\"webio-setup-9494781052950300766\\\");\\n        var parent = script && script.parentElement;\\n        var grandparent = parent && parent.parentElement;\\n        if (grandparent) {\\n            grandparent.style.display = \\\"none\\\";\\n        }\\n        warning_div.style.display = \\\"none\\\";\\n    };\\n    if (typeof Jupyter !== \\\"undefined\\\") {\\n        console.log(\\\"WebIO detected Jupyter notebook environment.\\\");\\n        // Jupyter notebook.\\n        var extensions = (\\n            Jupyter\\n            && Jupyter.notebook.config.data\\n            && Jupyter.notebook.config.data.load_extensions\\n        );\\n        if (extensions && extensions[\\\"webio-jupyter-notebook\\\"]) {\\n            // Extension already loaded.\\n            console.log(\\\"Jupyter WebIO nbextension detected; not loading ad-hoc.\\\");\\n            hide();\\n            return;\\n        }\\n    } else if (window.location.pathname.includes(\\\"/lab\\\")) {\\n        // Guessing JupyterLa\\n        console.log(\\\"Jupyter Lab detected; make sure the @webio/jupyter-lab-provider labextension is installed.\\\");\\n        hide();\\n        return;\\n    }\\n})();\\n\\n</script>\\n<p\\n    id=\\\"webio-warning-13065069480123397540\\\"\\n    class=\\\"output_text output_stderr\\\"\\n    style=\\\"padding: 1em; font-weight: bold;\\\"\\n>\\n    Unable to load WebIO. Please make sure WebIO works for your Jupyter client.\\n    For troubleshooting, please see <a href=\\\"https://juliagizmos.github.io/WebIO.jl/latest/providers/ijulia/\\\">\\n    the WebIO/IJulia documentation</a>.\\n    <!-- TODO: link to installation docs. -->\\n</p>\\n\")"
      ]
     },
     "metadata": {},
     "output_type": "display_data"
    }
   ],
   "source": [
    "using Plotly"
   ]
  },
  {
   "cell_type": "code",
   "execution_count": null,
   "metadata": {},
   "outputs": [],
   "source": [
    "# import Pkg; Pkg.add(\"Pyplot\")\n",
    "# # If that doesnt work use:: \n",
    "# ] add PyPlot"
   ]
  },
  {
   "cell_type": "code",
   "execution_count": 7,
   "metadata": {},
   "outputs": [
    {
     "name": "stderr",
     "output_type": "stream",
     "text": [
      "┌ Info: Precompiling PyPlot [d330b81b-6aea-500a-939a-2ce795aea3ee]\n",
      "└ @ Base loading.jl:1192\n",
      "┌ Info: Installing matplotlib via the Conda matplotlib package...\n",
      "└ @ PyCall /Users/Jen/.julia/packages/PyCall/tqyST/src/PyCall.jl:708\n",
      "┌ Info: Running `conda install -y matplotlib` in root environment\n",
      "└ @ Conda /Users/Jen/.julia/packages/Conda/tJJuN/src/Conda.jl:128\n"
     ]
    },
    {
     "name": "stdout",
     "output_type": "stream",
     "text": [
      "Collecting package metadata (current_repodata.json): ...working... done\n",
      "Solving environment: ...working... done\n",
      "\n",
      "## Package Plan ##\n",
      "\n",
      "  environment location: /Users/Jen/.julia/conda/3\n",
      "\n",
      "  added / updated specs:\n",
      "    - matplotlib\n",
      "\n",
      "\n",
      "The following packages will be downloaded:\n",
      "\n",
      "    package                    |            build\n",
      "    ---------------------------|-----------------\n",
      "    cycler-0.10.0              |           py38_0          14 KB\n",
      "    freetype-2.10.4            |       ha233b18_0         564 KB\n",
      "    jpeg-9b                    |       he5867d9_2         201 KB\n",
      "    kiwisolver-1.3.1           |   py38h23ab428_0          52 KB\n",
      "    lcms2-2.11                 |       h92f6f08_0         278 KB\n",
      "    libpng-1.6.37              |       ha441bb4_0         262 KB\n",
      "    libtiff-4.2.0              |       h87d7836_0         462 KB\n",
      "    libwebp-base-1.2.0         |       h9ed2024_0         389 KB\n",
      "    lz4-c-1.9.3                |       h23ab428_0         140 KB\n",
      "    matplotlib-3.3.4           |   py38hecd8cb5_0          26 KB\n",
      "    matplotlib-base-3.3.4      |   py38h8b3ea08_0         5.1 MB\n",
      "    olefile-0.46               |             py_0          33 KB\n",
      "    pillow-8.1.2               |   py38h5270095_0         589 KB\n",
      "    pyparsing-2.4.7            |     pyhd3eb1b0_0          59 KB\n",
      "    python-dateutil-2.8.1      |     pyhd3eb1b0_0         221 KB\n",
      "    tornado-6.1                |   py38h9ed2024_0         585 KB\n",
      "    zstd-1.4.5                 |       h41d2c2f_0         442 KB\n",
      "    ------------------------------------------------------------\n",
      "                                           Total:         9.3 MB\n",
      "\n",
      "The following NEW packages will be INSTALLED:\n",
      "\n",
      "  cycler             pkgs/main/osx-64::cycler-0.10.0-py38_0\n",
      "  freetype           pkgs/main/osx-64::freetype-2.10.4-ha233b18_0\n",
      "  jpeg               pkgs/main/osx-64::jpeg-9b-he5867d9_2\n",
      "  kiwisolver         pkgs/main/osx-64::kiwisolver-1.3.1-py38h23ab428_0\n",
      "  lcms2              pkgs/main/osx-64::lcms2-2.11-h92f6f08_0\n",
      "  libpng             pkgs/main/osx-64::libpng-1.6.37-ha441bb4_0\n",
      "  libtiff            pkgs/main/osx-64::libtiff-4.2.0-h87d7836_0\n",
      "  libwebp-base       pkgs/main/osx-64::libwebp-base-1.2.0-h9ed2024_0\n",
      "  lz4-c              pkgs/main/osx-64::lz4-c-1.9.3-h23ab428_0\n",
      "  matplotlib         pkgs/main/osx-64::matplotlib-3.3.4-py38hecd8cb5_0\n",
      "  matplotlib-base    pkgs/main/osx-64::matplotlib-base-3.3.4-py38h8b3ea08_0\n",
      "  olefile            pkgs/main/noarch::olefile-0.46-py_0\n",
      "  pillow             pkgs/main/osx-64::pillow-8.1.2-py38h5270095_0\n",
      "  pyparsing          pkgs/main/noarch::pyparsing-2.4.7-pyhd3eb1b0_0\n",
      "  python-dateutil    pkgs/main/noarch::python-dateutil-2.8.1-pyhd3eb1b0_0\n",
      "  tornado            pkgs/main/osx-64::tornado-6.1-py38h9ed2024_0\n",
      "  zstd               pkgs/main/osx-64::zstd-1.4.5-h41d2c2f_0\n",
      "\n",
      "\n",
      "\n",
      "Downloading and Extracting Packages\n",
      "libtiff-4.2.0        | 462 KB    | #################################### | 100% \n",
      "lcms2-2.11           | 278 KB    | #################################### | 100% \n",
      "kiwisolver-1.3.1     | 52 KB     | #################################### | 100% \n",
      "python-dateutil-2.8. | 221 KB    | #################################### | 100% \n",
      "matplotlib-base-3.3. | 5.1 MB    | #################################### | 100% \n",
      "libwebp-base-1.2.0   | 389 KB    | #################################### | 100% \n",
      "freetype-2.10.4      | 564 KB    | #################################### | 100% \n",
      "jpeg-9b              | 201 KB    | #################################### | 100% \n",
      "lz4-c-1.9.3          | 140 KB    | #################################### | 100% \n",
      "tornado-6.1          | 585 KB    | #################################### | 100% \n",
      "pillow-8.1.2         | 589 KB    | #################################### | 100% \n",
      "pyparsing-2.4.7      | 59 KB     | #################################### | 100% \n",
      "cycler-0.10.0        | 14 KB     | #################################### | 100% \n",
      "olefile-0.46         | 33 KB     | #################################### | 100% \n",
      "matplotlib-3.3.4     | 26 KB     | #################################### | 100% \n",
      "zstd-1.4.5           | 442 KB    | #################################### | 100% \n",
      "libpng-1.6.37        | 262 KB    | #################################### | 100% \n",
      "Preparing transaction: ...working... done\n",
      "Verifying transaction: ...working... done\n",
      "Executing transaction: ...working... done\n"
     ]
    },
    {
     "data": {
      "text/plain": [
       "Plots.PyPlotBackend()"
      ]
     },
     "execution_count": 7,
     "metadata": {},
     "output_type": "execute_result"
    }
   ],
   "source": [
    "pyplot()               # use pyplot backend "
   ]
  },
  {
   "cell_type": "markdown",
   "metadata": {},
   "source": [
    "## Creating random variable"
   ]
  },
  {
   "cell_type": "markdown",
   "metadata": {},
   "source": [
    "We mentioned in the introduction that the creation of simulated data is a great way to start learning how to use Julia for statistics.  In the code below, we create five variables with random data point values."
   ]
  },
  {
   "cell_type": "code",
   "execution_count": 11,
   "metadata": {},
   "outputs": [],
   "source": [
    "#Creating 100 random nos between range 18 and 80 in an Int64 array\n",
    "age = rand(18:80, 100);  # Uniform distribution\n",
    "# println(age)\n",
    "# length(age)\n",
    "# typeof(age)\n",
    "\n",
    "#white cell count\n",
    "#not necessary to use Distrubutions Normal\n",
    "#Distributions.Normal(mean, standard deviation), howmany), digits = single decimal pt)\n",
    "#round. the period is important\n",
    "wcc = round.(rand(Distributions.Normal(12, 2), 100), digits = 1)  # Normal distribution & round to one decimal place\n",
    "\n",
    "#crp is c reactive protien\n",
    "#asking for 100 integers, from Chi Squared\n",
    "#Distributions.chi squared(degrees of freedom)\n",
    "#Broadcasting to scaling .muliply10\n",
    "crp = round.(Int, rand(Distributions.Chisq(4), 100)) .* 10  # Chi-squared distribution with broadcasting & alternate round()\n",
    "\n",
    "#Passing a list, 100 uniform distribution of either A or B into a 1 dimensional array\n",
    "treatment = rand([\"A\", \"B\"], 100); # Uniformly weighted\n",
    "#treatment\n",
    "\n",
    "result = rand([\"Improved\", \"Static\", \"Worse\"], 100);  # Uniformly weighted"
   ]
  },
  {
   "cell_type": "markdown",
   "metadata": {},
   "source": [
    "## Descriptive statistics"
   ]
  },
  {
   "cell_type": "markdown",
   "metadata": {},
   "source": [
    "While there are common statistical function in Julia such as `mean()` and `std()`, it is more convenient to use the `describe()` function from the `StatsBase` package."
   ]
  },
  {
   "cell_type": "code",
   "execution_count": 12,
   "metadata": {},
   "outputs": [
    {
     "name": "stdout",
     "output_type": "stream",
     "text": [
      "51.02\n",
      "51.0\n",
      "18.12859786652185\n",
      "328.6460606060606\n"
     ]
    }
   ],
   "source": [
    "# Mean of the age variable\n",
    "println(mean(age))\n",
    "#median removes outliers\n",
    "println(median(age))\n",
    "#standard deviation is the square root of the variance\n",
    "println(std(age))\n",
    "#variance\n",
    "println(var(age))"
   ]
  },
  {
   "cell_type": "code",
   "execution_count": 13,
   "metadata": {},
   "outputs": [
    {
     "name": "stdout",
     "output_type": "stream",
     "text": [
      "11.795\n",
      "2.050344883529145\n"
     ]
    }
   ],
   "source": [
    "#The mean should be very close to the standard deviation of 12\n",
    "#and the standard dev should be close to the mean of 2\n",
    "println(mean(wcc))\n",
    "println(std(wcc))"
   ]
  },
  {
   "cell_type": "code",
   "execution_count": 14,
   "metadata": {},
   "outputs": [
    {
     "name": "stdout",
     "output_type": "stream",
     "text": [
      "Summary Stats:\n",
      "Length:         100\n",
      "Missing Count:  0\n",
      "Mean:           51.020000\n",
      "Minimum:        18.000000\n",
      "1st Quartile:   36.500000\n",
      "Median:         51.000000\n",
      "3rd Quartile:   67.250000\n",
      "Maximum:        80.000000\n",
      "Type:           Int64\n"
     ]
    }
   ],
   "source": [
    "# Descriptive statistics of the age variable\n",
    "StatsBase.describe(age)"
   ]
  },
  {
   "cell_type": "code",
   "execution_count": 15,
   "metadata": {},
   "outputs": [
    {
     "data": {
      "text/plain": [
       "Summary Stats:\n",
       "Length:         100\n",
       "Missing Count:  0\n",
       "Mean:           11.795000\n",
       "Minimum:        6.400000\n",
       "1st Quartile:   10.375000\n",
       "Median:         12.050000\n",
       "3rd Quartile:   13.200000\n",
       "Maximum:        16.100000\n"
      ]
     },
     "execution_count": 15,
     "metadata": {},
     "output_type": "execute_result"
    }
   ],
   "source": [
    "# The summarystats() function omits the length and type\n",
    "StatsBase.summarystats(wcc)"
   ]
  },
  {
   "cell_type": "markdown",
   "metadata": {},
   "source": [
    "## Creating a dataframe"
   ]
  },
  {
   "cell_type": "markdown",
   "metadata": {},
   "source": [
    "When creating simulated data, it is best to store it in a dataframe object for easier manipulation."
   ]
  },
  {
   "cell_type": "code",
   "execution_count": 16,
   "metadata": {},
   "outputs": [],
   "source": [
    "#Format var = DataFrame(col1_name = values, ....)\n",
    "data = DataFrame(Age = age, WCC = wcc, CRP = crp, Treatment = treatment, Result = result);"
   ]
  },
  {
   "cell_type": "code",
   "execution_count": 17,
   "metadata": {},
   "outputs": [
    {
     "data": {
      "text/plain": [
       "(100, 5)"
      ]
     },
     "execution_count": 17,
     "metadata": {},
     "output_type": "execute_result"
    }
   ],
   "source": [
    "# Number of rows and columns\n",
    "size(data)"
   ]
  },
  {
   "cell_type": "code",
   "execution_count": 18,
   "metadata": {},
   "outputs": [
    {
     "data": {
      "text/html": [
       "<table class=\"data-frame\"><thead><tr><th></th><th>Age</th><th>WCC</th><th>CRP</th><th>Treatment</th><th>Result</th></tr><tr><th></th><th>Int64</th><th>Float64</th><th>Int64</th><th>String</th><th>String</th></tr></thead><tbody><p>6 rows × 5 columns</p><tr><th>1</th><td>74</td><td>11.4</td><td>20</td><td>A</td><td>Worse</td></tr><tr><th>2</th><td>20</td><td>16.1</td><td>30</td><td>B</td><td>Worse</td></tr><tr><th>3</th><td>47</td><td>7.0</td><td>40</td><td>A</td><td>Worse</td></tr><tr><th>4</th><td>41</td><td>14.0</td><td>50</td><td>A</td><td>Static</td></tr><tr><th>5</th><td>50</td><td>13.4</td><td>40</td><td>A</td><td>Worse</td></tr><tr><th>6</th><td>73</td><td>7.5</td><td>80</td><td>B</td><td>Worse</td></tr></tbody></table>"
      ],
      "text/latex": [
       "\\begin{tabular}{r|ccccc}\n",
       "\t& Age & WCC & CRP & Treatment & Result\\\\\n",
       "\t\\hline\n",
       "\t& Int64 & Float64 & Int64 & String & String\\\\\n",
       "\t\\hline\n",
       "\t1 & 74 & 11.4 & 20 & A & Worse \\\\\n",
       "\t2 & 20 & 16.1 & 30 & B & Worse \\\\\n",
       "\t3 & 47 & 7.0 & 40 & A & Worse \\\\\n",
       "\t4 & 41 & 14.0 & 50 & A & Static \\\\\n",
       "\t5 & 50 & 13.4 & 40 & A & Worse \\\\\n",
       "\t6 & 73 & 7.5 & 80 & B & Worse \\\\\n",
       "\\end{tabular}\n"
      ],
      "text/plain": [
       "6×5 DataFrame\n",
       "│ Row │ Age   │ WCC     │ CRP   │ Treatment │ Result │\n",
       "│     │ \u001b[90mInt64\u001b[39m │ \u001b[90mFloat64\u001b[39m │ \u001b[90mInt64\u001b[39m │ \u001b[90mString\u001b[39m    │ \u001b[90mString\u001b[39m │\n",
       "├─────┼───────┼─────────┼───────┼───────────┼────────┤\n",
       "│ 1   │ 74    │ 11.4    │ 20    │ A         │ Worse  │\n",
       "│ 2   │ 20    │ 16.1    │ 30    │ B         │ Worse  │\n",
       "│ 3   │ 47    │ 7.0     │ 40    │ A         │ Worse  │\n",
       "│ 4   │ 41    │ 14.0    │ 50    │ A         │ Static │\n",
       "│ 5   │ 50    │ 13.4    │ 40    │ A         │ Worse  │\n",
       "│ 6   │ 73    │ 7.5     │ 80    │ B         │ Worse  │"
      ]
     },
     "execution_count": 18,
     "metadata": {},
     "output_type": "execute_result"
    }
   ],
   "source": [
    "# First six rows\n",
    "first(data, 6)"
   ]
  },
  {
   "cell_type": "markdown",
   "metadata": {},
   "source": [
    "We can create dataframe objects by selecting only subjects according to their data point values for a particular variable."
   ]
  },
  {
   "cell_type": "code",
   "execution_count": 19,
   "metadata": {},
   "outputs": [],
   "source": [
    "# In newer version of DataFrames package\n",
    "# df[!, :Treatment] returns vector\n",
    "# df[!, [:Treatment]] returns dataframe object"
   ]
  },
  {
   "cell_type": "code",
   "execution_count": 20,
   "metadata": {
    "scrolled": true
   },
   "outputs": [],
   "source": [
    "#How to use a boolean ==, !=, to select certain data from a DF\n",
    "#dataA = data[data[rows:rows, :symbolcolumn] .== \"A\", (return true if A) :(get all columns)]\n",
    "dataA = data[data[:, :Treatment] .== \"A\", :]  # Only patient in treatment group A\n",
    "dataB = data[data[:, :Treatment] .== \"B\", :];  # Only patient in treatment group B"
   ]
  },
  {
   "cell_type": "code",
   "execution_count": 21,
   "metadata": {},
   "outputs": [
    {
     "data": {
      "text/html": [
       "<table class=\"data-frame\"><thead><tr><th></th><th>Age</th><th>WCC</th><th>CRP</th><th>Treatment</th><th>Result</th></tr><tr><th></th><th>Int64</th><th>Float64</th><th>Int64</th><th>String</th><th>String</th></tr></thead><tbody><p>6 rows × 5 columns</p><tr><th>1</th><td>74</td><td>11.4</td><td>20</td><td>A</td><td>Worse</td></tr><tr><th>2</th><td>47</td><td>7.0</td><td>40</td><td>A</td><td>Worse</td></tr><tr><th>3</th><td>41</td><td>14.0</td><td>50</td><td>A</td><td>Static</td></tr><tr><th>4</th><td>50</td><td>13.4</td><td>40</td><td>A</td><td>Worse</td></tr><tr><th>5</th><td>18</td><td>14.6</td><td>70</td><td>A</td><td>Static</td></tr><tr><th>6</th><td>65</td><td>12.8</td><td>30</td><td>A</td><td>Worse</td></tr></tbody></table>"
      ],
      "text/latex": [
       "\\begin{tabular}{r|ccccc}\n",
       "\t& Age & WCC & CRP & Treatment & Result\\\\\n",
       "\t\\hline\n",
       "\t& Int64 & Float64 & Int64 & String & String\\\\\n",
       "\t\\hline\n",
       "\t1 & 74 & 11.4 & 20 & A & Worse \\\\\n",
       "\t2 & 47 & 7.0 & 40 & A & Worse \\\\\n",
       "\t3 & 41 & 14.0 & 50 & A & Static \\\\\n",
       "\t4 & 50 & 13.4 & 40 & A & Worse \\\\\n",
       "\t5 & 18 & 14.6 & 70 & A & Static \\\\\n",
       "\t6 & 65 & 12.8 & 30 & A & Worse \\\\\n",
       "\\end{tabular}\n"
      ],
      "text/plain": [
       "6×5 DataFrame\n",
       "│ Row │ Age   │ WCC     │ CRP   │ Treatment │ Result │\n",
       "│     │ \u001b[90mInt64\u001b[39m │ \u001b[90mFloat64\u001b[39m │ \u001b[90mInt64\u001b[39m │ \u001b[90mString\u001b[39m    │ \u001b[90mString\u001b[39m │\n",
       "├─────┼───────┼─────────┼───────┼───────────┼────────┤\n",
       "│ 1   │ 74    │ 11.4    │ 20    │ A         │ Worse  │\n",
       "│ 2   │ 47    │ 7.0     │ 40    │ A         │ Worse  │\n",
       "│ 3   │ 41    │ 14.0    │ 50    │ A         │ Static │\n",
       "│ 4   │ 50    │ 13.4    │ 40    │ A         │ Worse  │\n",
       "│ 5   │ 18    │ 14.6    │ 70    │ A         │ Static │\n",
       "│ 6   │ 65    │ 12.8    │ 30    │ A         │ Worse  │"
      ]
     },
     "execution_count": 21,
     "metadata": {},
     "output_type": "execute_result"
    }
   ],
   "source": [
    "first(dataA, 6)"
   ]
  },
  {
   "cell_type": "code",
   "execution_count": 22,
   "metadata": {},
   "outputs": [
    {
     "data": {
      "text/html": [
       "<table class=\"data-frame\"><thead><tr><th></th><th>Age</th><th>WCC</th><th>CRP</th><th>Treatment</th><th>Result</th></tr><tr><th></th><th>Int64</th><th>Float64</th><th>Int64</th><th>String</th><th>String</th></tr></thead><tbody><p>6 rows × 5 columns</p><tr><th>1</th><td>20</td><td>16.1</td><td>30</td><td>B</td><td>Worse</td></tr><tr><th>2</th><td>73</td><td>7.5</td><td>80</td><td>B</td><td>Worse</td></tr><tr><th>3</th><td>75</td><td>10.9</td><td>40</td><td>B</td><td>Static</td></tr><tr><th>4</th><td>27</td><td>11.7</td><td>30</td><td>B</td><td>Worse</td></tr><tr><th>5</th><td>23</td><td>12.7</td><td>40</td><td>B</td><td>Worse</td></tr><tr><th>6</th><td>57</td><td>13.0</td><td>10</td><td>B</td><td>Improved</td></tr></tbody></table>"
      ],
      "text/latex": [
       "\\begin{tabular}{r|ccccc}\n",
       "\t& Age & WCC & CRP & Treatment & Result\\\\\n",
       "\t\\hline\n",
       "\t& Int64 & Float64 & Int64 & String & String\\\\\n",
       "\t\\hline\n",
       "\t1 & 20 & 16.1 & 30 & B & Worse \\\\\n",
       "\t2 & 73 & 7.5 & 80 & B & Worse \\\\\n",
       "\t3 & 75 & 10.9 & 40 & B & Static \\\\\n",
       "\t4 & 27 & 11.7 & 30 & B & Worse \\\\\n",
       "\t5 & 23 & 12.7 & 40 & B & Worse \\\\\n",
       "\t6 & 57 & 13.0 & 10 & B & Improved \\\\\n",
       "\\end{tabular}\n"
      ],
      "text/plain": [
       "6×5 DataFrame\n",
       "│ Row │ Age   │ WCC     │ CRP   │ Treatment │ Result   │\n",
       "│     │ \u001b[90mInt64\u001b[39m │ \u001b[90mFloat64\u001b[39m │ \u001b[90mInt64\u001b[39m │ \u001b[90mString\u001b[39m    │ \u001b[90mString\u001b[39m   │\n",
       "├─────┼───────┼─────────┼───────┼───────────┼──────────┤\n",
       "│ 1   │ 20    │ 16.1    │ 30    │ B         │ Worse    │\n",
       "│ 2   │ 73    │ 7.5     │ 80    │ B         │ Worse    │\n",
       "│ 3   │ 75    │ 10.9    │ 40    │ B         │ Static   │\n",
       "│ 4   │ 27    │ 11.7    │ 30    │ B         │ Worse    │\n",
       "│ 5   │ 23    │ 12.7    │ 40    │ B         │ Worse    │\n",
       "│ 6   │ 57    │ 13.0    │ 10    │ B         │ Improved │"
      ]
     },
     "execution_count": 22,
     "metadata": {},
     "output_type": "execute_result"
    }
   ],
   "source": [
    "first(dataB, 6)"
   ]
  },
  {
   "cell_type": "code",
   "execution_count": 23,
   "metadata": {},
   "outputs": [
    {
     "data": {
      "text/html": [
       "<table class=\"data-frame\"><thead><tr><th></th><th>Age</th><th>WCC</th><th>CRP</th><th>Treatment</th><th>Result</th></tr><tr><th></th><th>Int64</th><th>Float64</th><th>Int64</th><th>String</th><th>String</th></tr></thead><tbody><p>6 rows × 5 columns</p><tr><th>1</th><td>74</td><td>11.4</td><td>20</td><td>A</td><td>Worse</td></tr><tr><th>2</th><td>65</td><td>12.8</td><td>30</td><td>A</td><td>Worse</td></tr><tr><th>3</th><td>53</td><td>12.0</td><td>40</td><td>A</td><td>Static</td></tr><tr><th>4</th><td>56</td><td>11.8</td><td>20</td><td>A</td><td>Static</td></tr><tr><th>5</th><td>56</td><td>13.0</td><td>20</td><td>A</td><td>Improved</td></tr><tr><th>6</th><td>63</td><td>11.7</td><td>40</td><td>A</td><td>Improved</td></tr></tbody></table>"
      ],
      "text/latex": [
       "\\begin{tabular}{r|ccccc}\n",
       "\t& Age & WCC & CRP & Treatment & Result\\\\\n",
       "\t\\hline\n",
       "\t& Int64 & Float64 & Int64 & String & String\\\\\n",
       "\t\\hline\n",
       "\t1 & 74 & 11.4 & 20 & A & Worse \\\\\n",
       "\t2 & 65 & 12.8 & 30 & A & Worse \\\\\n",
       "\t3 & 53 & 12.0 & 40 & A & Static \\\\\n",
       "\t4 & 56 & 11.8 & 20 & A & Static \\\\\n",
       "\t5 & 56 & 13.0 & 20 & A & Improved \\\\\n",
       "\t6 & 63 & 11.7 & 40 & A & Improved \\\\\n",
       "\\end{tabular}\n"
      ],
      "text/plain": [
       "6×5 DataFrame\n",
       "│ Row │ Age   │ WCC     │ CRP   │ Treatment │ Result   │\n",
       "│     │ \u001b[90mInt64\u001b[39m │ \u001b[90mFloat64\u001b[39m │ \u001b[90mInt64\u001b[39m │ \u001b[90mString\u001b[39m    │ \u001b[90mString\u001b[39m   │\n",
       "├─────┼───────┼─────────┼───────┼───────────┼──────────┤\n",
       "│ 1   │ 74    │ 11.4    │ 20    │ A         │ Worse    │\n",
       "│ 2   │ 65    │ 12.8    │ 30    │ A         │ Worse    │\n",
       "│ 3   │ 53    │ 12.0    │ 40    │ A         │ Static   │\n",
       "│ 4   │ 56    │ 11.8    │ 20    │ A         │ Static   │\n",
       "│ 5   │ 56    │ 13.0    │ 20    │ A         │ Improved │\n",
       "│ 6   │ 63    │ 11.7    │ 40    │ A         │ Improved │"
      ]
     },
     "execution_count": 23,
     "metadata": {},
     "output_type": "execute_result"
    }
   ],
   "source": [
    "#Multiple conditionals\n",
    "dataC = data[(data[!, :Age] .> 50) .& (data[!, :Treatment] .== \"A\"), :]\n",
    "first(dataC, 6)"
   ]
  },
  {
   "cell_type": "code",
   "execution_count": 24,
   "metadata": {},
   "outputs": [
    {
     "data": {
      "text/html": [
       "<table class=\"data-frame\"><thead><tr><th></th><th>Age</th><th>WCC</th><th>CRP</th><th>Treatment</th><th>Result</th></tr><tr><th></th><th>Int64</th><th>Float64</th><th>Int64</th><th>String</th><th>String</th></tr></thead><tbody><p>0 rows × 5 columns</p></tbody></table>"
      ],
      "text/latex": [
       "\\begin{tabular}{r|ccccc}\n",
       "\t& Age & WCC & CRP & Treatment & Result\\\\\n",
       "\t\\hline\n",
       "\t& Int64 & Float64 & Int64 & String & String\\\\\n",
       "\t\\hline\n",
       "\\end{tabular}\n"
      ],
      "text/plain": [
       "0×5 DataFrame\n"
      ]
     },
     "execution_count": 24,
     "metadata": {},
     "output_type": "execute_result"
    }
   ],
   "source": [
    "dataD = data[(data[!, :CRP] .== 50) .& (data[!, :WCC] .>= 12) .& (data[!, :Result] .== \"Worse\"), :]"
   ]
  },
  {
   "cell_type": "markdown",
   "metadata": {},
   "source": [
    "## Descriptive statistics using the dataframe object"
   ]
  },
  {
   "cell_type": "markdown",
   "metadata": {},
   "source": [
    "The `describe()` function will attempt to provide descriptive statistics of the a data object."
   ]
  },
  {
   "cell_type": "code",
   "execution_count": 25,
   "metadata": {},
   "outputs": [
    {
     "data": {
      "text/html": [
       "<table class=\"data-frame\"><thead><tr><th></th><th>variable</th><th>mean</th><th>min</th><th>median</th><th>max</th><th>nunique</th><th>nmissing</th><th>eltype</th></tr><tr><th></th><th>Symbol</th><th>Union…</th><th>Any</th><th>Union…</th><th>Any</th><th>Union…</th><th>Nothing</th><th>DataType</th></tr></thead><tbody><p>5 rows × 8 columns</p><tr><th>1</th><td>Age</td><td>51.02</td><td>18</td><td>51.0</td><td>80</td><td></td><td></td><td>Int64</td></tr><tr><th>2</th><td>WCC</td><td>11.795</td><td>6.4</td><td>12.05</td><td>16.1</td><td></td><td></td><td>Float64</td></tr><tr><th>3</th><td>CRP</td><td>42.3</td><td>0</td><td>30.0</td><td>170</td><td></td><td></td><td>Int64</td></tr><tr><th>4</th><td>Treatment</td><td></td><td>A</td><td></td><td>B</td><td>2</td><td></td><td>String</td></tr><tr><th>5</th><td>Result</td><td></td><td>Improved</td><td></td><td>Worse</td><td>3</td><td></td><td>String</td></tr></tbody></table>"
      ],
      "text/latex": [
       "\\begin{tabular}{r|cccccccc}\n",
       "\t& variable & mean & min & median & max & nunique & nmissing & eltype\\\\\n",
       "\t\\hline\n",
       "\t& Symbol & Union… & Any & Union… & Any & Union… & Nothing & DataType\\\\\n",
       "\t\\hline\n",
       "\t1 & Age & 51.02 & 18 & 51.0 & 80 &  &  & Int64 \\\\\n",
       "\t2 & WCC & 11.795 & 6.4 & 12.05 & 16.1 &  &  & Float64 \\\\\n",
       "\t3 & CRP & 42.3 & 0 & 30.0 & 170 &  &  & Int64 \\\\\n",
       "\t4 & Treatment &  & A &  & B & 2 &  & String \\\\\n",
       "\t5 & Result &  & Improved &  & Worse & 3 &  & String \\\\\n",
       "\\end{tabular}\n"
      ],
      "text/plain": [
       "5×8 DataFrame. Omitted printing of 1 columns\n",
       "│ Row │ variable  │ mean   │ min      │ median │ max   │ nunique │ nmissing │\n",
       "│     │ \u001b[90mSymbol\u001b[39m    │ \u001b[90mUnion…\u001b[39m │ \u001b[90mAny\u001b[39m      │ \u001b[90mUnion…\u001b[39m │ \u001b[90mAny\u001b[39m   │ \u001b[90mUnion…\u001b[39m  │ \u001b[90mNothing\u001b[39m  │\n",
       "├─────┼───────────┼────────┼──────────┼────────┼───────┼─────────┼──────────┤\n",
       "│ 1   │ Age       │ 51.02  │ 18       │ 51.0   │ 80    │         │          │\n",
       "│ 2   │ WCC       │ 11.795 │ 6.4      │ 12.05  │ 16.1  │         │          │\n",
       "│ 3   │ CRP       │ 42.3   │ 0        │ 30.0   │ 170   │         │          │\n",
       "│ 4   │ Treatment │        │ A        │        │ B     │ 2       │          │\n",
       "│ 5   │ Result    │        │ Improved │        │ Worse │ 3       │          │"
      ]
     },
     "execution_count": 25,
     "metadata": {},
     "output_type": "execute_result"
    }
   ],
   "source": [
    "describe(data)"
   ]
  },
  {
   "cell_type": "markdown",
   "metadata": {},
   "source": [
    "We can count the number of the elements in the sample space of a categorical variable using the `by()` function."
   ]
  },
  {
   "cell_type": "code",
   "execution_count": 26,
   "metadata": {},
   "outputs": [
    {
     "data": {
      "text/html": [
       "<p><b>GroupedDataFrame with 75 groups based on keys: Treatment, Age</b></p><p><i>First Group (1 row): Treatment = \"A\", Age = 74</i></p><table class=\"data-frame\"><thead><tr><th></th><th>Age</th><th>WCC</th><th>CRP</th><th>Treatment</th><th>Result</th></tr><tr><th></th><th>Int64</th><th>Float64</th><th>Int64</th><th>String</th><th>String</th></tr></thead><tbody><tr><th>1</th><td>74</td><td>11.4</td><td>20</td><td>A</td><td>Worse</td></tr></tbody></table><p>&vellip;</p><p><i>Last Group (1 row): Treatment = \"A\", Age = 45</i></p><table class=\"data-frame\"><thead><tr><th></th><th>Age</th><th>WCC</th><th>CRP</th><th>Treatment</th><th>Result</th></tr><tr><th></th><th>Int64</th><th>Float64</th><th>Int64</th><th>String</th><th>String</th></tr></thead><tbody><tr><th>1</th><td>45</td><td>12.9</td><td>90</td><td>A</td><td>Improved</td></tr></tbody></table>"
      ],
      "text/latex": [
       "GroupedDataFrame with 75 groups based on keys: Treatment, Age\n",
       "\n",
       "First Group (1 row): Treatment = \"A\", Age = 74\n",
       "\n",
       "\\begin{tabular}{r|ccccc}\n",
       "\t& Age & WCC & CRP & Treatment & Result\\\\\n",
       "\t\\hline\n",
       "\t& Int64 & Float64 & Int64 & String & String\\\\\n",
       "\t\\hline\n",
       "\t1 & 74 & 11.4 & 20 & A & Worse \\\\\n",
       "\\end{tabular}\n",
       "\n",
       "$\\dots$\n",
       "\n",
       "Last Group (1 row): Treatment = \"A\", Age = 45\n",
       "\n",
       "\\begin{tabular}{r|ccccc}\n",
       "\t& Age & WCC & CRP & Treatment & Result\\\\\n",
       "\t\\hline\n",
       "\t& Int64 & Float64 & Int64 & String & String\\\\\n",
       "\t\\hline\n",
       "\t1 & 45 & 12.9 & 90 & A & Improved \\\\\n",
       "\\end{tabular}\n"
      ],
      "text/plain": [
       "GroupedDataFrame with 75 groups based on keys: Treatment, Age\n",
       "First Group (1 row): Treatment = \"A\", Age = 74\n",
       "│ Row │ Age   │ WCC     │ CRP   │ Treatment │ Result │\n",
       "│     │ \u001b[90mInt64\u001b[39m │ \u001b[90mFloat64\u001b[39m │ \u001b[90mInt64\u001b[39m │ \u001b[90mString\u001b[39m    │ \u001b[90mString\u001b[39m │\n",
       "├─────┼───────┼─────────┼───────┼───────────┼────────┤\n",
       "│ 1   │ 74    │ 11.4    │ 20    │ A         │ Worse  │\n",
       "⋮\n",
       "Last Group (1 row): Treatment = \"A\", Age = 45\n",
       "│ Row │ Age   │ WCC     │ CRP   │ Treatment │ Result   │\n",
       "│     │ \u001b[90mInt64\u001b[39m │ \u001b[90mFloat64\u001b[39m │ \u001b[90mInt64\u001b[39m │ \u001b[90mString\u001b[39m    │ \u001b[90mString\u001b[39m   │\n",
       "├─────┼───────┼─────────┼───────┼───────────┼──────────┤\n",
       "│ 1   │ 45    │ 12.9    │ 90    │ A         │ Improved │"
      ]
     },
     "execution_count": 26,
     "metadata": {},
     "output_type": "execute_result"
    }
   ],
   "source": [
    "# Define grouped data\n",
    "grouped_df = groupby(data, :Treatment)\n",
    "grouped_df1 = groupby(data, [:Treatment, :Age]);\n",
    "grouped_df1"
   ]
  },
  {
   "cell_type": "code",
   "execution_count": 27,
   "metadata": {},
   "outputs": [],
   "source": [
    "#Look up combine\n",
    "#grouped_df2 = combine(data, :Treatment,[5, 10]);\n"
   ]
  },
  {
   "cell_type": "code",
   "execution_count": 28,
   "metadata": {
    "scrolled": false
   },
   "outputs": [],
   "source": [
    "# Counting the number of patients in groups A and B\n",
    "\n",
    "# by(data, :Treatment, df -> DataFrame(N = size(df, 1))) has been deprecated.\n",
    "#This gives an Argument Error\n",
    "#combine(nrow => :N, grouped_df)"
   ]
  },
  {
   "cell_type": "code",
   "execution_count": 29,
   "metadata": {
    "scrolled": false
   },
   "outputs": [
    {
     "data": {
      "text/html": [
       "<table class=\"data-frame\"><thead><tr><th></th><th>Treatment</th><th>x1</th></tr><tr><th></th><th>String</th><th>Tuple…</th></tr></thead><tbody><p>2 rows × 2 columns</p><tr><th>1</th><td>A</td><td>(53, 5)</td></tr><tr><th>2</th><td>B</td><td>(47, 5)</td></tr></tbody></table>"
      ],
      "text/latex": [
       "\\begin{tabular}{r|cc}\n",
       "\t& Treatment & x1\\\\\n",
       "\t\\hline\n",
       "\t& String & Tuple…\\\\\n",
       "\t\\hline\n",
       "\t1 & A & (53, 5) \\\\\n",
       "\t2 & B & (47, 5) \\\\\n",
       "\\end{tabular}\n"
      ],
      "text/plain": [
       "2×2 DataFrame\n",
       "│ Row │ Treatment │ x1      │\n",
       "│     │ \u001b[90mString\u001b[39m    │ \u001b[90mTuple…\u001b[39m  │\n",
       "├─────┼───────────┼─────────┤\n",
       "│ 1   │ A         │ (53, 5) │\n",
       "│ 2   │ B         │ (47, 5) │"
      ]
     },
     "execution_count": 29,
     "metadata": {},
     "output_type": "execute_result"
    }
   ],
   "source": [
    "# The size argument will give the same output other than adding the number of variables i.e. 5 columns\n",
    "# size() returns tuple containing row and column numbers\n",
    "\n",
    "# by(data, :Treatment, size) has been deprecated.\n",
    "combine(size, grouped_df)"
   ]
  },
  {
   "cell_type": "markdown",
   "metadata": {},
   "source": [
    "The usual descriptive statistics of a numerical variable can be calculated after separation by a categorical variable."
   ]
  },
  {
   "cell_type": "code",
   "execution_count": 30,
   "metadata": {
    "scrolled": true
   },
   "outputs": [],
   "source": [
    "# ?combine"
   ]
  },
  {
   "cell_type": "code",
   "execution_count": 31,
   "metadata": {
    "scrolled": false
   },
   "outputs": [
    {
     "data": {
      "text/html": [
       "<table class=\"data-frame\"><thead><tr><th></th><th>Treatment</th><th>Age_mean</th></tr><tr><th></th><th>String</th><th>Float64</th></tr></thead><tbody><p>2 rows × 2 columns</p><tr><th>1</th><td>A</td><td>50.717</td></tr><tr><th>2</th><td>B</td><td>51.3617</td></tr></tbody></table>"
      ],
      "text/latex": [
       "\\begin{tabular}{r|cc}\n",
       "\t& Treatment & Age\\_mean\\\\\n",
       "\t\\hline\n",
       "\t& String & Float64\\\\\n",
       "\t\\hline\n",
       "\t1 & A & 50.717 \\\\\n",
       "\t2 & B & 51.3617 \\\\\n",
       "\\end{tabular}\n"
      ],
      "text/plain": [
       "2×2 DataFrame\n",
       "│ Row │ Treatment │ Age_mean │\n",
       "│     │ \u001b[90mString\u001b[39m    │ \u001b[90mFloat64\u001b[39m  │\n",
       "├─────┼───────────┼──────────┤\n",
       "│ 1   │ A         │ 50.717   │\n",
       "│ 2   │ B         │ 51.3617  │"
      ]
     },
     "execution_count": 31,
     "metadata": {},
     "output_type": "execute_result"
    }
   ],
   "source": [
    "# Mean age of groups A and B patients\n",
    "# by(data, :Treatment, df -> mean(df.Age)) has been deprecated\n",
    "combine(:Age => mean, grouped_df)"
   ]
  },
  {
   "cell_type": "code",
   "execution_count": 32,
   "metadata": {
    "scrolled": true
   },
   "outputs": [
    {
     "data": {
      "text/html": [
       "<table class=\"data-frame\"><thead><tr><th></th><th>Treatment</th><th>Age_std</th></tr><tr><th></th><th>String</th><th>Float64</th></tr></thead><tbody><p>2 rows × 2 columns</p><tr><th>1</th><td>A</td><td>17.6563</td></tr><tr><th>2</th><td>B</td><td>18.8327</td></tr></tbody></table>"
      ],
      "text/latex": [
       "\\begin{tabular}{r|cc}\n",
       "\t& Treatment & Age\\_std\\\\\n",
       "\t\\hline\n",
       "\t& String & Float64\\\\\n",
       "\t\\hline\n",
       "\t1 & A & 17.6563 \\\\\n",
       "\t2 & B & 18.8327 \\\\\n",
       "\\end{tabular}\n"
      ],
      "text/plain": [
       "2×2 DataFrame\n",
       "│ Row │ Treatment │ Age_std │\n",
       "│     │ \u001b[90mString\u001b[39m    │ \u001b[90mFloat64\u001b[39m │\n",
       "├─────┼───────────┼─────────┤\n",
       "│ 1   │ A         │ 17.6563 │\n",
       "│ 2   │ B         │ 18.8327 │"
      ]
     },
     "execution_count": 32,
     "metadata": {},
     "output_type": "execute_result"
    }
   ],
   "source": [
    "# Standard deviation of groups A and B patients\n",
    "# by(data, :Treatment, df -> std(df.Age)) has been deprecated\n",
    "combine(:Age => std, grouped_df)"
   ]
  },
  {
   "cell_type": "markdown",
   "metadata": {},
   "source": [
    "By using the `summarystats()` function we can get all the descriptive statistics."
   ]
  },
  {
   "cell_type": "code",
   "execution_count": 33,
   "metadata": {},
   "outputs": [
    {
     "name": "stdout",
     "output_type": "stream",
     "text": [
      "Summary Stats:\n",
      "Length:         53\n",
      "Missing Count:  0\n",
      "Mean:           50.716981\n",
      "Minimum:        18.000000\n",
      "1st Quartile:   38.000000\n",
      "Median:         51.000000\n",
      "3rd Quartile:   66.000000\n",
      "Maximum:        80.000000\n",
      "Type:           Int64\n",
      "Summary Stats:\n",
      "Length:         47\n",
      "Missing Count:  0\n",
      "Mean:           51.361702\n",
      "Minimum:        18.000000\n",
      "1st Quartile:   34.500000\n",
      "Median:         52.000000\n",
      "3rd Quartile:   68.000000\n",
      "Maximum:        78.000000\n",
      "Type:           Int64\n"
     ]
    },
    {
     "data": {
      "text/html": [
       "<table class=\"data-frame\"><thead><tr><th></th><th>Treatment</th><th>Age_describe</th></tr><tr><th></th><th>String</th><th>Nothing</th></tr></thead><tbody><p>2 rows × 2 columns</p><tr><th>1</th><td>A</td><td></td></tr><tr><th>2</th><td>B</td><td></td></tr></tbody></table>"
      ],
      "text/latex": [
       "\\begin{tabular}{r|cc}\n",
       "\t& Treatment & Age\\_describe\\\\\n",
       "\t\\hline\n",
       "\t& String & Nothing\\\\\n",
       "\t\\hline\n",
       "\t1 & A &  \\\\\n",
       "\t2 & B &  \\\\\n",
       "\\end{tabular}\n"
      ],
      "text/plain": [
       "2×2 DataFrame\n",
       "│ Row │ Treatment │ Age_describe │\n",
       "│     │ \u001b[90mString\u001b[39m    │ \u001b[90mNothing\u001b[39m      │\n",
       "├─────┼───────────┼──────────────┤\n",
       "│ 1   │ A         │              │\n",
       "│ 2   │ B         │              │"
      ]
     },
     "execution_count": 33,
     "metadata": {},
     "output_type": "execute_result"
    }
   ],
   "source": [
    "# by(data, :Treatment, df -> describe(df.Age)) has been deprecated\n",
    "combine(:Age => describe, grouped_df)"
   ]
  },
  {
   "cell_type": "markdown",
   "metadata": {},
   "source": [
    "## Visualizing the data"
   ]
  },
  {
   "cell_type": "markdown",
   "metadata": {},
   "source": [
    "The Plots package works well with the DataFrames package by allowing macro function from the latter.  In the code cell below, we look at the age distribution of the two treatment groups."
   ]
  },
  {
   "cell_type": "code",
   "execution_count": 34,
   "metadata": {
    "scrolled": true
   },
   "outputs": [
    {
     "data": {
      "image/png": "[encoded data removed]"
     },
     "execution_count": 34,
     "metadata": {},
     "output_type": "execute_result"
    }
   ],
   "source": [
    "#Plot for Smooth Histogram\n",
    "@df data density(:Age, group = :Treatment, title = \"Distribution of ages by treatment group\",\n",
    "    xlab = \"Age\", ylab = \"Distribution\",\n",
    "    legend = :topright)"
   ]
  },
  {
   "cell_type": "markdown",
   "metadata": {},
   "source": [
    "We can do the same for the results groups."
   ]
  },
  {
   "cell_type": "code",
   "execution_count": 35,
   "metadata": {},
   "outputs": [
    {
     "data": {
      "image/png": "[encoded data removed]"
     },
     "execution_count": 35,
     "metadata": {},
     "output_type": "execute_result"
    }
   ],
   "source": [
    "@df data density(:Age, group = :Result, title = \"Distribution of ages by result group\",\n",
    "    xlab = \"Age\", ylab = \"Distribution\",\n",
    "    legend = :topright)"
   ]
  },
  {
   "cell_type": "markdown",
   "metadata": {},
   "source": [
    "We can even discriminate between all of the groups."
   ]
  },
  {
   "cell_type": "code",
   "execution_count": 36,
   "metadata": {},
   "outputs": [
    {
     "data": {
      "image/png": "[encoded data removed]"
     },
     "execution_count": 36,
     "metadata": {},
     "output_type": "execute_result"
    }
   ],
   "source": [
    "@df data density(:Age, group = (:Treatment, :Result), title = \"Distribution of ages by treatment and result groups\",\n",
    "    xlab = \"Age\", ylab = \"Distribution\",\n",
    "    legend = :topright)"
   ]
  },
  {
   "cell_type": "markdown",
   "metadata": {},
   "source": [
    "Let's create a box-and-whisker plot of the white cell count per treatment group and then per result group."
   ]
  },
  {
   "cell_type": "code",
   "execution_count": 41,
   "metadata": {},
   "outputs": [
    {
     "name": "stderr",
     "output_type": "stream",
     "text": [
      "┌ Warning: `getindex(df::DataFrame, col_ind::ColumnIndex)` is deprecated, use `df[!, col_ind]` instead.\n",
      "│   caller = top-level scope at In[41]:1\n",
      "└ @ Core In[41]:1\n"
     ]
    },
    {
     "data": {
      "text/plain": [
       "100-element Array{Float64,1}:\n",
       " 11.4\n",
       " 16.1\n",
       "  7.0\n",
       " 14.0\n",
       " 13.4\n",
       "  7.5\n",
       " 10.9\n",
       " 14.6\n",
       " 11.7\n",
       " 12.8\n",
       " 12.7\n",
       " 13.0\n",
       " 15.0\n",
       "  ⋮  \n",
       "  8.9\n",
       " 12.9\n",
       " 10.8\n",
       " 10.8\n",
       " 12.1\n",
       " 12.4\n",
       " 10.3\n",
       "  9.4\n",
       "  6.4\n",
       "  8.2\n",
       " 12.9\n",
       " 12.0"
      ]
     },
     "execution_count": 41,
     "metadata": {},
     "output_type": "execute_result"
    }
   ],
   "source": [
    "data[\"WCC\"]"
   ]
  },
  {
   "cell_type": "code",
   "execution_count": 37,
   "metadata": {
    "scrolled": true
   },
   "outputs": [
    {
     "ename": "UndefVarError",
     "evalue": "\u001b[91mUndefVarError: isnothing not defined\u001b[39m",
     "output_type": "error",
     "traceback": [
      "\u001b[91mUndefVarError: isnothing not defined\u001b[39m",
      "",
      "Stacktrace:",
      " [1] macro expansion at /Users/Jen/.julia/packages/StatsPlots/y1j3G/src/boxplot.jl:31 [inlined]",
      " [2] apply_recipe(::AbstractDict{Symbol,Any}, ::Type{Val{:boxplot}}, ::Any, ::Any, ::Any) at /Users/Jen/.julia/packages/RecipesBase/92zOw/src/RecipesBase.jl:282",
      " [3] _process_seriesrecipe(::Plots.Plot{Plots.PyPlotBackend}, ::RecipesPipeline.DefaultsDict) at /Users/Jen/.julia/packages/RecipesPipeline/tkFmN/src/series_recipe.jl:48",
      " [4] _process_seriesrecipes!(::Plots.Plot{Plots.PyPlotBackend}, ::Array{Dict{Symbol,Any},1}) at /Users/Jen/.julia/packages/RecipesPipeline/tkFmN/src/series_recipe.jl:25",
      " [5] recipe_pipeline!(::Plots.Plot{Plots.PyPlotBackend}, ::Dict{Symbol,Any}, ::Tuple{Array{String,1},Array{Float64,1}}) at /Users/Jen/.julia/packages/RecipesPipeline/tkFmN/src/RecipesPipeline.jl:96",
      " [6] _plot!(::Plots.Plot{Plots.PyPlotBackend}, ::Dict{Symbol,Any}, ::Tuple{Array{String,1},Array{Float64,1}}) at /Users/Jen/.julia/packages/Plots/8GUYs/src/plot.jl:167",
      " [7] #plot#124(::Base.Iterators.Pairs{Symbol,Any,NTuple{5,Symbol},NamedTuple{(:lab, :title, :xlab, :ylab, :seriestype),Tuple{String,String,String,String,Symbol}}}, ::Function, ::Array{String,1}, ::Vararg{Any,N} where N) at /Users/Jen/.julia/packages/Plots/8GUYs/src/plot.jl:57",
      " [8] (::getfield(RecipesBase, Symbol(\"#kw##plot\")))(::NamedTuple{(:lab, :title, :xlab, :ylab, :seriestype),Tuple{String,String,String,String,Symbol}}, ::typeof(RecipesBase.plot), ::Array{String,1}, ::Array{Float64,1}) at ./none:0",
      " [9] #boxplot#396(::Base.Iterators.Pairs{Symbol,String,NTuple{4,Symbol},NamedTuple{(:lab, :title, :xlab, :ylab),NTuple{4,String}}}, ::Function, ::Array{String,1}, ::Vararg{Any,N} where N) at /Users/Jen/.julia/packages/RecipesBase/92zOw/src/RecipesBase.jl:403",
      " [10] (::getfield(Plots, Symbol(\"#kw##boxplot\")))(::NamedTuple{(:lab, :title, :xlab, :ylab),NTuple{4,String}}, ::typeof(boxplot), ::Array{String,1}, ::Vararg{Any,N} where N) at ./none:0",
      " [11] #add_label#17(::Base.Iterators.Pairs{Symbol,String,NTuple{4,Symbol},NamedTuple{(:lab, :title, :xlab, :ylab),NTuple{4,String}}}, ::Function, ::Array{String,1}, ::Function, ::Array{String,1}, ::Vararg{Any,N} where N) at /Users/Jen/.julia/packages/StatsPlots/y1j3G/src/df.jl:153",
      " [12] (::getfield(StatsPlots, Symbol(\"#kw##add_label\")))(::NamedTuple{(:lab, :title, :xlab, :ylab),NTuple{4,String}}, ::typeof(StatsPlots.add_label), ::Array{String,1}, ::Function, ::Array{String,1}, ::Vararg{Any,N} where N) at ./none:0",
      " [13] (::getfield(Main, Symbol(\"##9#10\")))(::DataFrame) at ./none:0",
      " [14] top-level scope at In[37]:1"
     ]
    }
   ],
   "source": [
    "@df data boxplot(data[!, \"Treatment\"], data[!, \"WCC\"], lab = \"WCC\", title = \"White cell count by treatment group\",\n",
    "    xlab = \"Groups\", ylab = \"WCC\")"
   ]
  },
  {
   "cell_type": "code",
   "execution_count": 39,
   "metadata": {},
   "outputs": [
    {
     "ename": "UndefVarError",
     "evalue": "\u001b[91mUndefVarError: isnothing not defined\u001b[39m",
     "output_type": "error",
     "traceback": [
      "\u001b[91mUndefVarError: isnothing not defined\u001b[39m",
      "",
      "Stacktrace:",
      " [1] macro expansion at /Users/Jen/.julia/packages/StatsPlots/y1j3G/src/boxplot.jl:31 [inlined]",
      " [2] apply_recipe(::AbstractDict{Symbol,Any}, ::Type{Val{:boxplot}}, ::Any, ::Any, ::Any) at /Users/Jen/.julia/packages/RecipesBase/92zOw/src/RecipesBase.jl:282",
      " [3] _process_seriesrecipe(::Plots.Plot{Plots.PyPlotBackend}, ::RecipesPipeline.DefaultsDict) at /Users/Jen/.julia/packages/RecipesPipeline/tkFmN/src/series_recipe.jl:48",
      " [4] _process_seriesrecipes!(::Plots.Plot{Plots.PyPlotBackend}, ::Array{Dict{Symbol,Any},1}) at /Users/Jen/.julia/packages/RecipesPipeline/tkFmN/src/series_recipe.jl:25",
      " [5] recipe_pipeline!(::Plots.Plot{Plots.PyPlotBackend}, ::Dict{Symbol,Any}, ::Tuple{Array{String,1},Array{Float64,1}}) at /Users/Jen/.julia/packages/RecipesPipeline/tkFmN/src/RecipesPipeline.jl:96",
      " [6] _plot!(::Plots.Plot{Plots.PyPlotBackend}, ::Dict{Symbol,Any}, ::Tuple{Array{String,1},Array{Float64,1}}) at /Users/Jen/.julia/packages/Plots/8GUYs/src/plot.jl:167",
      " [7] #plot#124(::Base.Iterators.Pairs{Symbol,Any,NTuple{5,Symbol},NamedTuple{(:lab, :title, :xlab, :ylab, :seriestype),Tuple{String,String,String,String,Symbol}}}, ::Function, ::Array{String,1}, ::Vararg{Any,N} where N) at /Users/Jen/.julia/packages/Plots/8GUYs/src/plot.jl:57",
      " [8] (::getfield(RecipesBase, Symbol(\"#kw##plot\")))(::NamedTuple{(:lab, :title, :xlab, :ylab, :seriestype),Tuple{String,String,String,String,Symbol}}, ::typeof(RecipesBase.plot), ::Array{String,1}, ::Array{Float64,1}) at ./none:0",
      " [9] #boxplot#396(::Base.Iterators.Pairs{Symbol,String,NTuple{4,Symbol},NamedTuple{(:lab, :title, :xlab, :ylab),NTuple{4,String}}}, ::Function, ::Array{String,1}, ::Vararg{Any,N} where N) at /Users/Jen/.julia/packages/RecipesBase/92zOw/src/RecipesBase.jl:403",
      " [10] (::getfield(Plots, Symbol(\"#kw##boxplot\")))(::NamedTuple{(:lab, :title, :xlab, :ylab),NTuple{4,String}}, ::typeof(boxplot), ::Array{String,1}, ::Vararg{Any,N} where N) at ./none:0",
      " [11] #add_label#17(::Base.Iterators.Pairs{Symbol,String,NTuple{4,Symbol},NamedTuple{(:lab, :title, :xlab, :ylab),NTuple{4,String}}}, ::Function, ::Array{String,1}, ::Function, ::Array{String,1}, ::Vararg{Any,N} where N) at /Users/Jen/.julia/packages/StatsPlots/y1j3G/src/df.jl:153",
      " [12] (::getfield(StatsPlots, Symbol(\"#kw##add_label\")))(::NamedTuple{(:lab, :title, :xlab, :ylab),NTuple{4,String}}, ::typeof(StatsPlots.add_label), ::Array{String,1}, ::Function, ::Array{String,1}, ::Vararg{Any,N} where N) at ./none:0",
      " [13] (::getfield(Main, Symbol(\"##11#12\")))(::DataFrame) at ./none:0",
      " [14] top-level scope at In[39]:1"
     ]
    }
   ],
   "source": [
    "@df data boxplot(:Result, :WCC, lab = \"WCC\", title = \"White cell count by result group\",\n",
    "    xlab = \"Groups\", ylab = \"WCC\")"
   ]
  },
  {
   "cell_type": "markdown",
   "metadata": {},
   "source": [
    "Finally, we will check on the correlation between the numerical variables using a correlation plot and a corner plot."
   ]
  },
  {
   "cell_type": "code",
   "execution_count": 42,
   "metadata": {},
   "outputs": [
    {
     "data": {
      "image/png": "[encoded data removed]"
     },
     "execution_count": 42,
     "metadata": {},
     "output_type": "execute_result"
    }
   ],
   "source": [
    "@df data corrplot([:Age :WCC :CRP], grid = false)  # No comma's between arguments in list"
   ]
  },
  {
   "cell_type": "code",
   "execution_count": 43,
   "metadata": {},
   "outputs": [
    {
     "data": {
      "image/png": "[encoded data removed]"
     },
     "execution_count": 43,
     "metadata": {},
     "output_type": "execute_result"
    }
   ],
   "source": [
    "@df data cornerplot([:Age :WCC :CRP], grid = false, compact = true)"
   ]
  },
  {
   "cell_type": "markdown",
   "metadata": {},
   "source": [
    "## Inferential statistics"
   ]
  },
  {
   "cell_type": "markdown",
   "metadata": {},
   "source": [
    "We will begin by using Student's _t_ test to compare the mean of a numerical variable between two groups. "
   ]
  },
  {
   "cell_type": "code",
   "execution_count": null,
   "metadata": {},
   "outputs": [],
   "source": []
  },
  {
   "cell_type": "code",
   "execution_count": 44,
   "metadata": {},
   "outputs": [
    {
     "data": {
      "text/plain": [
       "Two sample t-test (equal variance)\n",
       "----------------------------------\n",
       "Population details:\n",
       "    parameter of interest:   Mean difference\n",
       "    value under h_0:         0\n",
       "    point estimate:          -0.644721\n",
       "    95% confidence interval: (-7.8884, 6.5989)\n",
       "\n",
       "Test summary:\n",
       "    outcome with 95% confidence: fail to reject h_0\n",
       "    two-sided p-value:           0.8602\n",
       "\n",
       "Details:\n",
       "    number of observations:   [53,47]\n",
       "    t-statistic:              -0.17662778311077354\n",
       "    degrees of freedom:       98\n",
       "    empirical standard error: 3.650167511754138\n"
      ]
     },
     "execution_count": 44,
     "metadata": {},
     "output_type": "execute_result"
    }
   ],
   "source": [
    "# Difference in age between patients in groups A and B\n",
    "#or EqualVarianceTTest(dataA[:, :Age], dataB[:, :Age])\n",
    "HypothesisTests.EqualVarianceTTest(dataA[:, :Age], dataB[:, :Age])"
   ]
  },
  {
   "cell_type": "code",
   "execution_count": 45,
   "metadata": {},
   "outputs": [
    {
     "data": {
      "text/plain": [
       "0.5194878284921607"
      ]
     },
     "execution_count": 45,
     "metadata": {},
     "output_type": "execute_result"
    }
   ],
   "source": [
    "# Only the p value for the difference in white cell count between patients in groups A and B\n",
    "pvalue(EqualVarianceTTest(dataA[:, :WCC], dataB[:, :WCC]))"
   ]
  },
  {
   "cell_type": "code",
   "execution_count": 46,
   "metadata": {},
   "outputs": [
    {
     "data": {
      "text/plain": [
       "Two sample t-test (unequal variance)\n",
       "------------------------------------\n",
       "Population details:\n",
       "    parameter of interest:   Mean difference\n",
       "    value under h_0:         0\n",
       "    point estimate:          -6.4994\n",
       "    95% confidence interval: (-20.3556, 7.3568)\n",
       "\n",
       "Test summary:\n",
       "    outcome with 95% confidence: fail to reject h_0\n",
       "    two-sided p-value:           0.3538\n",
       "\n",
       "Details:\n",
       "    number of observations:   [53,47]\n",
       "    t-statistic:              -0.9320856704713737\n",
       "    degrees of freedom:       88.48206922849339\n",
       "    empirical standard error: 6.97296186187374\n"
      ]
     },
     "execution_count": 46,
     "metadata": {},
     "output_type": "execute_result"
    }
   ],
   "source": [
    "# Difference in c-reactive protein level between patients in groups A and B for unequal variances\n",
    "UnequalVarianceTTest(dataA[:, :CRP], dataB[:, :CRP])"
   ]
  },
  {
   "cell_type": "markdown",
   "metadata": {},
   "source": [
    "We can create a variety of linear models using the `GLM.fit()` function."
   ]
  },
  {
   "cell_type": "code",
   "execution_count": 47,
   "metadata": {},
   "outputs": [
    {
     "data": {
      "text/plain": [
       "StatsModels.TableRegressionModel{LinearModel{GLM.LmResp{Array{Float64,1}},GLM.DensePredChol{Float64,LinearAlgebra.CholeskyPivoted{Float64,Array{Float64,2}}}},Array{Float64,2}}\n",
       "\n",
       "CRP ~ 1\n",
       "\n",
       "Coefficients:\n",
       "─────────────────────────────────────────────────────────────────────\n",
       "             Coef.  Std. Error      t  Pr(>|t|)  Lower 95%  Upper 95%\n",
       "─────────────────────────────────────────────────────────────────────\n",
       "(Intercept)   42.3     3.43439  12.32    <1e-20    35.4854    49.1146\n",
       "─────────────────────────────────────────────────────────────────────"
      ]
     },
     "execution_count": 47,
     "metadata": {},
     "output_type": "execute_result"
    }
   ],
   "source": [
    "# Simple model predicting CRP using mean of CRP\n",
    "fit(LinearModel, @formula(CRP ~ 1), data)"
   ]
  },
  {
   "cell_type": "code",
   "execution_count": 48,
   "metadata": {},
   "outputs": [
    {
     "data": {
      "text/plain": [
       "StatsModels.TableRegressionModel{LinearModel{GLM.LmResp{Array{Float64,1}},GLM.DensePredChol{Float64,LinearAlgebra.CholeskyPivoted{Float64,Array{Float64,2}}}},Array{Float64,2}}\n",
       "\n",
       "CRP ~ 1 + Age\n",
       "\n",
       "Coefficients:\n",
       "────────────────────────────────────────────────────────────────────────────\n",
       "                    Coef.  Std. Error      t  Pr(>|t|)  Lower 95%  Upper 95%\n",
       "────────────────────────────────────────────────────────────────────────────\n",
       "(Intercept)  42.3229        10.3559     4.09    <1e-4   21.7719    62.8738  \n",
       "Age          -0.000448734    0.191369  -0.00    0.9981  -0.380215   0.379318\n",
       "────────────────────────────────────────────────────────────────────────────"
      ]
     },
     "execution_count": 48,
     "metadata": {},
     "output_type": "execute_result"
    }
   ],
   "source": [
    "# Adding Age as a predictor variable\n",
    "fit(LinearModel, @formula(CRP ~ Age), data)"
   ]
  },
  {
   "cell_type": "code",
   "execution_count": 49,
   "metadata": {},
   "outputs": [
    {
     "data": {
      "text/plain": [
       "StatsModels.TableRegressionModel{LinearModel{GLM.LmResp{Array{Float64,1}},GLM.DensePredChol{Float64,LinearAlgebra.CholeskyPivoted{Float64,Array{Float64,2}}}},Array{Float64,2}}\n",
       "\n",
       "CRP ~ 1 + Age + WCC\n",
       "\n",
       "Coefficients:\n",
       "────────────────────────────────────────────────────────────────────────────\n",
       "                  Coef.  Std. Error      t  Pr(>|t|)  Lower 95%    Upper 95%\n",
       "────────────────────────────────────────────────────────────────────────────\n",
       "(Intercept)  83.6524      23.6854     3.53    0.0006  36.6434    130.661    \n",
       "Age          -0.0558128    0.190907  -0.29    0.7706  -0.434711    0.323085 \n",
       "WCC          -3.26451      1.68795   -1.93    0.0560  -6.61462     0.0856059\n",
       "────────────────────────────────────────────────────────────────────────────"
      ]
     },
     "execution_count": 49,
     "metadata": {},
     "output_type": "execute_result"
    }
   ],
   "source": [
    "# Adding Age and WCC as predictor variables\n",
    "fit(LinearModel, @formula(CRP ~ Age + WCC), data)"
   ]
  },
  {
   "cell_type": "markdown",
   "metadata": {},
   "source": [
    "We can conduct a $\\chi^2$ test for independence using the `HypothesisTests.ChisqTest()` function.  First we need to look at the counts.  Below we calculate the number of unique values for the Result variable sample space for patients in groups A and B."
   ]
  },
  {
   "cell_type": "code",
   "execution_count": 50,
   "metadata": {
    "scrolled": true
   },
   "outputs": [
    {
     "data": {
      "text/html": [
       "<table class=\"data-frame\"><thead><tr><th></th><th>Result</th><th>N</th></tr><tr><th></th><th>String</th><th>Int64</th></tr></thead><tbody><p>3 rows × 2 columns</p><tr><th>1</th><td>Worse</td><td>22</td></tr><tr><th>2</th><td>Static</td><td>17</td></tr><tr><th>3</th><td>Improved</td><td>14</td></tr></tbody></table>"
      ],
      "text/latex": [
       "\\begin{tabular}{r|cc}\n",
       "\t& Result & N\\\\\n",
       "\t\\hline\n",
       "\t& String & Int64\\\\\n",
       "\t\\hline\n",
       "\t1 & Worse & 22 \\\\\n",
       "\t2 & Static & 17 \\\\\n",
       "\t3 & Improved & 14 \\\\\n",
       "\\end{tabular}\n"
      ],
      "text/plain": [
       "3×2 DataFrame\n",
       "│ Row │ Result   │ N     │\n",
       "│     │ \u001b[90mString\u001b[39m   │ \u001b[90mInt64\u001b[39m │\n",
       "├─────┼──────────┼───────┤\n",
       "│ 1   │ Worse    │ 22    │\n",
       "│ 2   │ Static   │ 17    │\n",
       "│ 3   │ Improved │ 14    │"
      ]
     },
     "execution_count": 50,
     "metadata": {},
     "output_type": "execute_result"
    }
   ],
   "source": [
    "# by(dataA, :Result, df -> DataFrame(N = size(df, 1))) has been deprecated\n",
    "combine(nrow => :N, groupby(dataA, :Result))"
   ]
  },
  {
   "cell_type": "code",
   "execution_count": 51,
   "metadata": {},
   "outputs": [
    {
     "data": {
      "text/html": [
       "<table class=\"data-frame\"><thead><tr><th></th><th>Result</th><th>N</th></tr><tr><th></th><th>String</th><th>Int64</th></tr></thead><tbody><p>3 rows × 2 columns</p><tr><th>1</th><td>Worse</td><td>17</td></tr><tr><th>2</th><td>Static</td><td>16</td></tr><tr><th>3</th><td>Improved</td><td>14</td></tr></tbody></table>"
      ],
      "text/latex": [
       "\\begin{tabular}{r|cc}\n",
       "\t& Result & N\\\\\n",
       "\t\\hline\n",
       "\t& String & Int64\\\\\n",
       "\t\\hline\n",
       "\t1 & Worse & 17 \\\\\n",
       "\t2 & Static & 16 \\\\\n",
       "\t3 & Improved & 14 \\\\\n",
       "\\end{tabular}\n"
      ],
      "text/plain": [
       "3×2 DataFrame\n",
       "│ Row │ Result   │ N     │\n",
       "│     │ \u001b[90mString\u001b[39m   │ \u001b[90mInt64\u001b[39m │\n",
       "├─────┼──────────┼───────┤\n",
       "│ 1   │ Worse    │ 17    │\n",
       "│ 2   │ Static   │ 16    │\n",
       "│ 3   │ Improved │ 14    │"
      ]
     },
     "execution_count": 51,
     "metadata": {},
     "output_type": "execute_result"
    }
   ],
   "source": [
    "# by(dataB, :Result, df -> DataFrame(N = size(df, 1))) has been deprecated\n",
    "combine(nrow => :N, groupby(dataB, :Result))"
   ]
  },
  {
   "cell_type": "code",
   "execution_count": 52,
   "metadata": {},
   "outputs": [
    {
     "data": {
      "text/plain": [
       "2×3 Array{Int64,2}:\n",
       " 22  18  11\n",
       " 17  18  14"
      ]
     },
     "execution_count": 52,
     "metadata": {},
     "output_type": "execute_result"
    }
   ],
   "source": [
    "# Enter the data in similar order here\n",
    "observed = reshape([22, 17, 18, 18, 11, 14], (2, 3))\n",
    "observed"
   ]
  },
  {
   "cell_type": "code",
   "execution_count": 53,
   "metadata": {},
   "outputs": [
    {
     "data": {
      "text/plain": [
       "Pearson's Chi-square Test\n",
       "-------------------------\n",
       "Population details:\n",
       "    parameter of interest:   Multinomial Probabilities\n",
       "    value under h_0:         [0.1989, 0.1911, 0.1836, 0.1764, 0.1275, 0.1225]\n",
       "    point estimate:          [0.22, 0.17, 0.18, 0.18, 0.11, 0.14]\n",
       "    95% confidence interval: Tuple{Float64,Float64}[(0.13, 0.3184), (0.08, 0.2684), (0.09, 0.2784), (0.09, 0.2784), (0.02, 0.2084), (0.05, 0.2384)]\n",
       "\n",
       "Test summary:\n",
       "    outcome with 95% confidence: fail to reject h_0\n",
       "    one-sided p-value:           0.6183\n",
       "\n",
       "Details:\n",
       "    Sample size:        100\n",
       "    statistic:          0.9614102051076865\n",
       "    degrees of freedom: 2\n",
       "    residuals:          [0.473113, -0.482672, -0.0840168, 0.0857143, -0.490098, 0.5]\n",
       "    std. residuals:     [0.865371, -0.865371, -0.15003, 0.15003, -0.808452, 0.808452]\n"
      ]
     },
     "execution_count": 53,
     "metadata": {},
     "output_type": "execute_result"
    }
   ],
   "source": [
    "ChisqTest(observed)"
   ]
  },
  {
   "cell_type": "markdown",
   "metadata": {},
   "source": [
    "## Exporting a CSV file"
   ]
  },
  {
   "cell_type": "markdown",
   "metadata": {},
   "source": [
    "Finally we can export our dataframe object as a spreadsheet file."
   ]
  },
  {
   "cell_type": "code",
   "execution_count": 54,
   "metadata": {},
   "outputs": [],
   "source": [
    "CSV.write(\"ProjectData_1_point_0.csv\", data);"
   ]
  },
  {
   "cell_type": "code",
   "execution_count": 56,
   "metadata": {},
   "outputs": [
    {
     "data": {
      "text/html": [
       "<table class=\"data-frame\"><thead><tr><th></th><th>Age</th><th>WCC</th><th>CRP</th><th>Treatment</th><th>Result</th></tr><tr><th></th><th>Int64</th><th>Float64</th><th>Int64</th><th>String</th><th>String</th></tr></thead><tbody><p>100 rows × 5 columns</p><tr><th>1</th><td>74</td><td>11.4</td><td>20</td><td>A</td><td>Worse</td></tr><tr><th>2</th><td>20</td><td>16.1</td><td>30</td><td>B</td><td>Worse</td></tr><tr><th>3</th><td>47</td><td>7.0</td><td>40</td><td>A</td><td>Worse</td></tr><tr><th>4</th><td>41</td><td>14.0</td><td>50</td><td>A</td><td>Static</td></tr><tr><th>5</th><td>50</td><td>13.4</td><td>40</td><td>A</td><td>Worse</td></tr><tr><th>6</th><td>73</td><td>7.5</td><td>80</td><td>B</td><td>Worse</td></tr><tr><th>7</th><td>75</td><td>10.9</td><td>40</td><td>B</td><td>Static</td></tr><tr><th>8</th><td>18</td><td>14.6</td><td>70</td><td>A</td><td>Static</td></tr><tr><th>9</th><td>27</td><td>11.7</td><td>30</td><td>B</td><td>Worse</td></tr><tr><th>10</th><td>65</td><td>12.8</td><td>30</td><td>A</td><td>Worse</td></tr><tr><th>11</th><td>23</td><td>12.7</td><td>40</td><td>B</td><td>Worse</td></tr><tr><th>12</th><td>57</td><td>13.0</td><td>10</td><td>B</td><td>Improved</td></tr><tr><th>13</th><td>39</td><td>15.0</td><td>10</td><td>B</td><td>Worse</td></tr><tr><th>14</th><td>28</td><td>13.5</td><td>40</td><td>A</td><td>Improved</td></tr><tr><th>15</th><td>21</td><td>12.3</td><td>40</td><td>A</td><td>Worse</td></tr><tr><th>16</th><td>72</td><td>12.1</td><td>60</td><td>B</td><td>Improved</td></tr><tr><th>17</th><td>53</td><td>12.0</td><td>40</td><td>A</td><td>Static</td></tr><tr><th>18</th><td>34</td><td>13.5</td><td>10</td><td>B</td><td>Static</td></tr><tr><th>19</th><td>56</td><td>11.8</td><td>20</td><td>A</td><td>Static</td></tr><tr><th>20</th><td>30</td><td>8.9</td><td>60</td><td>B</td><td>Improved</td></tr><tr><th>21</th><td>32</td><td>12.7</td><td>40</td><td>B</td><td>Improved</td></tr><tr><th>22</th><td>29</td><td>9.9</td><td>30</td><td>B</td><td>Worse</td></tr><tr><th>23</th><td>44</td><td>13.0</td><td>20</td><td>A</td><td>Improved</td></tr><tr><th>24</th><td>73</td><td>9.5</td><td>50</td><td>B</td><td>Static</td></tr><tr><th>25</th><td>35</td><td>13.0</td><td>20</td><td>B</td><td>Worse</td></tr><tr><th>26</th><td>51</td><td>14.8</td><td>10</td><td>B</td><td>Worse</td></tr><tr><th>27</th><td>45</td><td>12.4</td><td>30</td><td>B</td><td>Static</td></tr><tr><th>28</th><td>33</td><td>10.4</td><td>10</td><td>A</td><td>Static</td></tr><tr><th>29</th><td>50</td><td>11.6</td><td>20</td><td>B</td><td>Worse</td></tr><tr><th>30</th><td>56</td><td>13.0</td><td>20</td><td>A</td><td>Improved</td></tr><tr><th>&vellip;</th><td>&vellip;</td><td>&vellip;</td><td>&vellip;</td><td>&vellip;</td><td>&vellip;</td></tr></tbody></table>"
      ],
      "text/latex": [
       "\\begin{tabular}{r|ccccc}\n",
       "\t& Age & WCC & CRP & Treatment & Result\\\\\n",
       "\t\\hline\n",
       "\t& Int64 & Float64 & Int64 & String & String\\\\\n",
       "\t\\hline\n",
       "\t1 & 74 & 11.4 & 20 & A & Worse \\\\\n",
       "\t2 & 20 & 16.1 & 30 & B & Worse \\\\\n",
       "\t3 & 47 & 7.0 & 40 & A & Worse \\\\\n",
       "\t4 & 41 & 14.0 & 50 & A & Static \\\\\n",
       "\t5 & 50 & 13.4 & 40 & A & Worse \\\\\n",
       "\t6 & 73 & 7.5 & 80 & B & Worse \\\\\n",
       "\t7 & 75 & 10.9 & 40 & B & Static \\\\\n",
       "\t8 & 18 & 14.6 & 70 & A & Static \\\\\n",
       "\t9 & 27 & 11.7 & 30 & B & Worse \\\\\n",
       "\t10 & 65 & 12.8 & 30 & A & Worse \\\\\n",
       "\t11 & 23 & 12.7 & 40 & B & Worse \\\\\n",
       "\t12 & 57 & 13.0 & 10 & B & Improved \\\\\n",
       "\t13 & 39 & 15.0 & 10 & B & Worse \\\\\n",
       "\t14 & 28 & 13.5 & 40 & A & Improved \\\\\n",
       "\t15 & 21 & 12.3 & 40 & A & Worse \\\\\n",
       "\t16 & 72 & 12.1 & 60 & B & Improved \\\\\n",
       "\t17 & 53 & 12.0 & 40 & A & Static \\\\\n",
       "\t18 & 34 & 13.5 & 10 & B & Static \\\\\n",
       "\t19 & 56 & 11.8 & 20 & A & Static \\\\\n",
       "\t20 & 30 & 8.9 & 60 & B & Improved \\\\\n",
       "\t21 & 32 & 12.7 & 40 & B & Improved \\\\\n",
       "\t22 & 29 & 9.9 & 30 & B & Worse \\\\\n",
       "\t23 & 44 & 13.0 & 20 & A & Improved \\\\\n",
       "\t24 & 73 & 9.5 & 50 & B & Static \\\\\n",
       "\t25 & 35 & 13.0 & 20 & B & Worse \\\\\n",
       "\t26 & 51 & 14.8 & 10 & B & Worse \\\\\n",
       "\t27 & 45 & 12.4 & 30 & B & Static \\\\\n",
       "\t28 & 33 & 10.4 & 10 & A & Static \\\\\n",
       "\t29 & 50 & 11.6 & 20 & B & Worse \\\\\n",
       "\t30 & 56 & 13.0 & 20 & A & Improved \\\\\n",
       "\t$\\dots$ & $\\dots$ & $\\dots$ & $\\dots$ & $\\dots$ & $\\dots$ \\\\\n",
       "\\end{tabular}\n"
      ],
      "text/plain": [
       "100×5 DataFrame\n",
       "│ Row │ Age   │ WCC     │ CRP   │ Treatment │ Result   │\n",
       "│     │ \u001b[90mInt64\u001b[39m │ \u001b[90mFloat64\u001b[39m │ \u001b[90mInt64\u001b[39m │ \u001b[90mString\u001b[39m    │ \u001b[90mString\u001b[39m   │\n",
       "├─────┼───────┼─────────┼───────┼───────────┼──────────┤\n",
       "│ 1   │ 74    │ 11.4    │ 20    │ A         │ Worse    │\n",
       "│ 2   │ 20    │ 16.1    │ 30    │ B         │ Worse    │\n",
       "│ 3   │ 47    │ 7.0     │ 40    │ A         │ Worse    │\n",
       "│ 4   │ 41    │ 14.0    │ 50    │ A         │ Static   │\n",
       "│ 5   │ 50    │ 13.4    │ 40    │ A         │ Worse    │\n",
       "│ 6   │ 73    │ 7.5     │ 80    │ B         │ Worse    │\n",
       "│ 7   │ 75    │ 10.9    │ 40    │ B         │ Static   │\n",
       "│ 8   │ 18    │ 14.6    │ 70    │ A         │ Static   │\n",
       "│ 9   │ 27    │ 11.7    │ 30    │ B         │ Worse    │\n",
       "│ 10  │ 65    │ 12.8    │ 30    │ A         │ Worse    │\n",
       "⋮\n",
       "│ 90  │ 33    │ 12.9    │ 10    │ A         │ Static   │\n",
       "│ 91  │ 68    │ 10.8    │ 160   │ B         │ Worse    │\n",
       "│ 92  │ 66    │ 10.8    │ 30    │ B         │ Static   │\n",
       "│ 93  │ 50    │ 12.1    │ 40    │ B         │ Improved │\n",
       "│ 94  │ 65    │ 12.4    │ 90    │ B         │ Static   │\n",
       "│ 95  │ 74    │ 10.3    │ 10    │ B         │ Improved │\n",
       "│ 96  │ 79    │ 9.4     │ 60    │ A         │ Improved │\n",
       "│ 97  │ 50    │ 6.4     │ 20    │ A         │ Worse    │\n",
       "│ 98  │ 35    │ 8.2     │ 110   │ A         │ Worse    │\n",
       "│ 99  │ 45    │ 12.9    │ 90    │ A         │ Improved │\n",
       "│ 100 │ 52    │ 12.0    │ 20    │ B         │ Static   │"
      ]
     },
     "execution_count": 56,
     "metadata": {},
     "output_type": "execute_result"
    }
   ],
   "source": [
    "DataFrame(CSV.File(\"ProjectData_1_point_0.csv\"))"
   ]
  },
  {
   "cell_type": "code",
   "execution_count": 57,
   "metadata": {},
   "outputs": [
    {
     "name": "stderr",
     "output_type": "stream",
     "text": [
      "┌ Warning: `view(adf::AbstractDataFrame, colind::ColumnIndex)` is deprecated, use `view(adf, :, colind)` instead.\n",
      "│   caller = top-level scope at In[57]:1\n",
      "└ @ Core In[57]:1\n"
     ]
    },
    {
     "data": {
      "text/plain": [
       "100-element view(::Array{Int64,1}, :) with eltype Int64:\n",
       "  20\n",
       "  30\n",
       "  40\n",
       "  50\n",
       "  40\n",
       "  80\n",
       "  40\n",
       "  70\n",
       "  30\n",
       "  30\n",
       "  40\n",
       "  10\n",
       "  10\n",
       "   ⋮\n",
       " 110\n",
       "  10\n",
       " 160\n",
       "  30\n",
       "  40\n",
       "  90\n",
       "  10\n",
       "  60\n",
       "  20\n",
       " 110\n",
       "  90\n",
       "  20"
      ]
     },
     "execution_count": 57,
     "metadata": {},
     "output_type": "execute_result"
    }
   ],
   "source": [
    "view(data, 3)"
   ]
  },
  {
   "cell_type": "code",
   "execution_count": 58,
   "metadata": {},
   "outputs": [
    {
     "data": {
      "text/plain": [
       "100-element view(::Array{Int64,1}, :) with eltype Int64:\n",
       "  20\n",
       "  30\n",
       "  40\n",
       "  50\n",
       "  40\n",
       "  80\n",
       "  40\n",
       "  70\n",
       "  30\n",
       "  30\n",
       "  40\n",
       "  10\n",
       "  10\n",
       "   ⋮\n",
       " 110\n",
       "  10\n",
       " 160\n",
       "  30\n",
       "  40\n",
       "  90\n",
       "  10\n",
       "  60\n",
       "  20\n",
       " 110\n",
       "  90\n",
       "  20"
      ]
     },
     "execution_count": 58,
     "metadata": {},
     "output_type": "execute_result"
    }
   ],
   "source": [
    "view(data, :, 3)"
   ]
  },
  {
   "cell_type": "code",
   "execution_count": 121,
   "metadata": {},
   "outputs": [
    {
     "name": "stdout",
     "output_type": "stream",
     "text": [
      "-0.0\n"
     ]
    }
   ],
   "source": [
    "#What is the theoretical mean(avg) of following 100 random vals be\n",
    "y = randn(100)\n",
    "println(round(mean(y)))"
   ]
  },
  {
   "cell_type": "code",
   "execution_count": 100,
   "metadata": {},
   "outputs": [
    {
     "name": "stdout",
     "output_type": "stream",
     "text": [
      "82.54053781793966\n"
     ]
    }
   ],
   "source": [
    "# What is the theoretical variance(sq of standard dev) of the following values be? Only integers plz\n",
    "z = rand(Normal(80, 10), 200) \n",
    "println(var(z))"
   ]
  },
  {
   "cell_type": "code",
   "execution_count": null,
   "metadata": {},
   "outputs": [],
   "source": [
    "# # Making a copy not a pointer of a var\n",
    "# A1 = [[1]]\n",
    "# A2 = copy(A1)\n",
    "# A1[1] === A2[1]                 # true\n",
    "# A3 = deepcopy(A1)\n",
    "# A1[1] === A3[1]                 #false"
   ]
  },
  {
   "cell_type": "code",
   "execution_count": 111,
   "metadata": {},
   "outputs": [
    {
     "data": {
      "text/html": [
       "<table class=\"data-frame\"><thead><tr><th></th><th>Age</th><th>WCC</th><th>CRP</th><th>Treatment</th><th>Result</th></tr><tr><th></th><th>Int64</th><th>Float64</th><th>Int64</th><th>String</th><th>String</th></tr></thead><tbody><p>100 rows × 5 columns</p><tr><th>1</th><td>74</td><td>11.4</td><td>20</td><td>A</td><td>Worse</td></tr><tr><th>2</th><td>20</td><td>16.1</td><td>30</td><td>B</td><td>Worse</td></tr><tr><th>3</th><td>47</td><td>7.0</td><td>40</td><td>A</td><td>Worse</td></tr><tr><th>4</th><td>41</td><td>14.0</td><td>50</td><td>A</td><td>Static</td></tr><tr><th>5</th><td>50</td><td>13.4</td><td>40</td><td>A</td><td>Worse</td></tr><tr><th>6</th><td>73</td><td>7.5</td><td>80</td><td>B</td><td>Worse</td></tr><tr><th>7</th><td>75</td><td>10.9</td><td>40</td><td>B</td><td>Static</td></tr><tr><th>8</th><td>18</td><td>14.6</td><td>70</td><td>A</td><td>Static</td></tr><tr><th>9</th><td>27</td><td>11.7</td><td>30</td><td>B</td><td>Worse</td></tr><tr><th>10</th><td>65</td><td>12.8</td><td>30</td><td>A</td><td>Worse</td></tr><tr><th>11</th><td>23</td><td>12.7</td><td>40</td><td>B</td><td>Worse</td></tr><tr><th>12</th><td>57</td><td>13.0</td><td>10</td><td>B</td><td>Improved</td></tr><tr><th>13</th><td>39</td><td>15.0</td><td>10</td><td>B</td><td>Worse</td></tr><tr><th>14</th><td>28</td><td>13.5</td><td>40</td><td>A</td><td>Improved</td></tr><tr><th>15</th><td>21</td><td>12.3</td><td>40</td><td>A</td><td>Worse</td></tr><tr><th>16</th><td>72</td><td>12.1</td><td>60</td><td>B</td><td>Improved</td></tr><tr><th>17</th><td>53</td><td>12.0</td><td>40</td><td>A</td><td>Static</td></tr><tr><th>18</th><td>34</td><td>13.5</td><td>10</td><td>B</td><td>Static</td></tr><tr><th>19</th><td>56</td><td>11.8</td><td>20</td><td>A</td><td>Static</td></tr><tr><th>20</th><td>30</td><td>8.9</td><td>60</td><td>B</td><td>Improved</td></tr><tr><th>21</th><td>32</td><td>12.7</td><td>40</td><td>B</td><td>Improved</td></tr><tr><th>22</th><td>29</td><td>9.9</td><td>30</td><td>B</td><td>Worse</td></tr><tr><th>23</th><td>44</td><td>13.0</td><td>20</td><td>A</td><td>Improved</td></tr><tr><th>24</th><td>73</td><td>9.5</td><td>50</td><td>B</td><td>Static</td></tr><tr><th>25</th><td>35</td><td>13.0</td><td>20</td><td>B</td><td>Worse</td></tr><tr><th>26</th><td>51</td><td>14.8</td><td>10</td><td>B</td><td>Worse</td></tr><tr><th>27</th><td>45</td><td>12.4</td><td>30</td><td>B</td><td>Static</td></tr><tr><th>28</th><td>33</td><td>10.4</td><td>10</td><td>A</td><td>Static</td></tr><tr><th>29</th><td>50</td><td>11.6</td><td>20</td><td>B</td><td>Worse</td></tr><tr><th>30</th><td>56</td><td>13.0</td><td>20</td><td>A</td><td>Improved</td></tr><tr><th>&vellip;</th><td>&vellip;</td><td>&vellip;</td><td>&vellip;</td><td>&vellip;</td><td>&vellip;</td></tr></tbody></table>"
      ],
      "text/latex": [
       "\\begin{tabular}{r|ccccc}\n",
       "\t& Age & WCC & CRP & Treatment & Result\\\\\n",
       "\t\\hline\n",
       "\t& Int64 & Float64 & Int64 & String & String\\\\\n",
       "\t\\hline\n",
       "\t1 & 74 & 11.4 & 20 & A & Worse \\\\\n",
       "\t2 & 20 & 16.1 & 30 & B & Worse \\\\\n",
       "\t3 & 47 & 7.0 & 40 & A & Worse \\\\\n",
       "\t4 & 41 & 14.0 & 50 & A & Static \\\\\n",
       "\t5 & 50 & 13.4 & 40 & A & Worse \\\\\n",
       "\t6 & 73 & 7.5 & 80 & B & Worse \\\\\n",
       "\t7 & 75 & 10.9 & 40 & B & Static \\\\\n",
       "\t8 & 18 & 14.6 & 70 & A & Static \\\\\n",
       "\t9 & 27 & 11.7 & 30 & B & Worse \\\\\n",
       "\t10 & 65 & 12.8 & 30 & A & Worse \\\\\n",
       "\t11 & 23 & 12.7 & 40 & B & Worse \\\\\n",
       "\t12 & 57 & 13.0 & 10 & B & Improved \\\\\n",
       "\t13 & 39 & 15.0 & 10 & B & Worse \\\\\n",
       "\t14 & 28 & 13.5 & 40 & A & Improved \\\\\n",
       "\t15 & 21 & 12.3 & 40 & A & Worse \\\\\n",
       "\t16 & 72 & 12.1 & 60 & B & Improved \\\\\n",
       "\t17 & 53 & 12.0 & 40 & A & Static \\\\\n",
       "\t18 & 34 & 13.5 & 10 & B & Static \\\\\n",
       "\t19 & 56 & 11.8 & 20 & A & Static \\\\\n",
       "\t20 & 30 & 8.9 & 60 & B & Improved \\\\\n",
       "\t21 & 32 & 12.7 & 40 & B & Improved \\\\\n",
       "\t22 & 29 & 9.9 & 30 & B & Worse \\\\\n",
       "\t23 & 44 & 13.0 & 20 & A & Improved \\\\\n",
       "\t24 & 73 & 9.5 & 50 & B & Static \\\\\n",
       "\t25 & 35 & 13.0 & 20 & B & Worse \\\\\n",
       "\t26 & 51 & 14.8 & 10 & B & Worse \\\\\n",
       "\t27 & 45 & 12.4 & 30 & B & Static \\\\\n",
       "\t28 & 33 & 10.4 & 10 & A & Static \\\\\n",
       "\t29 & 50 & 11.6 & 20 & B & Worse \\\\\n",
       "\t30 & 56 & 13.0 & 20 & A & Improved \\\\\n",
       "\t$\\dots$ & $\\dots$ & $\\dots$ & $\\dots$ & $\\dots$ & $\\dots$ \\\\\n",
       "\\end{tabular}\n"
      ],
      "text/plain": [
       "100×5 DataFrame\n",
       "│ Row │ Age   │ WCC     │ CRP   │ Treatment │ Result   │\n",
       "│     │ \u001b[90mInt64\u001b[39m │ \u001b[90mFloat64\u001b[39m │ \u001b[90mInt64\u001b[39m │ \u001b[90mString\u001b[39m    │ \u001b[90mString\u001b[39m   │\n",
       "├─────┼───────┼─────────┼───────┼───────────┼──────────┤\n",
       "│ 1   │ 74    │ 11.4    │ 20    │ A         │ Worse    │\n",
       "│ 2   │ 20    │ 16.1    │ 30    │ B         │ Worse    │\n",
       "│ 3   │ 47    │ 7.0     │ 40    │ A         │ Worse    │\n",
       "│ 4   │ 41    │ 14.0    │ 50    │ A         │ Static   │\n",
       "│ 5   │ 50    │ 13.4    │ 40    │ A         │ Worse    │\n",
       "│ 6   │ 73    │ 7.5     │ 80    │ B         │ Worse    │\n",
       "│ 7   │ 75    │ 10.9    │ 40    │ B         │ Static   │\n",
       "│ 8   │ 18    │ 14.6    │ 70    │ A         │ Static   │\n",
       "│ 9   │ 27    │ 11.7    │ 30    │ B         │ Worse    │\n",
       "│ 10  │ 65    │ 12.8    │ 30    │ A         │ Worse    │\n",
       "⋮\n",
       "│ 90  │ 33    │ 12.9    │ 10    │ A         │ Static   │\n",
       "│ 91  │ 68    │ 10.8    │ 160   │ B         │ Worse    │\n",
       "│ 92  │ 66    │ 10.8    │ 30    │ B         │ Static   │\n",
       "│ 93  │ 50    │ 12.1    │ 40    │ B         │ Improved │\n",
       "│ 94  │ 65    │ 12.4    │ 90    │ B         │ Static   │\n",
       "│ 95  │ 74    │ 10.3    │ 10    │ B         │ Improved │\n",
       "│ 96  │ 79    │ 9.4     │ 60    │ A         │ Improved │\n",
       "│ 97  │ 50    │ 6.4     │ 20    │ A         │ Worse    │\n",
       "│ 98  │ 35    │ 8.2     │ 110   │ A         │ Worse    │\n",
       "│ 99  │ 45    │ 12.9    │ 90    │ A         │ Improved │\n",
       "│ 100 │ 52    │ 12.0    │ 20    │ B         │ Static   │"
      ]
     },
     "execution_count": 111,
     "metadata": {},
     "output_type": "execute_result"
    }
   ],
   "source": [
    "df2 = copy(data)\n",
    "df2"
   ]
  },
  {
   "cell_type": "code",
   "execution_count": 72,
   "metadata": {},
   "outputs": [
    {
     "data": {
      "text/plain": [
       "3×4 Array{Int64,2}:\n",
       " 1   2   3   4\n",
       " 5   6   7   8\n",
       " 9  10  11  12"
      ]
     },
     "execution_count": 72,
     "metadata": {},
     "output_type": "execute_result"
    }
   ],
   "source": [
    "#Working on how to delete rows 3,5 and 9 from df\n",
    "a = [1 2 3 4; 5 6 7 8; 9 10 11 12];\n",
    "a"
   ]
  },
  {
   "cell_type": "code",
   "execution_count": 73,
   "metadata": {},
   "outputs": [
    {
     "data": {
      "text/plain": [
       "2×4 Array{Int64,2}:\n",
       " 1  2  3  4\n",
       " 5  6  7  8"
      ]
     },
     "execution_count": 73,
     "metadata": {},
     "output_type": "execute_result"
    }
   ],
   "source": [
    "a[1:2,:]"
   ]
  },
  {
   "cell_type": "markdown",
   "metadata": {},
   "source": [
    "-----"
   ]
  },
  {
   "cell_type": "code",
   "execution_count": 115,
   "metadata": {},
   "outputs": [
    {
     "data": {
      "text/html": [
       "<table class=\"data-frame\"><thead><tr><th></th><th>Age</th><th>WCC</th><th>CRP</th><th>Treatment</th><th>Result</th></tr><tr><th></th><th>Int64</th><th>Float64</th><th>Int64</th><th>String</th><th>String</th></tr></thead><tbody><p>100 rows × 5 columns</p><tr><th>1</th><td>74</td><td>11.4</td><td>20</td><td>A</td><td>Worse</td></tr><tr><th>2</th><td>20</td><td>16.1</td><td>30</td><td>B</td><td>Worse</td></tr><tr><th>3</th><td>47</td><td>7.0</td><td>40</td><td>A</td><td>Worse</td></tr><tr><th>4</th><td>41</td><td>14.0</td><td>50</td><td>A</td><td>Static</td></tr><tr><th>5</th><td>50</td><td>13.4</td><td>40</td><td>A</td><td>Worse</td></tr><tr><th>6</th><td>73</td><td>7.5</td><td>80</td><td>B</td><td>Worse</td></tr><tr><th>7</th><td>75</td><td>10.9</td><td>40</td><td>B</td><td>Static</td></tr><tr><th>8</th><td>18</td><td>14.6</td><td>70</td><td>A</td><td>Static</td></tr><tr><th>9</th><td>27</td><td>11.7</td><td>30</td><td>B</td><td>Worse</td></tr><tr><th>10</th><td>65</td><td>12.8</td><td>30</td><td>A</td><td>Worse</td></tr><tr><th>11</th><td>23</td><td>12.7</td><td>40</td><td>B</td><td>Worse</td></tr><tr><th>12</th><td>57</td><td>13.0</td><td>10</td><td>B</td><td>Improved</td></tr><tr><th>13</th><td>39</td><td>15.0</td><td>10</td><td>B</td><td>Worse</td></tr><tr><th>14</th><td>28</td><td>13.5</td><td>40</td><td>A</td><td>Improved</td></tr><tr><th>15</th><td>21</td><td>12.3</td><td>40</td><td>A</td><td>Worse</td></tr><tr><th>16</th><td>72</td><td>12.1</td><td>60</td><td>B</td><td>Improved</td></tr><tr><th>17</th><td>53</td><td>12.0</td><td>40</td><td>A</td><td>Static</td></tr><tr><th>18</th><td>34</td><td>13.5</td><td>10</td><td>B</td><td>Static</td></tr><tr><th>19</th><td>56</td><td>11.8</td><td>20</td><td>A</td><td>Static</td></tr><tr><th>20</th><td>30</td><td>8.9</td><td>60</td><td>B</td><td>Improved</td></tr><tr><th>21</th><td>32</td><td>12.7</td><td>40</td><td>B</td><td>Improved</td></tr><tr><th>22</th><td>29</td><td>9.9</td><td>30</td><td>B</td><td>Worse</td></tr><tr><th>23</th><td>44</td><td>13.0</td><td>20</td><td>A</td><td>Improved</td></tr><tr><th>24</th><td>73</td><td>9.5</td><td>50</td><td>B</td><td>Static</td></tr><tr><th>25</th><td>35</td><td>13.0</td><td>20</td><td>B</td><td>Worse</td></tr><tr><th>26</th><td>51</td><td>14.8</td><td>10</td><td>B</td><td>Worse</td></tr><tr><th>27</th><td>45</td><td>12.4</td><td>30</td><td>B</td><td>Static</td></tr><tr><th>28</th><td>33</td><td>10.4</td><td>10</td><td>A</td><td>Static</td></tr><tr><th>29</th><td>50</td><td>11.6</td><td>20</td><td>B</td><td>Worse</td></tr><tr><th>30</th><td>56</td><td>13.0</td><td>20</td><td>A</td><td>Improved</td></tr><tr><th>&vellip;</th><td>&vellip;</td><td>&vellip;</td><td>&vellip;</td><td>&vellip;</td><td>&vellip;</td></tr></tbody></table>"
      ],
      "text/latex": [
       "\\begin{tabular}{r|ccccc}\n",
       "\t& Age & WCC & CRP & Treatment & Result\\\\\n",
       "\t\\hline\n",
       "\t& Int64 & Float64 & Int64 & String & String\\\\\n",
       "\t\\hline\n",
       "\t1 & 74 & 11.4 & 20 & A & Worse \\\\\n",
       "\t2 & 20 & 16.1 & 30 & B & Worse \\\\\n",
       "\t3 & 47 & 7.0 & 40 & A & Worse \\\\\n",
       "\t4 & 41 & 14.0 & 50 & A & Static \\\\\n",
       "\t5 & 50 & 13.4 & 40 & A & Worse \\\\\n",
       "\t6 & 73 & 7.5 & 80 & B & Worse \\\\\n",
       "\t7 & 75 & 10.9 & 40 & B & Static \\\\\n",
       "\t8 & 18 & 14.6 & 70 & A & Static \\\\\n",
       "\t9 & 27 & 11.7 & 30 & B & Worse \\\\\n",
       "\t10 & 65 & 12.8 & 30 & A & Worse \\\\\n",
       "\t11 & 23 & 12.7 & 40 & B & Worse \\\\\n",
       "\t12 & 57 & 13.0 & 10 & B & Improved \\\\\n",
       "\t13 & 39 & 15.0 & 10 & B & Worse \\\\\n",
       "\t14 & 28 & 13.5 & 40 & A & Improved \\\\\n",
       "\t15 & 21 & 12.3 & 40 & A & Worse \\\\\n",
       "\t16 & 72 & 12.1 & 60 & B & Improved \\\\\n",
       "\t17 & 53 & 12.0 & 40 & A & Static \\\\\n",
       "\t18 & 34 & 13.5 & 10 & B & Static \\\\\n",
       "\t19 & 56 & 11.8 & 20 & A & Static \\\\\n",
       "\t20 & 30 & 8.9 & 60 & B & Improved \\\\\n",
       "\t21 & 32 & 12.7 & 40 & B & Improved \\\\\n",
       "\t22 & 29 & 9.9 & 30 & B & Worse \\\\\n",
       "\t23 & 44 & 13.0 & 20 & A & Improved \\\\\n",
       "\t24 & 73 & 9.5 & 50 & B & Static \\\\\n",
       "\t25 & 35 & 13.0 & 20 & B & Worse \\\\\n",
       "\t26 & 51 & 14.8 & 10 & B & Worse \\\\\n",
       "\t27 & 45 & 12.4 & 30 & B & Static \\\\\n",
       "\t28 & 33 & 10.4 & 10 & A & Static \\\\\n",
       "\t29 & 50 & 11.6 & 20 & B & Worse \\\\\n",
       "\t30 & 56 & 13.0 & 20 & A & Improved \\\\\n",
       "\t$\\dots$ & $\\dots$ & $\\dots$ & $\\dots$ & $\\dots$ & $\\dots$ \\\\\n",
       "\\end{tabular}\n"
      ],
      "text/plain": [
       "100×5 DataFrame\n",
       "│ Row │ Age   │ WCC     │ CRP   │ Treatment │ Result   │\n",
       "│     │ \u001b[90mInt64\u001b[39m │ \u001b[90mFloat64\u001b[39m │ \u001b[90mInt64\u001b[39m │ \u001b[90mString\u001b[39m    │ \u001b[90mString\u001b[39m   │\n",
       "├─────┼───────┼─────────┼───────┼───────────┼──────────┤\n",
       "│ 1   │ 74    │ 11.4    │ 20    │ A         │ Worse    │\n",
       "│ 2   │ 20    │ 16.1    │ 30    │ B         │ Worse    │\n",
       "│ 3   │ 47    │ 7.0     │ 40    │ A         │ Worse    │\n",
       "│ 4   │ 41    │ 14.0    │ 50    │ A         │ Static   │\n",
       "│ 5   │ 50    │ 13.4    │ 40    │ A         │ Worse    │\n",
       "│ 6   │ 73    │ 7.5     │ 80    │ B         │ Worse    │\n",
       "│ 7   │ 75    │ 10.9    │ 40    │ B         │ Static   │\n",
       "│ 8   │ 18    │ 14.6    │ 70    │ A         │ Static   │\n",
       "│ 9   │ 27    │ 11.7    │ 30    │ B         │ Worse    │\n",
       "│ 10  │ 65    │ 12.8    │ 30    │ A         │ Worse    │\n",
       "⋮\n",
       "│ 90  │ 33    │ 12.9    │ 10    │ A         │ Static   │\n",
       "│ 91  │ 68    │ 10.8    │ 160   │ B         │ Worse    │\n",
       "│ 92  │ 66    │ 10.8    │ 30    │ B         │ Static   │\n",
       "│ 93  │ 50    │ 12.1    │ 40    │ B         │ Improved │\n",
       "│ 94  │ 65    │ 12.4    │ 90    │ B         │ Static   │\n",
       "│ 95  │ 74    │ 10.3    │ 10    │ B         │ Improved │\n",
       "│ 96  │ 79    │ 9.4     │ 60    │ A         │ Improved │\n",
       "│ 97  │ 50    │ 6.4     │ 20    │ A         │ Worse    │\n",
       "│ 98  │ 35    │ 8.2     │ 110   │ A         │ Worse    │\n",
       "│ 99  │ 45    │ 12.9    │ 90    │ A         │ Improved │\n",
       "│ 100 │ 52    │ 12.0    │ 20    │ B         │ Static   │"
      ]
     },
     "execution_count": 115,
     "metadata": {},
     "output_type": "execute_result"
    }
   ],
   "source": [
    "df2"
   ]
  },
  {
   "cell_type": "code",
   "execution_count": 119,
   "metadata": {},
   "outputs": [
    {
     "data": {
      "text/html": [
       "<table class=\"data-frame\"><thead><tr><th></th><th>Age</th><th>WCC</th><th>CRP</th><th>Treatment</th><th>Result</th></tr><tr><th></th><th>Int64</th><th>Float64</th><th>Int64</th><th>String</th><th>String</th></tr></thead><tbody><p>97 rows × 5 columns</p><tr><th>1</th><td>74</td><td>11.4</td><td>20</td><td>A</td><td>Worse</td></tr><tr><th>2</th><td>20</td><td>16.1</td><td>30</td><td>B</td><td>Worse</td></tr><tr><th>3</th><td>41</td><td>14.0</td><td>50</td><td>A</td><td>Static</td></tr><tr><th>4</th><td>73</td><td>7.5</td><td>80</td><td>B</td><td>Worse</td></tr><tr><th>5</th><td>75</td><td>10.9</td><td>40</td><td>B</td><td>Static</td></tr><tr><th>6</th><td>18</td><td>14.6</td><td>70</td><td>A</td><td>Static</td></tr><tr><th>7</th><td>65</td><td>12.8</td><td>30</td><td>A</td><td>Worse</td></tr><tr><th>8</th><td>23</td><td>12.7</td><td>40</td><td>B</td><td>Worse</td></tr><tr><th>9</th><td>57</td><td>13.0</td><td>10</td><td>B</td><td>Improved</td></tr><tr><th>10</th><td>39</td><td>15.0</td><td>10</td><td>B</td><td>Worse</td></tr><tr><th>11</th><td>28</td><td>13.5</td><td>40</td><td>A</td><td>Improved</td></tr><tr><th>12</th><td>21</td><td>12.3</td><td>40</td><td>A</td><td>Worse</td></tr><tr><th>13</th><td>72</td><td>12.1</td><td>60</td><td>B</td><td>Improved</td></tr><tr><th>14</th><td>53</td><td>12.0</td><td>40</td><td>A</td><td>Static</td></tr><tr><th>15</th><td>34</td><td>13.5</td><td>10</td><td>B</td><td>Static</td></tr><tr><th>16</th><td>56</td><td>11.8</td><td>20</td><td>A</td><td>Static</td></tr><tr><th>17</th><td>30</td><td>8.9</td><td>60</td><td>B</td><td>Improved</td></tr><tr><th>18</th><td>32</td><td>12.7</td><td>40</td><td>B</td><td>Improved</td></tr><tr><th>19</th><td>29</td><td>9.9</td><td>30</td><td>B</td><td>Worse</td></tr><tr><th>20</th><td>44</td><td>13.0</td><td>20</td><td>A</td><td>Improved</td></tr><tr><th>21</th><td>73</td><td>9.5</td><td>50</td><td>B</td><td>Static</td></tr><tr><th>22</th><td>35</td><td>13.0</td><td>20</td><td>B</td><td>Worse</td></tr><tr><th>23</th><td>51</td><td>14.8</td><td>10</td><td>B</td><td>Worse</td></tr><tr><th>24</th><td>45</td><td>12.4</td><td>30</td><td>B</td><td>Static</td></tr><tr><th>25</th><td>33</td><td>10.4</td><td>10</td><td>A</td><td>Static</td></tr><tr><th>26</th><td>50</td><td>11.6</td><td>20</td><td>B</td><td>Worse</td></tr><tr><th>27</th><td>56</td><td>13.0</td><td>20</td><td>A</td><td>Improved</td></tr><tr><th>28</th><td>63</td><td>11.7</td><td>40</td><td>A</td><td>Improved</td></tr><tr><th>29</th><td>76</td><td>13.2</td><td>20</td><td>A</td><td>Worse</td></tr><tr><th>30</th><td>38</td><td>13.1</td><td>20</td><td>A</td><td>Static</td></tr><tr><th>&vellip;</th><td>&vellip;</td><td>&vellip;</td><td>&vellip;</td><td>&vellip;</td><td>&vellip;</td></tr></tbody></table>"
      ],
      "text/latex": [
       "\\begin{tabular}{r|ccccc}\n",
       "\t& Age & WCC & CRP & Treatment & Result\\\\\n",
       "\t\\hline\n",
       "\t& Int64 & Float64 & Int64 & String & String\\\\\n",
       "\t\\hline\n",
       "\t1 & 74 & 11.4 & 20 & A & Worse \\\\\n",
       "\t2 & 20 & 16.1 & 30 & B & Worse \\\\\n",
       "\t3 & 41 & 14.0 & 50 & A & Static \\\\\n",
       "\t4 & 73 & 7.5 & 80 & B & Worse \\\\\n",
       "\t5 & 75 & 10.9 & 40 & B & Static \\\\\n",
       "\t6 & 18 & 14.6 & 70 & A & Static \\\\\n",
       "\t7 & 65 & 12.8 & 30 & A & Worse \\\\\n",
       "\t8 & 23 & 12.7 & 40 & B & Worse \\\\\n",
       "\t9 & 57 & 13.0 & 10 & B & Improved \\\\\n",
       "\t10 & 39 & 15.0 & 10 & B & Worse \\\\\n",
       "\t11 & 28 & 13.5 & 40 & A & Improved \\\\\n",
       "\t12 & 21 & 12.3 & 40 & A & Worse \\\\\n",
       "\t13 & 72 & 12.1 & 60 & B & Improved \\\\\n",
       "\t14 & 53 & 12.0 & 40 & A & Static \\\\\n",
       "\t15 & 34 & 13.5 & 10 & B & Static \\\\\n",
       "\t16 & 56 & 11.8 & 20 & A & Static \\\\\n",
       "\t17 & 30 & 8.9 & 60 & B & Improved \\\\\n",
       "\t18 & 32 & 12.7 & 40 & B & Improved \\\\\n",
       "\t19 & 29 & 9.9 & 30 & B & Worse \\\\\n",
       "\t20 & 44 & 13.0 & 20 & A & Improved \\\\\n",
       "\t21 & 73 & 9.5 & 50 & B & Static \\\\\n",
       "\t22 & 35 & 13.0 & 20 & B & Worse \\\\\n",
       "\t23 & 51 & 14.8 & 10 & B & Worse \\\\\n",
       "\t24 & 45 & 12.4 & 30 & B & Static \\\\\n",
       "\t25 & 33 & 10.4 & 10 & A & Static \\\\\n",
       "\t26 & 50 & 11.6 & 20 & B & Worse \\\\\n",
       "\t27 & 56 & 13.0 & 20 & A & Improved \\\\\n",
       "\t28 & 63 & 11.7 & 40 & A & Improved \\\\\n",
       "\t29 & 76 & 13.2 & 20 & A & Worse \\\\\n",
       "\t30 & 38 & 13.1 & 20 & A & Static \\\\\n",
       "\t$\\dots$ & $\\dots$ & $\\dots$ & $\\dots$ & $\\dots$ & $\\dots$ \\\\\n",
       "\\end{tabular}\n"
      ],
      "text/plain": [
       "97×5 DataFrame\n",
       "│ Row │ Age   │ WCC     │ CRP   │ Treatment │ Result   │\n",
       "│     │ \u001b[90mInt64\u001b[39m │ \u001b[90mFloat64\u001b[39m │ \u001b[90mInt64\u001b[39m │ \u001b[90mString\u001b[39m    │ \u001b[90mString\u001b[39m   │\n",
       "├─────┼───────┼─────────┼───────┼───────────┼──────────┤\n",
       "│ 1   │ 74    │ 11.4    │ 20    │ A         │ Worse    │\n",
       "│ 2   │ 20    │ 16.1    │ 30    │ B         │ Worse    │\n",
       "│ 3   │ 41    │ 14.0    │ 50    │ A         │ Static   │\n",
       "│ 4   │ 73    │ 7.5     │ 80    │ B         │ Worse    │\n",
       "│ 5   │ 75    │ 10.9    │ 40    │ B         │ Static   │\n",
       "│ 6   │ 18    │ 14.6    │ 70    │ A         │ Static   │\n",
       "│ 7   │ 65    │ 12.8    │ 30    │ A         │ Worse    │\n",
       "│ 8   │ 23    │ 12.7    │ 40    │ B         │ Worse    │\n",
       "│ 9   │ 57    │ 13.0    │ 10    │ B         │ Improved │\n",
       "│ 10  │ 39    │ 15.0    │ 10    │ B         │ Worse    │\n",
       "⋮\n",
       "│ 87  │ 33    │ 12.9    │ 10    │ A         │ Static   │\n",
       "│ 88  │ 68    │ 10.8    │ 160   │ B         │ Worse    │\n",
       "│ 89  │ 66    │ 10.8    │ 30    │ B         │ Static   │\n",
       "│ 90  │ 50    │ 12.1    │ 40    │ B         │ Improved │\n",
       "│ 91  │ 65    │ 12.4    │ 90    │ B         │ Static   │\n",
       "│ 92  │ 74    │ 10.3    │ 10    │ B         │ Improved │\n",
       "│ 93  │ 79    │ 9.4     │ 60    │ A         │ Improved │\n",
       "│ 94  │ 50    │ 6.4     │ 20    │ A         │ Worse    │\n",
       "│ 95  │ 35    │ 8.2     │ 110   │ A         │ Worse    │\n",
       "│ 96  │ 45    │ 12.9    │ 90    │ A         │ Improved │\n",
       "│ 97  │ 52    │ 12.0    │ 20    │ B         │ Static   │"
      ]
     },
     "execution_count": 119,
     "metadata": {},
     "output_type": "execute_result"
    }
   ],
   "source": [
    "delete!(df2, [3,5,9])"
   ]
  },
  {
   "cell_type": "code",
   "execution_count": null,
   "metadata": {},
   "outputs": [],
   "source": []
  }
 ],
 "metadata": {
  "kernelspec": {
   "display_name": "Julia 1.0.5",
   "language": "julia",
   "name": "julia-1.0"
  },
  "language_info": {
   "file_extension": ".jl",
   "mimetype": "application/julia",
   "name": "julia",
   "version": "1.0.5"
  }
 },
 "nbformat": 4,
 "nbformat_minor": 2
}
